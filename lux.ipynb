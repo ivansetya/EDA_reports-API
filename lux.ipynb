{
  "nbformat": 4,
  "nbformat_minor": 0,
  "metadata": {
    "colab": {
      "provenance": []
    },
    "kernelspec": {
      "name": "python3",
      "display_name": "Python 3"
    },
    "language_info": {
      "name": "python"
    },
    "widgets": {
      "application/vnd.jupyter.widget-state+json": {
        "09d05193306a4d91a9c89845455ebada": {
          "model_module": "@jupyter-widgets/controls",
          "model_name": "ButtonModel",
          "model_module_version": "1.5.0",
          "state": {
            "_dom_classes": [],
            "_model_module": "@jupyter-widgets/controls",
            "_model_module_version": "1.5.0",
            "_model_name": "ButtonModel",
            "_view_count": null,
            "_view_module": "@jupyter-widgets/controls",
            "_view_module_version": "1.5.0",
            "_view_name": "ButtonView",
            "button_style": "",
            "description": "Toggle Pandas/Lux",
            "disabled": false,
            "icon": "",
            "layout": "IPY_MODEL_ea932fd8d7cc460cbb8e9d1fd5ee15d4",
            "style": "IPY_MODEL_1e4dc737877a4180b1055e649124af72",
            "tooltip": ""
          }
        },
        "ea932fd8d7cc460cbb8e9d1fd5ee15d4": {
          "model_module": "@jupyter-widgets/base",
          "model_name": "LayoutModel",
          "model_module_version": "1.2.0",
          "state": {
            "_model_module": "@jupyter-widgets/base",
            "_model_module_version": "1.2.0",
            "_model_name": "LayoutModel",
            "_view_count": null,
            "_view_module": "@jupyter-widgets/base",
            "_view_module_version": "1.2.0",
            "_view_name": "LayoutView",
            "align_content": null,
            "align_items": null,
            "align_self": null,
            "border": null,
            "bottom": null,
            "display": null,
            "flex": null,
            "flex_flow": null,
            "grid_area": null,
            "grid_auto_columns": null,
            "grid_auto_flow": null,
            "grid_auto_rows": null,
            "grid_column": null,
            "grid_gap": null,
            "grid_row": null,
            "grid_template_areas": null,
            "grid_template_columns": null,
            "grid_template_rows": null,
            "height": null,
            "justify_content": null,
            "justify_items": null,
            "left": null,
            "margin": null,
            "max_height": null,
            "max_width": null,
            "min_height": null,
            "min_width": null,
            "object_fit": null,
            "object_position": null,
            "order": null,
            "overflow": null,
            "overflow_x": null,
            "overflow_y": null,
            "padding": null,
            "right": null,
            "top": "5px",
            "visibility": null,
            "width": "140px"
          }
        },
        "1e4dc737877a4180b1055e649124af72": {
          "model_module": "@jupyter-widgets/controls",
          "model_name": "ButtonStyleModel",
          "model_module_version": "1.5.0",
          "state": {
            "_model_module": "@jupyter-widgets/controls",
            "_model_module_version": "1.5.0",
            "_model_name": "ButtonStyleModel",
            "_view_count": null,
            "_view_module": "@jupyter-widgets/base",
            "_view_module_version": "1.2.0",
            "_view_name": "StyleView",
            "button_color": null,
            "font_weight": ""
          }
        },
        "47a09444e32643aab349bdae85eaa7ff": {
          "model_module": "@jupyter-widgets/output",
          "model_name": "OutputModel",
          "model_module_version": "1.0.0",
          "state": {
            "_dom_classes": [],
            "_model_module": "@jupyter-widgets/output",
            "_model_module_version": "1.0.0",
            "_model_name": "OutputModel",
            "_view_count": null,
            "_view_module": "@jupyter-widgets/output",
            "_view_module_version": "1.0.0",
            "_view_name": "OutputView",
            "layout": "IPY_MODEL_20856e4cb5ce493b855a028f7242c485",
            "msg_id": "",
            "outputs": [
              {
                "output_type": "display_data",
                "data": {
                  "text/plain": "    mpg  cylinders  displacement  horsepower  weight  acceleration  \\\n0  18.0          8         307.0       130.0    3504          12.0   \n1  15.0          8         350.0       165.0    3693          11.5   \n2  18.0          8         318.0       150.0    3436          11.0   \n3  16.0          8         304.0       150.0    3433          12.0   \n4  17.0          8         302.0       140.0    3449          10.5   \n\n   model_year origin                       name  \n0          70    usa  chevrolet chevelle malibu  \n1          70    usa          buick skylark 320  \n2          70    usa         plymouth satellite  \n3          70    usa              amc rebel sst  \n4          70    usa                ford torino  ",
                  "text/html": "\n  <div id=\"df-a527d820-84d8-4bdf-a8ce-1f0fc786c6db\" class=\"colab-df-container\">\n    <div>\n<style scoped>\n    .dataframe tbody tr th:only-of-type {\n        vertical-align: middle;\n    }\n\n    .dataframe tbody tr th {\n        vertical-align: top;\n    }\n\n    .dataframe thead th {\n        text-align: right;\n    }\n</style>\n<table border=\"1\" class=\"dataframe\">\n  <thead>\n    <tr style=\"text-align: right;\">\n      <th></th>\n      <th>mpg</th>\n      <th>cylinders</th>\n      <th>displacement</th>\n      <th>horsepower</th>\n      <th>weight</th>\n      <th>acceleration</th>\n      <th>model_year</th>\n      <th>origin</th>\n      <th>name</th>\n    </tr>\n  </thead>\n  <tbody>\n    <tr>\n      <th>0</th>\n      <td>18.0</td>\n      <td>8</td>\n      <td>307.0</td>\n      <td>130.0</td>\n      <td>3504</td>\n      <td>12.0</td>\n      <td>70</td>\n      <td>usa</td>\n      <td>chevrolet chevelle malibu</td>\n    </tr>\n    <tr>\n      <th>1</th>\n      <td>15.0</td>\n      <td>8</td>\n      <td>350.0</td>\n      <td>165.0</td>\n      <td>3693</td>\n      <td>11.5</td>\n      <td>70</td>\n      <td>usa</td>\n      <td>buick skylark 320</td>\n    </tr>\n    <tr>\n      <th>2</th>\n      <td>18.0</td>\n      <td>8</td>\n      <td>318.0</td>\n      <td>150.0</td>\n      <td>3436</td>\n      <td>11.0</td>\n      <td>70</td>\n      <td>usa</td>\n      <td>plymouth satellite</td>\n    </tr>\n    <tr>\n      <th>3</th>\n      <td>16.0</td>\n      <td>8</td>\n      <td>304.0</td>\n      <td>150.0</td>\n      <td>3433</td>\n      <td>12.0</td>\n      <td>70</td>\n      <td>usa</td>\n      <td>amc rebel sst</td>\n    </tr>\n    <tr>\n      <th>4</th>\n      <td>17.0</td>\n      <td>8</td>\n      <td>302.0</td>\n      <td>140.0</td>\n      <td>3449</td>\n      <td>10.5</td>\n      <td>70</td>\n      <td>usa</td>\n      <td>ford torino</td>\n    </tr>\n  </tbody>\n</table>\n</div>\n    <div class=\"colab-df-buttons\">\n\n  <div class=\"colab-df-container\">\n    <button class=\"colab-df-convert\" onclick=\"convertToInteractive('df-a527d820-84d8-4bdf-a8ce-1f0fc786c6db')\"\n            title=\"Convert this dataframe to an interactive table.\"\n            style=\"display:none;\">\n\n  <svg xmlns=\"http://www.w3.org/2000/svg\" height=\"24px\" viewBox=\"0 -960 960 960\">\n    <path d=\"M120-120v-720h720v720H120Zm60-500h600v-160H180v160Zm220 220h160v-160H400v160Zm0 220h160v-160H400v160ZM180-400h160v-160H180v160Zm440 0h160v-160H620v160ZM180-180h160v-160H180v160Zm440 0h160v-160H620v160Z\"/>\n  </svg>\n    </button>\n\n  <style>\n    .colab-df-container {\n      display:flex;\n      gap: 12px;\n    }\n\n    .colab-df-convert {\n      background-color: #E8F0FE;\n      border: none;\n      border-radius: 50%;\n      cursor: pointer;\n      display: none;\n      fill: #1967D2;\n      height: 32px;\n      padding: 0 0 0 0;\n      width: 32px;\n    }\n\n    .colab-df-convert:hover {\n      background-color: #E2EBFA;\n      box-shadow: 0px 1px 2px rgba(60, 64, 67, 0.3), 0px 1px 3px 1px rgba(60, 64, 67, 0.15);\n      fill: #174EA6;\n    }\n\n    .colab-df-buttons div {\n      margin-bottom: 4px;\n    }\n\n    [theme=dark] .colab-df-convert {\n      background-color: #3B4455;\n      fill: #D2E3FC;\n    }\n\n    [theme=dark] .colab-df-convert:hover {\n      background-color: #434B5C;\n      box-shadow: 0px 1px 3px 1px rgba(0, 0, 0, 0.15);\n      filter: drop-shadow(0px 1px 2px rgba(0, 0, 0, 0.3));\n      fill: #FFFFFF;\n    }\n  </style>\n\n    <script>\n      const buttonEl =\n        document.querySelector('#df-a527d820-84d8-4bdf-a8ce-1f0fc786c6db button.colab-df-convert');\n      buttonEl.style.display =\n        google.colab.kernel.accessAllowed ? 'block' : 'none';\n\n      async function convertToInteractive(key) {\n        const element = document.querySelector('#df-a527d820-84d8-4bdf-a8ce-1f0fc786c6db');\n        const dataTable =\n          await google.colab.kernel.invokeFunction('convertToInteractive',\n                                                    [key], {});\n        if (!dataTable) return;\n\n        const docLinkHtml = 'Like what you see? Visit the ' +\n          '<a target=\"_blank\" href=https://colab.research.google.com/notebooks/data_table.ipynb>data table notebook</a>'\n          + ' to learn more about interactive tables.';\n        element.innerHTML = '';\n        dataTable['output_type'] = 'display_data';\n        await google.colab.output.renderOutput(dataTable, element);\n        const docLink = document.createElement('div');\n        docLink.innerHTML = docLinkHtml;\n        element.appendChild(docLink);\n      }\n    </script>\n  </div>\n\n\n<div id=\"df-46f89b8a-0268-4970-a8db-3669dd82f1f5\">\n  <button class=\"colab-df-quickchart\" onclick=\"quickchart('df-46f89b8a-0268-4970-a8db-3669dd82f1f5')\"\n            title=\"Suggest charts\"\n            style=\"display:none;\">\n\n<svg xmlns=\"http://www.w3.org/2000/svg\" height=\"24px\"viewBox=\"0 0 24 24\"\n     width=\"24px\">\n    <g>\n        <path d=\"M19 3H5c-1.1 0-2 .9-2 2v14c0 1.1.9 2 2 2h14c1.1 0 2-.9 2-2V5c0-1.1-.9-2-2-2zM9 17H7v-7h2v7zm4 0h-2V7h2v10zm4 0h-2v-4h2v4z\"/>\n    </g>\n</svg>\n  </button>\n\n<style>\n  .colab-df-quickchart {\n      --bg-color: #E8F0FE;\n      --fill-color: #1967D2;\n      --hover-bg-color: #E2EBFA;\n      --hover-fill-color: #174EA6;\n      --disabled-fill-color: #AAA;\n      --disabled-bg-color: #DDD;\n  }\n\n  [theme=dark] .colab-df-quickchart {\n      --bg-color: #3B4455;\n      --fill-color: #D2E3FC;\n      --hover-bg-color: #434B5C;\n      --hover-fill-color: #FFFFFF;\n      --disabled-bg-color: #3B4455;\n      --disabled-fill-color: #666;\n  }\n\n  .colab-df-quickchart {\n    background-color: var(--bg-color);\n    border: none;\n    border-radius: 50%;\n    cursor: pointer;\n    display: none;\n    fill: var(--fill-color);\n    height: 32px;\n    padding: 0;\n    width: 32px;\n  }\n\n  .colab-df-quickchart:hover {\n    background-color: var(--hover-bg-color);\n    box-shadow: 0 1px 2px rgba(60, 64, 67, 0.3), 0 1px 3px 1px rgba(60, 64, 67, 0.15);\n    fill: var(--button-hover-fill-color);\n  }\n\n  .colab-df-quickchart-complete:disabled,\n  .colab-df-quickchart-complete:disabled:hover {\n    background-color: var(--disabled-bg-color);\n    fill: var(--disabled-fill-color);\n    box-shadow: none;\n  }\n\n  .colab-df-spinner {\n    border: 2px solid var(--fill-color);\n    border-color: transparent;\n    border-bottom-color: var(--fill-color);\n    animation:\n      spin 1s steps(1) infinite;\n  }\n\n  @keyframes spin {\n    0% {\n      border-color: transparent;\n      border-bottom-color: var(--fill-color);\n      border-left-color: var(--fill-color);\n    }\n    20% {\n      border-color: transparent;\n      border-left-color: var(--fill-color);\n      border-top-color: var(--fill-color);\n    }\n    30% {\n      border-color: transparent;\n      border-left-color: var(--fill-color);\n      border-top-color: var(--fill-color);\n      border-right-color: var(--fill-color);\n    }\n    40% {\n      border-color: transparent;\n      border-right-color: var(--fill-color);\n      border-top-color: var(--fill-color);\n    }\n    60% {\n      border-color: transparent;\n      border-right-color: var(--fill-color);\n    }\n    80% {\n      border-color: transparent;\n      border-right-color: var(--fill-color);\n      border-bottom-color: var(--fill-color);\n    }\n    90% {\n      border-color: transparent;\n      border-bottom-color: var(--fill-color);\n    }\n  }\n</style>\n\n  <script>\n    async function quickchart(key) {\n      const quickchartButtonEl =\n        document.querySelector('#' + key + ' button');\n      quickchartButtonEl.disabled = true;  // To prevent multiple clicks.\n      quickchartButtonEl.classList.add('colab-df-spinner');\n      try {\n        const charts = await google.colab.kernel.invokeFunction(\n            'suggestCharts', [key], {});\n      } catch (error) {\n        console.error('Error during call to suggestCharts:', error);\n      }\n      quickchartButtonEl.classList.remove('colab-df-spinner');\n      quickchartButtonEl.classList.add('colab-df-quickchart-complete');\n    }\n    (() => {\n      let quickchartButtonEl =\n        document.querySelector('#df-46f89b8a-0268-4970-a8db-3669dd82f1f5 button');\n      quickchartButtonEl.style.display =\n        google.colab.kernel.accessAllowed ? 'block' : 'none';\n    })();\n  </script>\n</div>\n    </div>\n  </div>\n",
                  "application/vnd.google.colaboratory.intrinsic+json": {
                    "type": "dataframe",
                    "variable_name": "mpg",
                    "repr_error": "Out of range float values are not JSON compliant: nan"
                  }
                },
                "metadata": {}
              }
            ]
          }
        },
        "20856e4cb5ce493b855a028f7242c485": {
          "model_module": "@jupyter-widgets/base",
          "model_name": "LayoutModel",
          "model_module_version": "1.2.0",
          "state": {
            "_model_module": "@jupyter-widgets/base",
            "_model_module_version": "1.2.0",
            "_model_name": "LayoutModel",
            "_view_count": null,
            "_view_module": "@jupyter-widgets/base",
            "_view_module_version": "1.2.0",
            "_view_name": "LayoutView",
            "align_content": null,
            "align_items": null,
            "align_self": null,
            "border": null,
            "bottom": null,
            "display": null,
            "flex": null,
            "flex_flow": null,
            "grid_area": null,
            "grid_auto_columns": null,
            "grid_auto_flow": null,
            "grid_auto_rows": null,
            "grid_column": null,
            "grid_gap": null,
            "grid_row": null,
            "grid_template_areas": null,
            "grid_template_columns": null,
            "grid_template_rows": null,
            "height": null,
            "justify_content": null,
            "justify_items": null,
            "left": null,
            "margin": null,
            "max_height": null,
            "max_width": null,
            "min_height": null,
            "min_width": null,
            "object_fit": null,
            "object_position": null,
            "order": null,
            "overflow": null,
            "overflow_x": null,
            "overflow_y": null,
            "padding": null,
            "right": null,
            "top": null,
            "visibility": null,
            "width": null
          }
        },
        "29440c51e63f4ee98d44390e999169db": {
          "model_module": "@jupyter-widgets/controls",
          "model_name": "ButtonModel",
          "model_module_version": "1.5.0",
          "state": {
            "_dom_classes": [],
            "_model_module": "@jupyter-widgets/controls",
            "_model_module_version": "1.5.0",
            "_model_name": "ButtonModel",
            "_view_count": null,
            "_view_module": "@jupyter-widgets/controls",
            "_view_module_version": "1.5.0",
            "_view_name": "ButtonView",
            "button_style": "",
            "description": "Toggle Pandas/Lux",
            "disabled": false,
            "icon": "",
            "layout": "IPY_MODEL_94cd15bc8c9340aaaf1cf30d23055f0a",
            "style": "IPY_MODEL_f1dbdf40cad04d8aaac38423e2432b4a",
            "tooltip": ""
          }
        },
        "94cd15bc8c9340aaaf1cf30d23055f0a": {
          "model_module": "@jupyter-widgets/base",
          "model_name": "LayoutModel",
          "model_module_version": "1.2.0",
          "state": {
            "_model_module": "@jupyter-widgets/base",
            "_model_module_version": "1.2.0",
            "_model_name": "LayoutModel",
            "_view_count": null,
            "_view_module": "@jupyter-widgets/base",
            "_view_module_version": "1.2.0",
            "_view_name": "LayoutView",
            "align_content": null,
            "align_items": null,
            "align_self": null,
            "border": null,
            "bottom": null,
            "display": null,
            "flex": null,
            "flex_flow": null,
            "grid_area": null,
            "grid_auto_columns": null,
            "grid_auto_flow": null,
            "grid_auto_rows": null,
            "grid_column": null,
            "grid_gap": null,
            "grid_row": null,
            "grid_template_areas": null,
            "grid_template_columns": null,
            "grid_template_rows": null,
            "height": null,
            "justify_content": null,
            "justify_items": null,
            "left": null,
            "margin": null,
            "max_height": null,
            "max_width": null,
            "min_height": null,
            "min_width": null,
            "object_fit": null,
            "object_position": null,
            "order": null,
            "overflow": null,
            "overflow_x": null,
            "overflow_y": null,
            "padding": null,
            "right": null,
            "top": "5px",
            "visibility": null,
            "width": "140px"
          }
        },
        "f1dbdf40cad04d8aaac38423e2432b4a": {
          "model_module": "@jupyter-widgets/controls",
          "model_name": "ButtonStyleModel",
          "model_module_version": "1.5.0",
          "state": {
            "_model_module": "@jupyter-widgets/controls",
            "_model_module_version": "1.5.0",
            "_model_name": "ButtonStyleModel",
            "_view_count": null,
            "_view_module": "@jupyter-widgets/base",
            "_view_module_version": "1.2.0",
            "_view_name": "StyleView",
            "button_color": null,
            "font_weight": ""
          }
        },
        "30b89aa77b7f4a4c911b983a51182c71": {
          "model_module": "@jupyter-widgets/output",
          "model_name": "OutputModel",
          "model_module_version": "1.0.0",
          "state": {
            "_dom_classes": [],
            "_model_module": "@jupyter-widgets/output",
            "_model_module_version": "1.0.0",
            "_model_name": "OutputModel",
            "_view_count": null,
            "_view_module": "@jupyter-widgets/output",
            "_view_module_version": "1.0.0",
            "_view_name": "OutputView",
            "layout": "IPY_MODEL_ffb73413eb20468f9f1c9c0c3be114cc",
            "msg_id": "",
            "outputs": [
              {
                "output_type": "display_data",
                "data": {
                  "text/plain": "LuxWidget(current_vis={'config': {'view': {'continuousWidth': 400, 'continuousHeight': 300}, 'axis': {'labelCo…",
                  "application/vnd.jupyter.widget-view+json": {
                    "version_major": 2,
                    "version_minor": 0,
                    "model_id": "2c9568fbac4f42ceaf4058ced5425f93"
                  }
                },
                "metadata": {
                  "application/vnd.jupyter.widget-view+json": {
                    "colab": {
                      "custom_widget_manager": {
                        "url": "https://ssl.gstatic.com/colaboratory-static/widgets/colab-cdn-widget-manager/2b70e893a8ba7c0f/manager.min.js"
                      }
                    }
                  }
                }
              }
            ]
          }
        },
        "ffb73413eb20468f9f1c9c0c3be114cc": {
          "model_module": "@jupyter-widgets/base",
          "model_name": "LayoutModel",
          "model_module_version": "1.2.0",
          "state": {
            "_model_module": "@jupyter-widgets/base",
            "_model_module_version": "1.2.0",
            "_model_name": "LayoutModel",
            "_view_count": null,
            "_view_module": "@jupyter-widgets/base",
            "_view_module_version": "1.2.0",
            "_view_name": "LayoutView",
            "align_content": null,
            "align_items": null,
            "align_self": null,
            "border": null,
            "bottom": null,
            "display": null,
            "flex": null,
            "flex_flow": null,
            "grid_area": null,
            "grid_auto_columns": null,
            "grid_auto_flow": null,
            "grid_auto_rows": null,
            "grid_column": null,
            "grid_gap": null,
            "grid_row": null,
            "grid_template_areas": null,
            "grid_template_columns": null,
            "grid_template_rows": null,
            "height": null,
            "justify_content": null,
            "justify_items": null,
            "left": null,
            "margin": null,
            "max_height": null,
            "max_width": null,
            "min_height": null,
            "min_width": null,
            "object_fit": null,
            "object_position": null,
            "order": null,
            "overflow": null,
            "overflow_x": null,
            "overflow_y": null,
            "padding": null,
            "right": null,
            "top": null,
            "visibility": null,
            "width": null
          }
        },
        "2c9568fbac4f42ceaf4058ced5425f93": {
          "model_module": "luxwidget",
          "model_name": "LuxModel",
          "model_module_version": "0.1.11",
          "state": {
            "_dom_classes": [],
            "_model_module": "luxwidget",
            "_model_module_version": "0.1.11",
            "_model_name": "LuxModel",
            "_selectedVisIdxs": {},
            "_view_count": null,
            "_view_module": "luxwidget",
            "_view_module_version": "0.1.11",
            "_view_name": "LuxWidgetView",
            "all_column": false,
            "current_vis": {
              "config": {
                "view": {
                  "continuousWidth": 400,
                  "continuousHeight": 300
                },
                "axis": {
                  "labelColor": "#505050",
                  "labelFont": "Helvetica Neue",
                  "labelFontSize": 9,
                  "labelFontWeight": 400,
                  "titleFont": "Helvetica Neue",
                  "titleFontSize": 11,
                  "titleFontWeight": 500
                },
                "legend": {
                  "labelFont": "Helvetica Neue",
                  "labelFontSize": 9,
                  "labelFontWeight": 400,
                  "titleFont": "Helvetica Neue",
                  "titleFontSize": 10,
                  "titleFontWeight": 500
                },
                "mark": {
                  "tooltip": {
                    "content": "encoding"
                  }
                },
                "title": {
                  "font": "Helvetica Neue",
                  "fontSize": 13,
                  "fontWeight": 500
                }
              },
              "data": {
                "name": "data-b716023a1e8a6765442991b5232bb56d"
              },
              "mark": "circle",
              "encoding": {
                "x": {
                  "axis": {
                    "title": "horsepower"
                  },
                  "field": "horsepower",
                  "scale": {
                    "domain": [
                      46,
                      230
                    ]
                  },
                  "type": "quantitative"
                },
                "y": {
                  "axis": {
                    "title": "mpg"
                  },
                  "field": "mpg",
                  "scale": {
                    "domain": [
                      9,
                      46.6
                    ]
                  },
                  "type": "quantitative"
                }
              },
              "height": 150,
              "selection": {
                "selector055": {
                  "type": "interval",
                  "bind": "scales",
                  "encodings": [
                    "x",
                    "y"
                  ]
                }
              },
              "width": 160,
              "$schema": "https://vega.github.io/schema/vega-lite/v4.17.0.json",
              "datasets": {
                "data-b716023a1e8a6765442991b5232bb56d": [
                  {
                    "mpg": 18,
                    "horsepower": 130
                  },
                  {
                    "mpg": 15,
                    "horsepower": 165
                  },
                  {
                    "mpg": 18,
                    "horsepower": 150
                  },
                  {
                    "mpg": 16,
                    "horsepower": 150
                  },
                  {
                    "mpg": 17,
                    "horsepower": 140
                  },
                  {
                    "mpg": 15,
                    "horsepower": 198
                  },
                  {
                    "mpg": 14,
                    "horsepower": 220
                  },
                  {
                    "mpg": 14,
                    "horsepower": 215
                  },
                  {
                    "mpg": 14,
                    "horsepower": 225
                  },
                  {
                    "mpg": 15,
                    "horsepower": 190
                  },
                  {
                    "mpg": 15,
                    "horsepower": 170
                  },
                  {
                    "mpg": 14,
                    "horsepower": 160
                  },
                  {
                    "mpg": 15,
                    "horsepower": 150
                  },
                  {
                    "mpg": 14,
                    "horsepower": 225
                  },
                  {
                    "mpg": 24,
                    "horsepower": 95
                  },
                  {
                    "mpg": 22,
                    "horsepower": 95
                  },
                  {
                    "mpg": 18,
                    "horsepower": 97
                  },
                  {
                    "mpg": 21,
                    "horsepower": 85
                  },
                  {
                    "mpg": 27,
                    "horsepower": 88
                  },
                  {
                    "mpg": 26,
                    "horsepower": 46
                  },
                  {
                    "mpg": 25,
                    "horsepower": 87
                  },
                  {
                    "mpg": 24,
                    "horsepower": 90
                  },
                  {
                    "mpg": 25,
                    "horsepower": 95
                  },
                  {
                    "mpg": 26,
                    "horsepower": 113
                  },
                  {
                    "mpg": 21,
                    "horsepower": 90
                  },
                  {
                    "mpg": 10,
                    "horsepower": 215
                  },
                  {
                    "mpg": 10,
                    "horsepower": 200
                  },
                  {
                    "mpg": 11,
                    "horsepower": 210
                  },
                  {
                    "mpg": 9,
                    "horsepower": 193
                  },
                  {
                    "mpg": 27,
                    "horsepower": 88
                  },
                  {
                    "mpg": 28,
                    "horsepower": 90
                  },
                  {
                    "mpg": 25,
                    "horsepower": 95
                  },
                  {
                    "mpg": 25,
                    "horsepower": null
                  },
                  {
                    "mpg": 19,
                    "horsepower": 100
                  },
                  {
                    "mpg": 16,
                    "horsepower": 105
                  },
                  {
                    "mpg": 17,
                    "horsepower": 100
                  },
                  {
                    "mpg": 19,
                    "horsepower": 88
                  },
                  {
                    "mpg": 18,
                    "horsepower": 100
                  },
                  {
                    "mpg": 14,
                    "horsepower": 165
                  },
                  {
                    "mpg": 14,
                    "horsepower": 175
                  },
                  {
                    "mpg": 14,
                    "horsepower": 153
                  },
                  {
                    "mpg": 14,
                    "horsepower": 150
                  },
                  {
                    "mpg": 12,
                    "horsepower": 180
                  },
                  {
                    "mpg": 13,
                    "horsepower": 170
                  },
                  {
                    "mpg": 13,
                    "horsepower": 175
                  },
                  {
                    "mpg": 18,
                    "horsepower": 110
                  },
                  {
                    "mpg": 22,
                    "horsepower": 72
                  },
                  {
                    "mpg": 19,
                    "horsepower": 100
                  },
                  {
                    "mpg": 18,
                    "horsepower": 88
                  },
                  {
                    "mpg": 23,
                    "horsepower": 86
                  },
                  {
                    "mpg": 28,
                    "horsepower": 90
                  },
                  {
                    "mpg": 30,
                    "horsepower": 70
                  },
                  {
                    "mpg": 30,
                    "horsepower": 76
                  },
                  {
                    "mpg": 31,
                    "horsepower": 65
                  },
                  {
                    "mpg": 35,
                    "horsepower": 69
                  },
                  {
                    "mpg": 27,
                    "horsepower": 60
                  },
                  {
                    "mpg": 26,
                    "horsepower": 70
                  },
                  {
                    "mpg": 24,
                    "horsepower": 95
                  },
                  {
                    "mpg": 25,
                    "horsepower": 80
                  },
                  {
                    "mpg": 23,
                    "horsepower": 54
                  },
                  {
                    "mpg": 20,
                    "horsepower": 90
                  },
                  {
                    "mpg": 21,
                    "horsepower": 86
                  },
                  {
                    "mpg": 13,
                    "horsepower": 165
                  },
                  {
                    "mpg": 14,
                    "horsepower": 175
                  },
                  {
                    "mpg": 15,
                    "horsepower": 150
                  },
                  {
                    "mpg": 14,
                    "horsepower": 153
                  },
                  {
                    "mpg": 17,
                    "horsepower": 150
                  },
                  {
                    "mpg": 11,
                    "horsepower": 208
                  },
                  {
                    "mpg": 13,
                    "horsepower": 155
                  },
                  {
                    "mpg": 12,
                    "horsepower": 160
                  },
                  {
                    "mpg": 13,
                    "horsepower": 190
                  },
                  {
                    "mpg": 19,
                    "horsepower": 97
                  },
                  {
                    "mpg": 15,
                    "horsepower": 150
                  },
                  {
                    "mpg": 13,
                    "horsepower": 130
                  },
                  {
                    "mpg": 13,
                    "horsepower": 140
                  },
                  {
                    "mpg": 14,
                    "horsepower": 150
                  },
                  {
                    "mpg": 18,
                    "horsepower": 112
                  },
                  {
                    "mpg": 22,
                    "horsepower": 76
                  },
                  {
                    "mpg": 21,
                    "horsepower": 87
                  },
                  {
                    "mpg": 26,
                    "horsepower": 69
                  },
                  {
                    "mpg": 22,
                    "horsepower": 86
                  },
                  {
                    "mpg": 28,
                    "horsepower": 92
                  },
                  {
                    "mpg": 23,
                    "horsepower": 97
                  },
                  {
                    "mpg": 28,
                    "horsepower": 80
                  },
                  {
                    "mpg": 27,
                    "horsepower": 88
                  },
                  {
                    "mpg": 13,
                    "horsepower": 175
                  },
                  {
                    "mpg": 14,
                    "horsepower": 150
                  },
                  {
                    "mpg": 13,
                    "horsepower": 145
                  },
                  {
                    "mpg": 14,
                    "horsepower": 137
                  },
                  {
                    "mpg": 15,
                    "horsepower": 150
                  },
                  {
                    "mpg": 12,
                    "horsepower": 198
                  },
                  {
                    "mpg": 13,
                    "horsepower": 150
                  },
                  {
                    "mpg": 13,
                    "horsepower": 158
                  },
                  {
                    "mpg": 14,
                    "horsepower": 150
                  },
                  {
                    "mpg": 13,
                    "horsepower": 215
                  },
                  {
                    "mpg": 12,
                    "horsepower": 225
                  },
                  {
                    "mpg": 13,
                    "horsepower": 175
                  },
                  {
                    "mpg": 18,
                    "horsepower": 105
                  },
                  {
                    "mpg": 16,
                    "horsepower": 100
                  },
                  {
                    "mpg": 18,
                    "horsepower": 100
                  },
                  {
                    "mpg": 18,
                    "horsepower": 88
                  },
                  {
                    "mpg": 23,
                    "horsepower": 95
                  },
                  {
                    "mpg": 26,
                    "horsepower": 46
                  },
                  {
                    "mpg": 11,
                    "horsepower": 150
                  },
                  {
                    "mpg": 12,
                    "horsepower": 167
                  },
                  {
                    "mpg": 13,
                    "horsepower": 170
                  },
                  {
                    "mpg": 12,
                    "horsepower": 180
                  },
                  {
                    "mpg": 18,
                    "horsepower": 100
                  },
                  {
                    "mpg": 20,
                    "horsepower": 88
                  },
                  {
                    "mpg": 21,
                    "horsepower": 72
                  },
                  {
                    "mpg": 22,
                    "horsepower": 94
                  },
                  {
                    "mpg": 18,
                    "horsepower": 90
                  },
                  {
                    "mpg": 19,
                    "horsepower": 85
                  },
                  {
                    "mpg": 21,
                    "horsepower": 107
                  },
                  {
                    "mpg": 26,
                    "horsepower": 90
                  },
                  {
                    "mpg": 15,
                    "horsepower": 145
                  },
                  {
                    "mpg": 16,
                    "horsepower": 230
                  },
                  {
                    "mpg": 29,
                    "horsepower": 49
                  },
                  {
                    "mpg": 24,
                    "horsepower": 75
                  },
                  {
                    "mpg": 20,
                    "horsepower": 91
                  },
                  {
                    "mpg": 19,
                    "horsepower": 112
                  },
                  {
                    "mpg": 15,
                    "horsepower": 150
                  },
                  {
                    "mpg": 24,
                    "horsepower": 110
                  },
                  {
                    "mpg": 20,
                    "horsepower": 122
                  },
                  {
                    "mpg": 11,
                    "horsepower": 180
                  },
                  {
                    "mpg": 20,
                    "horsepower": 95
                  },
                  {
                    "mpg": 21,
                    "horsepower": null
                  },
                  {
                    "mpg": 19,
                    "horsepower": 100
                  },
                  {
                    "mpg": 15,
                    "horsepower": 100
                  },
                  {
                    "mpg": 31,
                    "horsepower": 67
                  },
                  {
                    "mpg": 26,
                    "horsepower": 80
                  },
                  {
                    "mpg": 32,
                    "horsepower": 65
                  },
                  {
                    "mpg": 25,
                    "horsepower": 75
                  },
                  {
                    "mpg": 16,
                    "horsepower": 100
                  },
                  {
                    "mpg": 16,
                    "horsepower": 110
                  },
                  {
                    "mpg": 18,
                    "horsepower": 105
                  },
                  {
                    "mpg": 16,
                    "horsepower": 140
                  },
                  {
                    "mpg": 13,
                    "horsepower": 150
                  },
                  {
                    "mpg": 14,
                    "horsepower": 150
                  },
                  {
                    "mpg": 14,
                    "horsepower": 140
                  },
                  {
                    "mpg": 14,
                    "horsepower": 150
                  },
                  {
                    "mpg": 29,
                    "horsepower": 83
                  },
                  {
                    "mpg": 26,
                    "horsepower": 67
                  },
                  {
                    "mpg": 26,
                    "horsepower": 78
                  },
                  {
                    "mpg": 31,
                    "horsepower": 52
                  },
                  {
                    "mpg": 32,
                    "horsepower": 61
                  },
                  {
                    "mpg": 28,
                    "horsepower": 75
                  },
                  {
                    "mpg": 24,
                    "horsepower": 75
                  },
                  {
                    "mpg": 26,
                    "horsepower": 75
                  },
                  {
                    "mpg": 24,
                    "horsepower": 97
                  },
                  {
                    "mpg": 26,
                    "horsepower": 93
                  },
                  {
                    "mpg": 31,
                    "horsepower": 67
                  },
                  {
                    "mpg": 19,
                    "horsepower": 95
                  },
                  {
                    "mpg": 18,
                    "horsepower": 105
                  },
                  {
                    "mpg": 15,
                    "horsepower": 72
                  },
                  {
                    "mpg": 15,
                    "horsepower": 72
                  },
                  {
                    "mpg": 16,
                    "horsepower": 170
                  },
                  {
                    "mpg": 15,
                    "horsepower": 145
                  },
                  {
                    "mpg": 16,
                    "horsepower": 150
                  },
                  {
                    "mpg": 14,
                    "horsepower": 148
                  },
                  {
                    "mpg": 17,
                    "horsepower": 110
                  },
                  {
                    "mpg": 16,
                    "horsepower": 105
                  },
                  {
                    "mpg": 15,
                    "horsepower": 110
                  },
                  {
                    "mpg": 18,
                    "horsepower": 95
                  },
                  {
                    "mpg": 21,
                    "horsepower": 110
                  },
                  {
                    "mpg": 20,
                    "horsepower": 110
                  },
                  {
                    "mpg": 13,
                    "horsepower": 129
                  },
                  {
                    "mpg": 29,
                    "horsepower": 75
                  },
                  {
                    "mpg": 23,
                    "horsepower": 83
                  },
                  {
                    "mpg": 20,
                    "horsepower": 100
                  },
                  {
                    "mpg": 23,
                    "horsepower": 78
                  },
                  {
                    "mpg": 24,
                    "horsepower": 96
                  },
                  {
                    "mpg": 25,
                    "horsepower": 71
                  },
                  {
                    "mpg": 24,
                    "horsepower": 97
                  },
                  {
                    "mpg": 18,
                    "horsepower": 97
                  },
                  {
                    "mpg": 29,
                    "horsepower": 70
                  },
                  {
                    "mpg": 19,
                    "horsepower": 90
                  },
                  {
                    "mpg": 23,
                    "horsepower": 95
                  },
                  {
                    "mpg": 23,
                    "horsepower": 88
                  },
                  {
                    "mpg": 22,
                    "horsepower": 98
                  },
                  {
                    "mpg": 25,
                    "horsepower": 115
                  },
                  {
                    "mpg": 33,
                    "horsepower": 53
                  },
                  {
                    "mpg": 28,
                    "horsepower": 86
                  },
                  {
                    "mpg": 25,
                    "horsepower": 81
                  },
                  {
                    "mpg": 25,
                    "horsepower": 92
                  },
                  {
                    "mpg": 26,
                    "horsepower": 79
                  },
                  {
                    "mpg": 27,
                    "horsepower": 83
                  },
                  {
                    "mpg": 17.5,
                    "horsepower": 140
                  },
                  {
                    "mpg": 16,
                    "horsepower": 150
                  },
                  {
                    "mpg": 15.5,
                    "horsepower": 120
                  },
                  {
                    "mpg": 14.5,
                    "horsepower": 152
                  },
                  {
                    "mpg": 22,
                    "horsepower": 100
                  },
                  {
                    "mpg": 22,
                    "horsepower": 105
                  },
                  {
                    "mpg": 24,
                    "horsepower": 81
                  },
                  {
                    "mpg": 22.5,
                    "horsepower": 90
                  },
                  {
                    "mpg": 29,
                    "horsepower": 52
                  },
                  {
                    "mpg": 24.5,
                    "horsepower": 60
                  },
                  {
                    "mpg": 29,
                    "horsepower": 70
                  },
                  {
                    "mpg": 33,
                    "horsepower": 53
                  },
                  {
                    "mpg": 20,
                    "horsepower": 100
                  },
                  {
                    "mpg": 18,
                    "horsepower": 78
                  },
                  {
                    "mpg": 18.5,
                    "horsepower": 110
                  },
                  {
                    "mpg": 17.5,
                    "horsepower": 95
                  },
                  {
                    "mpg": 29.5,
                    "horsepower": 71
                  },
                  {
                    "mpg": 32,
                    "horsepower": 70
                  },
                  {
                    "mpg": 28,
                    "horsepower": 75
                  },
                  {
                    "mpg": 26.5,
                    "horsepower": 72
                  },
                  {
                    "mpg": 20,
                    "horsepower": 102
                  },
                  {
                    "mpg": 13,
                    "horsepower": 150
                  },
                  {
                    "mpg": 19,
                    "horsepower": 88
                  },
                  {
                    "mpg": 19,
                    "horsepower": 108
                  },
                  {
                    "mpg": 16.5,
                    "horsepower": 120
                  },
                  {
                    "mpg": 16.5,
                    "horsepower": 180
                  },
                  {
                    "mpg": 13,
                    "horsepower": 145
                  },
                  {
                    "mpg": 13,
                    "horsepower": 130
                  },
                  {
                    "mpg": 13,
                    "horsepower": 150
                  },
                  {
                    "mpg": 31.5,
                    "horsepower": 68
                  },
                  {
                    "mpg": 30,
                    "horsepower": 80
                  },
                  {
                    "mpg": 36,
                    "horsepower": 58
                  },
                  {
                    "mpg": 25.5,
                    "horsepower": 96
                  },
                  {
                    "mpg": 33.5,
                    "horsepower": 70
                  },
                  {
                    "mpg": 17.5,
                    "horsepower": 145
                  },
                  {
                    "mpg": 17,
                    "horsepower": 110
                  },
                  {
                    "mpg": 15.5,
                    "horsepower": 145
                  },
                  {
                    "mpg": 15,
                    "horsepower": 130
                  },
                  {
                    "mpg": 17.5,
                    "horsepower": 110
                  },
                  {
                    "mpg": 20.5,
                    "horsepower": 105
                  },
                  {
                    "mpg": 19,
                    "horsepower": 100
                  },
                  {
                    "mpg": 18.5,
                    "horsepower": 98
                  },
                  {
                    "mpg": 16,
                    "horsepower": 180
                  },
                  {
                    "mpg": 15.5,
                    "horsepower": 170
                  },
                  {
                    "mpg": 15.5,
                    "horsepower": 190
                  },
                  {
                    "mpg": 16,
                    "horsepower": 149
                  },
                  {
                    "mpg": 29,
                    "horsepower": 78
                  },
                  {
                    "mpg": 24.5,
                    "horsepower": 88
                  },
                  {
                    "mpg": 26,
                    "horsepower": 75
                  },
                  {
                    "mpg": 25.5,
                    "horsepower": 89
                  },
                  {
                    "mpg": 30.5,
                    "horsepower": 63
                  },
                  {
                    "mpg": 33.5,
                    "horsepower": 83
                  },
                  {
                    "mpg": 30,
                    "horsepower": 67
                  },
                  {
                    "mpg": 30.5,
                    "horsepower": 78
                  },
                  {
                    "mpg": 22,
                    "horsepower": 97
                  },
                  {
                    "mpg": 21.5,
                    "horsepower": 110
                  },
                  {
                    "mpg": 21.5,
                    "horsepower": 110
                  },
                  {
                    "mpg": 43.1,
                    "horsepower": 48
                  },
                  {
                    "mpg": 36.1,
                    "horsepower": 66
                  },
                  {
                    "mpg": 32.8,
                    "horsepower": 52
                  },
                  {
                    "mpg": 39.4,
                    "horsepower": 70
                  },
                  {
                    "mpg": 36.1,
                    "horsepower": 60
                  },
                  {
                    "mpg": 19.9,
                    "horsepower": 110
                  },
                  {
                    "mpg": 19.4,
                    "horsepower": 140
                  },
                  {
                    "mpg": 20.2,
                    "horsepower": 139
                  },
                  {
                    "mpg": 19.2,
                    "horsepower": 105
                  },
                  {
                    "mpg": 20.5,
                    "horsepower": 95
                  },
                  {
                    "mpg": 20.2,
                    "horsepower": 85
                  },
                  {
                    "mpg": 25.1,
                    "horsepower": 88
                  },
                  {
                    "mpg": 20.5,
                    "horsepower": 100
                  },
                  {
                    "mpg": 19.4,
                    "horsepower": 90
                  },
                  {
                    "mpg": 20.6,
                    "horsepower": 105
                  },
                  {
                    "mpg": 20.8,
                    "horsepower": 85
                  },
                  {
                    "mpg": 18.6,
                    "horsepower": 110
                  },
                  {
                    "mpg": 18.1,
                    "horsepower": 120
                  },
                  {
                    "mpg": 19.2,
                    "horsepower": 145
                  },
                  {
                    "mpg": 17.7,
                    "horsepower": 165
                  },
                  {
                    "mpg": 18.1,
                    "horsepower": 139
                  },
                  {
                    "mpg": 17.5,
                    "horsepower": 140
                  },
                  {
                    "mpg": 30,
                    "horsepower": 68
                  },
                  {
                    "mpg": 27.5,
                    "horsepower": 95
                  },
                  {
                    "mpg": 27.2,
                    "horsepower": 97
                  },
                  {
                    "mpg": 30.9,
                    "horsepower": 75
                  },
                  {
                    "mpg": 21.1,
                    "horsepower": 95
                  },
                  {
                    "mpg": 23.2,
                    "horsepower": 105
                  },
                  {
                    "mpg": 23.8,
                    "horsepower": 85
                  },
                  {
                    "mpg": 23.9,
                    "horsepower": 97
                  },
                  {
                    "mpg": 20.3,
                    "horsepower": 103
                  },
                  {
                    "mpg": 17,
                    "horsepower": 125
                  },
                  {
                    "mpg": 21.6,
                    "horsepower": 115
                  },
                  {
                    "mpg": 16.2,
                    "horsepower": 133
                  },
                  {
                    "mpg": 31.5,
                    "horsepower": 71
                  },
                  {
                    "mpg": 29.5,
                    "horsepower": 68
                  },
                  {
                    "mpg": 21.5,
                    "horsepower": 115
                  },
                  {
                    "mpg": 19.8,
                    "horsepower": 85
                  },
                  {
                    "mpg": 22.3,
                    "horsepower": 88
                  },
                  {
                    "mpg": 20.2,
                    "horsepower": 90
                  },
                  {
                    "mpg": 20.6,
                    "horsepower": 110
                  },
                  {
                    "mpg": 17,
                    "horsepower": 130
                  },
                  {
                    "mpg": 17.6,
                    "horsepower": 129
                  },
                  {
                    "mpg": 16.5,
                    "horsepower": 138
                  },
                  {
                    "mpg": 18.2,
                    "horsepower": 135
                  },
                  {
                    "mpg": 16.9,
                    "horsepower": 155
                  },
                  {
                    "mpg": 15.5,
                    "horsepower": 142
                  },
                  {
                    "mpg": 19.2,
                    "horsepower": 125
                  },
                  {
                    "mpg": 18.5,
                    "horsepower": 150
                  },
                  {
                    "mpg": 31.9,
                    "horsepower": 71
                  },
                  {
                    "mpg": 34.1,
                    "horsepower": 65
                  },
                  {
                    "mpg": 35.7,
                    "horsepower": 80
                  },
                  {
                    "mpg": 27.4,
                    "horsepower": 80
                  },
                  {
                    "mpg": 25.4,
                    "horsepower": 77
                  },
                  {
                    "mpg": 23,
                    "horsepower": 125
                  },
                  {
                    "mpg": 27.2,
                    "horsepower": 71
                  },
                  {
                    "mpg": 23.9,
                    "horsepower": 90
                  },
                  {
                    "mpg": 34.2,
                    "horsepower": 70
                  },
                  {
                    "mpg": 34.5,
                    "horsepower": 70
                  },
                  {
                    "mpg": 31.8,
                    "horsepower": 65
                  },
                  {
                    "mpg": 37.3,
                    "horsepower": 69
                  },
                  {
                    "mpg": 28.4,
                    "horsepower": 90
                  },
                  {
                    "mpg": 28.8,
                    "horsepower": 115
                  },
                  {
                    "mpg": 26.8,
                    "horsepower": 115
                  },
                  {
                    "mpg": 33.5,
                    "horsepower": 90
                  },
                  {
                    "mpg": 41.5,
                    "horsepower": 76
                  },
                  {
                    "mpg": 38.1,
                    "horsepower": 60
                  },
                  {
                    "mpg": 32.1,
                    "horsepower": 70
                  },
                  {
                    "mpg": 37.2,
                    "horsepower": 65
                  },
                  {
                    "mpg": 28,
                    "horsepower": 90
                  },
                  {
                    "mpg": 26.4,
                    "horsepower": 88
                  },
                  {
                    "mpg": 24.3,
                    "horsepower": 90
                  },
                  {
                    "mpg": 19.1,
                    "horsepower": 90
                  },
                  {
                    "mpg": 34.3,
                    "horsepower": 78
                  },
                  {
                    "mpg": 29.8,
                    "horsepower": 90
                  },
                  {
                    "mpg": 31.3,
                    "horsepower": 75
                  },
                  {
                    "mpg": 37,
                    "horsepower": 92
                  },
                  {
                    "mpg": 32.2,
                    "horsepower": 75
                  },
                  {
                    "mpg": 46.6,
                    "horsepower": 65
                  },
                  {
                    "mpg": 27.9,
                    "horsepower": 105
                  },
                  {
                    "mpg": 40.8,
                    "horsepower": 65
                  },
                  {
                    "mpg": 44.3,
                    "horsepower": 48
                  },
                  {
                    "mpg": 43.4,
                    "horsepower": 48
                  },
                  {
                    "mpg": 36.4,
                    "horsepower": 67
                  },
                  {
                    "mpg": 30,
                    "horsepower": 67
                  },
                  {
                    "mpg": 44.6,
                    "horsepower": 67
                  },
                  {
                    "mpg": 40.9,
                    "horsepower": null
                  },
                  {
                    "mpg": 33.8,
                    "horsepower": 67
                  },
                  {
                    "mpg": 29.8,
                    "horsepower": 62
                  },
                  {
                    "mpg": 32.7,
                    "horsepower": 132
                  },
                  {
                    "mpg": 23.7,
                    "horsepower": 100
                  },
                  {
                    "mpg": 35,
                    "horsepower": 88
                  },
                  {
                    "mpg": 23.6,
                    "horsepower": null
                  },
                  {
                    "mpg": 32.4,
                    "horsepower": 72
                  },
                  {
                    "mpg": 27.2,
                    "horsepower": 84
                  },
                  {
                    "mpg": 26.6,
                    "horsepower": 84
                  },
                  {
                    "mpg": 25.8,
                    "horsepower": 92
                  },
                  {
                    "mpg": 23.5,
                    "horsepower": 110
                  },
                  {
                    "mpg": 30,
                    "horsepower": 84
                  },
                  {
                    "mpg": 39.1,
                    "horsepower": 58
                  },
                  {
                    "mpg": 39,
                    "horsepower": 64
                  },
                  {
                    "mpg": 35.1,
                    "horsepower": 60
                  },
                  {
                    "mpg": 32.3,
                    "horsepower": 67
                  },
                  {
                    "mpg": 37,
                    "horsepower": 65
                  },
                  {
                    "mpg": 37.7,
                    "horsepower": 62
                  },
                  {
                    "mpg": 34.1,
                    "horsepower": 68
                  },
                  {
                    "mpg": 34.7,
                    "horsepower": 63
                  },
                  {
                    "mpg": 34.4,
                    "horsepower": 65
                  },
                  {
                    "mpg": 29.9,
                    "horsepower": 65
                  },
                  {
                    "mpg": 33,
                    "horsepower": 74
                  },
                  {
                    "mpg": 34.5,
                    "horsepower": null
                  },
                  {
                    "mpg": 33.7,
                    "horsepower": 75
                  },
                  {
                    "mpg": 32.4,
                    "horsepower": 75
                  },
                  {
                    "mpg": 32.9,
                    "horsepower": 100
                  },
                  {
                    "mpg": 31.6,
                    "horsepower": 74
                  },
                  {
                    "mpg": 28.1,
                    "horsepower": 80
                  },
                  {
                    "mpg": 30.7,
                    "horsepower": 76
                  },
                  {
                    "mpg": 25.4,
                    "horsepower": 116
                  },
                  {
                    "mpg": 24.2,
                    "horsepower": 120
                  },
                  {
                    "mpg": 22.4,
                    "horsepower": 110
                  },
                  {
                    "mpg": 26.6,
                    "horsepower": 105
                  },
                  {
                    "mpg": 20.2,
                    "horsepower": 88
                  },
                  {
                    "mpg": 17.6,
                    "horsepower": 85
                  },
                  {
                    "mpg": 28,
                    "horsepower": 88
                  },
                  {
                    "mpg": 27,
                    "horsepower": 88
                  },
                  {
                    "mpg": 34,
                    "horsepower": 88
                  },
                  {
                    "mpg": 31,
                    "horsepower": 85
                  },
                  {
                    "mpg": 29,
                    "horsepower": 84
                  },
                  {
                    "mpg": 27,
                    "horsepower": 90
                  },
                  {
                    "mpg": 24,
                    "horsepower": 92
                  },
                  {
                    "mpg": 23,
                    "horsepower": null
                  },
                  {
                    "mpg": 36,
                    "horsepower": 74
                  },
                  {
                    "mpg": 37,
                    "horsepower": 68
                  },
                  {
                    "mpg": 31,
                    "horsepower": 68
                  },
                  {
                    "mpg": 38,
                    "horsepower": 63
                  },
                  {
                    "mpg": 36,
                    "horsepower": 70
                  },
                  {
                    "mpg": 36,
                    "horsepower": 88
                  },
                  {
                    "mpg": 36,
                    "horsepower": 75
                  },
                  {
                    "mpg": 34,
                    "horsepower": 70
                  },
                  {
                    "mpg": 38,
                    "horsepower": 67
                  },
                  {
                    "mpg": 32,
                    "horsepower": 67
                  },
                  {
                    "mpg": 38,
                    "horsepower": 67
                  },
                  {
                    "mpg": 25,
                    "horsepower": 110
                  },
                  {
                    "mpg": 38,
                    "horsepower": 85
                  },
                  {
                    "mpg": 26,
                    "horsepower": 92
                  },
                  {
                    "mpg": 22,
                    "horsepower": 112
                  },
                  {
                    "mpg": 32,
                    "horsepower": 96
                  },
                  {
                    "mpg": 36,
                    "horsepower": 84
                  },
                  {
                    "mpg": 27,
                    "horsepower": 90
                  },
                  {
                    "mpg": 27,
                    "horsepower": 86
                  },
                  {
                    "mpg": 44,
                    "horsepower": 52
                  },
                  {
                    "mpg": 32,
                    "horsepower": 84
                  },
                  {
                    "mpg": 28,
                    "horsepower": 79
                  },
                  {
                    "mpg": 31,
                    "horsepower": 82
                  }
                ]
              },
              "vislib": "vegalite",
              "allcols": false
            },
            "data": [],
            "deletedIndices": {},
            "intent": "horsepower, mpg",
            "layout": "IPY_MODEL_165f9a6d83b047b28786c31553efa69f",
            "message": "<ul><li>The column <code>horsepower</code> contains missing values, not shown in the displayed histogram.</li></ul>",
            "plotting_scale": 1,
            "recommendations": [
              {
                "action": "Enhance",
                "description": "Further breaking down current <p class=\"highlight-intent\">horsepower, mpg</p> intent by additional attribute.",
                "long_description": "Enhance adds an additional attribute as the color to break down the <p class=\"highlight-intent\">horsepower, mpg</p> distribution",
                "vspec": [
                  {
                    "config": {
                      "view": {
                        "continuousWidth": 400,
                        "continuousHeight": 300
                      },
                      "axis": {
                        "labelColor": "#505050",
                        "labelFont": "Helvetica Neue",
                        "labelFontSize": 9,
                        "labelFontWeight": 400,
                        "titleFont": "Helvetica Neue",
                        "titleFontSize": 11,
                        "titleFontWeight": 500
                      },
                      "legend": {
                        "labelFont": "Helvetica Neue",
                        "labelFontSize": 9,
                        "labelFontWeight": 400,
                        "titleFont": "Helvetica Neue",
                        "titleFontSize": 10,
                        "titleFontWeight": 500
                      },
                      "mark": {
                        "tooltip": {
                          "content": "encoding"
                        }
                      },
                      "title": {
                        "font": "Helvetica Neue",
                        "fontSize": 13,
                        "fontWeight": 500
                      }
                    },
                    "data": {
                      "name": "data-fccf6efb6bc07ab6d57c318977f584c3"
                    },
                    "mark": "circle",
                    "encoding": {
                      "color": {
                        "field": "origin",
                        "type": "nominal"
                      },
                      "x": {
                        "axis": {
                          "title": "horsepower"
                        },
                        "field": "horsepower",
                        "scale": {
                          "domain": [
                            46,
                            230
                          ]
                        },
                        "type": "quantitative"
                      },
                      "y": {
                        "axis": {
                          "title": "mpg"
                        },
                        "field": "mpg",
                        "scale": {
                          "domain": [
                            9,
                            46.6
                          ]
                        },
                        "type": "quantitative"
                      }
                    },
                    "height": 150,
                    "selection": {
                      "selector056": {
                        "type": "interval",
                        "bind": "scales",
                        "encodings": [
                          "x",
                          "y"
                        ]
                      }
                    },
                    "width": 160,
                    "$schema": "https://vega.github.io/schema/vega-lite/v4.17.0.json",
                    "datasets": {
                      "data-fccf6efb6bc07ab6d57c318977f584c3": [
                        {
                          "mpg": 18,
                          "horsepower": 130,
                          "origin": "usa"
                        },
                        {
                          "mpg": 15,
                          "horsepower": 165,
                          "origin": "usa"
                        },
                        {
                          "mpg": 18,
                          "horsepower": 150,
                          "origin": "usa"
                        },
                        {
                          "mpg": 16,
                          "horsepower": 150,
                          "origin": "usa"
                        },
                        {
                          "mpg": 17,
                          "horsepower": 140,
                          "origin": "usa"
                        },
                        {
                          "mpg": 15,
                          "horsepower": 198,
                          "origin": "usa"
                        },
                        {
                          "mpg": 14,
                          "horsepower": 220,
                          "origin": "usa"
                        },
                        {
                          "mpg": 14,
                          "horsepower": 215,
                          "origin": "usa"
                        },
                        {
                          "mpg": 14,
                          "horsepower": 225,
                          "origin": "usa"
                        },
                        {
                          "mpg": 15,
                          "horsepower": 190,
                          "origin": "usa"
                        },
                        {
                          "mpg": 15,
                          "horsepower": 170,
                          "origin": "usa"
                        },
                        {
                          "mpg": 14,
                          "horsepower": 160,
                          "origin": "usa"
                        },
                        {
                          "mpg": 15,
                          "horsepower": 150,
                          "origin": "usa"
                        },
                        {
                          "mpg": 14,
                          "horsepower": 225,
                          "origin": "usa"
                        },
                        {
                          "mpg": 24,
                          "horsepower": 95,
                          "origin": "japan"
                        },
                        {
                          "mpg": 22,
                          "horsepower": 95,
                          "origin": "usa"
                        },
                        {
                          "mpg": 18,
                          "horsepower": 97,
                          "origin": "usa"
                        },
                        {
                          "mpg": 21,
                          "horsepower": 85,
                          "origin": "usa"
                        },
                        {
                          "mpg": 27,
                          "horsepower": 88,
                          "origin": "japan"
                        },
                        {
                          "mpg": 26,
                          "horsepower": 46,
                          "origin": "europe"
                        },
                        {
                          "mpg": 25,
                          "horsepower": 87,
                          "origin": "europe"
                        },
                        {
                          "mpg": 24,
                          "horsepower": 90,
                          "origin": "europe"
                        },
                        {
                          "mpg": 25,
                          "horsepower": 95,
                          "origin": "europe"
                        },
                        {
                          "mpg": 26,
                          "horsepower": 113,
                          "origin": "europe"
                        },
                        {
                          "mpg": 21,
                          "horsepower": 90,
                          "origin": "usa"
                        },
                        {
                          "mpg": 10,
                          "horsepower": 215,
                          "origin": "usa"
                        },
                        {
                          "mpg": 10,
                          "horsepower": 200,
                          "origin": "usa"
                        },
                        {
                          "mpg": 11,
                          "horsepower": 210,
                          "origin": "usa"
                        },
                        {
                          "mpg": 9,
                          "horsepower": 193,
                          "origin": "usa"
                        },
                        {
                          "mpg": 27,
                          "horsepower": 88,
                          "origin": "japan"
                        },
                        {
                          "mpg": 28,
                          "horsepower": 90,
                          "origin": "usa"
                        },
                        {
                          "mpg": 25,
                          "horsepower": 95,
                          "origin": "japan"
                        },
                        {
                          "mpg": 25,
                          "horsepower": null,
                          "origin": "usa"
                        },
                        {
                          "mpg": 19,
                          "horsepower": 100,
                          "origin": "usa"
                        },
                        {
                          "mpg": 16,
                          "horsepower": 105,
                          "origin": "usa"
                        },
                        {
                          "mpg": 17,
                          "horsepower": 100,
                          "origin": "usa"
                        },
                        {
                          "mpg": 19,
                          "horsepower": 88,
                          "origin": "usa"
                        },
                        {
                          "mpg": 18,
                          "horsepower": 100,
                          "origin": "usa"
                        },
                        {
                          "mpg": 14,
                          "horsepower": 165,
                          "origin": "usa"
                        },
                        {
                          "mpg": 14,
                          "horsepower": 175,
                          "origin": "usa"
                        },
                        {
                          "mpg": 14,
                          "horsepower": 153,
                          "origin": "usa"
                        },
                        {
                          "mpg": 14,
                          "horsepower": 150,
                          "origin": "usa"
                        },
                        {
                          "mpg": 12,
                          "horsepower": 180,
                          "origin": "usa"
                        },
                        {
                          "mpg": 13,
                          "horsepower": 170,
                          "origin": "usa"
                        },
                        {
                          "mpg": 13,
                          "horsepower": 175,
                          "origin": "usa"
                        },
                        {
                          "mpg": 18,
                          "horsepower": 110,
                          "origin": "usa"
                        },
                        {
                          "mpg": 22,
                          "horsepower": 72,
                          "origin": "usa"
                        },
                        {
                          "mpg": 19,
                          "horsepower": 100,
                          "origin": "usa"
                        },
                        {
                          "mpg": 18,
                          "horsepower": 88,
                          "origin": "usa"
                        },
                        {
                          "mpg": 23,
                          "horsepower": 86,
                          "origin": "usa"
                        },
                        {
                          "mpg": 28,
                          "horsepower": 90,
                          "origin": "europe"
                        },
                        {
                          "mpg": 30,
                          "horsepower": 70,
                          "origin": "europe"
                        },
                        {
                          "mpg": 30,
                          "horsepower": 76,
                          "origin": "europe"
                        },
                        {
                          "mpg": 31,
                          "horsepower": 65,
                          "origin": "japan"
                        },
                        {
                          "mpg": 35,
                          "horsepower": 69,
                          "origin": "japan"
                        },
                        {
                          "mpg": 27,
                          "horsepower": 60,
                          "origin": "europe"
                        },
                        {
                          "mpg": 26,
                          "horsepower": 70,
                          "origin": "usa"
                        },
                        {
                          "mpg": 24,
                          "horsepower": 95,
                          "origin": "japan"
                        },
                        {
                          "mpg": 25,
                          "horsepower": 80,
                          "origin": "usa"
                        },
                        {
                          "mpg": 23,
                          "horsepower": 54,
                          "origin": "europe"
                        },
                        {
                          "mpg": 20,
                          "horsepower": 90,
                          "origin": "usa"
                        },
                        {
                          "mpg": 21,
                          "horsepower": 86,
                          "origin": "usa"
                        },
                        {
                          "mpg": 13,
                          "horsepower": 165,
                          "origin": "usa"
                        },
                        {
                          "mpg": 14,
                          "horsepower": 175,
                          "origin": "usa"
                        },
                        {
                          "mpg": 15,
                          "horsepower": 150,
                          "origin": "usa"
                        },
                        {
                          "mpg": 14,
                          "horsepower": 153,
                          "origin": "usa"
                        },
                        {
                          "mpg": 17,
                          "horsepower": 150,
                          "origin": "usa"
                        },
                        {
                          "mpg": 11,
                          "horsepower": 208,
                          "origin": "usa"
                        },
                        {
                          "mpg": 13,
                          "horsepower": 155,
                          "origin": "usa"
                        },
                        {
                          "mpg": 12,
                          "horsepower": 160,
                          "origin": "usa"
                        },
                        {
                          "mpg": 13,
                          "horsepower": 190,
                          "origin": "usa"
                        },
                        {
                          "mpg": 19,
                          "horsepower": 97,
                          "origin": "japan"
                        },
                        {
                          "mpg": 15,
                          "horsepower": 150,
                          "origin": "usa"
                        },
                        {
                          "mpg": 13,
                          "horsepower": 130,
                          "origin": "usa"
                        },
                        {
                          "mpg": 13,
                          "horsepower": 140,
                          "origin": "usa"
                        },
                        {
                          "mpg": 14,
                          "horsepower": 150,
                          "origin": "usa"
                        },
                        {
                          "mpg": 18,
                          "horsepower": 112,
                          "origin": "europe"
                        },
                        {
                          "mpg": 22,
                          "horsepower": 76,
                          "origin": "europe"
                        },
                        {
                          "mpg": 21,
                          "horsepower": 87,
                          "origin": "europe"
                        },
                        {
                          "mpg": 26,
                          "horsepower": 69,
                          "origin": "europe"
                        },
                        {
                          "mpg": 22,
                          "horsepower": 86,
                          "origin": "usa"
                        },
                        {
                          "mpg": 28,
                          "horsepower": 92,
                          "origin": "japan"
                        },
                        {
                          "mpg": 23,
                          "horsepower": 97,
                          "origin": "japan"
                        },
                        {
                          "mpg": 28,
                          "horsepower": 80,
                          "origin": "usa"
                        },
                        {
                          "mpg": 27,
                          "horsepower": 88,
                          "origin": "japan"
                        },
                        {
                          "mpg": 13,
                          "horsepower": 175,
                          "origin": "usa"
                        },
                        {
                          "mpg": 14,
                          "horsepower": 150,
                          "origin": "usa"
                        },
                        {
                          "mpg": 13,
                          "horsepower": 145,
                          "origin": "usa"
                        },
                        {
                          "mpg": 14,
                          "horsepower": 137,
                          "origin": "usa"
                        },
                        {
                          "mpg": 15,
                          "horsepower": 150,
                          "origin": "usa"
                        },
                        {
                          "mpg": 12,
                          "horsepower": 198,
                          "origin": "usa"
                        },
                        {
                          "mpg": 13,
                          "horsepower": 150,
                          "origin": "usa"
                        },
                        {
                          "mpg": 13,
                          "horsepower": 158,
                          "origin": "usa"
                        },
                        {
                          "mpg": 14,
                          "horsepower": 150,
                          "origin": "usa"
                        },
                        {
                          "mpg": 13,
                          "horsepower": 215,
                          "origin": "usa"
                        },
                        {
                          "mpg": 12,
                          "horsepower": 225,
                          "origin": "usa"
                        },
                        {
                          "mpg": 13,
                          "horsepower": 175,
                          "origin": "usa"
                        },
                        {
                          "mpg": 18,
                          "horsepower": 105,
                          "origin": "usa"
                        },
                        {
                          "mpg": 16,
                          "horsepower": 100,
                          "origin": "usa"
                        },
                        {
                          "mpg": 18,
                          "horsepower": 100,
                          "origin": "usa"
                        },
                        {
                          "mpg": 18,
                          "horsepower": 88,
                          "origin": "usa"
                        },
                        {
                          "mpg": 23,
                          "horsepower": 95,
                          "origin": "usa"
                        },
                        {
                          "mpg": 26,
                          "horsepower": 46,
                          "origin": "europe"
                        },
                        {
                          "mpg": 11,
                          "horsepower": 150,
                          "origin": "usa"
                        },
                        {
                          "mpg": 12,
                          "horsepower": 167,
                          "origin": "usa"
                        },
                        {
                          "mpg": 13,
                          "horsepower": 170,
                          "origin": "usa"
                        },
                        {
                          "mpg": 12,
                          "horsepower": 180,
                          "origin": "usa"
                        },
                        {
                          "mpg": 18,
                          "horsepower": 100,
                          "origin": "usa"
                        },
                        {
                          "mpg": 20,
                          "horsepower": 88,
                          "origin": "japan"
                        },
                        {
                          "mpg": 21,
                          "horsepower": 72,
                          "origin": "usa"
                        },
                        {
                          "mpg": 22,
                          "horsepower": 94,
                          "origin": "japan"
                        },
                        {
                          "mpg": 18,
                          "horsepower": 90,
                          "origin": "japan"
                        },
                        {
                          "mpg": 19,
                          "horsepower": 85,
                          "origin": "usa"
                        },
                        {
                          "mpg": 21,
                          "horsepower": 107,
                          "origin": "usa"
                        },
                        {
                          "mpg": 26,
                          "horsepower": 90,
                          "origin": "europe"
                        },
                        {
                          "mpg": 15,
                          "horsepower": 145,
                          "origin": "usa"
                        },
                        {
                          "mpg": 16,
                          "horsepower": 230,
                          "origin": "usa"
                        },
                        {
                          "mpg": 29,
                          "horsepower": 49,
                          "origin": "europe"
                        },
                        {
                          "mpg": 24,
                          "horsepower": 75,
                          "origin": "europe"
                        },
                        {
                          "mpg": 20,
                          "horsepower": 91,
                          "origin": "europe"
                        },
                        {
                          "mpg": 19,
                          "horsepower": 112,
                          "origin": "europe"
                        },
                        {
                          "mpg": 15,
                          "horsepower": 150,
                          "origin": "usa"
                        },
                        {
                          "mpg": 24,
                          "horsepower": 110,
                          "origin": "europe"
                        },
                        {
                          "mpg": 20,
                          "horsepower": 122,
                          "origin": "japan"
                        },
                        {
                          "mpg": 11,
                          "horsepower": 180,
                          "origin": "usa"
                        },
                        {
                          "mpg": 20,
                          "horsepower": 95,
                          "origin": "usa"
                        },
                        {
                          "mpg": 21,
                          "horsepower": null,
                          "origin": "usa"
                        },
                        {
                          "mpg": 19,
                          "horsepower": 100,
                          "origin": "usa"
                        },
                        {
                          "mpg": 15,
                          "horsepower": 100,
                          "origin": "usa"
                        },
                        {
                          "mpg": 31,
                          "horsepower": 67,
                          "origin": "japan"
                        },
                        {
                          "mpg": 26,
                          "horsepower": 80,
                          "origin": "usa"
                        },
                        {
                          "mpg": 32,
                          "horsepower": 65,
                          "origin": "japan"
                        },
                        {
                          "mpg": 25,
                          "horsepower": 75,
                          "origin": "usa"
                        },
                        {
                          "mpg": 16,
                          "horsepower": 100,
                          "origin": "usa"
                        },
                        {
                          "mpg": 16,
                          "horsepower": 110,
                          "origin": "usa"
                        },
                        {
                          "mpg": 18,
                          "horsepower": 105,
                          "origin": "usa"
                        },
                        {
                          "mpg": 16,
                          "horsepower": 140,
                          "origin": "usa"
                        },
                        {
                          "mpg": 13,
                          "horsepower": 150,
                          "origin": "usa"
                        },
                        {
                          "mpg": 14,
                          "horsepower": 150,
                          "origin": "usa"
                        },
                        {
                          "mpg": 14,
                          "horsepower": 140,
                          "origin": "usa"
                        },
                        {
                          "mpg": 14,
                          "horsepower": 150,
                          "origin": "usa"
                        },
                        {
                          "mpg": 29,
                          "horsepower": 83,
                          "origin": "europe"
                        },
                        {
                          "mpg": 26,
                          "horsepower": 67,
                          "origin": "europe"
                        },
                        {
                          "mpg": 26,
                          "horsepower": 78,
                          "origin": "europe"
                        },
                        {
                          "mpg": 31,
                          "horsepower": 52,
                          "origin": "japan"
                        },
                        {
                          "mpg": 32,
                          "horsepower": 61,
                          "origin": "japan"
                        },
                        {
                          "mpg": 28,
                          "horsepower": 75,
                          "origin": "usa"
                        },
                        {
                          "mpg": 24,
                          "horsepower": 75,
                          "origin": "europe"
                        },
                        {
                          "mpg": 26,
                          "horsepower": 75,
                          "origin": "europe"
                        },
                        {
                          "mpg": 24,
                          "horsepower": 97,
                          "origin": "japan"
                        },
                        {
                          "mpg": 26,
                          "horsepower": 93,
                          "origin": "japan"
                        },
                        {
                          "mpg": 31,
                          "horsepower": 67,
                          "origin": "europe"
                        },
                        {
                          "mpg": 19,
                          "horsepower": 95,
                          "origin": "usa"
                        },
                        {
                          "mpg": 18,
                          "horsepower": 105,
                          "origin": "usa"
                        },
                        {
                          "mpg": 15,
                          "horsepower": 72,
                          "origin": "usa"
                        },
                        {
                          "mpg": 15,
                          "horsepower": 72,
                          "origin": "usa"
                        },
                        {
                          "mpg": 16,
                          "horsepower": 170,
                          "origin": "usa"
                        },
                        {
                          "mpg": 15,
                          "horsepower": 145,
                          "origin": "usa"
                        },
                        {
                          "mpg": 16,
                          "horsepower": 150,
                          "origin": "usa"
                        },
                        {
                          "mpg": 14,
                          "horsepower": 148,
                          "origin": "usa"
                        },
                        {
                          "mpg": 17,
                          "horsepower": 110,
                          "origin": "usa"
                        },
                        {
                          "mpg": 16,
                          "horsepower": 105,
                          "origin": "usa"
                        },
                        {
                          "mpg": 15,
                          "horsepower": 110,
                          "origin": "usa"
                        },
                        {
                          "mpg": 18,
                          "horsepower": 95,
                          "origin": "usa"
                        },
                        {
                          "mpg": 21,
                          "horsepower": 110,
                          "origin": "usa"
                        },
                        {
                          "mpg": 20,
                          "horsepower": 110,
                          "origin": "usa"
                        },
                        {
                          "mpg": 13,
                          "horsepower": 129,
                          "origin": "usa"
                        },
                        {
                          "mpg": 29,
                          "horsepower": 75,
                          "origin": "japan"
                        },
                        {
                          "mpg": 23,
                          "horsepower": 83,
                          "origin": "usa"
                        },
                        {
                          "mpg": 20,
                          "horsepower": 100,
                          "origin": "usa"
                        },
                        {
                          "mpg": 23,
                          "horsepower": 78,
                          "origin": "usa"
                        },
                        {
                          "mpg": 24,
                          "horsepower": 96,
                          "origin": "japan"
                        },
                        {
                          "mpg": 25,
                          "horsepower": 71,
                          "origin": "europe"
                        },
                        {
                          "mpg": 24,
                          "horsepower": 97,
                          "origin": "japan"
                        },
                        {
                          "mpg": 18,
                          "horsepower": 97,
                          "origin": "usa"
                        },
                        {
                          "mpg": 29,
                          "horsepower": 70,
                          "origin": "europe"
                        },
                        {
                          "mpg": 19,
                          "horsepower": 90,
                          "origin": "usa"
                        },
                        {
                          "mpg": 23,
                          "horsepower": 95,
                          "origin": "europe"
                        },
                        {
                          "mpg": 23,
                          "horsepower": 88,
                          "origin": "europe"
                        },
                        {
                          "mpg": 22,
                          "horsepower": 98,
                          "origin": "europe"
                        },
                        {
                          "mpg": 25,
                          "horsepower": 115,
                          "origin": "europe"
                        },
                        {
                          "mpg": 33,
                          "horsepower": 53,
                          "origin": "japan"
                        },
                        {
                          "mpg": 28,
                          "horsepower": 86,
                          "origin": "europe"
                        },
                        {
                          "mpg": 25,
                          "horsepower": 81,
                          "origin": "europe"
                        },
                        {
                          "mpg": 25,
                          "horsepower": 92,
                          "origin": "usa"
                        },
                        {
                          "mpg": 26,
                          "horsepower": 79,
                          "origin": "usa"
                        },
                        {
                          "mpg": 27,
                          "horsepower": 83,
                          "origin": "europe"
                        },
                        {
                          "mpg": 17.5,
                          "horsepower": 140,
                          "origin": "usa"
                        },
                        {
                          "mpg": 16,
                          "horsepower": 150,
                          "origin": "usa"
                        },
                        {
                          "mpg": 15.5,
                          "horsepower": 120,
                          "origin": "usa"
                        },
                        {
                          "mpg": 14.5,
                          "horsepower": 152,
                          "origin": "usa"
                        },
                        {
                          "mpg": 22,
                          "horsepower": 100,
                          "origin": "usa"
                        },
                        {
                          "mpg": 22,
                          "horsepower": 105,
                          "origin": "usa"
                        },
                        {
                          "mpg": 24,
                          "horsepower": 81,
                          "origin": "usa"
                        },
                        {
                          "mpg": 22.5,
                          "horsepower": 90,
                          "origin": "usa"
                        },
                        {
                          "mpg": 29,
                          "horsepower": 52,
                          "origin": "usa"
                        },
                        {
                          "mpg": 24.5,
                          "horsepower": 60,
                          "origin": "usa"
                        },
                        {
                          "mpg": 29,
                          "horsepower": 70,
                          "origin": "europe"
                        },
                        {
                          "mpg": 33,
                          "horsepower": 53,
                          "origin": "japan"
                        },
                        {
                          "mpg": 20,
                          "horsepower": 100,
                          "origin": "usa"
                        },
                        {
                          "mpg": 18,
                          "horsepower": 78,
                          "origin": "usa"
                        },
                        {
                          "mpg": 18.5,
                          "horsepower": 110,
                          "origin": "usa"
                        },
                        {
                          "mpg": 17.5,
                          "horsepower": 95,
                          "origin": "usa"
                        },
                        {
                          "mpg": 29.5,
                          "horsepower": 71,
                          "origin": "europe"
                        },
                        {
                          "mpg": 32,
                          "horsepower": 70,
                          "origin": "japan"
                        },
                        {
                          "mpg": 28,
                          "horsepower": 75,
                          "origin": "japan"
                        },
                        {
                          "mpg": 26.5,
                          "horsepower": 72,
                          "origin": "usa"
                        },
                        {
                          "mpg": 20,
                          "horsepower": 102,
                          "origin": "europe"
                        },
                        {
                          "mpg": 13,
                          "horsepower": 150,
                          "origin": "usa"
                        },
                        {
                          "mpg": 19,
                          "horsepower": 88,
                          "origin": "europe"
                        },
                        {
                          "mpg": 19,
                          "horsepower": 108,
                          "origin": "japan"
                        },
                        {
                          "mpg": 16.5,
                          "horsepower": 120,
                          "origin": "europe"
                        },
                        {
                          "mpg": 16.5,
                          "horsepower": 180,
                          "origin": "usa"
                        },
                        {
                          "mpg": 13,
                          "horsepower": 145,
                          "origin": "usa"
                        },
                        {
                          "mpg": 13,
                          "horsepower": 130,
                          "origin": "usa"
                        },
                        {
                          "mpg": 13,
                          "horsepower": 150,
                          "origin": "usa"
                        },
                        {
                          "mpg": 31.5,
                          "horsepower": 68,
                          "origin": "japan"
                        },
                        {
                          "mpg": 30,
                          "horsepower": 80,
                          "origin": "usa"
                        },
                        {
                          "mpg": 36,
                          "horsepower": 58,
                          "origin": "europe"
                        },
                        {
                          "mpg": 25.5,
                          "horsepower": 96,
                          "origin": "usa"
                        },
                        {
                          "mpg": 33.5,
                          "horsepower": 70,
                          "origin": "japan"
                        },
                        {
                          "mpg": 17.5,
                          "horsepower": 145,
                          "origin": "usa"
                        },
                        {
                          "mpg": 17,
                          "horsepower": 110,
                          "origin": "usa"
                        },
                        {
                          "mpg": 15.5,
                          "horsepower": 145,
                          "origin": "usa"
                        },
                        {
                          "mpg": 15,
                          "horsepower": 130,
                          "origin": "usa"
                        },
                        {
                          "mpg": 17.5,
                          "horsepower": 110,
                          "origin": "usa"
                        },
                        {
                          "mpg": 20.5,
                          "horsepower": 105,
                          "origin": "usa"
                        },
                        {
                          "mpg": 19,
                          "horsepower": 100,
                          "origin": "usa"
                        },
                        {
                          "mpg": 18.5,
                          "horsepower": 98,
                          "origin": "usa"
                        },
                        {
                          "mpg": 16,
                          "horsepower": 180,
                          "origin": "usa"
                        },
                        {
                          "mpg": 15.5,
                          "horsepower": 170,
                          "origin": "usa"
                        },
                        {
                          "mpg": 15.5,
                          "horsepower": 190,
                          "origin": "usa"
                        },
                        {
                          "mpg": 16,
                          "horsepower": 149,
                          "origin": "usa"
                        },
                        {
                          "mpg": 29,
                          "horsepower": 78,
                          "origin": "europe"
                        },
                        {
                          "mpg": 24.5,
                          "horsepower": 88,
                          "origin": "usa"
                        },
                        {
                          "mpg": 26,
                          "horsepower": 75,
                          "origin": "japan"
                        },
                        {
                          "mpg": 25.5,
                          "horsepower": 89,
                          "origin": "usa"
                        },
                        {
                          "mpg": 30.5,
                          "horsepower": 63,
                          "origin": "usa"
                        },
                        {
                          "mpg": 33.5,
                          "horsepower": 83,
                          "origin": "usa"
                        },
                        {
                          "mpg": 30,
                          "horsepower": 67,
                          "origin": "japan"
                        },
                        {
                          "mpg": 30.5,
                          "horsepower": 78,
                          "origin": "europe"
                        },
                        {
                          "mpg": 22,
                          "horsepower": 97,
                          "origin": "japan"
                        },
                        {
                          "mpg": 21.5,
                          "horsepower": 110,
                          "origin": "europe"
                        },
                        {
                          "mpg": 21.5,
                          "horsepower": 110,
                          "origin": "japan"
                        },
                        {
                          "mpg": 43.1,
                          "horsepower": 48,
                          "origin": "europe"
                        },
                        {
                          "mpg": 36.1,
                          "horsepower": 66,
                          "origin": "usa"
                        },
                        {
                          "mpg": 32.8,
                          "horsepower": 52,
                          "origin": "japan"
                        },
                        {
                          "mpg": 39.4,
                          "horsepower": 70,
                          "origin": "japan"
                        },
                        {
                          "mpg": 36.1,
                          "horsepower": 60,
                          "origin": "japan"
                        },
                        {
                          "mpg": 19.9,
                          "horsepower": 110,
                          "origin": "usa"
                        },
                        {
                          "mpg": 19.4,
                          "horsepower": 140,
                          "origin": "usa"
                        },
                        {
                          "mpg": 20.2,
                          "horsepower": 139,
                          "origin": "usa"
                        },
                        {
                          "mpg": 19.2,
                          "horsepower": 105,
                          "origin": "usa"
                        },
                        {
                          "mpg": 20.5,
                          "horsepower": 95,
                          "origin": "usa"
                        },
                        {
                          "mpg": 20.2,
                          "horsepower": 85,
                          "origin": "usa"
                        },
                        {
                          "mpg": 25.1,
                          "horsepower": 88,
                          "origin": "usa"
                        },
                        {
                          "mpg": 20.5,
                          "horsepower": 100,
                          "origin": "usa"
                        },
                        {
                          "mpg": 19.4,
                          "horsepower": 90,
                          "origin": "usa"
                        },
                        {
                          "mpg": 20.6,
                          "horsepower": 105,
                          "origin": "usa"
                        },
                        {
                          "mpg": 20.8,
                          "horsepower": 85,
                          "origin": "usa"
                        },
                        {
                          "mpg": 18.6,
                          "horsepower": 110,
                          "origin": "usa"
                        },
                        {
                          "mpg": 18.1,
                          "horsepower": 120,
                          "origin": "usa"
                        },
                        {
                          "mpg": 19.2,
                          "horsepower": 145,
                          "origin": "usa"
                        },
                        {
                          "mpg": 17.7,
                          "horsepower": 165,
                          "origin": "usa"
                        },
                        {
                          "mpg": 18.1,
                          "horsepower": 139,
                          "origin": "usa"
                        },
                        {
                          "mpg": 17.5,
                          "horsepower": 140,
                          "origin": "usa"
                        },
                        {
                          "mpg": 30,
                          "horsepower": 68,
                          "origin": "usa"
                        },
                        {
                          "mpg": 27.5,
                          "horsepower": 95,
                          "origin": "japan"
                        },
                        {
                          "mpg": 27.2,
                          "horsepower": 97,
                          "origin": "japan"
                        },
                        {
                          "mpg": 30.9,
                          "horsepower": 75,
                          "origin": "usa"
                        },
                        {
                          "mpg": 21.1,
                          "horsepower": 95,
                          "origin": "japan"
                        },
                        {
                          "mpg": 23.2,
                          "horsepower": 105,
                          "origin": "usa"
                        },
                        {
                          "mpg": 23.8,
                          "horsepower": 85,
                          "origin": "usa"
                        },
                        {
                          "mpg": 23.9,
                          "horsepower": 97,
                          "origin": "japan"
                        },
                        {
                          "mpg": 20.3,
                          "horsepower": 103,
                          "origin": "europe"
                        },
                        {
                          "mpg": 17,
                          "horsepower": 125,
                          "origin": "europe"
                        },
                        {
                          "mpg": 21.6,
                          "horsepower": 115,
                          "origin": "europe"
                        },
                        {
                          "mpg": 16.2,
                          "horsepower": 133,
                          "origin": "europe"
                        },
                        {
                          "mpg": 31.5,
                          "horsepower": 71,
                          "origin": "europe"
                        },
                        {
                          "mpg": 29.5,
                          "horsepower": 68,
                          "origin": "japan"
                        },
                        {
                          "mpg": 21.5,
                          "horsepower": 115,
                          "origin": "usa"
                        },
                        {
                          "mpg": 19.8,
                          "horsepower": 85,
                          "origin": "usa"
                        },
                        {
                          "mpg": 22.3,
                          "horsepower": 88,
                          "origin": "usa"
                        },
                        {
                          "mpg": 20.2,
                          "horsepower": 90,
                          "origin": "usa"
                        },
                        {
                          "mpg": 20.6,
                          "horsepower": 110,
                          "origin": "usa"
                        },
                        {
                          "mpg": 17,
                          "horsepower": 130,
                          "origin": "usa"
                        },
                        {
                          "mpg": 17.6,
                          "horsepower": 129,
                          "origin": "usa"
                        },
                        {
                          "mpg": 16.5,
                          "horsepower": 138,
                          "origin": "usa"
                        },
                        {
                          "mpg": 18.2,
                          "horsepower": 135,
                          "origin": "usa"
                        },
                        {
                          "mpg": 16.9,
                          "horsepower": 155,
                          "origin": "usa"
                        },
                        {
                          "mpg": 15.5,
                          "horsepower": 142,
                          "origin": "usa"
                        },
                        {
                          "mpg": 19.2,
                          "horsepower": 125,
                          "origin": "usa"
                        },
                        {
                          "mpg": 18.5,
                          "horsepower": 150,
                          "origin": "usa"
                        },
                        {
                          "mpg": 31.9,
                          "horsepower": 71,
                          "origin": "europe"
                        },
                        {
                          "mpg": 34.1,
                          "horsepower": 65,
                          "origin": "japan"
                        },
                        {
                          "mpg": 35.7,
                          "horsepower": 80,
                          "origin": "usa"
                        },
                        {
                          "mpg": 27.4,
                          "horsepower": 80,
                          "origin": "usa"
                        },
                        {
                          "mpg": 25.4,
                          "horsepower": 77,
                          "origin": "europe"
                        },
                        {
                          "mpg": 23,
                          "horsepower": 125,
                          "origin": "usa"
                        },
                        {
                          "mpg": 27.2,
                          "horsepower": 71,
                          "origin": "europe"
                        },
                        {
                          "mpg": 23.9,
                          "horsepower": 90,
                          "origin": "usa"
                        },
                        {
                          "mpg": 34.2,
                          "horsepower": 70,
                          "origin": "usa"
                        },
                        {
                          "mpg": 34.5,
                          "horsepower": 70,
                          "origin": "usa"
                        },
                        {
                          "mpg": 31.8,
                          "horsepower": 65,
                          "origin": "japan"
                        },
                        {
                          "mpg": 37.3,
                          "horsepower": 69,
                          "origin": "europe"
                        },
                        {
                          "mpg": 28.4,
                          "horsepower": 90,
                          "origin": "usa"
                        },
                        {
                          "mpg": 28.8,
                          "horsepower": 115,
                          "origin": "usa"
                        },
                        {
                          "mpg": 26.8,
                          "horsepower": 115,
                          "origin": "usa"
                        },
                        {
                          "mpg": 33.5,
                          "horsepower": 90,
                          "origin": "usa"
                        },
                        {
                          "mpg": 41.5,
                          "horsepower": 76,
                          "origin": "europe"
                        },
                        {
                          "mpg": 38.1,
                          "horsepower": 60,
                          "origin": "japan"
                        },
                        {
                          "mpg": 32.1,
                          "horsepower": 70,
                          "origin": "usa"
                        },
                        {
                          "mpg": 37.2,
                          "horsepower": 65,
                          "origin": "japan"
                        },
                        {
                          "mpg": 28,
                          "horsepower": 90,
                          "origin": "usa"
                        },
                        {
                          "mpg": 26.4,
                          "horsepower": 88,
                          "origin": "usa"
                        },
                        {
                          "mpg": 24.3,
                          "horsepower": 90,
                          "origin": "usa"
                        },
                        {
                          "mpg": 19.1,
                          "horsepower": 90,
                          "origin": "usa"
                        },
                        {
                          "mpg": 34.3,
                          "horsepower": 78,
                          "origin": "europe"
                        },
                        {
                          "mpg": 29.8,
                          "horsepower": 90,
                          "origin": "japan"
                        },
                        {
                          "mpg": 31.3,
                          "horsepower": 75,
                          "origin": "japan"
                        },
                        {
                          "mpg": 37,
                          "horsepower": 92,
                          "origin": "japan"
                        },
                        {
                          "mpg": 32.2,
                          "horsepower": 75,
                          "origin": "japan"
                        },
                        {
                          "mpg": 46.6,
                          "horsepower": 65,
                          "origin": "japan"
                        },
                        {
                          "mpg": 27.9,
                          "horsepower": 105,
                          "origin": "usa"
                        },
                        {
                          "mpg": 40.8,
                          "horsepower": 65,
                          "origin": "japan"
                        },
                        {
                          "mpg": 44.3,
                          "horsepower": 48,
                          "origin": "europe"
                        },
                        {
                          "mpg": 43.4,
                          "horsepower": 48,
                          "origin": "europe"
                        },
                        {
                          "mpg": 36.4,
                          "horsepower": 67,
                          "origin": "europe"
                        },
                        {
                          "mpg": 30,
                          "horsepower": 67,
                          "origin": "europe"
                        },
                        {
                          "mpg": 44.6,
                          "horsepower": 67,
                          "origin": "japan"
                        },
                        {
                          "mpg": 40.9,
                          "horsepower": null,
                          "origin": "europe"
                        },
                        {
                          "mpg": 33.8,
                          "horsepower": 67,
                          "origin": "japan"
                        },
                        {
                          "mpg": 29.8,
                          "horsepower": 62,
                          "origin": "europe"
                        },
                        {
                          "mpg": 32.7,
                          "horsepower": 132,
                          "origin": "japan"
                        },
                        {
                          "mpg": 23.7,
                          "horsepower": 100,
                          "origin": "japan"
                        },
                        {
                          "mpg": 35,
                          "horsepower": 88,
                          "origin": "europe"
                        },
                        {
                          "mpg": 23.6,
                          "horsepower": null,
                          "origin": "usa"
                        },
                        {
                          "mpg": 32.4,
                          "horsepower": 72,
                          "origin": "japan"
                        },
                        {
                          "mpg": 27.2,
                          "horsepower": 84,
                          "origin": "usa"
                        },
                        {
                          "mpg": 26.6,
                          "horsepower": 84,
                          "origin": "usa"
                        },
                        {
                          "mpg": 25.8,
                          "horsepower": 92,
                          "origin": "usa"
                        },
                        {
                          "mpg": 23.5,
                          "horsepower": 110,
                          "origin": "usa"
                        },
                        {
                          "mpg": 30,
                          "horsepower": 84,
                          "origin": "usa"
                        },
                        {
                          "mpg": 39.1,
                          "horsepower": 58,
                          "origin": "japan"
                        },
                        {
                          "mpg": 39,
                          "horsepower": 64,
                          "origin": "usa"
                        },
                        {
                          "mpg": 35.1,
                          "horsepower": 60,
                          "origin": "japan"
                        },
                        {
                          "mpg": 32.3,
                          "horsepower": 67,
                          "origin": "japan"
                        },
                        {
                          "mpg": 37,
                          "horsepower": 65,
                          "origin": "japan"
                        },
                        {
                          "mpg": 37.7,
                          "horsepower": 62,
                          "origin": "japan"
                        },
                        {
                          "mpg": 34.1,
                          "horsepower": 68,
                          "origin": "japan"
                        },
                        {
                          "mpg": 34.7,
                          "horsepower": 63,
                          "origin": "usa"
                        },
                        {
                          "mpg": 34.4,
                          "horsepower": 65,
                          "origin": "usa"
                        },
                        {
                          "mpg": 29.9,
                          "horsepower": 65,
                          "origin": "usa"
                        },
                        {
                          "mpg": 33,
                          "horsepower": 74,
                          "origin": "europe"
                        },
                        {
                          "mpg": 34.5,
                          "horsepower": null,
                          "origin": "europe"
                        },
                        {
                          "mpg": 33.7,
                          "horsepower": 75,
                          "origin": "japan"
                        },
                        {
                          "mpg": 32.4,
                          "horsepower": 75,
                          "origin": "japan"
                        },
                        {
                          "mpg": 32.9,
                          "horsepower": 100,
                          "origin": "japan"
                        },
                        {
                          "mpg": 31.6,
                          "horsepower": 74,
                          "origin": "japan"
                        },
                        {
                          "mpg": 28.1,
                          "horsepower": 80,
                          "origin": "europe"
                        },
                        {
                          "mpg": 30.7,
                          "horsepower": 76,
                          "origin": "europe"
                        },
                        {
                          "mpg": 25.4,
                          "horsepower": 116,
                          "origin": "japan"
                        },
                        {
                          "mpg": 24.2,
                          "horsepower": 120,
                          "origin": "japan"
                        },
                        {
                          "mpg": 22.4,
                          "horsepower": 110,
                          "origin": "usa"
                        },
                        {
                          "mpg": 26.6,
                          "horsepower": 105,
                          "origin": "usa"
                        },
                        {
                          "mpg": 20.2,
                          "horsepower": 88,
                          "origin": "usa"
                        },
                        {
                          "mpg": 17.6,
                          "horsepower": 85,
                          "origin": "usa"
                        },
                        {
                          "mpg": 28,
                          "horsepower": 88,
                          "origin": "usa"
                        },
                        {
                          "mpg": 27,
                          "horsepower": 88,
                          "origin": "usa"
                        },
                        {
                          "mpg": 34,
                          "horsepower": 88,
                          "origin": "usa"
                        },
                        {
                          "mpg": 31,
                          "horsepower": 85,
                          "origin": "usa"
                        },
                        {
                          "mpg": 29,
                          "horsepower": 84,
                          "origin": "usa"
                        },
                        {
                          "mpg": 27,
                          "horsepower": 90,
                          "origin": "usa"
                        },
                        {
                          "mpg": 24,
                          "horsepower": 92,
                          "origin": "usa"
                        },
                        {
                          "mpg": 23,
                          "horsepower": null,
                          "origin": "usa"
                        },
                        {
                          "mpg": 36,
                          "horsepower": 74,
                          "origin": "europe"
                        },
                        {
                          "mpg": 37,
                          "horsepower": 68,
                          "origin": "japan"
                        },
                        {
                          "mpg": 31,
                          "horsepower": 68,
                          "origin": "japan"
                        },
                        {
                          "mpg": 38,
                          "horsepower": 63,
                          "origin": "usa"
                        },
                        {
                          "mpg": 36,
                          "horsepower": 70,
                          "origin": "usa"
                        },
                        {
                          "mpg": 36,
                          "horsepower": 88,
                          "origin": "japan"
                        },
                        {
                          "mpg": 36,
                          "horsepower": 75,
                          "origin": "japan"
                        },
                        {
                          "mpg": 34,
                          "horsepower": 70,
                          "origin": "japan"
                        },
                        {
                          "mpg": 38,
                          "horsepower": 67,
                          "origin": "japan"
                        },
                        {
                          "mpg": 32,
                          "horsepower": 67,
                          "origin": "japan"
                        },
                        {
                          "mpg": 38,
                          "horsepower": 67,
                          "origin": "japan"
                        },
                        {
                          "mpg": 25,
                          "horsepower": 110,
                          "origin": "usa"
                        },
                        {
                          "mpg": 38,
                          "horsepower": 85,
                          "origin": "usa"
                        },
                        {
                          "mpg": 26,
                          "horsepower": 92,
                          "origin": "usa"
                        },
                        {
                          "mpg": 22,
                          "horsepower": 112,
                          "origin": "usa"
                        },
                        {
                          "mpg": 32,
                          "horsepower": 96,
                          "origin": "japan"
                        },
                        {
                          "mpg": 36,
                          "horsepower": 84,
                          "origin": "usa"
                        },
                        {
                          "mpg": 27,
                          "horsepower": 90,
                          "origin": "usa"
                        },
                        {
                          "mpg": 27,
                          "horsepower": 86,
                          "origin": "usa"
                        },
                        {
                          "mpg": 44,
                          "horsepower": 52,
                          "origin": "europe"
                        },
                        {
                          "mpg": 32,
                          "horsepower": 84,
                          "origin": "usa"
                        },
                        {
                          "mpg": 28,
                          "horsepower": 79,
                          "origin": "usa"
                        },
                        {
                          "mpg": 31,
                          "horsepower": 82,
                          "origin": "usa"
                        }
                      ]
                    },
                    "vislib": "vegalite"
                  },
                  {
                    "config": {
                      "view": {
                        "continuousWidth": 400,
                        "continuousHeight": 300
                      },
                      "axis": {
                        "labelColor": "#505050",
                        "labelFont": "Helvetica Neue",
                        "labelFontSize": 9,
                        "labelFontWeight": 400,
                        "titleFont": "Helvetica Neue",
                        "titleFontSize": 11,
                        "titleFontWeight": 500
                      },
                      "legend": {
                        "labelFont": "Helvetica Neue",
                        "labelFontSize": 9,
                        "labelFontWeight": 400,
                        "titleFont": "Helvetica Neue",
                        "titleFontSize": 10,
                        "titleFontWeight": 500
                      },
                      "mark": {
                        "tooltip": {
                          "content": "encoding"
                        }
                      },
                      "title": {
                        "font": "Helvetica Neue",
                        "fontSize": 13,
                        "fontWeight": 500
                      }
                    },
                    "data": {
                      "name": "data-f17dfc810e4e6031db40a245084c4823"
                    },
                    "mark": "circle",
                    "encoding": {
                      "color": {
                        "field": "cylinders",
                        "type": "nominal"
                      },
                      "x": {
                        "axis": {
                          "title": "horsepower"
                        },
                        "field": "horsepower",
                        "scale": {
                          "domain": [
                            46,
                            230
                          ]
                        },
                        "type": "quantitative"
                      },
                      "y": {
                        "axis": {
                          "title": "mpg"
                        },
                        "field": "mpg",
                        "scale": {
                          "domain": [
                            9,
                            46.6
                          ]
                        },
                        "type": "quantitative"
                      }
                    },
                    "height": 150,
                    "selection": {
                      "selector057": {
                        "type": "interval",
                        "bind": "scales",
                        "encodings": [
                          "x",
                          "y"
                        ]
                      }
                    },
                    "width": 160,
                    "$schema": "https://vega.github.io/schema/vega-lite/v4.17.0.json",
                    "datasets": {
                      "data-f17dfc810e4e6031db40a245084c4823": [
                        {
                          "mpg": 18,
                          "cylinders": 8,
                          "horsepower": 130
                        },
                        {
                          "mpg": 15,
                          "cylinders": 8,
                          "horsepower": 165
                        },
                        {
                          "mpg": 18,
                          "cylinders": 8,
                          "horsepower": 150
                        },
                        {
                          "mpg": 16,
                          "cylinders": 8,
                          "horsepower": 150
                        },
                        {
                          "mpg": 17,
                          "cylinders": 8,
                          "horsepower": 140
                        },
                        {
                          "mpg": 15,
                          "cylinders": 8,
                          "horsepower": 198
                        },
                        {
                          "mpg": 14,
                          "cylinders": 8,
                          "horsepower": 220
                        },
                        {
                          "mpg": 14,
                          "cylinders": 8,
                          "horsepower": 215
                        },
                        {
                          "mpg": 14,
                          "cylinders": 8,
                          "horsepower": 225
                        },
                        {
                          "mpg": 15,
                          "cylinders": 8,
                          "horsepower": 190
                        },
                        {
                          "mpg": 15,
                          "cylinders": 8,
                          "horsepower": 170
                        },
                        {
                          "mpg": 14,
                          "cylinders": 8,
                          "horsepower": 160
                        },
                        {
                          "mpg": 15,
                          "cylinders": 8,
                          "horsepower": 150
                        },
                        {
                          "mpg": 14,
                          "cylinders": 8,
                          "horsepower": 225
                        },
                        {
                          "mpg": 24,
                          "cylinders": 4,
                          "horsepower": 95
                        },
                        {
                          "mpg": 22,
                          "cylinders": 6,
                          "horsepower": 95
                        },
                        {
                          "mpg": 18,
                          "cylinders": 6,
                          "horsepower": 97
                        },
                        {
                          "mpg": 21,
                          "cylinders": 6,
                          "horsepower": 85
                        },
                        {
                          "mpg": 27,
                          "cylinders": 4,
                          "horsepower": 88
                        },
                        {
                          "mpg": 26,
                          "cylinders": 4,
                          "horsepower": 46
                        },
                        {
                          "mpg": 25,
                          "cylinders": 4,
                          "horsepower": 87
                        },
                        {
                          "mpg": 24,
                          "cylinders": 4,
                          "horsepower": 90
                        },
                        {
                          "mpg": 25,
                          "cylinders": 4,
                          "horsepower": 95
                        },
                        {
                          "mpg": 26,
                          "cylinders": 4,
                          "horsepower": 113
                        },
                        {
                          "mpg": 21,
                          "cylinders": 6,
                          "horsepower": 90
                        },
                        {
                          "mpg": 10,
                          "cylinders": 8,
                          "horsepower": 215
                        },
                        {
                          "mpg": 10,
                          "cylinders": 8,
                          "horsepower": 200
                        },
                        {
                          "mpg": 11,
                          "cylinders": 8,
                          "horsepower": 210
                        },
                        {
                          "mpg": 9,
                          "cylinders": 8,
                          "horsepower": 193
                        },
                        {
                          "mpg": 27,
                          "cylinders": 4,
                          "horsepower": 88
                        },
                        {
                          "mpg": 28,
                          "cylinders": 4,
                          "horsepower": 90
                        },
                        {
                          "mpg": 25,
                          "cylinders": 4,
                          "horsepower": 95
                        },
                        {
                          "mpg": 25,
                          "cylinders": 4,
                          "horsepower": null
                        },
                        {
                          "mpg": 19,
                          "cylinders": 6,
                          "horsepower": 100
                        },
                        {
                          "mpg": 16,
                          "cylinders": 6,
                          "horsepower": 105
                        },
                        {
                          "mpg": 17,
                          "cylinders": 6,
                          "horsepower": 100
                        },
                        {
                          "mpg": 19,
                          "cylinders": 6,
                          "horsepower": 88
                        },
                        {
                          "mpg": 18,
                          "cylinders": 6,
                          "horsepower": 100
                        },
                        {
                          "mpg": 14,
                          "cylinders": 8,
                          "horsepower": 165
                        },
                        {
                          "mpg": 14,
                          "cylinders": 8,
                          "horsepower": 175
                        },
                        {
                          "mpg": 14,
                          "cylinders": 8,
                          "horsepower": 153
                        },
                        {
                          "mpg": 14,
                          "cylinders": 8,
                          "horsepower": 150
                        },
                        {
                          "mpg": 12,
                          "cylinders": 8,
                          "horsepower": 180
                        },
                        {
                          "mpg": 13,
                          "cylinders": 8,
                          "horsepower": 170
                        },
                        {
                          "mpg": 13,
                          "cylinders": 8,
                          "horsepower": 175
                        },
                        {
                          "mpg": 18,
                          "cylinders": 6,
                          "horsepower": 110
                        },
                        {
                          "mpg": 22,
                          "cylinders": 4,
                          "horsepower": 72
                        },
                        {
                          "mpg": 19,
                          "cylinders": 6,
                          "horsepower": 100
                        },
                        {
                          "mpg": 18,
                          "cylinders": 6,
                          "horsepower": 88
                        },
                        {
                          "mpg": 23,
                          "cylinders": 4,
                          "horsepower": 86
                        },
                        {
                          "mpg": 28,
                          "cylinders": 4,
                          "horsepower": 90
                        },
                        {
                          "mpg": 30,
                          "cylinders": 4,
                          "horsepower": 70
                        },
                        {
                          "mpg": 30,
                          "cylinders": 4,
                          "horsepower": 76
                        },
                        {
                          "mpg": 31,
                          "cylinders": 4,
                          "horsepower": 65
                        },
                        {
                          "mpg": 35,
                          "cylinders": 4,
                          "horsepower": 69
                        },
                        {
                          "mpg": 27,
                          "cylinders": 4,
                          "horsepower": 60
                        },
                        {
                          "mpg": 26,
                          "cylinders": 4,
                          "horsepower": 70
                        },
                        {
                          "mpg": 24,
                          "cylinders": 4,
                          "horsepower": 95
                        },
                        {
                          "mpg": 25,
                          "cylinders": 4,
                          "horsepower": 80
                        },
                        {
                          "mpg": 23,
                          "cylinders": 4,
                          "horsepower": 54
                        },
                        {
                          "mpg": 20,
                          "cylinders": 4,
                          "horsepower": 90
                        },
                        {
                          "mpg": 21,
                          "cylinders": 4,
                          "horsepower": 86
                        },
                        {
                          "mpg": 13,
                          "cylinders": 8,
                          "horsepower": 165
                        },
                        {
                          "mpg": 14,
                          "cylinders": 8,
                          "horsepower": 175
                        },
                        {
                          "mpg": 15,
                          "cylinders": 8,
                          "horsepower": 150
                        },
                        {
                          "mpg": 14,
                          "cylinders": 8,
                          "horsepower": 153
                        },
                        {
                          "mpg": 17,
                          "cylinders": 8,
                          "horsepower": 150
                        },
                        {
                          "mpg": 11,
                          "cylinders": 8,
                          "horsepower": 208
                        },
                        {
                          "mpg": 13,
                          "cylinders": 8,
                          "horsepower": 155
                        },
                        {
                          "mpg": 12,
                          "cylinders": 8,
                          "horsepower": 160
                        },
                        {
                          "mpg": 13,
                          "cylinders": 8,
                          "horsepower": 190
                        },
                        {
                          "mpg": 19,
                          "cylinders": 3,
                          "horsepower": 97
                        },
                        {
                          "mpg": 15,
                          "cylinders": 8,
                          "horsepower": 150
                        },
                        {
                          "mpg": 13,
                          "cylinders": 8,
                          "horsepower": 130
                        },
                        {
                          "mpg": 13,
                          "cylinders": 8,
                          "horsepower": 140
                        },
                        {
                          "mpg": 14,
                          "cylinders": 8,
                          "horsepower": 150
                        },
                        {
                          "mpg": 18,
                          "cylinders": 4,
                          "horsepower": 112
                        },
                        {
                          "mpg": 22,
                          "cylinders": 4,
                          "horsepower": 76
                        },
                        {
                          "mpg": 21,
                          "cylinders": 4,
                          "horsepower": 87
                        },
                        {
                          "mpg": 26,
                          "cylinders": 4,
                          "horsepower": 69
                        },
                        {
                          "mpg": 22,
                          "cylinders": 4,
                          "horsepower": 86
                        },
                        {
                          "mpg": 28,
                          "cylinders": 4,
                          "horsepower": 92
                        },
                        {
                          "mpg": 23,
                          "cylinders": 4,
                          "horsepower": 97
                        },
                        {
                          "mpg": 28,
                          "cylinders": 4,
                          "horsepower": 80
                        },
                        {
                          "mpg": 27,
                          "cylinders": 4,
                          "horsepower": 88
                        },
                        {
                          "mpg": 13,
                          "cylinders": 8,
                          "horsepower": 175
                        },
                        {
                          "mpg": 14,
                          "cylinders": 8,
                          "horsepower": 150
                        },
                        {
                          "mpg": 13,
                          "cylinders": 8,
                          "horsepower": 145
                        },
                        {
                          "mpg": 14,
                          "cylinders": 8,
                          "horsepower": 137
                        },
                        {
                          "mpg": 15,
                          "cylinders": 8,
                          "horsepower": 150
                        },
                        {
                          "mpg": 12,
                          "cylinders": 8,
                          "horsepower": 198
                        },
                        {
                          "mpg": 13,
                          "cylinders": 8,
                          "horsepower": 150
                        },
                        {
                          "mpg": 13,
                          "cylinders": 8,
                          "horsepower": 158
                        },
                        {
                          "mpg": 14,
                          "cylinders": 8,
                          "horsepower": 150
                        },
                        {
                          "mpg": 13,
                          "cylinders": 8,
                          "horsepower": 215
                        },
                        {
                          "mpg": 12,
                          "cylinders": 8,
                          "horsepower": 225
                        },
                        {
                          "mpg": 13,
                          "cylinders": 8,
                          "horsepower": 175
                        },
                        {
                          "mpg": 18,
                          "cylinders": 6,
                          "horsepower": 105
                        },
                        {
                          "mpg": 16,
                          "cylinders": 6,
                          "horsepower": 100
                        },
                        {
                          "mpg": 18,
                          "cylinders": 6,
                          "horsepower": 100
                        },
                        {
                          "mpg": 18,
                          "cylinders": 6,
                          "horsepower": 88
                        },
                        {
                          "mpg": 23,
                          "cylinders": 6,
                          "horsepower": 95
                        },
                        {
                          "mpg": 26,
                          "cylinders": 4,
                          "horsepower": 46
                        },
                        {
                          "mpg": 11,
                          "cylinders": 8,
                          "horsepower": 150
                        },
                        {
                          "mpg": 12,
                          "cylinders": 8,
                          "horsepower": 167
                        },
                        {
                          "mpg": 13,
                          "cylinders": 8,
                          "horsepower": 170
                        },
                        {
                          "mpg": 12,
                          "cylinders": 8,
                          "horsepower": 180
                        },
                        {
                          "mpg": 18,
                          "cylinders": 6,
                          "horsepower": 100
                        },
                        {
                          "mpg": 20,
                          "cylinders": 4,
                          "horsepower": 88
                        },
                        {
                          "mpg": 21,
                          "cylinders": 4,
                          "horsepower": 72
                        },
                        {
                          "mpg": 22,
                          "cylinders": 4,
                          "horsepower": 94
                        },
                        {
                          "mpg": 18,
                          "cylinders": 3,
                          "horsepower": 90
                        },
                        {
                          "mpg": 19,
                          "cylinders": 4,
                          "horsepower": 85
                        },
                        {
                          "mpg": 21,
                          "cylinders": 6,
                          "horsepower": 107
                        },
                        {
                          "mpg": 26,
                          "cylinders": 4,
                          "horsepower": 90
                        },
                        {
                          "mpg": 15,
                          "cylinders": 8,
                          "horsepower": 145
                        },
                        {
                          "mpg": 16,
                          "cylinders": 8,
                          "horsepower": 230
                        },
                        {
                          "mpg": 29,
                          "cylinders": 4,
                          "horsepower": 49
                        },
                        {
                          "mpg": 24,
                          "cylinders": 4,
                          "horsepower": 75
                        },
                        {
                          "mpg": 20,
                          "cylinders": 4,
                          "horsepower": 91
                        },
                        {
                          "mpg": 19,
                          "cylinders": 4,
                          "horsepower": 112
                        },
                        {
                          "mpg": 15,
                          "cylinders": 8,
                          "horsepower": 150
                        },
                        {
                          "mpg": 24,
                          "cylinders": 4,
                          "horsepower": 110
                        },
                        {
                          "mpg": 20,
                          "cylinders": 6,
                          "horsepower": 122
                        },
                        {
                          "mpg": 11,
                          "cylinders": 8,
                          "horsepower": 180
                        },
                        {
                          "mpg": 20,
                          "cylinders": 6,
                          "horsepower": 95
                        },
                        {
                          "mpg": 21,
                          "cylinders": 6,
                          "horsepower": null
                        },
                        {
                          "mpg": 19,
                          "cylinders": 6,
                          "horsepower": 100
                        },
                        {
                          "mpg": 15,
                          "cylinders": 6,
                          "horsepower": 100
                        },
                        {
                          "mpg": 31,
                          "cylinders": 4,
                          "horsepower": 67
                        },
                        {
                          "mpg": 26,
                          "cylinders": 4,
                          "horsepower": 80
                        },
                        {
                          "mpg": 32,
                          "cylinders": 4,
                          "horsepower": 65
                        },
                        {
                          "mpg": 25,
                          "cylinders": 4,
                          "horsepower": 75
                        },
                        {
                          "mpg": 16,
                          "cylinders": 6,
                          "horsepower": 100
                        },
                        {
                          "mpg": 16,
                          "cylinders": 6,
                          "horsepower": 110
                        },
                        {
                          "mpg": 18,
                          "cylinders": 6,
                          "horsepower": 105
                        },
                        {
                          "mpg": 16,
                          "cylinders": 8,
                          "horsepower": 140
                        },
                        {
                          "mpg": 13,
                          "cylinders": 8,
                          "horsepower": 150
                        },
                        {
                          "mpg": 14,
                          "cylinders": 8,
                          "horsepower": 150
                        },
                        {
                          "mpg": 14,
                          "cylinders": 8,
                          "horsepower": 140
                        },
                        {
                          "mpg": 14,
                          "cylinders": 8,
                          "horsepower": 150
                        },
                        {
                          "mpg": 29,
                          "cylinders": 4,
                          "horsepower": 83
                        },
                        {
                          "mpg": 26,
                          "cylinders": 4,
                          "horsepower": 67
                        },
                        {
                          "mpg": 26,
                          "cylinders": 4,
                          "horsepower": 78
                        },
                        {
                          "mpg": 31,
                          "cylinders": 4,
                          "horsepower": 52
                        },
                        {
                          "mpg": 32,
                          "cylinders": 4,
                          "horsepower": 61
                        },
                        {
                          "mpg": 28,
                          "cylinders": 4,
                          "horsepower": 75
                        },
                        {
                          "mpg": 24,
                          "cylinders": 4,
                          "horsepower": 75
                        },
                        {
                          "mpg": 26,
                          "cylinders": 4,
                          "horsepower": 75
                        },
                        {
                          "mpg": 24,
                          "cylinders": 4,
                          "horsepower": 97
                        },
                        {
                          "mpg": 26,
                          "cylinders": 4,
                          "horsepower": 93
                        },
                        {
                          "mpg": 31,
                          "cylinders": 4,
                          "horsepower": 67
                        },
                        {
                          "mpg": 19,
                          "cylinders": 6,
                          "horsepower": 95
                        },
                        {
                          "mpg": 18,
                          "cylinders": 6,
                          "horsepower": 105
                        },
                        {
                          "mpg": 15,
                          "cylinders": 6,
                          "horsepower": 72
                        },
                        {
                          "mpg": 15,
                          "cylinders": 6,
                          "horsepower": 72
                        },
                        {
                          "mpg": 16,
                          "cylinders": 8,
                          "horsepower": 170
                        },
                        {
                          "mpg": 15,
                          "cylinders": 8,
                          "horsepower": 145
                        },
                        {
                          "mpg": 16,
                          "cylinders": 8,
                          "horsepower": 150
                        },
                        {
                          "mpg": 14,
                          "cylinders": 8,
                          "horsepower": 148
                        },
                        {
                          "mpg": 17,
                          "cylinders": 6,
                          "horsepower": 110
                        },
                        {
                          "mpg": 16,
                          "cylinders": 6,
                          "horsepower": 105
                        },
                        {
                          "mpg": 15,
                          "cylinders": 6,
                          "horsepower": 110
                        },
                        {
                          "mpg": 18,
                          "cylinders": 6,
                          "horsepower": 95
                        },
                        {
                          "mpg": 21,
                          "cylinders": 6,
                          "horsepower": 110
                        },
                        {
                          "mpg": 20,
                          "cylinders": 8,
                          "horsepower": 110
                        },
                        {
                          "mpg": 13,
                          "cylinders": 8,
                          "horsepower": 129
                        },
                        {
                          "mpg": 29,
                          "cylinders": 4,
                          "horsepower": 75
                        },
                        {
                          "mpg": 23,
                          "cylinders": 4,
                          "horsepower": 83
                        },
                        {
                          "mpg": 20,
                          "cylinders": 6,
                          "horsepower": 100
                        },
                        {
                          "mpg": 23,
                          "cylinders": 4,
                          "horsepower": 78
                        },
                        {
                          "mpg": 24,
                          "cylinders": 4,
                          "horsepower": 96
                        },
                        {
                          "mpg": 25,
                          "cylinders": 4,
                          "horsepower": 71
                        },
                        {
                          "mpg": 24,
                          "cylinders": 4,
                          "horsepower": 97
                        },
                        {
                          "mpg": 18,
                          "cylinders": 6,
                          "horsepower": 97
                        },
                        {
                          "mpg": 29,
                          "cylinders": 4,
                          "horsepower": 70
                        },
                        {
                          "mpg": 19,
                          "cylinders": 6,
                          "horsepower": 90
                        },
                        {
                          "mpg": 23,
                          "cylinders": 4,
                          "horsepower": 95
                        },
                        {
                          "mpg": 23,
                          "cylinders": 4,
                          "horsepower": 88
                        },
                        {
                          "mpg": 22,
                          "cylinders": 4,
                          "horsepower": 98
                        },
                        {
                          "mpg": 25,
                          "cylinders": 4,
                          "horsepower": 115
                        },
                        {
                          "mpg": 33,
                          "cylinders": 4,
                          "horsepower": 53
                        },
                        {
                          "mpg": 28,
                          "cylinders": 4,
                          "horsepower": 86
                        },
                        {
                          "mpg": 25,
                          "cylinders": 4,
                          "horsepower": 81
                        },
                        {
                          "mpg": 25,
                          "cylinders": 4,
                          "horsepower": 92
                        },
                        {
                          "mpg": 26,
                          "cylinders": 4,
                          "horsepower": 79
                        },
                        {
                          "mpg": 27,
                          "cylinders": 4,
                          "horsepower": 83
                        },
                        {
                          "mpg": 17.5,
                          "cylinders": 8,
                          "horsepower": 140
                        },
                        {
                          "mpg": 16,
                          "cylinders": 8,
                          "horsepower": 150
                        },
                        {
                          "mpg": 15.5,
                          "cylinders": 8,
                          "horsepower": 120
                        },
                        {
                          "mpg": 14.5,
                          "cylinders": 8,
                          "horsepower": 152
                        },
                        {
                          "mpg": 22,
                          "cylinders": 6,
                          "horsepower": 100
                        },
                        {
                          "mpg": 22,
                          "cylinders": 6,
                          "horsepower": 105
                        },
                        {
                          "mpg": 24,
                          "cylinders": 6,
                          "horsepower": 81
                        },
                        {
                          "mpg": 22.5,
                          "cylinders": 6,
                          "horsepower": 90
                        },
                        {
                          "mpg": 29,
                          "cylinders": 4,
                          "horsepower": 52
                        },
                        {
                          "mpg": 24.5,
                          "cylinders": 4,
                          "horsepower": 60
                        },
                        {
                          "mpg": 29,
                          "cylinders": 4,
                          "horsepower": 70
                        },
                        {
                          "mpg": 33,
                          "cylinders": 4,
                          "horsepower": 53
                        },
                        {
                          "mpg": 20,
                          "cylinders": 6,
                          "horsepower": 100
                        },
                        {
                          "mpg": 18,
                          "cylinders": 6,
                          "horsepower": 78
                        },
                        {
                          "mpg": 18.5,
                          "cylinders": 6,
                          "horsepower": 110
                        },
                        {
                          "mpg": 17.5,
                          "cylinders": 6,
                          "horsepower": 95
                        },
                        {
                          "mpg": 29.5,
                          "cylinders": 4,
                          "horsepower": 71
                        },
                        {
                          "mpg": 32,
                          "cylinders": 4,
                          "horsepower": 70
                        },
                        {
                          "mpg": 28,
                          "cylinders": 4,
                          "horsepower": 75
                        },
                        {
                          "mpg": 26.5,
                          "cylinders": 4,
                          "horsepower": 72
                        },
                        {
                          "mpg": 20,
                          "cylinders": 4,
                          "horsepower": 102
                        },
                        {
                          "mpg": 13,
                          "cylinders": 8,
                          "horsepower": 150
                        },
                        {
                          "mpg": 19,
                          "cylinders": 4,
                          "horsepower": 88
                        },
                        {
                          "mpg": 19,
                          "cylinders": 6,
                          "horsepower": 108
                        },
                        {
                          "mpg": 16.5,
                          "cylinders": 6,
                          "horsepower": 120
                        },
                        {
                          "mpg": 16.5,
                          "cylinders": 8,
                          "horsepower": 180
                        },
                        {
                          "mpg": 13,
                          "cylinders": 8,
                          "horsepower": 145
                        },
                        {
                          "mpg": 13,
                          "cylinders": 8,
                          "horsepower": 130
                        },
                        {
                          "mpg": 13,
                          "cylinders": 8,
                          "horsepower": 150
                        },
                        {
                          "mpg": 31.5,
                          "cylinders": 4,
                          "horsepower": 68
                        },
                        {
                          "mpg": 30,
                          "cylinders": 4,
                          "horsepower": 80
                        },
                        {
                          "mpg": 36,
                          "cylinders": 4,
                          "horsepower": 58
                        },
                        {
                          "mpg": 25.5,
                          "cylinders": 4,
                          "horsepower": 96
                        },
                        {
                          "mpg": 33.5,
                          "cylinders": 4,
                          "horsepower": 70
                        },
                        {
                          "mpg": 17.5,
                          "cylinders": 8,
                          "horsepower": 145
                        },
                        {
                          "mpg": 17,
                          "cylinders": 8,
                          "horsepower": 110
                        },
                        {
                          "mpg": 15.5,
                          "cylinders": 8,
                          "horsepower": 145
                        },
                        {
                          "mpg": 15,
                          "cylinders": 8,
                          "horsepower": 130
                        },
                        {
                          "mpg": 17.5,
                          "cylinders": 6,
                          "horsepower": 110
                        },
                        {
                          "mpg": 20.5,
                          "cylinders": 6,
                          "horsepower": 105
                        },
                        {
                          "mpg": 19,
                          "cylinders": 6,
                          "horsepower": 100
                        },
                        {
                          "mpg": 18.5,
                          "cylinders": 6,
                          "horsepower": 98
                        },
                        {
                          "mpg": 16,
                          "cylinders": 8,
                          "horsepower": 180
                        },
                        {
                          "mpg": 15.5,
                          "cylinders": 8,
                          "horsepower": 170
                        },
                        {
                          "mpg": 15.5,
                          "cylinders": 8,
                          "horsepower": 190
                        },
                        {
                          "mpg": 16,
                          "cylinders": 8,
                          "horsepower": 149
                        },
                        {
                          "mpg": 29,
                          "cylinders": 4,
                          "horsepower": 78
                        },
                        {
                          "mpg": 24.5,
                          "cylinders": 4,
                          "horsepower": 88
                        },
                        {
                          "mpg": 26,
                          "cylinders": 4,
                          "horsepower": 75
                        },
                        {
                          "mpg": 25.5,
                          "cylinders": 4,
                          "horsepower": 89
                        },
                        {
                          "mpg": 30.5,
                          "cylinders": 4,
                          "horsepower": 63
                        },
                        {
                          "mpg": 33.5,
                          "cylinders": 4,
                          "horsepower": 83
                        },
                        {
                          "mpg": 30,
                          "cylinders": 4,
                          "horsepower": 67
                        },
                        {
                          "mpg": 30.5,
                          "cylinders": 4,
                          "horsepower": 78
                        },
                        {
                          "mpg": 22,
                          "cylinders": 6,
                          "horsepower": 97
                        },
                        {
                          "mpg": 21.5,
                          "cylinders": 4,
                          "horsepower": 110
                        },
                        {
                          "mpg": 21.5,
                          "cylinders": 3,
                          "horsepower": 110
                        },
                        {
                          "mpg": 43.1,
                          "cylinders": 4,
                          "horsepower": 48
                        },
                        {
                          "mpg": 36.1,
                          "cylinders": 4,
                          "horsepower": 66
                        },
                        {
                          "mpg": 32.8,
                          "cylinders": 4,
                          "horsepower": 52
                        },
                        {
                          "mpg": 39.4,
                          "cylinders": 4,
                          "horsepower": 70
                        },
                        {
                          "mpg": 36.1,
                          "cylinders": 4,
                          "horsepower": 60
                        },
                        {
                          "mpg": 19.9,
                          "cylinders": 8,
                          "horsepower": 110
                        },
                        {
                          "mpg": 19.4,
                          "cylinders": 8,
                          "horsepower": 140
                        },
                        {
                          "mpg": 20.2,
                          "cylinders": 8,
                          "horsepower": 139
                        },
                        {
                          "mpg": 19.2,
                          "cylinders": 6,
                          "horsepower": 105
                        },
                        {
                          "mpg": 20.5,
                          "cylinders": 6,
                          "horsepower": 95
                        },
                        {
                          "mpg": 20.2,
                          "cylinders": 6,
                          "horsepower": 85
                        },
                        {
                          "mpg": 25.1,
                          "cylinders": 4,
                          "horsepower": 88
                        },
                        {
                          "mpg": 20.5,
                          "cylinders": 6,
                          "horsepower": 100
                        },
                        {
                          "mpg": 19.4,
                          "cylinders": 6,
                          "horsepower": 90
                        },
                        {
                          "mpg": 20.6,
                          "cylinders": 6,
                          "horsepower": 105
                        },
                        {
                          "mpg": 20.8,
                          "cylinders": 6,
                          "horsepower": 85
                        },
                        {
                          "mpg": 18.6,
                          "cylinders": 6,
                          "horsepower": 110
                        },
                        {
                          "mpg": 18.1,
                          "cylinders": 6,
                          "horsepower": 120
                        },
                        {
                          "mpg": 19.2,
                          "cylinders": 8,
                          "horsepower": 145
                        },
                        {
                          "mpg": 17.7,
                          "cylinders": 6,
                          "horsepower": 165
                        },
                        {
                          "mpg": 18.1,
                          "cylinders": 8,
                          "horsepower": 139
                        },
                        {
                          "mpg": 17.5,
                          "cylinders": 8,
                          "horsepower": 140
                        },
                        {
                          "mpg": 30,
                          "cylinders": 4,
                          "horsepower": 68
                        },
                        {
                          "mpg": 27.5,
                          "cylinders": 4,
                          "horsepower": 95
                        },
                        {
                          "mpg": 27.2,
                          "cylinders": 4,
                          "horsepower": 97
                        },
                        {
                          "mpg": 30.9,
                          "cylinders": 4,
                          "horsepower": 75
                        },
                        {
                          "mpg": 21.1,
                          "cylinders": 4,
                          "horsepower": 95
                        },
                        {
                          "mpg": 23.2,
                          "cylinders": 4,
                          "horsepower": 105
                        },
                        {
                          "mpg": 23.8,
                          "cylinders": 4,
                          "horsepower": 85
                        },
                        {
                          "mpg": 23.9,
                          "cylinders": 4,
                          "horsepower": 97
                        },
                        {
                          "mpg": 20.3,
                          "cylinders": 5,
                          "horsepower": 103
                        },
                        {
                          "mpg": 17,
                          "cylinders": 6,
                          "horsepower": 125
                        },
                        {
                          "mpg": 21.6,
                          "cylinders": 4,
                          "horsepower": 115
                        },
                        {
                          "mpg": 16.2,
                          "cylinders": 6,
                          "horsepower": 133
                        },
                        {
                          "mpg": 31.5,
                          "cylinders": 4,
                          "horsepower": 71
                        },
                        {
                          "mpg": 29.5,
                          "cylinders": 4,
                          "horsepower": 68
                        },
                        {
                          "mpg": 21.5,
                          "cylinders": 6,
                          "horsepower": 115
                        },
                        {
                          "mpg": 19.8,
                          "cylinders": 6,
                          "horsepower": 85
                        },
                        {
                          "mpg": 22.3,
                          "cylinders": 4,
                          "horsepower": 88
                        },
                        {
                          "mpg": 20.2,
                          "cylinders": 6,
                          "horsepower": 90
                        },
                        {
                          "mpg": 20.6,
                          "cylinders": 6,
                          "horsepower": 110
                        },
                        {
                          "mpg": 17,
                          "cylinders": 8,
                          "horsepower": 130
                        },
                        {
                          "mpg": 17.6,
                          "cylinders": 8,
                          "horsepower": 129
                        },
                        {
                          "mpg": 16.5,
                          "cylinders": 8,
                          "horsepower": 138
                        },
                        {
                          "mpg": 18.2,
                          "cylinders": 8,
                          "horsepower": 135
                        },
                        {
                          "mpg": 16.9,
                          "cylinders": 8,
                          "horsepower": 155
                        },
                        {
                          "mpg": 15.5,
                          "cylinders": 8,
                          "horsepower": 142
                        },
                        {
                          "mpg": 19.2,
                          "cylinders": 8,
                          "horsepower": 125
                        },
                        {
                          "mpg": 18.5,
                          "cylinders": 8,
                          "horsepower": 150
                        },
                        {
                          "mpg": 31.9,
                          "cylinders": 4,
                          "horsepower": 71
                        },
                        {
                          "mpg": 34.1,
                          "cylinders": 4,
                          "horsepower": 65
                        },
                        {
                          "mpg": 35.7,
                          "cylinders": 4,
                          "horsepower": 80
                        },
                        {
                          "mpg": 27.4,
                          "cylinders": 4,
                          "horsepower": 80
                        },
                        {
                          "mpg": 25.4,
                          "cylinders": 5,
                          "horsepower": 77
                        },
                        {
                          "mpg": 23,
                          "cylinders": 8,
                          "horsepower": 125
                        },
                        {
                          "mpg": 27.2,
                          "cylinders": 4,
                          "horsepower": 71
                        },
                        {
                          "mpg": 23.9,
                          "cylinders": 8,
                          "horsepower": 90
                        },
                        {
                          "mpg": 34.2,
                          "cylinders": 4,
                          "horsepower": 70
                        },
                        {
                          "mpg": 34.5,
                          "cylinders": 4,
                          "horsepower": 70
                        },
                        {
                          "mpg": 31.8,
                          "cylinders": 4,
                          "horsepower": 65
                        },
                        {
                          "mpg": 37.3,
                          "cylinders": 4,
                          "horsepower": 69
                        },
                        {
                          "mpg": 28.4,
                          "cylinders": 4,
                          "horsepower": 90
                        },
                        {
                          "mpg": 28.8,
                          "cylinders": 6,
                          "horsepower": 115
                        },
                        {
                          "mpg": 26.8,
                          "cylinders": 6,
                          "horsepower": 115
                        },
                        {
                          "mpg": 33.5,
                          "cylinders": 4,
                          "horsepower": 90
                        },
                        {
                          "mpg": 41.5,
                          "cylinders": 4,
                          "horsepower": 76
                        },
                        {
                          "mpg": 38.1,
                          "cylinders": 4,
                          "horsepower": 60
                        },
                        {
                          "mpg": 32.1,
                          "cylinders": 4,
                          "horsepower": 70
                        },
                        {
                          "mpg": 37.2,
                          "cylinders": 4,
                          "horsepower": 65
                        },
                        {
                          "mpg": 28,
                          "cylinders": 4,
                          "horsepower": 90
                        },
                        {
                          "mpg": 26.4,
                          "cylinders": 4,
                          "horsepower": 88
                        },
                        {
                          "mpg": 24.3,
                          "cylinders": 4,
                          "horsepower": 90
                        },
                        {
                          "mpg": 19.1,
                          "cylinders": 6,
                          "horsepower": 90
                        },
                        {
                          "mpg": 34.3,
                          "cylinders": 4,
                          "horsepower": 78
                        },
                        {
                          "mpg": 29.8,
                          "cylinders": 4,
                          "horsepower": 90
                        },
                        {
                          "mpg": 31.3,
                          "cylinders": 4,
                          "horsepower": 75
                        },
                        {
                          "mpg": 37,
                          "cylinders": 4,
                          "horsepower": 92
                        },
                        {
                          "mpg": 32.2,
                          "cylinders": 4,
                          "horsepower": 75
                        },
                        {
                          "mpg": 46.6,
                          "cylinders": 4,
                          "horsepower": 65
                        },
                        {
                          "mpg": 27.9,
                          "cylinders": 4,
                          "horsepower": 105
                        },
                        {
                          "mpg": 40.8,
                          "cylinders": 4,
                          "horsepower": 65
                        },
                        {
                          "mpg": 44.3,
                          "cylinders": 4,
                          "horsepower": 48
                        },
                        {
                          "mpg": 43.4,
                          "cylinders": 4,
                          "horsepower": 48
                        },
                        {
                          "mpg": 36.4,
                          "cylinders": 5,
                          "horsepower": 67
                        },
                        {
                          "mpg": 30,
                          "cylinders": 4,
                          "horsepower": 67
                        },
                        {
                          "mpg": 44.6,
                          "cylinders": 4,
                          "horsepower": 67
                        },
                        {
                          "mpg": 40.9,
                          "cylinders": 4,
                          "horsepower": null
                        },
                        {
                          "mpg": 33.8,
                          "cylinders": 4,
                          "horsepower": 67
                        },
                        {
                          "mpg": 29.8,
                          "cylinders": 4,
                          "horsepower": 62
                        },
                        {
                          "mpg": 32.7,
                          "cylinders": 6,
                          "horsepower": 132
                        },
                        {
                          "mpg": 23.7,
                          "cylinders": 3,
                          "horsepower": 100
                        },
                        {
                          "mpg": 35,
                          "cylinders": 4,
                          "horsepower": 88
                        },
                        {
                          "mpg": 23.6,
                          "cylinders": 4,
                          "horsepower": null
                        },
                        {
                          "mpg": 32.4,
                          "cylinders": 4,
                          "horsepower": 72
                        },
                        {
                          "mpg": 27.2,
                          "cylinders": 4,
                          "horsepower": 84
                        },
                        {
                          "mpg": 26.6,
                          "cylinders": 4,
                          "horsepower": 84
                        },
                        {
                          "mpg": 25.8,
                          "cylinders": 4,
                          "horsepower": 92
                        },
                        {
                          "mpg": 23.5,
                          "cylinders": 6,
                          "horsepower": 110
                        },
                        {
                          "mpg": 30,
                          "cylinders": 4,
                          "horsepower": 84
                        },
                        {
                          "mpg": 39.1,
                          "cylinders": 4,
                          "horsepower": 58
                        },
                        {
                          "mpg": 39,
                          "cylinders": 4,
                          "horsepower": 64
                        },
                        {
                          "mpg": 35.1,
                          "cylinders": 4,
                          "horsepower": 60
                        },
                        {
                          "mpg": 32.3,
                          "cylinders": 4,
                          "horsepower": 67
                        },
                        {
                          "mpg": 37,
                          "cylinders": 4,
                          "horsepower": 65
                        },
                        {
                          "mpg": 37.7,
                          "cylinders": 4,
                          "horsepower": 62
                        },
                        {
                          "mpg": 34.1,
                          "cylinders": 4,
                          "horsepower": 68
                        },
                        {
                          "mpg": 34.7,
                          "cylinders": 4,
                          "horsepower": 63
                        },
                        {
                          "mpg": 34.4,
                          "cylinders": 4,
                          "horsepower": 65
                        },
                        {
                          "mpg": 29.9,
                          "cylinders": 4,
                          "horsepower": 65
                        },
                        {
                          "mpg": 33,
                          "cylinders": 4,
                          "horsepower": 74
                        },
                        {
                          "mpg": 34.5,
                          "cylinders": 4,
                          "horsepower": null
                        },
                        {
                          "mpg": 33.7,
                          "cylinders": 4,
                          "horsepower": 75
                        },
                        {
                          "mpg": 32.4,
                          "cylinders": 4,
                          "horsepower": 75
                        },
                        {
                          "mpg": 32.9,
                          "cylinders": 4,
                          "horsepower": 100
                        },
                        {
                          "mpg": 31.6,
                          "cylinders": 4,
                          "horsepower": 74
                        },
                        {
                          "mpg": 28.1,
                          "cylinders": 4,
                          "horsepower": 80
                        },
                        {
                          "mpg": 30.7,
                          "cylinders": 6,
                          "horsepower": 76
                        },
                        {
                          "mpg": 25.4,
                          "cylinders": 6,
                          "horsepower": 116
                        },
                        {
                          "mpg": 24.2,
                          "cylinders": 6,
                          "horsepower": 120
                        },
                        {
                          "mpg": 22.4,
                          "cylinders": 6,
                          "horsepower": 110
                        },
                        {
                          "mpg": 26.6,
                          "cylinders": 8,
                          "horsepower": 105
                        },
                        {
                          "mpg": 20.2,
                          "cylinders": 6,
                          "horsepower": 88
                        },
                        {
                          "mpg": 17.6,
                          "cylinders": 6,
                          "horsepower": 85
                        },
                        {
                          "mpg": 28,
                          "cylinders": 4,
                          "horsepower": 88
                        },
                        {
                          "mpg": 27,
                          "cylinders": 4,
                          "horsepower": 88
                        },
                        {
                          "mpg": 34,
                          "cylinders": 4,
                          "horsepower": 88
                        },
                        {
                          "mpg": 31,
                          "cylinders": 4,
                          "horsepower": 85
                        },
                        {
                          "mpg": 29,
                          "cylinders": 4,
                          "horsepower": 84
                        },
                        {
                          "mpg": 27,
                          "cylinders": 4,
                          "horsepower": 90
                        },
                        {
                          "mpg": 24,
                          "cylinders": 4,
                          "horsepower": 92
                        },
                        {
                          "mpg": 23,
                          "cylinders": 4,
                          "horsepower": null
                        },
                        {
                          "mpg": 36,
                          "cylinders": 4,
                          "horsepower": 74
                        },
                        {
                          "mpg": 37,
                          "cylinders": 4,
                          "horsepower": 68
                        },
                        {
                          "mpg": 31,
                          "cylinders": 4,
                          "horsepower": 68
                        },
                        {
                          "mpg": 38,
                          "cylinders": 4,
                          "horsepower": 63
                        },
                        {
                          "mpg": 36,
                          "cylinders": 4,
                          "horsepower": 70
                        },
                        {
                          "mpg": 36,
                          "cylinders": 4,
                          "horsepower": 88
                        },
                        {
                          "mpg": 36,
                          "cylinders": 4,
                          "horsepower": 75
                        },
                        {
                          "mpg": 34,
                          "cylinders": 4,
                          "horsepower": 70
                        },
                        {
                          "mpg": 38,
                          "cylinders": 4,
                          "horsepower": 67
                        },
                        {
                          "mpg": 32,
                          "cylinders": 4,
                          "horsepower": 67
                        },
                        {
                          "mpg": 38,
                          "cylinders": 4,
                          "horsepower": 67
                        },
                        {
                          "mpg": 25,
                          "cylinders": 6,
                          "horsepower": 110
                        },
                        {
                          "mpg": 38,
                          "cylinders": 6,
                          "horsepower": 85
                        },
                        {
                          "mpg": 26,
                          "cylinders": 4,
                          "horsepower": 92
                        },
                        {
                          "mpg": 22,
                          "cylinders": 6,
                          "horsepower": 112
                        },
                        {
                          "mpg": 32,
                          "cylinders": 4,
                          "horsepower": 96
                        },
                        {
                          "mpg": 36,
                          "cylinders": 4,
                          "horsepower": 84
                        },
                        {
                          "mpg": 27,
                          "cylinders": 4,
                          "horsepower": 90
                        },
                        {
                          "mpg": 27,
                          "cylinders": 4,
                          "horsepower": 86
                        },
                        {
                          "mpg": 44,
                          "cylinders": 4,
                          "horsepower": 52
                        },
                        {
                          "mpg": 32,
                          "cylinders": 4,
                          "horsepower": 84
                        },
                        {
                          "mpg": 28,
                          "cylinders": 4,
                          "horsepower": 79
                        },
                        {
                          "mpg": 31,
                          "cylinders": 4,
                          "horsepower": 82
                        }
                      ]
                    },
                    "vislib": "vegalite"
                  },
                  {
                    "config": {
                      "view": {
                        "continuousWidth": 400,
                        "continuousHeight": 300
                      },
                      "axis": {
                        "labelColor": "#505050",
                        "labelFont": "Helvetica Neue",
                        "labelFontSize": 9,
                        "labelFontWeight": 400,
                        "titleFont": "Helvetica Neue",
                        "titleFontSize": 11,
                        "titleFontWeight": 500
                      },
                      "legend": {
                        "labelFont": "Helvetica Neue",
                        "labelFontSize": 9,
                        "labelFontWeight": 400,
                        "titleFont": "Helvetica Neue",
                        "titleFontSize": 10,
                        "titleFontWeight": 500
                      },
                      "mark": {
                        "tooltip": {
                          "content": "encoding"
                        }
                      },
                      "title": {
                        "font": "Helvetica Neue",
                        "fontSize": 13,
                        "fontWeight": 500
                      }
                    },
                    "data": {
                      "name": "data-b5fc201148af1f85f9b2c062883619a2"
                    },
                    "mark": "circle",
                    "encoding": {
                      "color": {
                        "field": "displacement",
                        "type": "quantitative"
                      },
                      "x": {
                        "axis": {
                          "title": "horsepower"
                        },
                        "field": "horsepower",
                        "scale": {
                          "domain": [
                            46,
                            230
                          ]
                        },
                        "type": "quantitative"
                      },
                      "y": {
                        "axis": {
                          "title": "mpg"
                        },
                        "field": "mpg",
                        "scale": {
                          "domain": [
                            9,
                            46.6
                          ]
                        },
                        "type": "quantitative"
                      }
                    },
                    "height": 150,
                    "selection": {
                      "selector058": {
                        "type": "interval",
                        "bind": "scales",
                        "encodings": [
                          "x",
                          "y"
                        ]
                      }
                    },
                    "width": 160,
                    "$schema": "https://vega.github.io/schema/vega-lite/v4.17.0.json",
                    "datasets": {
                      "data-b5fc201148af1f85f9b2c062883619a2": [
                        {
                          "mpg": 18,
                          "displacement": 307,
                          "horsepower": 130
                        },
                        {
                          "mpg": 15,
                          "displacement": 350,
                          "horsepower": 165
                        },
                        {
                          "mpg": 18,
                          "displacement": 318,
                          "horsepower": 150
                        },
                        {
                          "mpg": 16,
                          "displacement": 304,
                          "horsepower": 150
                        },
                        {
                          "mpg": 17,
                          "displacement": 302,
                          "horsepower": 140
                        },
                        {
                          "mpg": 15,
                          "displacement": 429,
                          "horsepower": 198
                        },
                        {
                          "mpg": 14,
                          "displacement": 454,
                          "horsepower": 220
                        },
                        {
                          "mpg": 14,
                          "displacement": 440,
                          "horsepower": 215
                        },
                        {
                          "mpg": 14,
                          "displacement": 455,
                          "horsepower": 225
                        },
                        {
                          "mpg": 15,
                          "displacement": 390,
                          "horsepower": 190
                        },
                        {
                          "mpg": 15,
                          "displacement": 383,
                          "horsepower": 170
                        },
                        {
                          "mpg": 14,
                          "displacement": 340,
                          "horsepower": 160
                        },
                        {
                          "mpg": 15,
                          "displacement": 400,
                          "horsepower": 150
                        },
                        {
                          "mpg": 14,
                          "displacement": 455,
                          "horsepower": 225
                        },
                        {
                          "mpg": 24,
                          "displacement": 113,
                          "horsepower": 95
                        },
                        {
                          "mpg": 22,
                          "displacement": 198,
                          "horsepower": 95
                        },
                        {
                          "mpg": 18,
                          "displacement": 199,
                          "horsepower": 97
                        },
                        {
                          "mpg": 21,
                          "displacement": 200,
                          "horsepower": 85
                        },
                        {
                          "mpg": 27,
                          "displacement": 97,
                          "horsepower": 88
                        },
                        {
                          "mpg": 26,
                          "displacement": 97,
                          "horsepower": 46
                        },
                        {
                          "mpg": 25,
                          "displacement": 110,
                          "horsepower": 87
                        },
                        {
                          "mpg": 24,
                          "displacement": 107,
                          "horsepower": 90
                        },
                        {
                          "mpg": 25,
                          "displacement": 104,
                          "horsepower": 95
                        },
                        {
                          "mpg": 26,
                          "displacement": 121,
                          "horsepower": 113
                        },
                        {
                          "mpg": 21,
                          "displacement": 199,
                          "horsepower": 90
                        },
                        {
                          "mpg": 10,
                          "displacement": 360,
                          "horsepower": 215
                        },
                        {
                          "mpg": 10,
                          "displacement": 307,
                          "horsepower": 200
                        },
                        {
                          "mpg": 11,
                          "displacement": 318,
                          "horsepower": 210
                        },
                        {
                          "mpg": 9,
                          "displacement": 304,
                          "horsepower": 193
                        },
                        {
                          "mpg": 27,
                          "displacement": 97,
                          "horsepower": 88
                        },
                        {
                          "mpg": 28,
                          "displacement": 140,
                          "horsepower": 90
                        },
                        {
                          "mpg": 25,
                          "displacement": 113,
                          "horsepower": 95
                        },
                        {
                          "mpg": 25,
                          "displacement": 98,
                          "horsepower": null
                        },
                        {
                          "mpg": 19,
                          "displacement": 232,
                          "horsepower": 100
                        },
                        {
                          "mpg": 16,
                          "displacement": 225,
                          "horsepower": 105
                        },
                        {
                          "mpg": 17,
                          "displacement": 250,
                          "horsepower": 100
                        },
                        {
                          "mpg": 19,
                          "displacement": 250,
                          "horsepower": 88
                        },
                        {
                          "mpg": 18,
                          "displacement": 232,
                          "horsepower": 100
                        },
                        {
                          "mpg": 14,
                          "displacement": 350,
                          "horsepower": 165
                        },
                        {
                          "mpg": 14,
                          "displacement": 400,
                          "horsepower": 175
                        },
                        {
                          "mpg": 14,
                          "displacement": 351,
                          "horsepower": 153
                        },
                        {
                          "mpg": 14,
                          "displacement": 318,
                          "horsepower": 150
                        },
                        {
                          "mpg": 12,
                          "displacement": 383,
                          "horsepower": 180
                        },
                        {
                          "mpg": 13,
                          "displacement": 400,
                          "horsepower": 170
                        },
                        {
                          "mpg": 13,
                          "displacement": 400,
                          "horsepower": 175
                        },
                        {
                          "mpg": 18,
                          "displacement": 258,
                          "horsepower": 110
                        },
                        {
                          "mpg": 22,
                          "displacement": 140,
                          "horsepower": 72
                        },
                        {
                          "mpg": 19,
                          "displacement": 250,
                          "horsepower": 100
                        },
                        {
                          "mpg": 18,
                          "displacement": 250,
                          "horsepower": 88
                        },
                        {
                          "mpg": 23,
                          "displacement": 122,
                          "horsepower": 86
                        },
                        {
                          "mpg": 28,
                          "displacement": 116,
                          "horsepower": 90
                        },
                        {
                          "mpg": 30,
                          "displacement": 79,
                          "horsepower": 70
                        },
                        {
                          "mpg": 30,
                          "displacement": 88,
                          "horsepower": 76
                        },
                        {
                          "mpg": 31,
                          "displacement": 71,
                          "horsepower": 65
                        },
                        {
                          "mpg": 35,
                          "displacement": 72,
                          "horsepower": 69
                        },
                        {
                          "mpg": 27,
                          "displacement": 97,
                          "horsepower": 60
                        },
                        {
                          "mpg": 26,
                          "displacement": 91,
                          "horsepower": 70
                        },
                        {
                          "mpg": 24,
                          "displacement": 113,
                          "horsepower": 95
                        },
                        {
                          "mpg": 25,
                          "displacement": 97.5,
                          "horsepower": 80
                        },
                        {
                          "mpg": 23,
                          "displacement": 97,
                          "horsepower": 54
                        },
                        {
                          "mpg": 20,
                          "displacement": 140,
                          "horsepower": 90
                        },
                        {
                          "mpg": 21,
                          "displacement": 122,
                          "horsepower": 86
                        },
                        {
                          "mpg": 13,
                          "displacement": 350,
                          "horsepower": 165
                        },
                        {
                          "mpg": 14,
                          "displacement": 400,
                          "horsepower": 175
                        },
                        {
                          "mpg": 15,
                          "displacement": 318,
                          "horsepower": 150
                        },
                        {
                          "mpg": 14,
                          "displacement": 351,
                          "horsepower": 153
                        },
                        {
                          "mpg": 17,
                          "displacement": 304,
                          "horsepower": 150
                        },
                        {
                          "mpg": 11,
                          "displacement": 429,
                          "horsepower": 208
                        },
                        {
                          "mpg": 13,
                          "displacement": 350,
                          "horsepower": 155
                        },
                        {
                          "mpg": 12,
                          "displacement": 350,
                          "horsepower": 160
                        },
                        {
                          "mpg": 13,
                          "displacement": 400,
                          "horsepower": 190
                        },
                        {
                          "mpg": 19,
                          "displacement": 70,
                          "horsepower": 97
                        },
                        {
                          "mpg": 15,
                          "displacement": 304,
                          "horsepower": 150
                        },
                        {
                          "mpg": 13,
                          "displacement": 307,
                          "horsepower": 130
                        },
                        {
                          "mpg": 13,
                          "displacement": 302,
                          "horsepower": 140
                        },
                        {
                          "mpg": 14,
                          "displacement": 318,
                          "horsepower": 150
                        },
                        {
                          "mpg": 18,
                          "displacement": 121,
                          "horsepower": 112
                        },
                        {
                          "mpg": 22,
                          "displacement": 121,
                          "horsepower": 76
                        },
                        {
                          "mpg": 21,
                          "displacement": 120,
                          "horsepower": 87
                        },
                        {
                          "mpg": 26,
                          "displacement": 96,
                          "horsepower": 69
                        },
                        {
                          "mpg": 22,
                          "displacement": 122,
                          "horsepower": 86
                        },
                        {
                          "mpg": 28,
                          "displacement": 97,
                          "horsepower": 92
                        },
                        {
                          "mpg": 23,
                          "displacement": 120,
                          "horsepower": 97
                        },
                        {
                          "mpg": 28,
                          "displacement": 98,
                          "horsepower": 80
                        },
                        {
                          "mpg": 27,
                          "displacement": 97,
                          "horsepower": 88
                        },
                        {
                          "mpg": 13,
                          "displacement": 350,
                          "horsepower": 175
                        },
                        {
                          "mpg": 14,
                          "displacement": 304,
                          "horsepower": 150
                        },
                        {
                          "mpg": 13,
                          "displacement": 350,
                          "horsepower": 145
                        },
                        {
                          "mpg": 14,
                          "displacement": 302,
                          "horsepower": 137
                        },
                        {
                          "mpg": 15,
                          "displacement": 318,
                          "horsepower": 150
                        },
                        {
                          "mpg": 12,
                          "displacement": 429,
                          "horsepower": 198
                        },
                        {
                          "mpg": 13,
                          "displacement": 400,
                          "horsepower": 150
                        },
                        {
                          "mpg": 13,
                          "displacement": 351,
                          "horsepower": 158
                        },
                        {
                          "mpg": 14,
                          "displacement": 318,
                          "horsepower": 150
                        },
                        {
                          "mpg": 13,
                          "displacement": 440,
                          "horsepower": 215
                        },
                        {
                          "mpg": 12,
                          "displacement": 455,
                          "horsepower": 225
                        },
                        {
                          "mpg": 13,
                          "displacement": 360,
                          "horsepower": 175
                        },
                        {
                          "mpg": 18,
                          "displacement": 225,
                          "horsepower": 105
                        },
                        {
                          "mpg": 16,
                          "displacement": 250,
                          "horsepower": 100
                        },
                        {
                          "mpg": 18,
                          "displacement": 232,
                          "horsepower": 100
                        },
                        {
                          "mpg": 18,
                          "displacement": 250,
                          "horsepower": 88
                        },
                        {
                          "mpg": 23,
                          "displacement": 198,
                          "horsepower": 95
                        },
                        {
                          "mpg": 26,
                          "displacement": 97,
                          "horsepower": 46
                        },
                        {
                          "mpg": 11,
                          "displacement": 400,
                          "horsepower": 150
                        },
                        {
                          "mpg": 12,
                          "displacement": 400,
                          "horsepower": 167
                        },
                        {
                          "mpg": 13,
                          "displacement": 360,
                          "horsepower": 170
                        },
                        {
                          "mpg": 12,
                          "displacement": 350,
                          "horsepower": 180
                        },
                        {
                          "mpg": 18,
                          "displacement": 232,
                          "horsepower": 100
                        },
                        {
                          "mpg": 20,
                          "displacement": 97,
                          "horsepower": 88
                        },
                        {
                          "mpg": 21,
                          "displacement": 140,
                          "horsepower": 72
                        },
                        {
                          "mpg": 22,
                          "displacement": 108,
                          "horsepower": 94
                        },
                        {
                          "mpg": 18,
                          "displacement": 70,
                          "horsepower": 90
                        },
                        {
                          "mpg": 19,
                          "displacement": 122,
                          "horsepower": 85
                        },
                        {
                          "mpg": 21,
                          "displacement": 155,
                          "horsepower": 107
                        },
                        {
                          "mpg": 26,
                          "displacement": 98,
                          "horsepower": 90
                        },
                        {
                          "mpg": 15,
                          "displacement": 350,
                          "horsepower": 145
                        },
                        {
                          "mpg": 16,
                          "displacement": 400,
                          "horsepower": 230
                        },
                        {
                          "mpg": 29,
                          "displacement": 68,
                          "horsepower": 49
                        },
                        {
                          "mpg": 24,
                          "displacement": 116,
                          "horsepower": 75
                        },
                        {
                          "mpg": 20,
                          "displacement": 114,
                          "horsepower": 91
                        },
                        {
                          "mpg": 19,
                          "displacement": 121,
                          "horsepower": 112
                        },
                        {
                          "mpg": 15,
                          "displacement": 318,
                          "horsepower": 150
                        },
                        {
                          "mpg": 24,
                          "displacement": 121,
                          "horsepower": 110
                        },
                        {
                          "mpg": 20,
                          "displacement": 156,
                          "horsepower": 122
                        },
                        {
                          "mpg": 11,
                          "displacement": 350,
                          "horsepower": 180
                        },
                        {
                          "mpg": 20,
                          "displacement": 198,
                          "horsepower": 95
                        },
                        {
                          "mpg": 21,
                          "displacement": 200,
                          "horsepower": null
                        },
                        {
                          "mpg": 19,
                          "displacement": 232,
                          "horsepower": 100
                        },
                        {
                          "mpg": 15,
                          "displacement": 250,
                          "horsepower": 100
                        },
                        {
                          "mpg": 31,
                          "displacement": 79,
                          "horsepower": 67
                        },
                        {
                          "mpg": 26,
                          "displacement": 122,
                          "horsepower": 80
                        },
                        {
                          "mpg": 32,
                          "displacement": 71,
                          "horsepower": 65
                        },
                        {
                          "mpg": 25,
                          "displacement": 140,
                          "horsepower": 75
                        },
                        {
                          "mpg": 16,
                          "displacement": 250,
                          "horsepower": 100
                        },
                        {
                          "mpg": 16,
                          "displacement": 258,
                          "horsepower": 110
                        },
                        {
                          "mpg": 18,
                          "displacement": 225,
                          "horsepower": 105
                        },
                        {
                          "mpg": 16,
                          "displacement": 302,
                          "horsepower": 140
                        },
                        {
                          "mpg": 13,
                          "displacement": 350,
                          "horsepower": 150
                        },
                        {
                          "mpg": 14,
                          "displacement": 318,
                          "horsepower": 150
                        },
                        {
                          "mpg": 14,
                          "displacement": 302,
                          "horsepower": 140
                        },
                        {
                          "mpg": 14,
                          "displacement": 304,
                          "horsepower": 150
                        },
                        {
                          "mpg": 29,
                          "displacement": 98,
                          "horsepower": 83
                        },
                        {
                          "mpg": 26,
                          "displacement": 79,
                          "horsepower": 67
                        },
                        {
                          "mpg": 26,
                          "displacement": 97,
                          "horsepower": 78
                        },
                        {
                          "mpg": 31,
                          "displacement": 76,
                          "horsepower": 52
                        },
                        {
                          "mpg": 32,
                          "displacement": 83,
                          "horsepower": 61
                        },
                        {
                          "mpg": 28,
                          "displacement": 90,
                          "horsepower": 75
                        },
                        {
                          "mpg": 24,
                          "displacement": 90,
                          "horsepower": 75
                        },
                        {
                          "mpg": 26,
                          "displacement": 116,
                          "horsepower": 75
                        },
                        {
                          "mpg": 24,
                          "displacement": 120,
                          "horsepower": 97
                        },
                        {
                          "mpg": 26,
                          "displacement": 108,
                          "horsepower": 93
                        },
                        {
                          "mpg": 31,
                          "displacement": 79,
                          "horsepower": 67
                        },
                        {
                          "mpg": 19,
                          "displacement": 225,
                          "horsepower": 95
                        },
                        {
                          "mpg": 18,
                          "displacement": 250,
                          "horsepower": 105
                        },
                        {
                          "mpg": 15,
                          "displacement": 250,
                          "horsepower": 72
                        },
                        {
                          "mpg": 15,
                          "displacement": 250,
                          "horsepower": 72
                        },
                        {
                          "mpg": 16,
                          "displacement": 400,
                          "horsepower": 170
                        },
                        {
                          "mpg": 15,
                          "displacement": 350,
                          "horsepower": 145
                        },
                        {
                          "mpg": 16,
                          "displacement": 318,
                          "horsepower": 150
                        },
                        {
                          "mpg": 14,
                          "displacement": 351,
                          "horsepower": 148
                        },
                        {
                          "mpg": 17,
                          "displacement": 231,
                          "horsepower": 110
                        },
                        {
                          "mpg": 16,
                          "displacement": 250,
                          "horsepower": 105
                        },
                        {
                          "mpg": 15,
                          "displacement": 258,
                          "horsepower": 110
                        },
                        {
                          "mpg": 18,
                          "displacement": 225,
                          "horsepower": 95
                        },
                        {
                          "mpg": 21,
                          "displacement": 231,
                          "horsepower": 110
                        },
                        {
                          "mpg": 20,
                          "displacement": 262,
                          "horsepower": 110
                        },
                        {
                          "mpg": 13,
                          "displacement": 302,
                          "horsepower": 129
                        },
                        {
                          "mpg": 29,
                          "displacement": 97,
                          "horsepower": 75
                        },
                        {
                          "mpg": 23,
                          "displacement": 140,
                          "horsepower": 83
                        },
                        {
                          "mpg": 20,
                          "displacement": 232,
                          "horsepower": 100
                        },
                        {
                          "mpg": 23,
                          "displacement": 140,
                          "horsepower": 78
                        },
                        {
                          "mpg": 24,
                          "displacement": 134,
                          "horsepower": 96
                        },
                        {
                          "mpg": 25,
                          "displacement": 90,
                          "horsepower": 71
                        },
                        {
                          "mpg": 24,
                          "displacement": 119,
                          "horsepower": 97
                        },
                        {
                          "mpg": 18,
                          "displacement": 171,
                          "horsepower": 97
                        },
                        {
                          "mpg": 29,
                          "displacement": 90,
                          "horsepower": 70
                        },
                        {
                          "mpg": 19,
                          "displacement": 232,
                          "horsepower": 90
                        },
                        {
                          "mpg": 23,
                          "displacement": 115,
                          "horsepower": 95
                        },
                        {
                          "mpg": 23,
                          "displacement": 120,
                          "horsepower": 88
                        },
                        {
                          "mpg": 22,
                          "displacement": 121,
                          "horsepower": 98
                        },
                        {
                          "mpg": 25,
                          "displacement": 121,
                          "horsepower": 115
                        },
                        {
                          "mpg": 33,
                          "displacement": 91,
                          "horsepower": 53
                        },
                        {
                          "mpg": 28,
                          "displacement": 107,
                          "horsepower": 86
                        },
                        {
                          "mpg": 25,
                          "displacement": 116,
                          "horsepower": 81
                        },
                        {
                          "mpg": 25,
                          "displacement": 140,
                          "horsepower": 92
                        },
                        {
                          "mpg": 26,
                          "displacement": 98,
                          "horsepower": 79
                        },
                        {
                          "mpg": 27,
                          "displacement": 101,
                          "horsepower": 83
                        },
                        {
                          "mpg": 17.5,
                          "displacement": 305,
                          "horsepower": 140
                        },
                        {
                          "mpg": 16,
                          "displacement": 318,
                          "horsepower": 150
                        },
                        {
                          "mpg": 15.5,
                          "displacement": 304,
                          "horsepower": 120
                        },
                        {
                          "mpg": 14.5,
                          "displacement": 351,
                          "horsepower": 152
                        },
                        {
                          "mpg": 22,
                          "displacement": 225,
                          "horsepower": 100
                        },
                        {
                          "mpg": 22,
                          "displacement": 250,
                          "horsepower": 105
                        },
                        {
                          "mpg": 24,
                          "displacement": 200,
                          "horsepower": 81
                        },
                        {
                          "mpg": 22.5,
                          "displacement": 232,
                          "horsepower": 90
                        },
                        {
                          "mpg": 29,
                          "displacement": 85,
                          "horsepower": 52
                        },
                        {
                          "mpg": 24.5,
                          "displacement": 98,
                          "horsepower": 60
                        },
                        {
                          "mpg": 29,
                          "displacement": 90,
                          "horsepower": 70
                        },
                        {
                          "mpg": 33,
                          "displacement": 91,
                          "horsepower": 53
                        },
                        {
                          "mpg": 20,
                          "displacement": 225,
                          "horsepower": 100
                        },
                        {
                          "mpg": 18,
                          "displacement": 250,
                          "horsepower": 78
                        },
                        {
                          "mpg": 18.5,
                          "displacement": 250,
                          "horsepower": 110
                        },
                        {
                          "mpg": 17.5,
                          "displacement": 258,
                          "horsepower": 95
                        },
                        {
                          "mpg": 29.5,
                          "displacement": 97,
                          "horsepower": 71
                        },
                        {
                          "mpg": 32,
                          "displacement": 85,
                          "horsepower": 70
                        },
                        {
                          "mpg": 28,
                          "displacement": 97,
                          "horsepower": 75
                        },
                        {
                          "mpg": 26.5,
                          "displacement": 140,
                          "horsepower": 72
                        },
                        {
                          "mpg": 20,
                          "displacement": 130,
                          "horsepower": 102
                        },
                        {
                          "mpg": 13,
                          "displacement": 318,
                          "horsepower": 150
                        },
                        {
                          "mpg": 19,
                          "displacement": 120,
                          "horsepower": 88
                        },
                        {
                          "mpg": 19,
                          "displacement": 156,
                          "horsepower": 108
                        },
                        {
                          "mpg": 16.5,
                          "displacement": 168,
                          "horsepower": 120
                        },
                        {
                          "mpg": 16.5,
                          "displacement": 350,
                          "horsepower": 180
                        },
                        {
                          "mpg": 13,
                          "displacement": 350,
                          "horsepower": 145
                        },
                        {
                          "mpg": 13,
                          "displacement": 302,
                          "horsepower": 130
                        },
                        {
                          "mpg": 13,
                          "displacement": 318,
                          "horsepower": 150
                        },
                        {
                          "mpg": 31.5,
                          "displacement": 98,
                          "horsepower": 68
                        },
                        {
                          "mpg": 30,
                          "displacement": 111,
                          "horsepower": 80
                        },
                        {
                          "mpg": 36,
                          "displacement": 79,
                          "horsepower": 58
                        },
                        {
                          "mpg": 25.5,
                          "displacement": 122,
                          "horsepower": 96
                        },
                        {
                          "mpg": 33.5,
                          "displacement": 85,
                          "horsepower": 70
                        },
                        {
                          "mpg": 17.5,
                          "displacement": 305,
                          "horsepower": 145
                        },
                        {
                          "mpg": 17,
                          "displacement": 260,
                          "horsepower": 110
                        },
                        {
                          "mpg": 15.5,
                          "displacement": 318,
                          "horsepower": 145
                        },
                        {
                          "mpg": 15,
                          "displacement": 302,
                          "horsepower": 130
                        },
                        {
                          "mpg": 17.5,
                          "displacement": 250,
                          "horsepower": 110
                        },
                        {
                          "mpg": 20.5,
                          "displacement": 231,
                          "horsepower": 105
                        },
                        {
                          "mpg": 19,
                          "displacement": 225,
                          "horsepower": 100
                        },
                        {
                          "mpg": 18.5,
                          "displacement": 250,
                          "horsepower": 98
                        },
                        {
                          "mpg": 16,
                          "displacement": 400,
                          "horsepower": 180
                        },
                        {
                          "mpg": 15.5,
                          "displacement": 350,
                          "horsepower": 170
                        },
                        {
                          "mpg": 15.5,
                          "displacement": 400,
                          "horsepower": 190
                        },
                        {
                          "mpg": 16,
                          "displacement": 351,
                          "horsepower": 149
                        },
                        {
                          "mpg": 29,
                          "displacement": 97,
                          "horsepower": 78
                        },
                        {
                          "mpg": 24.5,
                          "displacement": 151,
                          "horsepower": 88
                        },
                        {
                          "mpg": 26,
                          "displacement": 97,
                          "horsepower": 75
                        },
                        {
                          "mpg": 25.5,
                          "displacement": 140,
                          "horsepower": 89
                        },
                        {
                          "mpg": 30.5,
                          "displacement": 98,
                          "horsepower": 63
                        },
                        {
                          "mpg": 33.5,
                          "displacement": 98,
                          "horsepower": 83
                        },
                        {
                          "mpg": 30,
                          "displacement": 97,
                          "horsepower": 67
                        },
                        {
                          "mpg": 30.5,
                          "displacement": 97,
                          "horsepower": 78
                        },
                        {
                          "mpg": 22,
                          "displacement": 146,
                          "horsepower": 97
                        },
                        {
                          "mpg": 21.5,
                          "displacement": 121,
                          "horsepower": 110
                        },
                        {
                          "mpg": 21.5,
                          "displacement": 80,
                          "horsepower": 110
                        },
                        {
                          "mpg": 43.1,
                          "displacement": 90,
                          "horsepower": 48
                        },
                        {
                          "mpg": 36.1,
                          "displacement": 98,
                          "horsepower": 66
                        },
                        {
                          "mpg": 32.8,
                          "displacement": 78,
                          "horsepower": 52
                        },
                        {
                          "mpg": 39.4,
                          "displacement": 85,
                          "horsepower": 70
                        },
                        {
                          "mpg": 36.1,
                          "displacement": 91,
                          "horsepower": 60
                        },
                        {
                          "mpg": 19.9,
                          "displacement": 260,
                          "horsepower": 110
                        },
                        {
                          "mpg": 19.4,
                          "displacement": 318,
                          "horsepower": 140
                        },
                        {
                          "mpg": 20.2,
                          "displacement": 302,
                          "horsepower": 139
                        },
                        {
                          "mpg": 19.2,
                          "displacement": 231,
                          "horsepower": 105
                        },
                        {
                          "mpg": 20.5,
                          "displacement": 200,
                          "horsepower": 95
                        },
                        {
                          "mpg": 20.2,
                          "displacement": 200,
                          "horsepower": 85
                        },
                        {
                          "mpg": 25.1,
                          "displacement": 140,
                          "horsepower": 88
                        },
                        {
                          "mpg": 20.5,
                          "displacement": 225,
                          "horsepower": 100
                        },
                        {
                          "mpg": 19.4,
                          "displacement": 232,
                          "horsepower": 90
                        },
                        {
                          "mpg": 20.6,
                          "displacement": 231,
                          "horsepower": 105
                        },
                        {
                          "mpg": 20.8,
                          "displacement": 200,
                          "horsepower": 85
                        },
                        {
                          "mpg": 18.6,
                          "displacement": 225,
                          "horsepower": 110
                        },
                        {
                          "mpg": 18.1,
                          "displacement": 258,
                          "horsepower": 120
                        },
                        {
                          "mpg": 19.2,
                          "displacement": 305,
                          "horsepower": 145
                        },
                        {
                          "mpg": 17.7,
                          "displacement": 231,
                          "horsepower": 165
                        },
                        {
                          "mpg": 18.1,
                          "displacement": 302,
                          "horsepower": 139
                        },
                        {
                          "mpg": 17.5,
                          "displacement": 318,
                          "horsepower": 140
                        },
                        {
                          "mpg": 30,
                          "displacement": 98,
                          "horsepower": 68
                        },
                        {
                          "mpg": 27.5,
                          "displacement": 134,
                          "horsepower": 95
                        },
                        {
                          "mpg": 27.2,
                          "displacement": 119,
                          "horsepower": 97
                        },
                        {
                          "mpg": 30.9,
                          "displacement": 105,
                          "horsepower": 75
                        },
                        {
                          "mpg": 21.1,
                          "displacement": 134,
                          "horsepower": 95
                        },
                        {
                          "mpg": 23.2,
                          "displacement": 156,
                          "horsepower": 105
                        },
                        {
                          "mpg": 23.8,
                          "displacement": 151,
                          "horsepower": 85
                        },
                        {
                          "mpg": 23.9,
                          "displacement": 119,
                          "horsepower": 97
                        },
                        {
                          "mpg": 20.3,
                          "displacement": 131,
                          "horsepower": 103
                        },
                        {
                          "mpg": 17,
                          "displacement": 163,
                          "horsepower": 125
                        },
                        {
                          "mpg": 21.6,
                          "displacement": 121,
                          "horsepower": 115
                        },
                        {
                          "mpg": 16.2,
                          "displacement": 163,
                          "horsepower": 133
                        },
                        {
                          "mpg": 31.5,
                          "displacement": 89,
                          "horsepower": 71
                        },
                        {
                          "mpg": 29.5,
                          "displacement": 98,
                          "horsepower": 68
                        },
                        {
                          "mpg": 21.5,
                          "displacement": 231,
                          "horsepower": 115
                        },
                        {
                          "mpg": 19.8,
                          "displacement": 200,
                          "horsepower": 85
                        },
                        {
                          "mpg": 22.3,
                          "displacement": 140,
                          "horsepower": 88
                        },
                        {
                          "mpg": 20.2,
                          "displacement": 232,
                          "horsepower": 90
                        },
                        {
                          "mpg": 20.6,
                          "displacement": 225,
                          "horsepower": 110
                        },
                        {
                          "mpg": 17,
                          "displacement": 305,
                          "horsepower": 130
                        },
                        {
                          "mpg": 17.6,
                          "displacement": 302,
                          "horsepower": 129
                        },
                        {
                          "mpg": 16.5,
                          "displacement": 351,
                          "horsepower": 138
                        },
                        {
                          "mpg": 18.2,
                          "displacement": 318,
                          "horsepower": 135
                        },
                        {
                          "mpg": 16.9,
                          "displacement": 350,
                          "horsepower": 155
                        },
                        {
                          "mpg": 15.5,
                          "displacement": 351,
                          "horsepower": 142
                        },
                        {
                          "mpg": 19.2,
                          "displacement": 267,
                          "horsepower": 125
                        },
                        {
                          "mpg": 18.5,
                          "displacement": 360,
                          "horsepower": 150
                        },
                        {
                          "mpg": 31.9,
                          "displacement": 89,
                          "horsepower": 71
                        },
                        {
                          "mpg": 34.1,
                          "displacement": 86,
                          "horsepower": 65
                        },
                        {
                          "mpg": 35.7,
                          "displacement": 98,
                          "horsepower": 80
                        },
                        {
                          "mpg": 27.4,
                          "displacement": 121,
                          "horsepower": 80
                        },
                        {
                          "mpg": 25.4,
                          "displacement": 183,
                          "horsepower": 77
                        },
                        {
                          "mpg": 23,
                          "displacement": 350,
                          "horsepower": 125
                        },
                        {
                          "mpg": 27.2,
                          "displacement": 141,
                          "horsepower": 71
                        },
                        {
                          "mpg": 23.9,
                          "displacement": 260,
                          "horsepower": 90
                        },
                        {
                          "mpg": 34.2,
                          "displacement": 105,
                          "horsepower": 70
                        },
                        {
                          "mpg": 34.5,
                          "displacement": 105,
                          "horsepower": 70
                        },
                        {
                          "mpg": 31.8,
                          "displacement": 85,
                          "horsepower": 65
                        },
                        {
                          "mpg": 37.3,
                          "displacement": 91,
                          "horsepower": 69
                        },
                        {
                          "mpg": 28.4,
                          "displacement": 151,
                          "horsepower": 90
                        },
                        {
                          "mpg": 28.8,
                          "displacement": 173,
                          "horsepower": 115
                        },
                        {
                          "mpg": 26.8,
                          "displacement": 173,
                          "horsepower": 115
                        },
                        {
                          "mpg": 33.5,
                          "displacement": 151,
                          "horsepower": 90
                        },
                        {
                          "mpg": 41.5,
                          "displacement": 98,
                          "horsepower": 76
                        },
                        {
                          "mpg": 38.1,
                          "displacement": 89,
                          "horsepower": 60
                        },
                        {
                          "mpg": 32.1,
                          "displacement": 98,
                          "horsepower": 70
                        },
                        {
                          "mpg": 37.2,
                          "displacement": 86,
                          "horsepower": 65
                        },
                        {
                          "mpg": 28,
                          "displacement": 151,
                          "horsepower": 90
                        },
                        {
                          "mpg": 26.4,
                          "displacement": 140,
                          "horsepower": 88
                        },
                        {
                          "mpg": 24.3,
                          "displacement": 151,
                          "horsepower": 90
                        },
                        {
                          "mpg": 19.1,
                          "displacement": 225,
                          "horsepower": 90
                        },
                        {
                          "mpg": 34.3,
                          "displacement": 97,
                          "horsepower": 78
                        },
                        {
                          "mpg": 29.8,
                          "displacement": 134,
                          "horsepower": 90
                        },
                        {
                          "mpg": 31.3,
                          "displacement": 120,
                          "horsepower": 75
                        },
                        {
                          "mpg": 37,
                          "displacement": 119,
                          "horsepower": 92
                        },
                        {
                          "mpg": 32.2,
                          "displacement": 108,
                          "horsepower": 75
                        },
                        {
                          "mpg": 46.6,
                          "displacement": 86,
                          "horsepower": 65
                        },
                        {
                          "mpg": 27.9,
                          "displacement": 156,
                          "horsepower": 105
                        },
                        {
                          "mpg": 40.8,
                          "displacement": 85,
                          "horsepower": 65
                        },
                        {
                          "mpg": 44.3,
                          "displacement": 90,
                          "horsepower": 48
                        },
                        {
                          "mpg": 43.4,
                          "displacement": 90,
                          "horsepower": 48
                        },
                        {
                          "mpg": 36.4,
                          "displacement": 121,
                          "horsepower": 67
                        },
                        {
                          "mpg": 30,
                          "displacement": 146,
                          "horsepower": 67
                        },
                        {
                          "mpg": 44.6,
                          "displacement": 91,
                          "horsepower": 67
                        },
                        {
                          "mpg": 40.9,
                          "displacement": 85,
                          "horsepower": null
                        },
                        {
                          "mpg": 33.8,
                          "displacement": 97,
                          "horsepower": 67
                        },
                        {
                          "mpg": 29.8,
                          "displacement": 89,
                          "horsepower": 62
                        },
                        {
                          "mpg": 32.7,
                          "displacement": 168,
                          "horsepower": 132
                        },
                        {
                          "mpg": 23.7,
                          "displacement": 70,
                          "horsepower": 100
                        },
                        {
                          "mpg": 35,
                          "displacement": 122,
                          "horsepower": 88
                        },
                        {
                          "mpg": 23.6,
                          "displacement": 140,
                          "horsepower": null
                        },
                        {
                          "mpg": 32.4,
                          "displacement": 107,
                          "horsepower": 72
                        },
                        {
                          "mpg": 27.2,
                          "displacement": 135,
                          "horsepower": 84
                        },
                        {
                          "mpg": 26.6,
                          "displacement": 151,
                          "horsepower": 84
                        },
                        {
                          "mpg": 25.8,
                          "displacement": 156,
                          "horsepower": 92
                        },
                        {
                          "mpg": 23.5,
                          "displacement": 173,
                          "horsepower": 110
                        },
                        {
                          "mpg": 30,
                          "displacement": 135,
                          "horsepower": 84
                        },
                        {
                          "mpg": 39.1,
                          "displacement": 79,
                          "horsepower": 58
                        },
                        {
                          "mpg": 39,
                          "displacement": 86,
                          "horsepower": 64
                        },
                        {
                          "mpg": 35.1,
                          "displacement": 81,
                          "horsepower": 60
                        },
                        {
                          "mpg": 32.3,
                          "displacement": 97,
                          "horsepower": 67
                        },
                        {
                          "mpg": 37,
                          "displacement": 85,
                          "horsepower": 65
                        },
                        {
                          "mpg": 37.7,
                          "displacement": 89,
                          "horsepower": 62
                        },
                        {
                          "mpg": 34.1,
                          "displacement": 91,
                          "horsepower": 68
                        },
                        {
                          "mpg": 34.7,
                          "displacement": 105,
                          "horsepower": 63
                        },
                        {
                          "mpg": 34.4,
                          "displacement": 98,
                          "horsepower": 65
                        },
                        {
                          "mpg": 29.9,
                          "displacement": 98,
                          "horsepower": 65
                        },
                        {
                          "mpg": 33,
                          "displacement": 105,
                          "horsepower": 74
                        },
                        {
                          "mpg": 34.5,
                          "displacement": 100,
                          "horsepower": null
                        },
                        {
                          "mpg": 33.7,
                          "displacement": 107,
                          "horsepower": 75
                        },
                        {
                          "mpg": 32.4,
                          "displacement": 108,
                          "horsepower": 75
                        },
                        {
                          "mpg": 32.9,
                          "displacement": 119,
                          "horsepower": 100
                        },
                        {
                          "mpg": 31.6,
                          "displacement": 120,
                          "horsepower": 74
                        },
                        {
                          "mpg": 28.1,
                          "displacement": 141,
                          "horsepower": 80
                        },
                        {
                          "mpg": 30.7,
                          "displacement": 145,
                          "horsepower": 76
                        },
                        {
                          "mpg": 25.4,
                          "displacement": 168,
                          "horsepower": 116
                        },
                        {
                          "mpg": 24.2,
                          "displacement": 146,
                          "horsepower": 120
                        },
                        {
                          "mpg": 22.4,
                          "displacement": 231,
                          "horsepower": 110
                        },
                        {
                          "mpg": 26.6,
                          "displacement": 350,
                          "horsepower": 105
                        },
                        {
                          "mpg": 20.2,
                          "displacement": 200,
                          "horsepower": 88
                        },
                        {
                          "mpg": 17.6,
                          "displacement": 225,
                          "horsepower": 85
                        },
                        {
                          "mpg": 28,
                          "displacement": 112,
                          "horsepower": 88
                        },
                        {
                          "mpg": 27,
                          "displacement": 112,
                          "horsepower": 88
                        },
                        {
                          "mpg": 34,
                          "displacement": 112,
                          "horsepower": 88
                        },
                        {
                          "mpg": 31,
                          "displacement": 112,
                          "horsepower": 85
                        },
                        {
                          "mpg": 29,
                          "displacement": 135,
                          "horsepower": 84
                        },
                        {
                          "mpg": 27,
                          "displacement": 151,
                          "horsepower": 90
                        },
                        {
                          "mpg": 24,
                          "displacement": 140,
                          "horsepower": 92
                        },
                        {
                          "mpg": 23,
                          "displacement": 151,
                          "horsepower": null
                        },
                        {
                          "mpg": 36,
                          "displacement": 105,
                          "horsepower": 74
                        },
                        {
                          "mpg": 37,
                          "displacement": 91,
                          "horsepower": 68
                        },
                        {
                          "mpg": 31,
                          "displacement": 91,
                          "horsepower": 68
                        },
                        {
                          "mpg": 38,
                          "displacement": 105,
                          "horsepower": 63
                        },
                        {
                          "mpg": 36,
                          "displacement": 98,
                          "horsepower": 70
                        },
                        {
                          "mpg": 36,
                          "displacement": 120,
                          "horsepower": 88
                        },
                        {
                          "mpg": 36,
                          "displacement": 107,
                          "horsepower": 75
                        },
                        {
                          "mpg": 34,
                          "displacement": 108,
                          "horsepower": 70
                        },
                        {
                          "mpg": 38,
                          "displacement": 91,
                          "horsepower": 67
                        },
                        {
                          "mpg": 32,
                          "displacement": 91,
                          "horsepower": 67
                        },
                        {
                          "mpg": 38,
                          "displacement": 91,
                          "horsepower": 67
                        },
                        {
                          "mpg": 25,
                          "displacement": 181,
                          "horsepower": 110
                        },
                        {
                          "mpg": 38,
                          "displacement": 262,
                          "horsepower": 85
                        },
                        {
                          "mpg": 26,
                          "displacement": 156,
                          "horsepower": 92
                        },
                        {
                          "mpg": 22,
                          "displacement": 232,
                          "horsepower": 112
                        },
                        {
                          "mpg": 32,
                          "displacement": 144,
                          "horsepower": 96
                        },
                        {
                          "mpg": 36,
                          "displacement": 135,
                          "horsepower": 84
                        },
                        {
                          "mpg": 27,
                          "displacement": 151,
                          "horsepower": 90
                        },
                        {
                          "mpg": 27,
                          "displacement": 140,
                          "horsepower": 86
                        },
                        {
                          "mpg": 44,
                          "displacement": 97,
                          "horsepower": 52
                        },
                        {
                          "mpg": 32,
                          "displacement": 135,
                          "horsepower": 84
                        },
                        {
                          "mpg": 28,
                          "displacement": 120,
                          "horsepower": 79
                        },
                        {
                          "mpg": 31,
                          "displacement": 119,
                          "horsepower": 82
                        }
                      ]
                    },
                    "vislib": "vegalite"
                  },
                  {
                    "config": {
                      "view": {
                        "continuousWidth": 400,
                        "continuousHeight": 300
                      },
                      "axis": {
                        "labelColor": "#505050",
                        "labelFont": "Helvetica Neue",
                        "labelFontSize": 9,
                        "labelFontWeight": 400,
                        "titleFont": "Helvetica Neue",
                        "titleFontSize": 11,
                        "titleFontWeight": 500
                      },
                      "legend": {
                        "labelFont": "Helvetica Neue",
                        "labelFontSize": 9,
                        "labelFontWeight": 400,
                        "titleFont": "Helvetica Neue",
                        "titleFontSize": 10,
                        "titleFontWeight": 500
                      },
                      "mark": {
                        "tooltip": {
                          "content": "encoding"
                        }
                      },
                      "title": {
                        "font": "Helvetica Neue",
                        "fontSize": 13,
                        "fontWeight": 500
                      }
                    },
                    "data": {
                      "name": "data-7d99df7466915668179e4ef98426a217"
                    },
                    "mark": "circle",
                    "encoding": {
                      "color": {
                        "field": "acceleration",
                        "type": "quantitative"
                      },
                      "x": {
                        "axis": {
                          "title": "horsepower"
                        },
                        "field": "horsepower",
                        "scale": {
                          "domain": [
                            46,
                            230
                          ]
                        },
                        "type": "quantitative"
                      },
                      "y": {
                        "axis": {
                          "title": "mpg"
                        },
                        "field": "mpg",
                        "scale": {
                          "domain": [
                            9,
                            46.6
                          ]
                        },
                        "type": "quantitative"
                      }
                    },
                    "height": 150,
                    "selection": {
                      "selector059": {
                        "type": "interval",
                        "bind": "scales",
                        "encodings": [
                          "x",
                          "y"
                        ]
                      }
                    },
                    "width": 160,
                    "$schema": "https://vega.github.io/schema/vega-lite/v4.17.0.json",
                    "datasets": {
                      "data-7d99df7466915668179e4ef98426a217": [
                        {
                          "acceleration": 12,
                          "mpg": 18,
                          "horsepower": 130
                        },
                        {
                          "acceleration": 11.5,
                          "mpg": 15,
                          "horsepower": 165
                        },
                        {
                          "acceleration": 11,
                          "mpg": 18,
                          "horsepower": 150
                        },
                        {
                          "acceleration": 12,
                          "mpg": 16,
                          "horsepower": 150
                        },
                        {
                          "acceleration": 10.5,
                          "mpg": 17,
                          "horsepower": 140
                        },
                        {
                          "acceleration": 10,
                          "mpg": 15,
                          "horsepower": 198
                        },
                        {
                          "acceleration": 9,
                          "mpg": 14,
                          "horsepower": 220
                        },
                        {
                          "acceleration": 8.5,
                          "mpg": 14,
                          "horsepower": 215
                        },
                        {
                          "acceleration": 10,
                          "mpg": 14,
                          "horsepower": 225
                        },
                        {
                          "acceleration": 8.5,
                          "mpg": 15,
                          "horsepower": 190
                        },
                        {
                          "acceleration": 10,
                          "mpg": 15,
                          "horsepower": 170
                        },
                        {
                          "acceleration": 8,
                          "mpg": 14,
                          "horsepower": 160
                        },
                        {
                          "acceleration": 9.5,
                          "mpg": 15,
                          "horsepower": 150
                        },
                        {
                          "acceleration": 10,
                          "mpg": 14,
                          "horsepower": 225
                        },
                        {
                          "acceleration": 15,
                          "mpg": 24,
                          "horsepower": 95
                        },
                        {
                          "acceleration": 15.5,
                          "mpg": 22,
                          "horsepower": 95
                        },
                        {
                          "acceleration": 15.5,
                          "mpg": 18,
                          "horsepower": 97
                        },
                        {
                          "acceleration": 16,
                          "mpg": 21,
                          "horsepower": 85
                        },
                        {
                          "acceleration": 14.5,
                          "mpg": 27,
                          "horsepower": 88
                        },
                        {
                          "acceleration": 20.5,
                          "mpg": 26,
                          "horsepower": 46
                        },
                        {
                          "acceleration": 17.5,
                          "mpg": 25,
                          "horsepower": 87
                        },
                        {
                          "acceleration": 14.5,
                          "mpg": 24,
                          "horsepower": 90
                        },
                        {
                          "acceleration": 17.5,
                          "mpg": 25,
                          "horsepower": 95
                        },
                        {
                          "acceleration": 12.5,
                          "mpg": 26,
                          "horsepower": 113
                        },
                        {
                          "acceleration": 15,
                          "mpg": 21,
                          "horsepower": 90
                        },
                        {
                          "acceleration": 14,
                          "mpg": 10,
                          "horsepower": 215
                        },
                        {
                          "acceleration": 15,
                          "mpg": 10,
                          "horsepower": 200
                        },
                        {
                          "acceleration": 13.5,
                          "mpg": 11,
                          "horsepower": 210
                        },
                        {
                          "acceleration": 18.5,
                          "mpg": 9,
                          "horsepower": 193
                        },
                        {
                          "acceleration": 14.5,
                          "mpg": 27,
                          "horsepower": 88
                        },
                        {
                          "acceleration": 15.5,
                          "mpg": 28,
                          "horsepower": 90
                        },
                        {
                          "acceleration": 14,
                          "mpg": 25,
                          "horsepower": 95
                        },
                        {
                          "acceleration": 19,
                          "mpg": 25,
                          "horsepower": null
                        },
                        {
                          "acceleration": 13,
                          "mpg": 19,
                          "horsepower": 100
                        },
                        {
                          "acceleration": 15.5,
                          "mpg": 16,
                          "horsepower": 105
                        },
                        {
                          "acceleration": 15.5,
                          "mpg": 17,
                          "horsepower": 100
                        },
                        {
                          "acceleration": 15.5,
                          "mpg": 19,
                          "horsepower": 88
                        },
                        {
                          "acceleration": 15.5,
                          "mpg": 18,
                          "horsepower": 100
                        },
                        {
                          "acceleration": 12,
                          "mpg": 14,
                          "horsepower": 165
                        },
                        {
                          "acceleration": 11.5,
                          "mpg": 14,
                          "horsepower": 175
                        },
                        {
                          "acceleration": 13.5,
                          "mpg": 14,
                          "horsepower": 153
                        },
                        {
                          "acceleration": 13,
                          "mpg": 14,
                          "horsepower": 150
                        },
                        {
                          "acceleration": 11.5,
                          "mpg": 12,
                          "horsepower": 180
                        },
                        {
                          "acceleration": 12,
                          "mpg": 13,
                          "horsepower": 170
                        },
                        {
                          "acceleration": 12,
                          "mpg": 13,
                          "horsepower": 175
                        },
                        {
                          "acceleration": 13.5,
                          "mpg": 18,
                          "horsepower": 110
                        },
                        {
                          "acceleration": 19,
                          "mpg": 22,
                          "horsepower": 72
                        },
                        {
                          "acceleration": 15,
                          "mpg": 19,
                          "horsepower": 100
                        },
                        {
                          "acceleration": 14.5,
                          "mpg": 18,
                          "horsepower": 88
                        },
                        {
                          "acceleration": 14,
                          "mpg": 23,
                          "horsepower": 86
                        },
                        {
                          "acceleration": 14,
                          "mpg": 28,
                          "horsepower": 90
                        },
                        {
                          "acceleration": 19.5,
                          "mpg": 30,
                          "horsepower": 70
                        },
                        {
                          "acceleration": 14.5,
                          "mpg": 30,
                          "horsepower": 76
                        },
                        {
                          "acceleration": 19,
                          "mpg": 31,
                          "horsepower": 65
                        },
                        {
                          "acceleration": 18,
                          "mpg": 35,
                          "horsepower": 69
                        },
                        {
                          "acceleration": 19,
                          "mpg": 27,
                          "horsepower": 60
                        },
                        {
                          "acceleration": 20.5,
                          "mpg": 26,
                          "horsepower": 70
                        },
                        {
                          "acceleration": 15.5,
                          "mpg": 24,
                          "horsepower": 95
                        },
                        {
                          "acceleration": 17,
                          "mpg": 25,
                          "horsepower": 80
                        },
                        {
                          "acceleration": 23.5,
                          "mpg": 23,
                          "horsepower": 54
                        },
                        {
                          "acceleration": 19.5,
                          "mpg": 20,
                          "horsepower": 90
                        },
                        {
                          "acceleration": 16.5,
                          "mpg": 21,
                          "horsepower": 86
                        },
                        {
                          "acceleration": 12,
                          "mpg": 13,
                          "horsepower": 165
                        },
                        {
                          "acceleration": 12,
                          "mpg": 14,
                          "horsepower": 175
                        },
                        {
                          "acceleration": 13.5,
                          "mpg": 15,
                          "horsepower": 150
                        },
                        {
                          "acceleration": 13,
                          "mpg": 14,
                          "horsepower": 153
                        },
                        {
                          "acceleration": 11.5,
                          "mpg": 17,
                          "horsepower": 150
                        },
                        {
                          "acceleration": 11,
                          "mpg": 11,
                          "horsepower": 208
                        },
                        {
                          "acceleration": 13.5,
                          "mpg": 13,
                          "horsepower": 155
                        },
                        {
                          "acceleration": 13.5,
                          "mpg": 12,
                          "horsepower": 160
                        },
                        {
                          "acceleration": 12.5,
                          "mpg": 13,
                          "horsepower": 190
                        },
                        {
                          "acceleration": 13.5,
                          "mpg": 19,
                          "horsepower": 97
                        },
                        {
                          "acceleration": 12.5,
                          "mpg": 15,
                          "horsepower": 150
                        },
                        {
                          "acceleration": 14,
                          "mpg": 13,
                          "horsepower": 130
                        },
                        {
                          "acceleration": 16,
                          "mpg": 13,
                          "horsepower": 140
                        },
                        {
                          "acceleration": 14,
                          "mpg": 14,
                          "horsepower": 150
                        },
                        {
                          "acceleration": 14.5,
                          "mpg": 18,
                          "horsepower": 112
                        },
                        {
                          "acceleration": 18,
                          "mpg": 22,
                          "horsepower": 76
                        },
                        {
                          "acceleration": 19.5,
                          "mpg": 21,
                          "horsepower": 87
                        },
                        {
                          "acceleration": 18,
                          "mpg": 26,
                          "horsepower": 69
                        },
                        {
                          "acceleration": 16,
                          "mpg": 22,
                          "horsepower": 86
                        },
                        {
                          "acceleration": 17,
                          "mpg": 28,
                          "horsepower": 92
                        },
                        {
                          "acceleration": 14.5,
                          "mpg": 23,
                          "horsepower": 97
                        },
                        {
                          "acceleration": 15,
                          "mpg": 28,
                          "horsepower": 80
                        },
                        {
                          "acceleration": 16.5,
                          "mpg": 27,
                          "horsepower": 88
                        },
                        {
                          "acceleration": 13,
                          "mpg": 13,
                          "horsepower": 175
                        },
                        {
                          "acceleration": 11.5,
                          "mpg": 14,
                          "horsepower": 150
                        },
                        {
                          "acceleration": 13,
                          "mpg": 13,
                          "horsepower": 145
                        },
                        {
                          "acceleration": 14.5,
                          "mpg": 14,
                          "horsepower": 137
                        },
                        {
                          "acceleration": 12.5,
                          "mpg": 15,
                          "horsepower": 150
                        },
                        {
                          "acceleration": 11.5,
                          "mpg": 12,
                          "horsepower": 198
                        },
                        {
                          "acceleration": 12,
                          "mpg": 13,
                          "horsepower": 150
                        },
                        {
                          "acceleration": 13,
                          "mpg": 13,
                          "horsepower": 158
                        },
                        {
                          "acceleration": 14.5,
                          "mpg": 14,
                          "horsepower": 150
                        },
                        {
                          "acceleration": 11,
                          "mpg": 13,
                          "horsepower": 215
                        },
                        {
                          "acceleration": 11,
                          "mpg": 12,
                          "horsepower": 225
                        },
                        {
                          "acceleration": 11,
                          "mpg": 13,
                          "horsepower": 175
                        },
                        {
                          "acceleration": 16.5,
                          "mpg": 18,
                          "horsepower": 105
                        },
                        {
                          "acceleration": 18,
                          "mpg": 16,
                          "horsepower": 100
                        },
                        {
                          "acceleration": 16,
                          "mpg": 18,
                          "horsepower": 100
                        },
                        {
                          "acceleration": 16.5,
                          "mpg": 18,
                          "horsepower": 88
                        },
                        {
                          "acceleration": 16,
                          "mpg": 23,
                          "horsepower": 95
                        },
                        {
                          "acceleration": 21,
                          "mpg": 26,
                          "horsepower": 46
                        },
                        {
                          "acceleration": 14,
                          "mpg": 11,
                          "horsepower": 150
                        },
                        {
                          "acceleration": 12.5,
                          "mpg": 12,
                          "horsepower": 167
                        },
                        {
                          "acceleration": 13,
                          "mpg": 13,
                          "horsepower": 170
                        },
                        {
                          "acceleration": 12.5,
                          "mpg": 12,
                          "horsepower": 180
                        },
                        {
                          "acceleration": 15,
                          "mpg": 18,
                          "horsepower": 100
                        },
                        {
                          "acceleration": 19,
                          "mpg": 20,
                          "horsepower": 88
                        },
                        {
                          "acceleration": 19.5,
                          "mpg": 21,
                          "horsepower": 72
                        },
                        {
                          "acceleration": 16.5,
                          "mpg": 22,
                          "horsepower": 94
                        },
                        {
                          "acceleration": 13.5,
                          "mpg": 18,
                          "horsepower": 90
                        },
                        {
                          "acceleration": 18.5,
                          "mpg": 19,
                          "horsepower": 85
                        },
                        {
                          "acceleration": 14,
                          "mpg": 21,
                          "horsepower": 107
                        },
                        {
                          "acceleration": 15.5,
                          "mpg": 26,
                          "horsepower": 90
                        },
                        {
                          "acceleration": 13,
                          "mpg": 15,
                          "horsepower": 145
                        },
                        {
                          "acceleration": 9.5,
                          "mpg": 16,
                          "horsepower": 230
                        },
                        {
                          "acceleration": 19.5,
                          "mpg": 29,
                          "horsepower": 49
                        },
                        {
                          "acceleration": 15.5,
                          "mpg": 24,
                          "horsepower": 75
                        },
                        {
                          "acceleration": 14,
                          "mpg": 20,
                          "horsepower": 91
                        },
                        {
                          "acceleration": 15.5,
                          "mpg": 19,
                          "horsepower": 112
                        },
                        {
                          "acceleration": 11,
                          "mpg": 15,
                          "horsepower": 150
                        },
                        {
                          "acceleration": 14,
                          "mpg": 24,
                          "horsepower": 110
                        },
                        {
                          "acceleration": 13.5,
                          "mpg": 20,
                          "horsepower": 122
                        },
                        {
                          "acceleration": 11,
                          "mpg": 11,
                          "horsepower": 180
                        },
                        {
                          "acceleration": 16.5,
                          "mpg": 20,
                          "horsepower": 95
                        },
                        {
                          "acceleration": 17,
                          "mpg": 21,
                          "horsepower": null
                        },
                        {
                          "acceleration": 16,
                          "mpg": 19,
                          "horsepower": 100
                        },
                        {
                          "acceleration": 17,
                          "mpg": 15,
                          "horsepower": 100
                        },
                        {
                          "acceleration": 19,
                          "mpg": 31,
                          "horsepower": 67
                        },
                        {
                          "acceleration": 16.5,
                          "mpg": 26,
                          "horsepower": 80
                        },
                        {
                          "acceleration": 21,
                          "mpg": 32,
                          "horsepower": 65
                        },
                        {
                          "acceleration": 17,
                          "mpg": 25,
                          "horsepower": 75
                        },
                        {
                          "acceleration": 17,
                          "mpg": 16,
                          "horsepower": 100
                        },
                        {
                          "acceleration": 18,
                          "mpg": 16,
                          "horsepower": 110
                        },
                        {
                          "acceleration": 16.5,
                          "mpg": 18,
                          "horsepower": 105
                        },
                        {
                          "acceleration": 14,
                          "mpg": 16,
                          "horsepower": 140
                        },
                        {
                          "acceleration": 14.5,
                          "mpg": 13,
                          "horsepower": 150
                        },
                        {
                          "acceleration": 13.5,
                          "mpg": 14,
                          "horsepower": 150
                        },
                        {
                          "acceleration": 16,
                          "mpg": 14,
                          "horsepower": 140
                        },
                        {
                          "acceleration": 15.5,
                          "mpg": 14,
                          "horsepower": 150
                        },
                        {
                          "acceleration": 16.5,
                          "mpg": 29,
                          "horsepower": 83
                        },
                        {
                          "acceleration": 15.5,
                          "mpg": 26,
                          "horsepower": 67
                        },
                        {
                          "acceleration": 14.5,
                          "mpg": 26,
                          "horsepower": 78
                        },
                        {
                          "acceleration": 16.5,
                          "mpg": 31,
                          "horsepower": 52
                        },
                        {
                          "acceleration": 19,
                          "mpg": 32,
                          "horsepower": 61
                        },
                        {
                          "acceleration": 14.5,
                          "mpg": 28,
                          "horsepower": 75
                        },
                        {
                          "acceleration": 15.5,
                          "mpg": 24,
                          "horsepower": 75
                        },
                        {
                          "acceleration": 14,
                          "mpg": 26,
                          "horsepower": 75
                        },
                        {
                          "acceleration": 15,
                          "mpg": 24,
                          "horsepower": 97
                        },
                        {
                          "acceleration": 15.5,
                          "mpg": 26,
                          "horsepower": 93
                        },
                        {
                          "acceleration": 16,
                          "mpg": 31,
                          "horsepower": 67
                        },
                        {
                          "acceleration": 16,
                          "mpg": 19,
                          "horsepower": 95
                        },
                        {
                          "acceleration": 16,
                          "mpg": 18,
                          "horsepower": 105
                        },
                        {
                          "acceleration": 21,
                          "mpg": 15,
                          "horsepower": 72
                        },
                        {
                          "acceleration": 19.5,
                          "mpg": 15,
                          "horsepower": 72
                        },
                        {
                          "acceleration": 11.5,
                          "mpg": 16,
                          "horsepower": 170
                        },
                        {
                          "acceleration": 14,
                          "mpg": 15,
                          "horsepower": 145
                        },
                        {
                          "acceleration": 14.5,
                          "mpg": 16,
                          "horsepower": 150
                        },
                        {
                          "acceleration": 13.5,
                          "mpg": 14,
                          "horsepower": 148
                        },
                        {
                          "acceleration": 21,
                          "mpg": 17,
                          "horsepower": 110
                        },
                        {
                          "acceleration": 18.5,
                          "mpg": 16,
                          "horsepower": 105
                        },
                        {
                          "acceleration": 19,
                          "mpg": 15,
                          "horsepower": 110
                        },
                        {
                          "acceleration": 19,
                          "mpg": 18,
                          "horsepower": 95
                        },
                        {
                          "acceleration": 15,
                          "mpg": 21,
                          "horsepower": 110
                        },
                        {
                          "acceleration": 13.5,
                          "mpg": 20,
                          "horsepower": 110
                        },
                        {
                          "acceleration": 12,
                          "mpg": 13,
                          "horsepower": 129
                        },
                        {
                          "acceleration": 16,
                          "mpg": 29,
                          "horsepower": 75
                        },
                        {
                          "acceleration": 17,
                          "mpg": 23,
                          "horsepower": 83
                        },
                        {
                          "acceleration": 16,
                          "mpg": 20,
                          "horsepower": 100
                        },
                        {
                          "acceleration": 18.5,
                          "mpg": 23,
                          "horsepower": 78
                        },
                        {
                          "acceleration": 13.5,
                          "mpg": 24,
                          "horsepower": 96
                        },
                        {
                          "acceleration": 16.5,
                          "mpg": 25,
                          "horsepower": 71
                        },
                        {
                          "acceleration": 17,
                          "mpg": 24,
                          "horsepower": 97
                        },
                        {
                          "acceleration": 14.5,
                          "mpg": 18,
                          "horsepower": 97
                        },
                        {
                          "acceleration": 14,
                          "mpg": 29,
                          "horsepower": 70
                        },
                        {
                          "acceleration": 17,
                          "mpg": 19,
                          "horsepower": 90
                        },
                        {
                          "acceleration": 15,
                          "mpg": 23,
                          "horsepower": 95
                        },
                        {
                          "acceleration": 17,
                          "mpg": 23,
                          "horsepower": 88
                        },
                        {
                          "acceleration": 14.5,
                          "mpg": 22,
                          "horsepower": 98
                        },
                        {
                          "acceleration": 13.5,
                          "mpg": 25,
                          "horsepower": 115
                        },
                        {
                          "acceleration": 17.5,
                          "mpg": 33,
                          "horsepower": 53
                        },
                        {
                          "acceleration": 15.5,
                          "mpg": 28,
                          "horsepower": 86
                        },
                        {
                          "acceleration": 16.9,
                          "mpg": 25,
                          "horsepower": 81
                        },
                        {
                          "acceleration": 14.9,
                          "mpg": 25,
                          "horsepower": 92
                        },
                        {
                          "acceleration": 17.7,
                          "mpg": 26,
                          "horsepower": 79
                        },
                        {
                          "acceleration": 15.3,
                          "mpg": 27,
                          "horsepower": 83
                        },
                        {
                          "acceleration": 13,
                          "mpg": 17.5,
                          "horsepower": 140
                        },
                        {
                          "acceleration": 13,
                          "mpg": 16,
                          "horsepower": 150
                        },
                        {
                          "acceleration": 13.9,
                          "mpg": 15.5,
                          "horsepower": 120
                        },
                        {
                          "acceleration": 12.8,
                          "mpg": 14.5,
                          "horsepower": 152
                        },
                        {
                          "acceleration": 15.4,
                          "mpg": 22,
                          "horsepower": 100
                        },
                        {
                          "acceleration": 14.5,
                          "mpg": 22,
                          "horsepower": 105
                        },
                        {
                          "acceleration": 17.6,
                          "mpg": 24,
                          "horsepower": 81
                        },
                        {
                          "acceleration": 17.6,
                          "mpg": 22.5,
                          "horsepower": 90
                        },
                        {
                          "acceleration": 22.2,
                          "mpg": 29,
                          "horsepower": 52
                        },
                        {
                          "acceleration": 22.1,
                          "mpg": 24.5,
                          "horsepower": 60
                        },
                        {
                          "acceleration": 14.2,
                          "mpg": 29,
                          "horsepower": 70
                        },
                        {
                          "acceleration": 17.4,
                          "mpg": 33,
                          "horsepower": 53
                        },
                        {
                          "acceleration": 17.7,
                          "mpg": 20,
                          "horsepower": 100
                        },
                        {
                          "acceleration": 21,
                          "mpg": 18,
                          "horsepower": 78
                        },
                        {
                          "acceleration": 16.2,
                          "mpg": 18.5,
                          "horsepower": 110
                        },
                        {
                          "acceleration": 17.8,
                          "mpg": 17.5,
                          "horsepower": 95
                        },
                        {
                          "acceleration": 12.2,
                          "mpg": 29.5,
                          "horsepower": 71
                        },
                        {
                          "acceleration": 17,
                          "mpg": 32,
                          "horsepower": 70
                        },
                        {
                          "acceleration": 16.4,
                          "mpg": 28,
                          "horsepower": 75
                        },
                        {
                          "acceleration": 13.6,
                          "mpg": 26.5,
                          "horsepower": 72
                        },
                        {
                          "acceleration": 15.7,
                          "mpg": 20,
                          "horsepower": 102
                        },
                        {
                          "acceleration": 13.2,
                          "mpg": 13,
                          "horsepower": 150
                        },
                        {
                          "acceleration": 21.9,
                          "mpg": 19,
                          "horsepower": 88
                        },
                        {
                          "acceleration": 15.5,
                          "mpg": 19,
                          "horsepower": 108
                        },
                        {
                          "acceleration": 16.7,
                          "mpg": 16.5,
                          "horsepower": 120
                        },
                        {
                          "acceleration": 12.1,
                          "mpg": 16.5,
                          "horsepower": 180
                        },
                        {
                          "acceleration": 12,
                          "mpg": 13,
                          "horsepower": 145
                        },
                        {
                          "acceleration": 15,
                          "mpg": 13,
                          "horsepower": 130
                        },
                        {
                          "acceleration": 14,
                          "mpg": 13,
                          "horsepower": 150
                        },
                        {
                          "acceleration": 18.5,
                          "mpg": 31.5,
                          "horsepower": 68
                        },
                        {
                          "acceleration": 14.8,
                          "mpg": 30,
                          "horsepower": 80
                        },
                        {
                          "acceleration": 18.6,
                          "mpg": 36,
                          "horsepower": 58
                        },
                        {
                          "acceleration": 15.5,
                          "mpg": 25.5,
                          "horsepower": 96
                        },
                        {
                          "acceleration": 16.8,
                          "mpg": 33.5,
                          "horsepower": 70
                        },
                        {
                          "acceleration": 12.5,
                          "mpg": 17.5,
                          "horsepower": 145
                        },
                        {
                          "acceleration": 19,
                          "mpg": 17,
                          "horsepower": 110
                        },
                        {
                          "acceleration": 13.7,
                          "mpg": 15.5,
                          "horsepower": 145
                        },
                        {
                          "acceleration": 14.9,
                          "mpg": 15,
                          "horsepower": 130
                        },
                        {
                          "acceleration": 16.4,
                          "mpg": 17.5,
                          "horsepower": 110
                        },
                        {
                          "acceleration": 16.9,
                          "mpg": 20.5,
                          "horsepower": 105
                        },
                        {
                          "acceleration": 17.7,
                          "mpg": 19,
                          "horsepower": 100
                        },
                        {
                          "acceleration": 19,
                          "mpg": 18.5,
                          "horsepower": 98
                        },
                        {
                          "acceleration": 11.1,
                          "mpg": 16,
                          "horsepower": 180
                        },
                        {
                          "acceleration": 11.4,
                          "mpg": 15.5,
                          "horsepower": 170
                        },
                        {
                          "acceleration": 12.2,
                          "mpg": 15.5,
                          "horsepower": 190
                        },
                        {
                          "acceleration": 14.5,
                          "mpg": 16,
                          "horsepower": 149
                        },
                        {
                          "acceleration": 14.5,
                          "mpg": 29,
                          "horsepower": 78
                        },
                        {
                          "acceleration": 16,
                          "mpg": 24.5,
                          "horsepower": 88
                        },
                        {
                          "acceleration": 18.2,
                          "mpg": 26,
                          "horsepower": 75
                        },
                        {
                          "acceleration": 15.8,
                          "mpg": 25.5,
                          "horsepower": 89
                        },
                        {
                          "acceleration": 17,
                          "mpg": 30.5,
                          "horsepower": 63
                        },
                        {
                          "acceleration": 15.9,
                          "mpg": 33.5,
                          "horsepower": 83
                        },
                        {
                          "acceleration": 16.4,
                          "mpg": 30,
                          "horsepower": 67
                        },
                        {
                          "acceleration": 14.1,
                          "mpg": 30.5,
                          "horsepower": 78
                        },
                        {
                          "acceleration": 14.5,
                          "mpg": 22,
                          "horsepower": 97
                        },
                        {
                          "acceleration": 12.8,
                          "mpg": 21.5,
                          "horsepower": 110
                        },
                        {
                          "acceleration": 13.5,
                          "mpg": 21.5,
                          "horsepower": 110
                        },
                        {
                          "acceleration": 21.5,
                          "mpg": 43.1,
                          "horsepower": 48
                        },
                        {
                          "acceleration": 14.4,
                          "mpg": 36.1,
                          "horsepower": 66
                        },
                        {
                          "acceleration": 19.4,
                          "mpg": 32.8,
                          "horsepower": 52
                        },
                        {
                          "acceleration": 18.6,
                          "mpg": 39.4,
                          "horsepower": 70
                        },
                        {
                          "acceleration": 16.4,
                          "mpg": 36.1,
                          "horsepower": 60
                        },
                        {
                          "acceleration": 15.5,
                          "mpg": 19.9,
                          "horsepower": 110
                        },
                        {
                          "acceleration": 13.2,
                          "mpg": 19.4,
                          "horsepower": 140
                        },
                        {
                          "acceleration": 12.8,
                          "mpg": 20.2,
                          "horsepower": 139
                        },
                        {
                          "acceleration": 19.2,
                          "mpg": 19.2,
                          "horsepower": 105
                        },
                        {
                          "acceleration": 18.2,
                          "mpg": 20.5,
                          "horsepower": 95
                        },
                        {
                          "acceleration": 15.8,
                          "mpg": 20.2,
                          "horsepower": 85
                        },
                        {
                          "acceleration": 15.4,
                          "mpg": 25.1,
                          "horsepower": 88
                        },
                        {
                          "acceleration": 17.2,
                          "mpg": 20.5,
                          "horsepower": 100
                        },
                        {
                          "acceleration": 17.2,
                          "mpg": 19.4,
                          "horsepower": 90
                        },
                        {
                          "acceleration": 15.8,
                          "mpg": 20.6,
                          "horsepower": 105
                        },
                        {
                          "acceleration": 16.7,
                          "mpg": 20.8,
                          "horsepower": 85
                        },
                        {
                          "acceleration": 18.7,
                          "mpg": 18.6,
                          "horsepower": 110
                        },
                        {
                          "acceleration": 15.1,
                          "mpg": 18.1,
                          "horsepower": 120
                        },
                        {
                          "acceleration": 13.2,
                          "mpg": 19.2,
                          "horsepower": 145
                        },
                        {
                          "acceleration": 13.4,
                          "mpg": 17.7,
                          "horsepower": 165
                        },
                        {
                          "acceleration": 11.2,
                          "mpg": 18.1,
                          "horsepower": 139
                        },
                        {
                          "acceleration": 13.7,
                          "mpg": 17.5,
                          "horsepower": 140
                        },
                        {
                          "acceleration": 16.5,
                          "mpg": 30,
                          "horsepower": 68
                        },
                        {
                          "acceleration": 14.2,
                          "mpg": 27.5,
                          "horsepower": 95
                        },
                        {
                          "acceleration": 14.7,
                          "mpg": 27.2,
                          "horsepower": 97
                        },
                        {
                          "acceleration": 14.5,
                          "mpg": 30.9,
                          "horsepower": 75
                        },
                        {
                          "acceleration": 14.8,
                          "mpg": 21.1,
                          "horsepower": 95
                        },
                        {
                          "acceleration": 16.7,
                          "mpg": 23.2,
                          "horsepower": 105
                        },
                        {
                          "acceleration": 17.6,
                          "mpg": 23.8,
                          "horsepower": 85
                        },
                        {
                          "acceleration": 14.9,
                          "mpg": 23.9,
                          "horsepower": 97
                        },
                        {
                          "acceleration": 15.9,
                          "mpg": 20.3,
                          "horsepower": 103
                        },
                        {
                          "acceleration": 13.6,
                          "mpg": 17,
                          "horsepower": 125
                        },
                        {
                          "acceleration": 15.7,
                          "mpg": 21.6,
                          "horsepower": 115
                        },
                        {
                          "acceleration": 15.8,
                          "mpg": 16.2,
                          "horsepower": 133
                        },
                        {
                          "acceleration": 14.9,
                          "mpg": 31.5,
                          "horsepower": 71
                        },
                        {
                          "acceleration": 16.6,
                          "mpg": 29.5,
                          "horsepower": 68
                        },
                        {
                          "acceleration": 15.4,
                          "mpg": 21.5,
                          "horsepower": 115
                        },
                        {
                          "acceleration": 18.2,
                          "mpg": 19.8,
                          "horsepower": 85
                        },
                        {
                          "acceleration": 17.3,
                          "mpg": 22.3,
                          "horsepower": 88
                        },
                        {
                          "acceleration": 18.2,
                          "mpg": 20.2,
                          "horsepower": 90
                        },
                        {
                          "acceleration": 16.6,
                          "mpg": 20.6,
                          "horsepower": 110
                        },
                        {
                          "acceleration": 15.4,
                          "mpg": 17,
                          "horsepower": 130
                        },
                        {
                          "acceleration": 13.4,
                          "mpg": 17.6,
                          "horsepower": 129
                        },
                        {
                          "acceleration": 13.2,
                          "mpg": 16.5,
                          "horsepower": 138
                        },
                        {
                          "acceleration": 15.2,
                          "mpg": 18.2,
                          "horsepower": 135
                        },
                        {
                          "acceleration": 14.9,
                          "mpg": 16.9,
                          "horsepower": 155
                        },
                        {
                          "acceleration": 14.3,
                          "mpg": 15.5,
                          "horsepower": 142
                        },
                        {
                          "acceleration": 15,
                          "mpg": 19.2,
                          "horsepower": 125
                        },
                        {
                          "acceleration": 13,
                          "mpg": 18.5,
                          "horsepower": 150
                        },
                        {
                          "acceleration": 14,
                          "mpg": 31.9,
                          "horsepower": 71
                        },
                        {
                          "acceleration": 15.2,
                          "mpg": 34.1,
                          "horsepower": 65
                        },
                        {
                          "acceleration": 14.4,
                          "mpg": 35.7,
                          "horsepower": 80
                        },
                        {
                          "acceleration": 15,
                          "mpg": 27.4,
                          "horsepower": 80
                        },
                        {
                          "acceleration": 20.1,
                          "mpg": 25.4,
                          "horsepower": 77
                        },
                        {
                          "acceleration": 17.4,
                          "mpg": 23,
                          "horsepower": 125
                        },
                        {
                          "acceleration": 24.8,
                          "mpg": 27.2,
                          "horsepower": 71
                        },
                        {
                          "acceleration": 22.2,
                          "mpg": 23.9,
                          "horsepower": 90
                        },
                        {
                          "acceleration": 13.2,
                          "mpg": 34.2,
                          "horsepower": 70
                        },
                        {
                          "acceleration": 14.9,
                          "mpg": 34.5,
                          "horsepower": 70
                        },
                        {
                          "acceleration": 19.2,
                          "mpg": 31.8,
                          "horsepower": 65
                        },
                        {
                          "acceleration": 14.7,
                          "mpg": 37.3,
                          "horsepower": 69
                        },
                        {
                          "acceleration": 16,
                          "mpg": 28.4,
                          "horsepower": 90
                        },
                        {
                          "acceleration": 11.3,
                          "mpg": 28.8,
                          "horsepower": 115
                        },
                        {
                          "acceleration": 12.9,
                          "mpg": 26.8,
                          "horsepower": 115
                        },
                        {
                          "acceleration": 13.2,
                          "mpg": 33.5,
                          "horsepower": 90
                        },
                        {
                          "acceleration": 14.7,
                          "mpg": 41.5,
                          "horsepower": 76
                        },
                        {
                          "acceleration": 18.8,
                          "mpg": 38.1,
                          "horsepower": 60
                        },
                        {
                          "acceleration": 15.5,
                          "mpg": 32.1,
                          "horsepower": 70
                        },
                        {
                          "acceleration": 16.4,
                          "mpg": 37.2,
                          "horsepower": 65
                        },
                        {
                          "acceleration": 16.5,
                          "mpg": 28,
                          "horsepower": 90
                        },
                        {
                          "acceleration": 18.1,
                          "mpg": 26.4,
                          "horsepower": 88
                        },
                        {
                          "acceleration": 20.1,
                          "mpg": 24.3,
                          "horsepower": 90
                        },
                        {
                          "acceleration": 18.7,
                          "mpg": 19.1,
                          "horsepower": 90
                        },
                        {
                          "acceleration": 15.8,
                          "mpg": 34.3,
                          "horsepower": 78
                        },
                        {
                          "acceleration": 15.5,
                          "mpg": 29.8,
                          "horsepower": 90
                        },
                        {
                          "acceleration": 17.5,
                          "mpg": 31.3,
                          "horsepower": 75
                        },
                        {
                          "acceleration": 15,
                          "mpg": 37,
                          "horsepower": 92
                        },
                        {
                          "acceleration": 15.2,
                          "mpg": 32.2,
                          "horsepower": 75
                        },
                        {
                          "acceleration": 17.9,
                          "mpg": 46.6,
                          "horsepower": 65
                        },
                        {
                          "acceleration": 14.4,
                          "mpg": 27.9,
                          "horsepower": 105
                        },
                        {
                          "acceleration": 19.2,
                          "mpg": 40.8,
                          "horsepower": 65
                        },
                        {
                          "acceleration": 21.7,
                          "mpg": 44.3,
                          "horsepower": 48
                        },
                        {
                          "acceleration": 23.7,
                          "mpg": 43.4,
                          "horsepower": 48
                        },
                        {
                          "acceleration": 19.9,
                          "mpg": 36.4,
                          "horsepower": 67
                        },
                        {
                          "acceleration": 21.8,
                          "mpg": 30,
                          "horsepower": 67
                        },
                        {
                          "acceleration": 13.8,
                          "mpg": 44.6,
                          "horsepower": 67
                        },
                        {
                          "acceleration": 17.3,
                          "mpg": 40.9,
                          "horsepower": null
                        },
                        {
                          "acceleration": 18,
                          "mpg": 33.8,
                          "horsepower": 67
                        },
                        {
                          "acceleration": 15.3,
                          "mpg": 29.8,
                          "horsepower": 62
                        },
                        {
                          "acceleration": 11.4,
                          "mpg": 32.7,
                          "horsepower": 132
                        },
                        {
                          "acceleration": 12.5,
                          "mpg": 23.7,
                          "horsepower": 100
                        },
                        {
                          "acceleration": 15.1,
                          "mpg": 35,
                          "horsepower": 88
                        },
                        {
                          "acceleration": 14.3,
                          "mpg": 23.6,
                          "horsepower": null
                        },
                        {
                          "acceleration": 17,
                          "mpg": 32.4,
                          "horsepower": 72
                        },
                        {
                          "acceleration": 15.7,
                          "mpg": 27.2,
                          "horsepower": 84
                        },
                        {
                          "acceleration": 16.4,
                          "mpg": 26.6,
                          "horsepower": 84
                        },
                        {
                          "acceleration": 14.4,
                          "mpg": 25.8,
                          "horsepower": 92
                        },
                        {
                          "acceleration": 12.6,
                          "mpg": 23.5,
                          "horsepower": 110
                        },
                        {
                          "acceleration": 12.9,
                          "mpg": 30,
                          "horsepower": 84
                        },
                        {
                          "acceleration": 16.9,
                          "mpg": 39.1,
                          "horsepower": 58
                        },
                        {
                          "acceleration": 16.4,
                          "mpg": 39,
                          "horsepower": 64
                        },
                        {
                          "acceleration": 16.1,
                          "mpg": 35.1,
                          "horsepower": 60
                        },
                        {
                          "acceleration": 17.8,
                          "mpg": 32.3,
                          "horsepower": 67
                        },
                        {
                          "acceleration": 19.4,
                          "mpg": 37,
                          "horsepower": 65
                        },
                        {
                          "acceleration": 17.3,
                          "mpg": 37.7,
                          "horsepower": 62
                        },
                        {
                          "acceleration": 16,
                          "mpg": 34.1,
                          "horsepower": 68
                        },
                        {
                          "acceleration": 14.9,
                          "mpg": 34.7,
                          "horsepower": 63
                        },
                        {
                          "acceleration": 16.2,
                          "mpg": 34.4,
                          "horsepower": 65
                        },
                        {
                          "acceleration": 20.7,
                          "mpg": 29.9,
                          "horsepower": 65
                        },
                        {
                          "acceleration": 14.2,
                          "mpg": 33,
                          "horsepower": 74
                        },
                        {
                          "acceleration": 15.8,
                          "mpg": 34.5,
                          "horsepower": null
                        },
                        {
                          "acceleration": 14.4,
                          "mpg": 33.7,
                          "horsepower": 75
                        },
                        {
                          "acceleration": 16.8,
                          "mpg": 32.4,
                          "horsepower": 75
                        },
                        {
                          "acceleration": 14.8,
                          "mpg": 32.9,
                          "horsepower": 100
                        },
                        {
                          "acceleration": 18.3,
                          "mpg": 31.6,
                          "horsepower": 74
                        },
                        {
                          "acceleration": 20.4,
                          "mpg": 28.1,
                          "horsepower": 80
                        },
                        {
                          "acceleration": 19.6,
                          "mpg": 30.7,
                          "horsepower": 76
                        },
                        {
                          "acceleration": 12.6,
                          "mpg": 25.4,
                          "horsepower": 116
                        },
                        {
                          "acceleration": 13.8,
                          "mpg": 24.2,
                          "horsepower": 120
                        },
                        {
                          "acceleration": 15.8,
                          "mpg": 22.4,
                          "horsepower": 110
                        },
                        {
                          "acceleration": 19,
                          "mpg": 26.6,
                          "horsepower": 105
                        },
                        {
                          "acceleration": 17.1,
                          "mpg": 20.2,
                          "horsepower": 88
                        },
                        {
                          "acceleration": 16.6,
                          "mpg": 17.6,
                          "horsepower": 85
                        },
                        {
                          "acceleration": 19.6,
                          "mpg": 28,
                          "horsepower": 88
                        },
                        {
                          "acceleration": 18.6,
                          "mpg": 27,
                          "horsepower": 88
                        },
                        {
                          "acceleration": 18,
                          "mpg": 34,
                          "horsepower": 88
                        },
                        {
                          "acceleration": 16.2,
                          "mpg": 31,
                          "horsepower": 85
                        },
                        {
                          "acceleration": 16,
                          "mpg": 29,
                          "horsepower": 84
                        },
                        {
                          "acceleration": 18,
                          "mpg": 27,
                          "horsepower": 90
                        },
                        {
                          "acceleration": 16.4,
                          "mpg": 24,
                          "horsepower": 92
                        },
                        {
                          "acceleration": 20.5,
                          "mpg": 23,
                          "horsepower": null
                        },
                        {
                          "acceleration": 15.3,
                          "mpg": 36,
                          "horsepower": 74
                        },
                        {
                          "acceleration": 18.2,
                          "mpg": 37,
                          "horsepower": 68
                        },
                        {
                          "acceleration": 17.6,
                          "mpg": 31,
                          "horsepower": 68
                        },
                        {
                          "acceleration": 14.7,
                          "mpg": 38,
                          "horsepower": 63
                        },
                        {
                          "acceleration": 17.3,
                          "mpg": 36,
                          "horsepower": 70
                        },
                        {
                          "acceleration": 14.5,
                          "mpg": 36,
                          "horsepower": 88
                        },
                        {
                          "acceleration": 14.5,
                          "mpg": 36,
                          "horsepower": 75
                        },
                        {
                          "acceleration": 16.9,
                          "mpg": 34,
                          "horsepower": 70
                        },
                        {
                          "acceleration": 15,
                          "mpg": 38,
                          "horsepower": 67
                        },
                        {
                          "acceleration": 15.7,
                          "mpg": 32,
                          "horsepower": 67
                        },
                        {
                          "acceleration": 16.2,
                          "mpg": 38,
                          "horsepower": 67
                        },
                        {
                          "acceleration": 16.4,
                          "mpg": 25,
                          "horsepower": 110
                        },
                        {
                          "acceleration": 17,
                          "mpg": 38,
                          "horsepower": 85
                        },
                        {
                          "acceleration": 14.5,
                          "mpg": 26,
                          "horsepower": 92
                        },
                        {
                          "acceleration": 14.7,
                          "mpg": 22,
                          "horsepower": 112
                        },
                        {
                          "acceleration": 13.9,
                          "mpg": 32,
                          "horsepower": 96
                        },
                        {
                          "acceleration": 13,
                          "mpg": 36,
                          "horsepower": 84
                        },
                        {
                          "acceleration": 17.3,
                          "mpg": 27,
                          "horsepower": 90
                        },
                        {
                          "acceleration": 15.6,
                          "mpg": 27,
                          "horsepower": 86
                        },
                        {
                          "acceleration": 24.6,
                          "mpg": 44,
                          "horsepower": 52
                        },
                        {
                          "acceleration": 11.6,
                          "mpg": 32,
                          "horsepower": 84
                        },
                        {
                          "acceleration": 18.6,
                          "mpg": 28,
                          "horsepower": 79
                        },
                        {
                          "acceleration": 19.4,
                          "mpg": 31,
                          "horsepower": 82
                        }
                      ]
                    },
                    "vislib": "vegalite"
                  },
                  {
                    "config": {
                      "view": {
                        "continuousWidth": 400,
                        "continuousHeight": 300
                      },
                      "axis": {
                        "labelColor": "#505050",
                        "labelFont": "Helvetica Neue",
                        "labelFontSize": 9,
                        "labelFontWeight": 400,
                        "titleFont": "Helvetica Neue",
                        "titleFontSize": 11,
                        "titleFontWeight": 500
                      },
                      "legend": {
                        "labelFont": "Helvetica Neue",
                        "labelFontSize": 9,
                        "labelFontWeight": 400,
                        "titleFont": "Helvetica Neue",
                        "titleFontSize": 10,
                        "titleFontWeight": 500
                      },
                      "mark": {
                        "tooltip": {
                          "content": "encoding"
                        }
                      },
                      "title": {
                        "font": "Helvetica Neue",
                        "fontSize": 13,
                        "fontWeight": 500
                      }
                    },
                    "data": {
                      "name": "data-a8add9057cb8d6f673feffc0f15ff9ec"
                    },
                    "mark": "circle",
                    "encoding": {
                      "color": {
                        "field": "weight",
                        "type": "quantitative"
                      },
                      "x": {
                        "axis": {
                          "title": "horsepower"
                        },
                        "field": "horsepower",
                        "scale": {
                          "domain": [
                            46,
                            230
                          ]
                        },
                        "type": "quantitative"
                      },
                      "y": {
                        "axis": {
                          "title": "mpg"
                        },
                        "field": "mpg",
                        "scale": {
                          "domain": [
                            9,
                            46.6
                          ]
                        },
                        "type": "quantitative"
                      }
                    },
                    "height": 150,
                    "selection": {
                      "selector060": {
                        "type": "interval",
                        "bind": "scales",
                        "encodings": [
                          "x",
                          "y"
                        ]
                      }
                    },
                    "width": 160,
                    "$schema": "https://vega.github.io/schema/vega-lite/v4.17.0.json",
                    "datasets": {
                      "data-a8add9057cb8d6f673feffc0f15ff9ec": [
                        {
                          "mpg": 18,
                          "weight": 3504,
                          "horsepower": 130
                        },
                        {
                          "mpg": 15,
                          "weight": 3693,
                          "horsepower": 165
                        },
                        {
                          "mpg": 18,
                          "weight": 3436,
                          "horsepower": 150
                        },
                        {
                          "mpg": 16,
                          "weight": 3433,
                          "horsepower": 150
                        },
                        {
                          "mpg": 17,
                          "weight": 3449,
                          "horsepower": 140
                        },
                        {
                          "mpg": 15,
                          "weight": 4341,
                          "horsepower": 198
                        },
                        {
                          "mpg": 14,
                          "weight": 4354,
                          "horsepower": 220
                        },
                        {
                          "mpg": 14,
                          "weight": 4312,
                          "horsepower": 215
                        },
                        {
                          "mpg": 14,
                          "weight": 4425,
                          "horsepower": 225
                        },
                        {
                          "mpg": 15,
                          "weight": 3850,
                          "horsepower": 190
                        },
                        {
                          "mpg": 15,
                          "weight": 3563,
                          "horsepower": 170
                        },
                        {
                          "mpg": 14,
                          "weight": 3609,
                          "horsepower": 160
                        },
                        {
                          "mpg": 15,
                          "weight": 3761,
                          "horsepower": 150
                        },
                        {
                          "mpg": 14,
                          "weight": 3086,
                          "horsepower": 225
                        },
                        {
                          "mpg": 24,
                          "weight": 2372,
                          "horsepower": 95
                        },
                        {
                          "mpg": 22,
                          "weight": 2833,
                          "horsepower": 95
                        },
                        {
                          "mpg": 18,
                          "weight": 2774,
                          "horsepower": 97
                        },
                        {
                          "mpg": 21,
                          "weight": 2587,
                          "horsepower": 85
                        },
                        {
                          "mpg": 27,
                          "weight": 2130,
                          "horsepower": 88
                        },
                        {
                          "mpg": 26,
                          "weight": 1835,
                          "horsepower": 46
                        },
                        {
                          "mpg": 25,
                          "weight": 2672,
                          "horsepower": 87
                        },
                        {
                          "mpg": 24,
                          "weight": 2430,
                          "horsepower": 90
                        },
                        {
                          "mpg": 25,
                          "weight": 2375,
                          "horsepower": 95
                        },
                        {
                          "mpg": 26,
                          "weight": 2234,
                          "horsepower": 113
                        },
                        {
                          "mpg": 21,
                          "weight": 2648,
                          "horsepower": 90
                        },
                        {
                          "mpg": 10,
                          "weight": 4615,
                          "horsepower": 215
                        },
                        {
                          "mpg": 10,
                          "weight": 4376,
                          "horsepower": 200
                        },
                        {
                          "mpg": 11,
                          "weight": 4382,
                          "horsepower": 210
                        },
                        {
                          "mpg": 9,
                          "weight": 4732,
                          "horsepower": 193
                        },
                        {
                          "mpg": 27,
                          "weight": 2130,
                          "horsepower": 88
                        },
                        {
                          "mpg": 28,
                          "weight": 2264,
                          "horsepower": 90
                        },
                        {
                          "mpg": 25,
                          "weight": 2228,
                          "horsepower": 95
                        },
                        {
                          "mpg": 25,
                          "weight": 2046,
                          "horsepower": null
                        },
                        {
                          "mpg": 19,
                          "weight": 2634,
                          "horsepower": 100
                        },
                        {
                          "mpg": 16,
                          "weight": 3439,
                          "horsepower": 105
                        },
                        {
                          "mpg": 17,
                          "weight": 3329,
                          "horsepower": 100
                        },
                        {
                          "mpg": 19,
                          "weight": 3302,
                          "horsepower": 88
                        },
                        {
                          "mpg": 18,
                          "weight": 3288,
                          "horsepower": 100
                        },
                        {
                          "mpg": 14,
                          "weight": 4209,
                          "horsepower": 165
                        },
                        {
                          "mpg": 14,
                          "weight": 4464,
                          "horsepower": 175
                        },
                        {
                          "mpg": 14,
                          "weight": 4154,
                          "horsepower": 153
                        },
                        {
                          "mpg": 14,
                          "weight": 4096,
                          "horsepower": 150
                        },
                        {
                          "mpg": 12,
                          "weight": 4955,
                          "horsepower": 180
                        },
                        {
                          "mpg": 13,
                          "weight": 4746,
                          "horsepower": 170
                        },
                        {
                          "mpg": 13,
                          "weight": 5140,
                          "horsepower": 175
                        },
                        {
                          "mpg": 18,
                          "weight": 2962,
                          "horsepower": 110
                        },
                        {
                          "mpg": 22,
                          "weight": 2408,
                          "horsepower": 72
                        },
                        {
                          "mpg": 19,
                          "weight": 3282,
                          "horsepower": 100
                        },
                        {
                          "mpg": 18,
                          "weight": 3139,
                          "horsepower": 88
                        },
                        {
                          "mpg": 23,
                          "weight": 2220,
                          "horsepower": 86
                        },
                        {
                          "mpg": 28,
                          "weight": 2123,
                          "horsepower": 90
                        },
                        {
                          "mpg": 30,
                          "weight": 2074,
                          "horsepower": 70
                        },
                        {
                          "mpg": 30,
                          "weight": 2065,
                          "horsepower": 76
                        },
                        {
                          "mpg": 31,
                          "weight": 1773,
                          "horsepower": 65
                        },
                        {
                          "mpg": 35,
                          "weight": 1613,
                          "horsepower": 69
                        },
                        {
                          "mpg": 27,
                          "weight": 1834,
                          "horsepower": 60
                        },
                        {
                          "mpg": 26,
                          "weight": 1955,
                          "horsepower": 70
                        },
                        {
                          "mpg": 24,
                          "weight": 2278,
                          "horsepower": 95
                        },
                        {
                          "mpg": 25,
                          "weight": 2126,
                          "horsepower": 80
                        },
                        {
                          "mpg": 23,
                          "weight": 2254,
                          "horsepower": 54
                        },
                        {
                          "mpg": 20,
                          "weight": 2408,
                          "horsepower": 90
                        },
                        {
                          "mpg": 21,
                          "weight": 2226,
                          "horsepower": 86
                        },
                        {
                          "mpg": 13,
                          "weight": 4274,
                          "horsepower": 165
                        },
                        {
                          "mpg": 14,
                          "weight": 4385,
                          "horsepower": 175
                        },
                        {
                          "mpg": 15,
                          "weight": 4135,
                          "horsepower": 150
                        },
                        {
                          "mpg": 14,
                          "weight": 4129,
                          "horsepower": 153
                        },
                        {
                          "mpg": 17,
                          "weight": 3672,
                          "horsepower": 150
                        },
                        {
                          "mpg": 11,
                          "weight": 4633,
                          "horsepower": 208
                        },
                        {
                          "mpg": 13,
                          "weight": 4502,
                          "horsepower": 155
                        },
                        {
                          "mpg": 12,
                          "weight": 4456,
                          "horsepower": 160
                        },
                        {
                          "mpg": 13,
                          "weight": 4422,
                          "horsepower": 190
                        },
                        {
                          "mpg": 19,
                          "weight": 2330,
                          "horsepower": 97
                        },
                        {
                          "mpg": 15,
                          "weight": 3892,
                          "horsepower": 150
                        },
                        {
                          "mpg": 13,
                          "weight": 4098,
                          "horsepower": 130
                        },
                        {
                          "mpg": 13,
                          "weight": 4294,
                          "horsepower": 140
                        },
                        {
                          "mpg": 14,
                          "weight": 4077,
                          "horsepower": 150
                        },
                        {
                          "mpg": 18,
                          "weight": 2933,
                          "horsepower": 112
                        },
                        {
                          "mpg": 22,
                          "weight": 2511,
                          "horsepower": 76
                        },
                        {
                          "mpg": 21,
                          "weight": 2979,
                          "horsepower": 87
                        },
                        {
                          "mpg": 26,
                          "weight": 2189,
                          "horsepower": 69
                        },
                        {
                          "mpg": 22,
                          "weight": 2395,
                          "horsepower": 86
                        },
                        {
                          "mpg": 28,
                          "weight": 2288,
                          "horsepower": 92
                        },
                        {
                          "mpg": 23,
                          "weight": 2506,
                          "horsepower": 97
                        },
                        {
                          "mpg": 28,
                          "weight": 2164,
                          "horsepower": 80
                        },
                        {
                          "mpg": 27,
                          "weight": 2100,
                          "horsepower": 88
                        },
                        {
                          "mpg": 13,
                          "weight": 4100,
                          "horsepower": 175
                        },
                        {
                          "mpg": 14,
                          "weight": 3672,
                          "horsepower": 150
                        },
                        {
                          "mpg": 13,
                          "weight": 3988,
                          "horsepower": 145
                        },
                        {
                          "mpg": 14,
                          "weight": 4042,
                          "horsepower": 137
                        },
                        {
                          "mpg": 15,
                          "weight": 3777,
                          "horsepower": 150
                        },
                        {
                          "mpg": 12,
                          "weight": 4952,
                          "horsepower": 198
                        },
                        {
                          "mpg": 13,
                          "weight": 4464,
                          "horsepower": 150
                        },
                        {
                          "mpg": 13,
                          "weight": 4363,
                          "horsepower": 158
                        },
                        {
                          "mpg": 14,
                          "weight": 4237,
                          "horsepower": 150
                        },
                        {
                          "mpg": 13,
                          "weight": 4735,
                          "horsepower": 215
                        },
                        {
                          "mpg": 12,
                          "weight": 4951,
                          "horsepower": 225
                        },
                        {
                          "mpg": 13,
                          "weight": 3821,
                          "horsepower": 175
                        },
                        {
                          "mpg": 18,
                          "weight": 3121,
                          "horsepower": 105
                        },
                        {
                          "mpg": 16,
                          "weight": 3278,
                          "horsepower": 100
                        },
                        {
                          "mpg": 18,
                          "weight": 2945,
                          "horsepower": 100
                        },
                        {
                          "mpg": 18,
                          "weight": 3021,
                          "horsepower": 88
                        },
                        {
                          "mpg": 23,
                          "weight": 2904,
                          "horsepower": 95
                        },
                        {
                          "mpg": 26,
                          "weight": 1950,
                          "horsepower": 46
                        },
                        {
                          "mpg": 11,
                          "weight": 4997,
                          "horsepower": 150
                        },
                        {
                          "mpg": 12,
                          "weight": 4906,
                          "horsepower": 167
                        },
                        {
                          "mpg": 13,
                          "weight": 4654,
                          "horsepower": 170
                        },
                        {
                          "mpg": 12,
                          "weight": 4499,
                          "horsepower": 180
                        },
                        {
                          "mpg": 18,
                          "weight": 2789,
                          "horsepower": 100
                        },
                        {
                          "mpg": 20,
                          "weight": 2279,
                          "horsepower": 88
                        },
                        {
                          "mpg": 21,
                          "weight": 2401,
                          "horsepower": 72
                        },
                        {
                          "mpg": 22,
                          "weight": 2379,
                          "horsepower": 94
                        },
                        {
                          "mpg": 18,
                          "weight": 2124,
                          "horsepower": 90
                        },
                        {
                          "mpg": 19,
                          "weight": 2310,
                          "horsepower": 85
                        },
                        {
                          "mpg": 21,
                          "weight": 2472,
                          "horsepower": 107
                        },
                        {
                          "mpg": 26,
                          "weight": 2265,
                          "horsepower": 90
                        },
                        {
                          "mpg": 15,
                          "weight": 4082,
                          "horsepower": 145
                        },
                        {
                          "mpg": 16,
                          "weight": 4278,
                          "horsepower": 230
                        },
                        {
                          "mpg": 29,
                          "weight": 1867,
                          "horsepower": 49
                        },
                        {
                          "mpg": 24,
                          "weight": 2158,
                          "horsepower": 75
                        },
                        {
                          "mpg": 20,
                          "weight": 2582,
                          "horsepower": 91
                        },
                        {
                          "mpg": 19,
                          "weight": 2868,
                          "horsepower": 112
                        },
                        {
                          "mpg": 15,
                          "weight": 3399,
                          "horsepower": 150
                        },
                        {
                          "mpg": 24,
                          "weight": 2660,
                          "horsepower": 110
                        },
                        {
                          "mpg": 20,
                          "weight": 2807,
                          "horsepower": 122
                        },
                        {
                          "mpg": 11,
                          "weight": 3664,
                          "horsepower": 180
                        },
                        {
                          "mpg": 20,
                          "weight": 3102,
                          "horsepower": 95
                        },
                        {
                          "mpg": 21,
                          "weight": 2875,
                          "horsepower": null
                        },
                        {
                          "mpg": 19,
                          "weight": 2901,
                          "horsepower": 100
                        },
                        {
                          "mpg": 15,
                          "weight": 3336,
                          "horsepower": 100
                        },
                        {
                          "mpg": 31,
                          "weight": 1950,
                          "horsepower": 67
                        },
                        {
                          "mpg": 26,
                          "weight": 2451,
                          "horsepower": 80
                        },
                        {
                          "mpg": 32,
                          "weight": 1836,
                          "horsepower": 65
                        },
                        {
                          "mpg": 25,
                          "weight": 2542,
                          "horsepower": 75
                        },
                        {
                          "mpg": 16,
                          "weight": 3781,
                          "horsepower": 100
                        },
                        {
                          "mpg": 16,
                          "weight": 3632,
                          "horsepower": 110
                        },
                        {
                          "mpg": 18,
                          "weight": 3613,
                          "horsepower": 105
                        },
                        {
                          "mpg": 16,
                          "weight": 4141,
                          "horsepower": 140
                        },
                        {
                          "mpg": 13,
                          "weight": 4699,
                          "horsepower": 150
                        },
                        {
                          "mpg": 14,
                          "weight": 4457,
                          "horsepower": 150
                        },
                        {
                          "mpg": 14,
                          "weight": 4638,
                          "horsepower": 140
                        },
                        {
                          "mpg": 14,
                          "weight": 4257,
                          "horsepower": 150
                        },
                        {
                          "mpg": 29,
                          "weight": 2219,
                          "horsepower": 83
                        },
                        {
                          "mpg": 26,
                          "weight": 1963,
                          "horsepower": 67
                        },
                        {
                          "mpg": 26,
                          "weight": 2300,
                          "horsepower": 78
                        },
                        {
                          "mpg": 31,
                          "weight": 1649,
                          "horsepower": 52
                        },
                        {
                          "mpg": 32,
                          "weight": 2003,
                          "horsepower": 61
                        },
                        {
                          "mpg": 28,
                          "weight": 2125,
                          "horsepower": 75
                        },
                        {
                          "mpg": 24,
                          "weight": 2108,
                          "horsepower": 75
                        },
                        {
                          "mpg": 26,
                          "weight": 2246,
                          "horsepower": 75
                        },
                        {
                          "mpg": 24,
                          "weight": 2489,
                          "horsepower": 97
                        },
                        {
                          "mpg": 26,
                          "weight": 2391,
                          "horsepower": 93
                        },
                        {
                          "mpg": 31,
                          "weight": 2000,
                          "horsepower": 67
                        },
                        {
                          "mpg": 19,
                          "weight": 3264,
                          "horsepower": 95
                        },
                        {
                          "mpg": 18,
                          "weight": 3459,
                          "horsepower": 105
                        },
                        {
                          "mpg": 15,
                          "weight": 3432,
                          "horsepower": 72
                        },
                        {
                          "mpg": 15,
                          "weight": 3158,
                          "horsepower": 72
                        },
                        {
                          "mpg": 16,
                          "weight": 4668,
                          "horsepower": 170
                        },
                        {
                          "mpg": 15,
                          "weight": 4440,
                          "horsepower": 145
                        },
                        {
                          "mpg": 16,
                          "weight": 4498,
                          "horsepower": 150
                        },
                        {
                          "mpg": 14,
                          "weight": 4657,
                          "horsepower": 148
                        },
                        {
                          "mpg": 17,
                          "weight": 3907,
                          "horsepower": 110
                        },
                        {
                          "mpg": 16,
                          "weight": 3897,
                          "horsepower": 105
                        },
                        {
                          "mpg": 15,
                          "weight": 3730,
                          "horsepower": 110
                        },
                        {
                          "mpg": 18,
                          "weight": 3785,
                          "horsepower": 95
                        },
                        {
                          "mpg": 21,
                          "weight": 3039,
                          "horsepower": 110
                        },
                        {
                          "mpg": 20,
                          "weight": 3221,
                          "horsepower": 110
                        },
                        {
                          "mpg": 13,
                          "weight": 3169,
                          "horsepower": 129
                        },
                        {
                          "mpg": 29,
                          "weight": 2171,
                          "horsepower": 75
                        },
                        {
                          "mpg": 23,
                          "weight": 2639,
                          "horsepower": 83
                        },
                        {
                          "mpg": 20,
                          "weight": 2914,
                          "horsepower": 100
                        },
                        {
                          "mpg": 23,
                          "weight": 2592,
                          "horsepower": 78
                        },
                        {
                          "mpg": 24,
                          "weight": 2702,
                          "horsepower": 96
                        },
                        {
                          "mpg": 25,
                          "weight": 2223,
                          "horsepower": 71
                        },
                        {
                          "mpg": 24,
                          "weight": 2545,
                          "horsepower": 97
                        },
                        {
                          "mpg": 18,
                          "weight": 2984,
                          "horsepower": 97
                        },
                        {
                          "mpg": 29,
                          "weight": 1937,
                          "horsepower": 70
                        },
                        {
                          "mpg": 19,
                          "weight": 3211,
                          "horsepower": 90
                        },
                        {
                          "mpg": 23,
                          "weight": 2694,
                          "horsepower": 95
                        },
                        {
                          "mpg": 23,
                          "weight": 2957,
                          "horsepower": 88
                        },
                        {
                          "mpg": 22,
                          "weight": 2945,
                          "horsepower": 98
                        },
                        {
                          "mpg": 25,
                          "weight": 2671,
                          "horsepower": 115
                        },
                        {
                          "mpg": 33,
                          "weight": 1795,
                          "horsepower": 53
                        },
                        {
                          "mpg": 28,
                          "weight": 2464,
                          "horsepower": 86
                        },
                        {
                          "mpg": 25,
                          "weight": 2220,
                          "horsepower": 81
                        },
                        {
                          "mpg": 25,
                          "weight": 2572,
                          "horsepower": 92
                        },
                        {
                          "mpg": 26,
                          "weight": 2255,
                          "horsepower": 79
                        },
                        {
                          "mpg": 27,
                          "weight": 2202,
                          "horsepower": 83
                        },
                        {
                          "mpg": 17.5,
                          "weight": 4215,
                          "horsepower": 140
                        },
                        {
                          "mpg": 16,
                          "weight": 4190,
                          "horsepower": 150
                        },
                        {
                          "mpg": 15.5,
                          "weight": 3962,
                          "horsepower": 120
                        },
                        {
                          "mpg": 14.5,
                          "weight": 4215,
                          "horsepower": 152
                        },
                        {
                          "mpg": 22,
                          "weight": 3233,
                          "horsepower": 100
                        },
                        {
                          "mpg": 22,
                          "weight": 3353,
                          "horsepower": 105
                        },
                        {
                          "mpg": 24,
                          "weight": 3012,
                          "horsepower": 81
                        },
                        {
                          "mpg": 22.5,
                          "weight": 3085,
                          "horsepower": 90
                        },
                        {
                          "mpg": 29,
                          "weight": 2035,
                          "horsepower": 52
                        },
                        {
                          "mpg": 24.5,
                          "weight": 2164,
                          "horsepower": 60
                        },
                        {
                          "mpg": 29,
                          "weight": 1937,
                          "horsepower": 70
                        },
                        {
                          "mpg": 33,
                          "weight": 1795,
                          "horsepower": 53
                        },
                        {
                          "mpg": 20,
                          "weight": 3651,
                          "horsepower": 100
                        },
                        {
                          "mpg": 18,
                          "weight": 3574,
                          "horsepower": 78
                        },
                        {
                          "mpg": 18.5,
                          "weight": 3645,
                          "horsepower": 110
                        },
                        {
                          "mpg": 17.5,
                          "weight": 3193,
                          "horsepower": 95
                        },
                        {
                          "mpg": 29.5,
                          "weight": 1825,
                          "horsepower": 71
                        },
                        {
                          "mpg": 32,
                          "weight": 1990,
                          "horsepower": 70
                        },
                        {
                          "mpg": 28,
                          "weight": 2155,
                          "horsepower": 75
                        },
                        {
                          "mpg": 26.5,
                          "weight": 2565,
                          "horsepower": 72
                        },
                        {
                          "mpg": 20,
                          "weight": 3150,
                          "horsepower": 102
                        },
                        {
                          "mpg": 13,
                          "weight": 3940,
                          "horsepower": 150
                        },
                        {
                          "mpg": 19,
                          "weight": 3270,
                          "horsepower": 88
                        },
                        {
                          "mpg": 19,
                          "weight": 2930,
                          "horsepower": 108
                        },
                        {
                          "mpg": 16.5,
                          "weight": 3820,
                          "horsepower": 120
                        },
                        {
                          "mpg": 16.5,
                          "weight": 4380,
                          "horsepower": 180
                        },
                        {
                          "mpg": 13,
                          "weight": 4055,
                          "horsepower": 145
                        },
                        {
                          "mpg": 13,
                          "weight": 3870,
                          "horsepower": 130
                        },
                        {
                          "mpg": 13,
                          "weight": 3755,
                          "horsepower": 150
                        },
                        {
                          "mpg": 31.5,
                          "weight": 2045,
                          "horsepower": 68
                        },
                        {
                          "mpg": 30,
                          "weight": 2155,
                          "horsepower": 80
                        },
                        {
                          "mpg": 36,
                          "weight": 1825,
                          "horsepower": 58
                        },
                        {
                          "mpg": 25.5,
                          "weight": 2300,
                          "horsepower": 96
                        },
                        {
                          "mpg": 33.5,
                          "weight": 1945,
                          "horsepower": 70
                        },
                        {
                          "mpg": 17.5,
                          "weight": 3880,
                          "horsepower": 145
                        },
                        {
                          "mpg": 17,
                          "weight": 4060,
                          "horsepower": 110
                        },
                        {
                          "mpg": 15.5,
                          "weight": 4140,
                          "horsepower": 145
                        },
                        {
                          "mpg": 15,
                          "weight": 4295,
                          "horsepower": 130
                        },
                        {
                          "mpg": 17.5,
                          "weight": 3520,
                          "horsepower": 110
                        },
                        {
                          "mpg": 20.5,
                          "weight": 3425,
                          "horsepower": 105
                        },
                        {
                          "mpg": 19,
                          "weight": 3630,
                          "horsepower": 100
                        },
                        {
                          "mpg": 18.5,
                          "weight": 3525,
                          "horsepower": 98
                        },
                        {
                          "mpg": 16,
                          "weight": 4220,
                          "horsepower": 180
                        },
                        {
                          "mpg": 15.5,
                          "weight": 4165,
                          "horsepower": 170
                        },
                        {
                          "mpg": 15.5,
                          "weight": 4325,
                          "horsepower": 190
                        },
                        {
                          "mpg": 16,
                          "weight": 4335,
                          "horsepower": 149
                        },
                        {
                          "mpg": 29,
                          "weight": 1940,
                          "horsepower": 78
                        },
                        {
                          "mpg": 24.5,
                          "weight": 2740,
                          "horsepower": 88
                        },
                        {
                          "mpg": 26,
                          "weight": 2265,
                          "horsepower": 75
                        },
                        {
                          "mpg": 25.5,
                          "weight": 2755,
                          "horsepower": 89
                        },
                        {
                          "mpg": 30.5,
                          "weight": 2051,
                          "horsepower": 63
                        },
                        {
                          "mpg": 33.5,
                          "weight": 2075,
                          "horsepower": 83
                        },
                        {
                          "mpg": 30,
                          "weight": 1985,
                          "horsepower": 67
                        },
                        {
                          "mpg": 30.5,
                          "weight": 2190,
                          "horsepower": 78
                        },
                        {
                          "mpg": 22,
                          "weight": 2815,
                          "horsepower": 97
                        },
                        {
                          "mpg": 21.5,
                          "weight": 2600,
                          "horsepower": 110
                        },
                        {
                          "mpg": 21.5,
                          "weight": 2720,
                          "horsepower": 110
                        },
                        {
                          "mpg": 43.1,
                          "weight": 1985,
                          "horsepower": 48
                        },
                        {
                          "mpg": 36.1,
                          "weight": 1800,
                          "horsepower": 66
                        },
                        {
                          "mpg": 32.8,
                          "weight": 1985,
                          "horsepower": 52
                        },
                        {
                          "mpg": 39.4,
                          "weight": 2070,
                          "horsepower": 70
                        },
                        {
                          "mpg": 36.1,
                          "weight": 1800,
                          "horsepower": 60
                        },
                        {
                          "mpg": 19.9,
                          "weight": 3365,
                          "horsepower": 110
                        },
                        {
                          "mpg": 19.4,
                          "weight": 3735,
                          "horsepower": 140
                        },
                        {
                          "mpg": 20.2,
                          "weight": 3570,
                          "horsepower": 139
                        },
                        {
                          "mpg": 19.2,
                          "weight": 3535,
                          "horsepower": 105
                        },
                        {
                          "mpg": 20.5,
                          "weight": 3155,
                          "horsepower": 95
                        },
                        {
                          "mpg": 20.2,
                          "weight": 2965,
                          "horsepower": 85
                        },
                        {
                          "mpg": 25.1,
                          "weight": 2720,
                          "horsepower": 88
                        },
                        {
                          "mpg": 20.5,
                          "weight": 3430,
                          "horsepower": 100
                        },
                        {
                          "mpg": 19.4,
                          "weight": 3210,
                          "horsepower": 90
                        },
                        {
                          "mpg": 20.6,
                          "weight": 3380,
                          "horsepower": 105
                        },
                        {
                          "mpg": 20.8,
                          "weight": 3070,
                          "horsepower": 85
                        },
                        {
                          "mpg": 18.6,
                          "weight": 3620,
                          "horsepower": 110
                        },
                        {
                          "mpg": 18.1,
                          "weight": 3410,
                          "horsepower": 120
                        },
                        {
                          "mpg": 19.2,
                          "weight": 3425,
                          "horsepower": 145
                        },
                        {
                          "mpg": 17.7,
                          "weight": 3445,
                          "horsepower": 165
                        },
                        {
                          "mpg": 18.1,
                          "weight": 3205,
                          "horsepower": 139
                        },
                        {
                          "mpg": 17.5,
                          "weight": 4080,
                          "horsepower": 140
                        },
                        {
                          "mpg": 30,
                          "weight": 2155,
                          "horsepower": 68
                        },
                        {
                          "mpg": 27.5,
                          "weight": 2560,
                          "horsepower": 95
                        },
                        {
                          "mpg": 27.2,
                          "weight": 2300,
                          "horsepower": 97
                        },
                        {
                          "mpg": 30.9,
                          "weight": 2230,
                          "horsepower": 75
                        },
                        {
                          "mpg": 21.1,
                          "weight": 2515,
                          "horsepower": 95
                        },
                        {
                          "mpg": 23.2,
                          "weight": 2745,
                          "horsepower": 105
                        },
                        {
                          "mpg": 23.8,
                          "weight": 2855,
                          "horsepower": 85
                        },
                        {
                          "mpg": 23.9,
                          "weight": 2405,
                          "horsepower": 97
                        },
                        {
                          "mpg": 20.3,
                          "weight": 2830,
                          "horsepower": 103
                        },
                        {
                          "mpg": 17,
                          "weight": 3140,
                          "horsepower": 125
                        },
                        {
                          "mpg": 21.6,
                          "weight": 2795,
                          "horsepower": 115
                        },
                        {
                          "mpg": 16.2,
                          "weight": 3410,
                          "horsepower": 133
                        },
                        {
                          "mpg": 31.5,
                          "weight": 1990,
                          "horsepower": 71
                        },
                        {
                          "mpg": 29.5,
                          "weight": 2135,
                          "horsepower": 68
                        },
                        {
                          "mpg": 21.5,
                          "weight": 3245,
                          "horsepower": 115
                        },
                        {
                          "mpg": 19.8,
                          "weight": 2990,
                          "horsepower": 85
                        },
                        {
                          "mpg": 22.3,
                          "weight": 2890,
                          "horsepower": 88
                        },
                        {
                          "mpg": 20.2,
                          "weight": 3265,
                          "horsepower": 90
                        },
                        {
                          "mpg": 20.6,
                          "weight": 3360,
                          "horsepower": 110
                        },
                        {
                          "mpg": 17,
                          "weight": 3840,
                          "horsepower": 130
                        },
                        {
                          "mpg": 17.6,
                          "weight": 3725,
                          "horsepower": 129
                        },
                        {
                          "mpg": 16.5,
                          "weight": 3955,
                          "horsepower": 138
                        },
                        {
                          "mpg": 18.2,
                          "weight": 3830,
                          "horsepower": 135
                        },
                        {
                          "mpg": 16.9,
                          "weight": 4360,
                          "horsepower": 155
                        },
                        {
                          "mpg": 15.5,
                          "weight": 4054,
                          "horsepower": 142
                        },
                        {
                          "mpg": 19.2,
                          "weight": 3605,
                          "horsepower": 125
                        },
                        {
                          "mpg": 18.5,
                          "weight": 3940,
                          "horsepower": 150
                        },
                        {
                          "mpg": 31.9,
                          "weight": 1925,
                          "horsepower": 71
                        },
                        {
                          "mpg": 34.1,
                          "weight": 1975,
                          "horsepower": 65
                        },
                        {
                          "mpg": 35.7,
                          "weight": 1915,
                          "horsepower": 80
                        },
                        {
                          "mpg": 27.4,
                          "weight": 2670,
                          "horsepower": 80
                        },
                        {
                          "mpg": 25.4,
                          "weight": 3530,
                          "horsepower": 77
                        },
                        {
                          "mpg": 23,
                          "weight": 3900,
                          "horsepower": 125
                        },
                        {
                          "mpg": 27.2,
                          "weight": 3190,
                          "horsepower": 71
                        },
                        {
                          "mpg": 23.9,
                          "weight": 3420,
                          "horsepower": 90
                        },
                        {
                          "mpg": 34.2,
                          "weight": 2200,
                          "horsepower": 70
                        },
                        {
                          "mpg": 34.5,
                          "weight": 2150,
                          "horsepower": 70
                        },
                        {
                          "mpg": 31.8,
                          "weight": 2020,
                          "horsepower": 65
                        },
                        {
                          "mpg": 37.3,
                          "weight": 2130,
                          "horsepower": 69
                        },
                        {
                          "mpg": 28.4,
                          "weight": 2670,
                          "horsepower": 90
                        },
                        {
                          "mpg": 28.8,
                          "weight": 2595,
                          "horsepower": 115
                        },
                        {
                          "mpg": 26.8,
                          "weight": 2700,
                          "horsepower": 115
                        },
                        {
                          "mpg": 33.5,
                          "weight": 2556,
                          "horsepower": 90
                        },
                        {
                          "mpg": 41.5,
                          "weight": 2144,
                          "horsepower": 76
                        },
                        {
                          "mpg": 38.1,
                          "weight": 1968,
                          "horsepower": 60
                        },
                        {
                          "mpg": 32.1,
                          "weight": 2120,
                          "horsepower": 70
                        },
                        {
                          "mpg": 37.2,
                          "weight": 2019,
                          "horsepower": 65
                        },
                        {
                          "mpg": 28,
                          "weight": 2678,
                          "horsepower": 90
                        },
                        {
                          "mpg": 26.4,
                          "weight": 2870,
                          "horsepower": 88
                        },
                        {
                          "mpg": 24.3,
                          "weight": 3003,
                          "horsepower": 90
                        },
                        {
                          "mpg": 19.1,
                          "weight": 3381,
                          "horsepower": 90
                        },
                        {
                          "mpg": 34.3,
                          "weight": 2188,
                          "horsepower": 78
                        },
                        {
                          "mpg": 29.8,
                          "weight": 2711,
                          "horsepower": 90
                        },
                        {
                          "mpg": 31.3,
                          "weight": 2542,
                          "horsepower": 75
                        },
                        {
                          "mpg": 37,
                          "weight": 2434,
                          "horsepower": 92
                        },
                        {
                          "mpg": 32.2,
                          "weight": 2265,
                          "horsepower": 75
                        },
                        {
                          "mpg": 46.6,
                          "weight": 2110,
                          "horsepower": 65
                        },
                        {
                          "mpg": 27.9,
                          "weight": 2800,
                          "horsepower": 105
                        },
                        {
                          "mpg": 40.8,
                          "weight": 2110,
                          "horsepower": 65
                        },
                        {
                          "mpg": 44.3,
                          "weight": 2085,
                          "horsepower": 48
                        },
                        {
                          "mpg": 43.4,
                          "weight": 2335,
                          "horsepower": 48
                        },
                        {
                          "mpg": 36.4,
                          "weight": 2950,
                          "horsepower": 67
                        },
                        {
                          "mpg": 30,
                          "weight": 3250,
                          "horsepower": 67
                        },
                        {
                          "mpg": 44.6,
                          "weight": 1850,
                          "horsepower": 67
                        },
                        {
                          "mpg": 40.9,
                          "weight": 1835,
                          "horsepower": null
                        },
                        {
                          "mpg": 33.8,
                          "weight": 2145,
                          "horsepower": 67
                        },
                        {
                          "mpg": 29.8,
                          "weight": 1845,
                          "horsepower": 62
                        },
                        {
                          "mpg": 32.7,
                          "weight": 2910,
                          "horsepower": 132
                        },
                        {
                          "mpg": 23.7,
                          "weight": 2420,
                          "horsepower": 100
                        },
                        {
                          "mpg": 35,
                          "weight": 2500,
                          "horsepower": 88
                        },
                        {
                          "mpg": 23.6,
                          "weight": 2905,
                          "horsepower": null
                        },
                        {
                          "mpg": 32.4,
                          "weight": 2290,
                          "horsepower": 72
                        },
                        {
                          "mpg": 27.2,
                          "weight": 2490,
                          "horsepower": 84
                        },
                        {
                          "mpg": 26.6,
                          "weight": 2635,
                          "horsepower": 84
                        },
                        {
                          "mpg": 25.8,
                          "weight": 2620,
                          "horsepower": 92
                        },
                        {
                          "mpg": 23.5,
                          "weight": 2725,
                          "horsepower": 110
                        },
                        {
                          "mpg": 30,
                          "weight": 2385,
                          "horsepower": 84
                        },
                        {
                          "mpg": 39.1,
                          "weight": 1755,
                          "horsepower": 58
                        },
                        {
                          "mpg": 39,
                          "weight": 1875,
                          "horsepower": 64
                        },
                        {
                          "mpg": 35.1,
                          "weight": 1760,
                          "horsepower": 60
                        },
                        {
                          "mpg": 32.3,
                          "weight": 2065,
                          "horsepower": 67
                        },
                        {
                          "mpg": 37,
                          "weight": 1975,
                          "horsepower": 65
                        },
                        {
                          "mpg": 37.7,
                          "weight": 2050,
                          "horsepower": 62
                        },
                        {
                          "mpg": 34.1,
                          "weight": 1985,
                          "horsepower": 68
                        },
                        {
                          "mpg": 34.7,
                          "weight": 2215,
                          "horsepower": 63
                        },
                        {
                          "mpg": 34.4,
                          "weight": 2045,
                          "horsepower": 65
                        },
                        {
                          "mpg": 29.9,
                          "weight": 2380,
                          "horsepower": 65
                        },
                        {
                          "mpg": 33,
                          "weight": 2190,
                          "horsepower": 74
                        },
                        {
                          "mpg": 34.5,
                          "weight": 2320,
                          "horsepower": null
                        },
                        {
                          "mpg": 33.7,
                          "weight": 2210,
                          "horsepower": 75
                        },
                        {
                          "mpg": 32.4,
                          "weight": 2350,
                          "horsepower": 75
                        },
                        {
                          "mpg": 32.9,
                          "weight": 2615,
                          "horsepower": 100
                        },
                        {
                          "mpg": 31.6,
                          "weight": 2635,
                          "horsepower": 74
                        },
                        {
                          "mpg": 28.1,
                          "weight": 3230,
                          "horsepower": 80
                        },
                        {
                          "mpg": 30.7,
                          "weight": 3160,
                          "horsepower": 76
                        },
                        {
                          "mpg": 25.4,
                          "weight": 2900,
                          "horsepower": 116
                        },
                        {
                          "mpg": 24.2,
                          "weight": 2930,
                          "horsepower": 120
                        },
                        {
                          "mpg": 22.4,
                          "weight": 3415,
                          "horsepower": 110
                        },
                        {
                          "mpg": 26.6,
                          "weight": 3725,
                          "horsepower": 105
                        },
                        {
                          "mpg": 20.2,
                          "weight": 3060,
                          "horsepower": 88
                        },
                        {
                          "mpg": 17.6,
                          "weight": 3465,
                          "horsepower": 85
                        },
                        {
                          "mpg": 28,
                          "weight": 2605,
                          "horsepower": 88
                        },
                        {
                          "mpg": 27,
                          "weight": 2640,
                          "horsepower": 88
                        },
                        {
                          "mpg": 34,
                          "weight": 2395,
                          "horsepower": 88
                        },
                        {
                          "mpg": 31,
                          "weight": 2575,
                          "horsepower": 85
                        },
                        {
                          "mpg": 29,
                          "weight": 2525,
                          "horsepower": 84
                        },
                        {
                          "mpg": 27,
                          "weight": 2735,
                          "horsepower": 90
                        },
                        {
                          "mpg": 24,
                          "weight": 2865,
                          "horsepower": 92
                        },
                        {
                          "mpg": 23,
                          "weight": 3035,
                          "horsepower": null
                        },
                        {
                          "mpg": 36,
                          "weight": 1980,
                          "horsepower": 74
                        },
                        {
                          "mpg": 37,
                          "weight": 2025,
                          "horsepower": 68
                        },
                        {
                          "mpg": 31,
                          "weight": 1970,
                          "horsepower": 68
                        },
                        {
                          "mpg": 38,
                          "weight": 2125,
                          "horsepower": 63
                        },
                        {
                          "mpg": 36,
                          "weight": 2125,
                          "horsepower": 70
                        },
                        {
                          "mpg": 36,
                          "weight": 2160,
                          "horsepower": 88
                        },
                        {
                          "mpg": 36,
                          "weight": 2205,
                          "horsepower": 75
                        },
                        {
                          "mpg": 34,
                          "weight": 2245,
                          "horsepower": 70
                        },
                        {
                          "mpg": 38,
                          "weight": 1965,
                          "horsepower": 67
                        },
                        {
                          "mpg": 32,
                          "weight": 1965,
                          "horsepower": 67
                        },
                        {
                          "mpg": 38,
                          "weight": 1995,
                          "horsepower": 67
                        },
                        {
                          "mpg": 25,
                          "weight": 2945,
                          "horsepower": 110
                        },
                        {
                          "mpg": 38,
                          "weight": 3015,
                          "horsepower": 85
                        },
                        {
                          "mpg": 26,
                          "weight": 2585,
                          "horsepower": 92
                        },
                        {
                          "mpg": 22,
                          "weight": 2835,
                          "horsepower": 112
                        },
                        {
                          "mpg": 32,
                          "weight": 2665,
                          "horsepower": 96
                        },
                        {
                          "mpg": 36,
                          "weight": 2370,
                          "horsepower": 84
                        },
                        {
                          "mpg": 27,
                          "weight": 2950,
                          "horsepower": 90
                        },
                        {
                          "mpg": 27,
                          "weight": 2790,
                          "horsepower": 86
                        },
                        {
                          "mpg": 44,
                          "weight": 2130,
                          "horsepower": 52
                        },
                        {
                          "mpg": 32,
                          "weight": 2295,
                          "horsepower": 84
                        },
                        {
                          "mpg": 28,
                          "weight": 2625,
                          "horsepower": 79
                        },
                        {
                          "mpg": 31,
                          "weight": 2720,
                          "horsepower": 82
                        }
                      ]
                    },
                    "vislib": "vegalite"
                  },
                  {
                    "config": {
                      "view": {
                        "continuousWidth": 400,
                        "continuousHeight": 300
                      },
                      "axis": {
                        "labelColor": "#505050",
                        "labelFont": "Helvetica Neue",
                        "labelFontSize": 9,
                        "labelFontWeight": 400,
                        "titleFont": "Helvetica Neue",
                        "titleFontSize": 11,
                        "titleFontWeight": 500
                      },
                      "legend": {
                        "labelFont": "Helvetica Neue",
                        "labelFontSize": 9,
                        "labelFontWeight": 400,
                        "titleFont": "Helvetica Neue",
                        "titleFontSize": 10,
                        "titleFontWeight": 500
                      },
                      "mark": {
                        "tooltip": {
                          "content": "encoding"
                        }
                      },
                      "title": {
                        "font": "Helvetica Neue",
                        "fontSize": 13,
                        "fontWeight": 500
                      }
                    },
                    "data": {
                      "name": "data-01f1ac9b3d039c1fe06496e383bc02ab"
                    },
                    "mark": "circle",
                    "encoding": {
                      "color": {
                        "field": "model_year",
                        "type": "nominal"
                      },
                      "x": {
                        "axis": {
                          "title": "horsepower"
                        },
                        "field": "horsepower",
                        "scale": {
                          "domain": [
                            46,
                            230
                          ]
                        },
                        "type": "quantitative"
                      },
                      "y": {
                        "axis": {
                          "title": "mpg"
                        },
                        "field": "mpg",
                        "scale": {
                          "domain": [
                            9,
                            46.6
                          ]
                        },
                        "type": "quantitative"
                      }
                    },
                    "height": 150,
                    "selection": {
                      "selector061": {
                        "type": "interval",
                        "bind": "scales",
                        "encodings": [
                          "x",
                          "y"
                        ]
                      }
                    },
                    "width": 160,
                    "$schema": "https://vega.github.io/schema/vega-lite/v4.17.0.json",
                    "datasets": {
                      "data-01f1ac9b3d039c1fe06496e383bc02ab": [
                        {
                          "model_year": 70,
                          "mpg": 18,
                          "horsepower": 130
                        },
                        {
                          "model_year": 70,
                          "mpg": 15,
                          "horsepower": 165
                        },
                        {
                          "model_year": 70,
                          "mpg": 18,
                          "horsepower": 150
                        },
                        {
                          "model_year": 70,
                          "mpg": 16,
                          "horsepower": 150
                        },
                        {
                          "model_year": 70,
                          "mpg": 17,
                          "horsepower": 140
                        },
                        {
                          "model_year": 70,
                          "mpg": 15,
                          "horsepower": 198
                        },
                        {
                          "model_year": 70,
                          "mpg": 14,
                          "horsepower": 220
                        },
                        {
                          "model_year": 70,
                          "mpg": 14,
                          "horsepower": 215
                        },
                        {
                          "model_year": 70,
                          "mpg": 14,
                          "horsepower": 225
                        },
                        {
                          "model_year": 70,
                          "mpg": 15,
                          "horsepower": 190
                        },
                        {
                          "model_year": 70,
                          "mpg": 15,
                          "horsepower": 170
                        },
                        {
                          "model_year": 70,
                          "mpg": 14,
                          "horsepower": 160
                        },
                        {
                          "model_year": 70,
                          "mpg": 15,
                          "horsepower": 150
                        },
                        {
                          "model_year": 70,
                          "mpg": 14,
                          "horsepower": 225
                        },
                        {
                          "model_year": 70,
                          "mpg": 24,
                          "horsepower": 95
                        },
                        {
                          "model_year": 70,
                          "mpg": 22,
                          "horsepower": 95
                        },
                        {
                          "model_year": 70,
                          "mpg": 18,
                          "horsepower": 97
                        },
                        {
                          "model_year": 70,
                          "mpg": 21,
                          "horsepower": 85
                        },
                        {
                          "model_year": 70,
                          "mpg": 27,
                          "horsepower": 88
                        },
                        {
                          "model_year": 70,
                          "mpg": 26,
                          "horsepower": 46
                        },
                        {
                          "model_year": 70,
                          "mpg": 25,
                          "horsepower": 87
                        },
                        {
                          "model_year": 70,
                          "mpg": 24,
                          "horsepower": 90
                        },
                        {
                          "model_year": 70,
                          "mpg": 25,
                          "horsepower": 95
                        },
                        {
                          "model_year": 70,
                          "mpg": 26,
                          "horsepower": 113
                        },
                        {
                          "model_year": 70,
                          "mpg": 21,
                          "horsepower": 90
                        },
                        {
                          "model_year": 70,
                          "mpg": 10,
                          "horsepower": 215
                        },
                        {
                          "model_year": 70,
                          "mpg": 10,
                          "horsepower": 200
                        },
                        {
                          "model_year": 70,
                          "mpg": 11,
                          "horsepower": 210
                        },
                        {
                          "model_year": 70,
                          "mpg": 9,
                          "horsepower": 193
                        },
                        {
                          "model_year": 71,
                          "mpg": 27,
                          "horsepower": 88
                        },
                        {
                          "model_year": 71,
                          "mpg": 28,
                          "horsepower": 90
                        },
                        {
                          "model_year": 71,
                          "mpg": 25,
                          "horsepower": 95
                        },
                        {
                          "model_year": 71,
                          "mpg": 25,
                          "horsepower": null
                        },
                        {
                          "model_year": 71,
                          "mpg": 19,
                          "horsepower": 100
                        },
                        {
                          "model_year": 71,
                          "mpg": 16,
                          "horsepower": 105
                        },
                        {
                          "model_year": 71,
                          "mpg": 17,
                          "horsepower": 100
                        },
                        {
                          "model_year": 71,
                          "mpg": 19,
                          "horsepower": 88
                        },
                        {
                          "model_year": 71,
                          "mpg": 18,
                          "horsepower": 100
                        },
                        {
                          "model_year": 71,
                          "mpg": 14,
                          "horsepower": 165
                        },
                        {
                          "model_year": 71,
                          "mpg": 14,
                          "horsepower": 175
                        },
                        {
                          "model_year": 71,
                          "mpg": 14,
                          "horsepower": 153
                        },
                        {
                          "model_year": 71,
                          "mpg": 14,
                          "horsepower": 150
                        },
                        {
                          "model_year": 71,
                          "mpg": 12,
                          "horsepower": 180
                        },
                        {
                          "model_year": 71,
                          "mpg": 13,
                          "horsepower": 170
                        },
                        {
                          "model_year": 71,
                          "mpg": 13,
                          "horsepower": 175
                        },
                        {
                          "model_year": 71,
                          "mpg": 18,
                          "horsepower": 110
                        },
                        {
                          "model_year": 71,
                          "mpg": 22,
                          "horsepower": 72
                        },
                        {
                          "model_year": 71,
                          "mpg": 19,
                          "horsepower": 100
                        },
                        {
                          "model_year": 71,
                          "mpg": 18,
                          "horsepower": 88
                        },
                        {
                          "model_year": 71,
                          "mpg": 23,
                          "horsepower": 86
                        },
                        {
                          "model_year": 71,
                          "mpg": 28,
                          "horsepower": 90
                        },
                        {
                          "model_year": 71,
                          "mpg": 30,
                          "horsepower": 70
                        },
                        {
                          "model_year": 71,
                          "mpg": 30,
                          "horsepower": 76
                        },
                        {
                          "model_year": 71,
                          "mpg": 31,
                          "horsepower": 65
                        },
                        {
                          "model_year": 71,
                          "mpg": 35,
                          "horsepower": 69
                        },
                        {
                          "model_year": 71,
                          "mpg": 27,
                          "horsepower": 60
                        },
                        {
                          "model_year": 71,
                          "mpg": 26,
                          "horsepower": 70
                        },
                        {
                          "model_year": 72,
                          "mpg": 24,
                          "horsepower": 95
                        },
                        {
                          "model_year": 72,
                          "mpg": 25,
                          "horsepower": 80
                        },
                        {
                          "model_year": 72,
                          "mpg": 23,
                          "horsepower": 54
                        },
                        {
                          "model_year": 72,
                          "mpg": 20,
                          "horsepower": 90
                        },
                        {
                          "model_year": 72,
                          "mpg": 21,
                          "horsepower": 86
                        },
                        {
                          "model_year": 72,
                          "mpg": 13,
                          "horsepower": 165
                        },
                        {
                          "model_year": 72,
                          "mpg": 14,
                          "horsepower": 175
                        },
                        {
                          "model_year": 72,
                          "mpg": 15,
                          "horsepower": 150
                        },
                        {
                          "model_year": 72,
                          "mpg": 14,
                          "horsepower": 153
                        },
                        {
                          "model_year": 72,
                          "mpg": 17,
                          "horsepower": 150
                        },
                        {
                          "model_year": 72,
                          "mpg": 11,
                          "horsepower": 208
                        },
                        {
                          "model_year": 72,
                          "mpg": 13,
                          "horsepower": 155
                        },
                        {
                          "model_year": 72,
                          "mpg": 12,
                          "horsepower": 160
                        },
                        {
                          "model_year": 72,
                          "mpg": 13,
                          "horsepower": 190
                        },
                        {
                          "model_year": 72,
                          "mpg": 19,
                          "horsepower": 97
                        },
                        {
                          "model_year": 72,
                          "mpg": 15,
                          "horsepower": 150
                        },
                        {
                          "model_year": 72,
                          "mpg": 13,
                          "horsepower": 130
                        },
                        {
                          "model_year": 72,
                          "mpg": 13,
                          "horsepower": 140
                        },
                        {
                          "model_year": 72,
                          "mpg": 14,
                          "horsepower": 150
                        },
                        {
                          "model_year": 72,
                          "mpg": 18,
                          "horsepower": 112
                        },
                        {
                          "model_year": 72,
                          "mpg": 22,
                          "horsepower": 76
                        },
                        {
                          "model_year": 72,
                          "mpg": 21,
                          "horsepower": 87
                        },
                        {
                          "model_year": 72,
                          "mpg": 26,
                          "horsepower": 69
                        },
                        {
                          "model_year": 72,
                          "mpg": 22,
                          "horsepower": 86
                        },
                        {
                          "model_year": 72,
                          "mpg": 28,
                          "horsepower": 92
                        },
                        {
                          "model_year": 72,
                          "mpg": 23,
                          "horsepower": 97
                        },
                        {
                          "model_year": 72,
                          "mpg": 28,
                          "horsepower": 80
                        },
                        {
                          "model_year": 72,
                          "mpg": 27,
                          "horsepower": 88
                        },
                        {
                          "model_year": 73,
                          "mpg": 13,
                          "horsepower": 175
                        },
                        {
                          "model_year": 73,
                          "mpg": 14,
                          "horsepower": 150
                        },
                        {
                          "model_year": 73,
                          "mpg": 13,
                          "horsepower": 145
                        },
                        {
                          "model_year": 73,
                          "mpg": 14,
                          "horsepower": 137
                        },
                        {
                          "model_year": 73,
                          "mpg": 15,
                          "horsepower": 150
                        },
                        {
                          "model_year": 73,
                          "mpg": 12,
                          "horsepower": 198
                        },
                        {
                          "model_year": 73,
                          "mpg": 13,
                          "horsepower": 150
                        },
                        {
                          "model_year": 73,
                          "mpg": 13,
                          "horsepower": 158
                        },
                        {
                          "model_year": 73,
                          "mpg": 14,
                          "horsepower": 150
                        },
                        {
                          "model_year": 73,
                          "mpg": 13,
                          "horsepower": 215
                        },
                        {
                          "model_year": 73,
                          "mpg": 12,
                          "horsepower": 225
                        },
                        {
                          "model_year": 73,
                          "mpg": 13,
                          "horsepower": 175
                        },
                        {
                          "model_year": 73,
                          "mpg": 18,
                          "horsepower": 105
                        },
                        {
                          "model_year": 73,
                          "mpg": 16,
                          "horsepower": 100
                        },
                        {
                          "model_year": 73,
                          "mpg": 18,
                          "horsepower": 100
                        },
                        {
                          "model_year": 73,
                          "mpg": 18,
                          "horsepower": 88
                        },
                        {
                          "model_year": 73,
                          "mpg": 23,
                          "horsepower": 95
                        },
                        {
                          "model_year": 73,
                          "mpg": 26,
                          "horsepower": 46
                        },
                        {
                          "model_year": 73,
                          "mpg": 11,
                          "horsepower": 150
                        },
                        {
                          "model_year": 73,
                          "mpg": 12,
                          "horsepower": 167
                        },
                        {
                          "model_year": 73,
                          "mpg": 13,
                          "horsepower": 170
                        },
                        {
                          "model_year": 73,
                          "mpg": 12,
                          "horsepower": 180
                        },
                        {
                          "model_year": 73,
                          "mpg": 18,
                          "horsepower": 100
                        },
                        {
                          "model_year": 73,
                          "mpg": 20,
                          "horsepower": 88
                        },
                        {
                          "model_year": 73,
                          "mpg": 21,
                          "horsepower": 72
                        },
                        {
                          "model_year": 73,
                          "mpg": 22,
                          "horsepower": 94
                        },
                        {
                          "model_year": 73,
                          "mpg": 18,
                          "horsepower": 90
                        },
                        {
                          "model_year": 73,
                          "mpg": 19,
                          "horsepower": 85
                        },
                        {
                          "model_year": 73,
                          "mpg": 21,
                          "horsepower": 107
                        },
                        {
                          "model_year": 73,
                          "mpg": 26,
                          "horsepower": 90
                        },
                        {
                          "model_year": 73,
                          "mpg": 15,
                          "horsepower": 145
                        },
                        {
                          "model_year": 73,
                          "mpg": 16,
                          "horsepower": 230
                        },
                        {
                          "model_year": 73,
                          "mpg": 29,
                          "horsepower": 49
                        },
                        {
                          "model_year": 73,
                          "mpg": 24,
                          "horsepower": 75
                        },
                        {
                          "model_year": 73,
                          "mpg": 20,
                          "horsepower": 91
                        },
                        {
                          "model_year": 73,
                          "mpg": 19,
                          "horsepower": 112
                        },
                        {
                          "model_year": 73,
                          "mpg": 15,
                          "horsepower": 150
                        },
                        {
                          "model_year": 73,
                          "mpg": 24,
                          "horsepower": 110
                        },
                        {
                          "model_year": 73,
                          "mpg": 20,
                          "horsepower": 122
                        },
                        {
                          "model_year": 73,
                          "mpg": 11,
                          "horsepower": 180
                        },
                        {
                          "model_year": 74,
                          "mpg": 20,
                          "horsepower": 95
                        },
                        {
                          "model_year": 74,
                          "mpg": 21,
                          "horsepower": null
                        },
                        {
                          "model_year": 74,
                          "mpg": 19,
                          "horsepower": 100
                        },
                        {
                          "model_year": 74,
                          "mpg": 15,
                          "horsepower": 100
                        },
                        {
                          "model_year": 74,
                          "mpg": 31,
                          "horsepower": 67
                        },
                        {
                          "model_year": 74,
                          "mpg": 26,
                          "horsepower": 80
                        },
                        {
                          "model_year": 74,
                          "mpg": 32,
                          "horsepower": 65
                        },
                        {
                          "model_year": 74,
                          "mpg": 25,
                          "horsepower": 75
                        },
                        {
                          "model_year": 74,
                          "mpg": 16,
                          "horsepower": 100
                        },
                        {
                          "model_year": 74,
                          "mpg": 16,
                          "horsepower": 110
                        },
                        {
                          "model_year": 74,
                          "mpg": 18,
                          "horsepower": 105
                        },
                        {
                          "model_year": 74,
                          "mpg": 16,
                          "horsepower": 140
                        },
                        {
                          "model_year": 74,
                          "mpg": 13,
                          "horsepower": 150
                        },
                        {
                          "model_year": 74,
                          "mpg": 14,
                          "horsepower": 150
                        },
                        {
                          "model_year": 74,
                          "mpg": 14,
                          "horsepower": 140
                        },
                        {
                          "model_year": 74,
                          "mpg": 14,
                          "horsepower": 150
                        },
                        {
                          "model_year": 74,
                          "mpg": 29,
                          "horsepower": 83
                        },
                        {
                          "model_year": 74,
                          "mpg": 26,
                          "horsepower": 67
                        },
                        {
                          "model_year": 74,
                          "mpg": 26,
                          "horsepower": 78
                        },
                        {
                          "model_year": 74,
                          "mpg": 31,
                          "horsepower": 52
                        },
                        {
                          "model_year": 74,
                          "mpg": 32,
                          "horsepower": 61
                        },
                        {
                          "model_year": 74,
                          "mpg": 28,
                          "horsepower": 75
                        },
                        {
                          "model_year": 74,
                          "mpg": 24,
                          "horsepower": 75
                        },
                        {
                          "model_year": 74,
                          "mpg": 26,
                          "horsepower": 75
                        },
                        {
                          "model_year": 74,
                          "mpg": 24,
                          "horsepower": 97
                        },
                        {
                          "model_year": 74,
                          "mpg": 26,
                          "horsepower": 93
                        },
                        {
                          "model_year": 74,
                          "mpg": 31,
                          "horsepower": 67
                        },
                        {
                          "model_year": 75,
                          "mpg": 19,
                          "horsepower": 95
                        },
                        {
                          "model_year": 75,
                          "mpg": 18,
                          "horsepower": 105
                        },
                        {
                          "model_year": 75,
                          "mpg": 15,
                          "horsepower": 72
                        },
                        {
                          "model_year": 75,
                          "mpg": 15,
                          "horsepower": 72
                        },
                        {
                          "model_year": 75,
                          "mpg": 16,
                          "horsepower": 170
                        },
                        {
                          "model_year": 75,
                          "mpg": 15,
                          "horsepower": 145
                        },
                        {
                          "model_year": 75,
                          "mpg": 16,
                          "horsepower": 150
                        },
                        {
                          "model_year": 75,
                          "mpg": 14,
                          "horsepower": 148
                        },
                        {
                          "model_year": 75,
                          "mpg": 17,
                          "horsepower": 110
                        },
                        {
                          "model_year": 75,
                          "mpg": 16,
                          "horsepower": 105
                        },
                        {
                          "model_year": 75,
                          "mpg": 15,
                          "horsepower": 110
                        },
                        {
                          "model_year": 75,
                          "mpg": 18,
                          "horsepower": 95
                        },
                        {
                          "model_year": 75,
                          "mpg": 21,
                          "horsepower": 110
                        },
                        {
                          "model_year": 75,
                          "mpg": 20,
                          "horsepower": 110
                        },
                        {
                          "model_year": 75,
                          "mpg": 13,
                          "horsepower": 129
                        },
                        {
                          "model_year": 75,
                          "mpg": 29,
                          "horsepower": 75
                        },
                        {
                          "model_year": 75,
                          "mpg": 23,
                          "horsepower": 83
                        },
                        {
                          "model_year": 75,
                          "mpg": 20,
                          "horsepower": 100
                        },
                        {
                          "model_year": 75,
                          "mpg": 23,
                          "horsepower": 78
                        },
                        {
                          "model_year": 75,
                          "mpg": 24,
                          "horsepower": 96
                        },
                        {
                          "model_year": 75,
                          "mpg": 25,
                          "horsepower": 71
                        },
                        {
                          "model_year": 75,
                          "mpg": 24,
                          "horsepower": 97
                        },
                        {
                          "model_year": 75,
                          "mpg": 18,
                          "horsepower": 97
                        },
                        {
                          "model_year": 75,
                          "mpg": 29,
                          "horsepower": 70
                        },
                        {
                          "model_year": 75,
                          "mpg": 19,
                          "horsepower": 90
                        },
                        {
                          "model_year": 75,
                          "mpg": 23,
                          "horsepower": 95
                        },
                        {
                          "model_year": 75,
                          "mpg": 23,
                          "horsepower": 88
                        },
                        {
                          "model_year": 75,
                          "mpg": 22,
                          "horsepower": 98
                        },
                        {
                          "model_year": 75,
                          "mpg": 25,
                          "horsepower": 115
                        },
                        {
                          "model_year": 75,
                          "mpg": 33,
                          "horsepower": 53
                        },
                        {
                          "model_year": 76,
                          "mpg": 28,
                          "horsepower": 86
                        },
                        {
                          "model_year": 76,
                          "mpg": 25,
                          "horsepower": 81
                        },
                        {
                          "model_year": 76,
                          "mpg": 25,
                          "horsepower": 92
                        },
                        {
                          "model_year": 76,
                          "mpg": 26,
                          "horsepower": 79
                        },
                        {
                          "model_year": 76,
                          "mpg": 27,
                          "horsepower": 83
                        },
                        {
                          "model_year": 76,
                          "mpg": 17.5,
                          "horsepower": 140
                        },
                        {
                          "model_year": 76,
                          "mpg": 16,
                          "horsepower": 150
                        },
                        {
                          "model_year": 76,
                          "mpg": 15.5,
                          "horsepower": 120
                        },
                        {
                          "model_year": 76,
                          "mpg": 14.5,
                          "horsepower": 152
                        },
                        {
                          "model_year": 76,
                          "mpg": 22,
                          "horsepower": 100
                        },
                        {
                          "model_year": 76,
                          "mpg": 22,
                          "horsepower": 105
                        },
                        {
                          "model_year": 76,
                          "mpg": 24,
                          "horsepower": 81
                        },
                        {
                          "model_year": 76,
                          "mpg": 22.5,
                          "horsepower": 90
                        },
                        {
                          "model_year": 76,
                          "mpg": 29,
                          "horsepower": 52
                        },
                        {
                          "model_year": 76,
                          "mpg": 24.5,
                          "horsepower": 60
                        },
                        {
                          "model_year": 76,
                          "mpg": 29,
                          "horsepower": 70
                        },
                        {
                          "model_year": 76,
                          "mpg": 33,
                          "horsepower": 53
                        },
                        {
                          "model_year": 76,
                          "mpg": 20,
                          "horsepower": 100
                        },
                        {
                          "model_year": 76,
                          "mpg": 18,
                          "horsepower": 78
                        },
                        {
                          "model_year": 76,
                          "mpg": 18.5,
                          "horsepower": 110
                        },
                        {
                          "model_year": 76,
                          "mpg": 17.5,
                          "horsepower": 95
                        },
                        {
                          "model_year": 76,
                          "mpg": 29.5,
                          "horsepower": 71
                        },
                        {
                          "model_year": 76,
                          "mpg": 32,
                          "horsepower": 70
                        },
                        {
                          "model_year": 76,
                          "mpg": 28,
                          "horsepower": 75
                        },
                        {
                          "model_year": 76,
                          "mpg": 26.5,
                          "horsepower": 72
                        },
                        {
                          "model_year": 76,
                          "mpg": 20,
                          "horsepower": 102
                        },
                        {
                          "model_year": 76,
                          "mpg": 13,
                          "horsepower": 150
                        },
                        {
                          "model_year": 76,
                          "mpg": 19,
                          "horsepower": 88
                        },
                        {
                          "model_year": 76,
                          "mpg": 19,
                          "horsepower": 108
                        },
                        {
                          "model_year": 76,
                          "mpg": 16.5,
                          "horsepower": 120
                        },
                        {
                          "model_year": 76,
                          "mpg": 16.5,
                          "horsepower": 180
                        },
                        {
                          "model_year": 76,
                          "mpg": 13,
                          "horsepower": 145
                        },
                        {
                          "model_year": 76,
                          "mpg": 13,
                          "horsepower": 130
                        },
                        {
                          "model_year": 76,
                          "mpg": 13,
                          "horsepower": 150
                        },
                        {
                          "model_year": 77,
                          "mpg": 31.5,
                          "horsepower": 68
                        },
                        {
                          "model_year": 77,
                          "mpg": 30,
                          "horsepower": 80
                        },
                        {
                          "model_year": 77,
                          "mpg": 36,
                          "horsepower": 58
                        },
                        {
                          "model_year": 77,
                          "mpg": 25.5,
                          "horsepower": 96
                        },
                        {
                          "model_year": 77,
                          "mpg": 33.5,
                          "horsepower": 70
                        },
                        {
                          "model_year": 77,
                          "mpg": 17.5,
                          "horsepower": 145
                        },
                        {
                          "model_year": 77,
                          "mpg": 17,
                          "horsepower": 110
                        },
                        {
                          "model_year": 77,
                          "mpg": 15.5,
                          "horsepower": 145
                        },
                        {
                          "model_year": 77,
                          "mpg": 15,
                          "horsepower": 130
                        },
                        {
                          "model_year": 77,
                          "mpg": 17.5,
                          "horsepower": 110
                        },
                        {
                          "model_year": 77,
                          "mpg": 20.5,
                          "horsepower": 105
                        },
                        {
                          "model_year": 77,
                          "mpg": 19,
                          "horsepower": 100
                        },
                        {
                          "model_year": 77,
                          "mpg": 18.5,
                          "horsepower": 98
                        },
                        {
                          "model_year": 77,
                          "mpg": 16,
                          "horsepower": 180
                        },
                        {
                          "model_year": 77,
                          "mpg": 15.5,
                          "horsepower": 170
                        },
                        {
                          "model_year": 77,
                          "mpg": 15.5,
                          "horsepower": 190
                        },
                        {
                          "model_year": 77,
                          "mpg": 16,
                          "horsepower": 149
                        },
                        {
                          "model_year": 77,
                          "mpg": 29,
                          "horsepower": 78
                        },
                        {
                          "model_year": 77,
                          "mpg": 24.5,
                          "horsepower": 88
                        },
                        {
                          "model_year": 77,
                          "mpg": 26,
                          "horsepower": 75
                        },
                        {
                          "model_year": 77,
                          "mpg": 25.5,
                          "horsepower": 89
                        },
                        {
                          "model_year": 77,
                          "mpg": 30.5,
                          "horsepower": 63
                        },
                        {
                          "model_year": 77,
                          "mpg": 33.5,
                          "horsepower": 83
                        },
                        {
                          "model_year": 77,
                          "mpg": 30,
                          "horsepower": 67
                        },
                        {
                          "model_year": 77,
                          "mpg": 30.5,
                          "horsepower": 78
                        },
                        {
                          "model_year": 77,
                          "mpg": 22,
                          "horsepower": 97
                        },
                        {
                          "model_year": 77,
                          "mpg": 21.5,
                          "horsepower": 110
                        },
                        {
                          "model_year": 77,
                          "mpg": 21.5,
                          "horsepower": 110
                        },
                        {
                          "model_year": 78,
                          "mpg": 43.1,
                          "horsepower": 48
                        },
                        {
                          "model_year": 78,
                          "mpg": 36.1,
                          "horsepower": 66
                        },
                        {
                          "model_year": 78,
                          "mpg": 32.8,
                          "horsepower": 52
                        },
                        {
                          "model_year": 78,
                          "mpg": 39.4,
                          "horsepower": 70
                        },
                        {
                          "model_year": 78,
                          "mpg": 36.1,
                          "horsepower": 60
                        },
                        {
                          "model_year": 78,
                          "mpg": 19.9,
                          "horsepower": 110
                        },
                        {
                          "model_year": 78,
                          "mpg": 19.4,
                          "horsepower": 140
                        },
                        {
                          "model_year": 78,
                          "mpg": 20.2,
                          "horsepower": 139
                        },
                        {
                          "model_year": 78,
                          "mpg": 19.2,
                          "horsepower": 105
                        },
                        {
                          "model_year": 78,
                          "mpg": 20.5,
                          "horsepower": 95
                        },
                        {
                          "model_year": 78,
                          "mpg": 20.2,
                          "horsepower": 85
                        },
                        {
                          "model_year": 78,
                          "mpg": 25.1,
                          "horsepower": 88
                        },
                        {
                          "model_year": 78,
                          "mpg": 20.5,
                          "horsepower": 100
                        },
                        {
                          "model_year": 78,
                          "mpg": 19.4,
                          "horsepower": 90
                        },
                        {
                          "model_year": 78,
                          "mpg": 20.6,
                          "horsepower": 105
                        },
                        {
                          "model_year": 78,
                          "mpg": 20.8,
                          "horsepower": 85
                        },
                        {
                          "model_year": 78,
                          "mpg": 18.6,
                          "horsepower": 110
                        },
                        {
                          "model_year": 78,
                          "mpg": 18.1,
                          "horsepower": 120
                        },
                        {
                          "model_year": 78,
                          "mpg": 19.2,
                          "horsepower": 145
                        },
                        {
                          "model_year": 78,
                          "mpg": 17.7,
                          "horsepower": 165
                        },
                        {
                          "model_year": 78,
                          "mpg": 18.1,
                          "horsepower": 139
                        },
                        {
                          "model_year": 78,
                          "mpg": 17.5,
                          "horsepower": 140
                        },
                        {
                          "model_year": 78,
                          "mpg": 30,
                          "horsepower": 68
                        },
                        {
                          "model_year": 78,
                          "mpg": 27.5,
                          "horsepower": 95
                        },
                        {
                          "model_year": 78,
                          "mpg": 27.2,
                          "horsepower": 97
                        },
                        {
                          "model_year": 78,
                          "mpg": 30.9,
                          "horsepower": 75
                        },
                        {
                          "model_year": 78,
                          "mpg": 21.1,
                          "horsepower": 95
                        },
                        {
                          "model_year": 78,
                          "mpg": 23.2,
                          "horsepower": 105
                        },
                        {
                          "model_year": 78,
                          "mpg": 23.8,
                          "horsepower": 85
                        },
                        {
                          "model_year": 78,
                          "mpg": 23.9,
                          "horsepower": 97
                        },
                        {
                          "model_year": 78,
                          "mpg": 20.3,
                          "horsepower": 103
                        },
                        {
                          "model_year": 78,
                          "mpg": 17,
                          "horsepower": 125
                        },
                        {
                          "model_year": 78,
                          "mpg": 21.6,
                          "horsepower": 115
                        },
                        {
                          "model_year": 78,
                          "mpg": 16.2,
                          "horsepower": 133
                        },
                        {
                          "model_year": 78,
                          "mpg": 31.5,
                          "horsepower": 71
                        },
                        {
                          "model_year": 78,
                          "mpg": 29.5,
                          "horsepower": 68
                        },
                        {
                          "model_year": 79,
                          "mpg": 21.5,
                          "horsepower": 115
                        },
                        {
                          "model_year": 79,
                          "mpg": 19.8,
                          "horsepower": 85
                        },
                        {
                          "model_year": 79,
                          "mpg": 22.3,
                          "horsepower": 88
                        },
                        {
                          "model_year": 79,
                          "mpg": 20.2,
                          "horsepower": 90
                        },
                        {
                          "model_year": 79,
                          "mpg": 20.6,
                          "horsepower": 110
                        },
                        {
                          "model_year": 79,
                          "mpg": 17,
                          "horsepower": 130
                        },
                        {
                          "model_year": 79,
                          "mpg": 17.6,
                          "horsepower": 129
                        },
                        {
                          "model_year": 79,
                          "mpg": 16.5,
                          "horsepower": 138
                        },
                        {
                          "model_year": 79,
                          "mpg": 18.2,
                          "horsepower": 135
                        },
                        {
                          "model_year": 79,
                          "mpg": 16.9,
                          "horsepower": 155
                        },
                        {
                          "model_year": 79,
                          "mpg": 15.5,
                          "horsepower": 142
                        },
                        {
                          "model_year": 79,
                          "mpg": 19.2,
                          "horsepower": 125
                        },
                        {
                          "model_year": 79,
                          "mpg": 18.5,
                          "horsepower": 150
                        },
                        {
                          "model_year": 79,
                          "mpg": 31.9,
                          "horsepower": 71
                        },
                        {
                          "model_year": 79,
                          "mpg": 34.1,
                          "horsepower": 65
                        },
                        {
                          "model_year": 79,
                          "mpg": 35.7,
                          "horsepower": 80
                        },
                        {
                          "model_year": 79,
                          "mpg": 27.4,
                          "horsepower": 80
                        },
                        {
                          "model_year": 79,
                          "mpg": 25.4,
                          "horsepower": 77
                        },
                        {
                          "model_year": 79,
                          "mpg": 23,
                          "horsepower": 125
                        },
                        {
                          "model_year": 79,
                          "mpg": 27.2,
                          "horsepower": 71
                        },
                        {
                          "model_year": 79,
                          "mpg": 23.9,
                          "horsepower": 90
                        },
                        {
                          "model_year": 79,
                          "mpg": 34.2,
                          "horsepower": 70
                        },
                        {
                          "model_year": 79,
                          "mpg": 34.5,
                          "horsepower": 70
                        },
                        {
                          "model_year": 79,
                          "mpg": 31.8,
                          "horsepower": 65
                        },
                        {
                          "model_year": 79,
                          "mpg": 37.3,
                          "horsepower": 69
                        },
                        {
                          "model_year": 79,
                          "mpg": 28.4,
                          "horsepower": 90
                        },
                        {
                          "model_year": 79,
                          "mpg": 28.8,
                          "horsepower": 115
                        },
                        {
                          "model_year": 79,
                          "mpg": 26.8,
                          "horsepower": 115
                        },
                        {
                          "model_year": 79,
                          "mpg": 33.5,
                          "horsepower": 90
                        },
                        {
                          "model_year": 80,
                          "mpg": 41.5,
                          "horsepower": 76
                        },
                        {
                          "model_year": 80,
                          "mpg": 38.1,
                          "horsepower": 60
                        },
                        {
                          "model_year": 80,
                          "mpg": 32.1,
                          "horsepower": 70
                        },
                        {
                          "model_year": 80,
                          "mpg": 37.2,
                          "horsepower": 65
                        },
                        {
                          "model_year": 80,
                          "mpg": 28,
                          "horsepower": 90
                        },
                        {
                          "model_year": 80,
                          "mpg": 26.4,
                          "horsepower": 88
                        },
                        {
                          "model_year": 80,
                          "mpg": 24.3,
                          "horsepower": 90
                        },
                        {
                          "model_year": 80,
                          "mpg": 19.1,
                          "horsepower": 90
                        },
                        {
                          "model_year": 80,
                          "mpg": 34.3,
                          "horsepower": 78
                        },
                        {
                          "model_year": 80,
                          "mpg": 29.8,
                          "horsepower": 90
                        },
                        {
                          "model_year": 80,
                          "mpg": 31.3,
                          "horsepower": 75
                        },
                        {
                          "model_year": 80,
                          "mpg": 37,
                          "horsepower": 92
                        },
                        {
                          "model_year": 80,
                          "mpg": 32.2,
                          "horsepower": 75
                        },
                        {
                          "model_year": 80,
                          "mpg": 46.6,
                          "horsepower": 65
                        },
                        {
                          "model_year": 80,
                          "mpg": 27.9,
                          "horsepower": 105
                        },
                        {
                          "model_year": 80,
                          "mpg": 40.8,
                          "horsepower": 65
                        },
                        {
                          "model_year": 80,
                          "mpg": 44.3,
                          "horsepower": 48
                        },
                        {
                          "model_year": 80,
                          "mpg": 43.4,
                          "horsepower": 48
                        },
                        {
                          "model_year": 80,
                          "mpg": 36.4,
                          "horsepower": 67
                        },
                        {
                          "model_year": 80,
                          "mpg": 30,
                          "horsepower": 67
                        },
                        {
                          "model_year": 80,
                          "mpg": 44.6,
                          "horsepower": 67
                        },
                        {
                          "model_year": 80,
                          "mpg": 40.9,
                          "horsepower": null
                        },
                        {
                          "model_year": 80,
                          "mpg": 33.8,
                          "horsepower": 67
                        },
                        {
                          "model_year": 80,
                          "mpg": 29.8,
                          "horsepower": 62
                        },
                        {
                          "model_year": 80,
                          "mpg": 32.7,
                          "horsepower": 132
                        },
                        {
                          "model_year": 80,
                          "mpg": 23.7,
                          "horsepower": 100
                        },
                        {
                          "model_year": 80,
                          "mpg": 35,
                          "horsepower": 88
                        },
                        {
                          "model_year": 80,
                          "mpg": 23.6,
                          "horsepower": null
                        },
                        {
                          "model_year": 80,
                          "mpg": 32.4,
                          "horsepower": 72
                        },
                        {
                          "model_year": 81,
                          "mpg": 27.2,
                          "horsepower": 84
                        },
                        {
                          "model_year": 81,
                          "mpg": 26.6,
                          "horsepower": 84
                        },
                        {
                          "model_year": 81,
                          "mpg": 25.8,
                          "horsepower": 92
                        },
                        {
                          "model_year": 81,
                          "mpg": 23.5,
                          "horsepower": 110
                        },
                        {
                          "model_year": 81,
                          "mpg": 30,
                          "horsepower": 84
                        },
                        {
                          "model_year": 81,
                          "mpg": 39.1,
                          "horsepower": 58
                        },
                        {
                          "model_year": 81,
                          "mpg": 39,
                          "horsepower": 64
                        },
                        {
                          "model_year": 81,
                          "mpg": 35.1,
                          "horsepower": 60
                        },
                        {
                          "model_year": 81,
                          "mpg": 32.3,
                          "horsepower": 67
                        },
                        {
                          "model_year": 81,
                          "mpg": 37,
                          "horsepower": 65
                        },
                        {
                          "model_year": 81,
                          "mpg": 37.7,
                          "horsepower": 62
                        },
                        {
                          "model_year": 81,
                          "mpg": 34.1,
                          "horsepower": 68
                        },
                        {
                          "model_year": 81,
                          "mpg": 34.7,
                          "horsepower": 63
                        },
                        {
                          "model_year": 81,
                          "mpg": 34.4,
                          "horsepower": 65
                        },
                        {
                          "model_year": 81,
                          "mpg": 29.9,
                          "horsepower": 65
                        },
                        {
                          "model_year": 81,
                          "mpg": 33,
                          "horsepower": 74
                        },
                        {
                          "model_year": 81,
                          "mpg": 34.5,
                          "horsepower": null
                        },
                        {
                          "model_year": 81,
                          "mpg": 33.7,
                          "horsepower": 75
                        },
                        {
                          "model_year": 81,
                          "mpg": 32.4,
                          "horsepower": 75
                        },
                        {
                          "model_year": 81,
                          "mpg": 32.9,
                          "horsepower": 100
                        },
                        {
                          "model_year": 81,
                          "mpg": 31.6,
                          "horsepower": 74
                        },
                        {
                          "model_year": 81,
                          "mpg": 28.1,
                          "horsepower": 80
                        },
                        {
                          "model_year": 81,
                          "mpg": 30.7,
                          "horsepower": 76
                        },
                        {
                          "model_year": 81,
                          "mpg": 25.4,
                          "horsepower": 116
                        },
                        {
                          "model_year": 81,
                          "mpg": 24.2,
                          "horsepower": 120
                        },
                        {
                          "model_year": 81,
                          "mpg": 22.4,
                          "horsepower": 110
                        },
                        {
                          "model_year": 81,
                          "mpg": 26.6,
                          "horsepower": 105
                        },
                        {
                          "model_year": 81,
                          "mpg": 20.2,
                          "horsepower": 88
                        },
                        {
                          "model_year": 81,
                          "mpg": 17.6,
                          "horsepower": 85
                        },
                        {
                          "model_year": 82,
                          "mpg": 28,
                          "horsepower": 88
                        },
                        {
                          "model_year": 82,
                          "mpg": 27,
                          "horsepower": 88
                        },
                        {
                          "model_year": 82,
                          "mpg": 34,
                          "horsepower": 88
                        },
                        {
                          "model_year": 82,
                          "mpg": 31,
                          "horsepower": 85
                        },
                        {
                          "model_year": 82,
                          "mpg": 29,
                          "horsepower": 84
                        },
                        {
                          "model_year": 82,
                          "mpg": 27,
                          "horsepower": 90
                        },
                        {
                          "model_year": 82,
                          "mpg": 24,
                          "horsepower": 92
                        },
                        {
                          "model_year": 82,
                          "mpg": 23,
                          "horsepower": null
                        },
                        {
                          "model_year": 82,
                          "mpg": 36,
                          "horsepower": 74
                        },
                        {
                          "model_year": 82,
                          "mpg": 37,
                          "horsepower": 68
                        },
                        {
                          "model_year": 82,
                          "mpg": 31,
                          "horsepower": 68
                        },
                        {
                          "model_year": 82,
                          "mpg": 38,
                          "horsepower": 63
                        },
                        {
                          "model_year": 82,
                          "mpg": 36,
                          "horsepower": 70
                        },
                        {
                          "model_year": 82,
                          "mpg": 36,
                          "horsepower": 88
                        },
                        {
                          "model_year": 82,
                          "mpg": 36,
                          "horsepower": 75
                        },
                        {
                          "model_year": 82,
                          "mpg": 34,
                          "horsepower": 70
                        },
                        {
                          "model_year": 82,
                          "mpg": 38,
                          "horsepower": 67
                        },
                        {
                          "model_year": 82,
                          "mpg": 32,
                          "horsepower": 67
                        },
                        {
                          "model_year": 82,
                          "mpg": 38,
                          "horsepower": 67
                        },
                        {
                          "model_year": 82,
                          "mpg": 25,
                          "horsepower": 110
                        },
                        {
                          "model_year": 82,
                          "mpg": 38,
                          "horsepower": 85
                        },
                        {
                          "model_year": 82,
                          "mpg": 26,
                          "horsepower": 92
                        },
                        {
                          "model_year": 82,
                          "mpg": 22,
                          "horsepower": 112
                        },
                        {
                          "model_year": 82,
                          "mpg": 32,
                          "horsepower": 96
                        },
                        {
                          "model_year": 82,
                          "mpg": 36,
                          "horsepower": 84
                        },
                        {
                          "model_year": 82,
                          "mpg": 27,
                          "horsepower": 90
                        },
                        {
                          "model_year": 82,
                          "mpg": 27,
                          "horsepower": 86
                        },
                        {
                          "model_year": 82,
                          "mpg": 44,
                          "horsepower": 52
                        },
                        {
                          "model_year": 82,
                          "mpg": 32,
                          "horsepower": 84
                        },
                        {
                          "model_year": 82,
                          "mpg": 28,
                          "horsepower": 79
                        },
                        {
                          "model_year": 82,
                          "mpg": 31,
                          "horsepower": 82
                        }
                      ]
                    },
                    "vislib": "vegalite"
                  }
                ]
              },
              {
                "action": "Filter",
                "description": "Applying filters to the <p class='highlight-intent'>horsepower, mpg</p> intent.",
                "long_description": "Adding any filter while keeping the attributes on the x and y axes fixed. Visualizations are ranked based on interestingness",
                "vspec": [
                  {
                    "config": {
                      "view": {
                        "continuousWidth": 400,
                        "continuousHeight": 300
                      },
                      "axis": {
                        "labelColor": "#505050",
                        "labelFont": "Helvetica Neue",
                        "labelFontSize": 9,
                        "labelFontWeight": 400,
                        "titleFont": "Helvetica Neue",
                        "titleFontSize": 11,
                        "titleFontWeight": 500
                      },
                      "legend": {
                        "labelFont": "Helvetica Neue",
                        "labelFontSize": 9,
                        "labelFontWeight": 400,
                        "titleFont": "Helvetica Neue",
                        "titleFontSize": 10,
                        "titleFontWeight": 500
                      },
                      "mark": {
                        "tooltip": {
                          "content": "encoding"
                        }
                      },
                      "title": {
                        "font": "Helvetica Neue",
                        "fontSize": 13,
                        "fontWeight": 500
                      }
                    },
                    "data": {
                      "name": "data-b7f976894b6c34acf90891206c2d1a54"
                    },
                    "mark": "circle",
                    "encoding": {
                      "x": {
                        "axis": {
                          "title": "horsepower"
                        },
                        "field": "horsepower",
                        "scale": {
                          "domain": [
                            46,
                            230
                          ]
                        },
                        "type": "quantitative"
                      },
                      "y": {
                        "axis": {
                          "title": "mpg"
                        },
                        "field": "mpg",
                        "scale": {
                          "domain": [
                            9,
                            46.6
                          ]
                        },
                        "type": "quantitative"
                      }
                    },
                    "height": 150,
                    "selection": {
                      "selector062": {
                        "type": "interval",
                        "bind": "scales",
                        "encodings": [
                          "x",
                          "y"
                        ]
                      }
                    },
                    "title": "model_year = 74",
                    "width": 160,
                    "$schema": "https://vega.github.io/schema/vega-lite/v4.17.0.json",
                    "datasets": {
                      "data-b7f976894b6c34acf90891206c2d1a54": [
                        {
                          "model_year": 74,
                          "mpg": 20,
                          "horsepower": 95
                        },
                        {
                          "model_year": 74,
                          "mpg": 21,
                          "horsepower": null
                        },
                        {
                          "model_year": 74,
                          "mpg": 19,
                          "horsepower": 100
                        },
                        {
                          "model_year": 74,
                          "mpg": 15,
                          "horsepower": 100
                        },
                        {
                          "model_year": 74,
                          "mpg": 31,
                          "horsepower": 67
                        },
                        {
                          "model_year": 74,
                          "mpg": 26,
                          "horsepower": 80
                        },
                        {
                          "model_year": 74,
                          "mpg": 32,
                          "horsepower": 65
                        },
                        {
                          "model_year": 74,
                          "mpg": 25,
                          "horsepower": 75
                        },
                        {
                          "model_year": 74,
                          "mpg": 16,
                          "horsepower": 100
                        },
                        {
                          "model_year": 74,
                          "mpg": 16,
                          "horsepower": 110
                        },
                        {
                          "model_year": 74,
                          "mpg": 18,
                          "horsepower": 105
                        },
                        {
                          "model_year": 74,
                          "mpg": 16,
                          "horsepower": 140
                        },
                        {
                          "model_year": 74,
                          "mpg": 13,
                          "horsepower": 150
                        },
                        {
                          "model_year": 74,
                          "mpg": 14,
                          "horsepower": 150
                        },
                        {
                          "model_year": 74,
                          "mpg": 14,
                          "horsepower": 140
                        },
                        {
                          "model_year": 74,
                          "mpg": 14,
                          "horsepower": 150
                        },
                        {
                          "model_year": 74,
                          "mpg": 29,
                          "horsepower": 83
                        },
                        {
                          "model_year": 74,
                          "mpg": 26,
                          "horsepower": 67
                        },
                        {
                          "model_year": 74,
                          "mpg": 26,
                          "horsepower": 78
                        },
                        {
                          "model_year": 74,
                          "mpg": 31,
                          "horsepower": 52
                        },
                        {
                          "model_year": 74,
                          "mpg": 32,
                          "horsepower": 61
                        },
                        {
                          "model_year": 74,
                          "mpg": 28,
                          "horsepower": 75
                        },
                        {
                          "model_year": 74,
                          "mpg": 24,
                          "horsepower": 75
                        },
                        {
                          "model_year": 74,
                          "mpg": 26,
                          "horsepower": 75
                        },
                        {
                          "model_year": 74,
                          "mpg": 24,
                          "horsepower": 97
                        },
                        {
                          "model_year": 74,
                          "mpg": 26,
                          "horsepower": 93
                        },
                        {
                          "model_year": 74,
                          "mpg": 31,
                          "horsepower": 67
                        }
                      ]
                    },
                    "vislib": "vegalite"
                  },
                  {
                    "config": {
                      "view": {
                        "continuousWidth": 400,
                        "continuousHeight": 300
                      },
                      "axis": {
                        "labelColor": "#505050",
                        "labelFont": "Helvetica Neue",
                        "labelFontSize": 9,
                        "labelFontWeight": 400,
                        "titleFont": "Helvetica Neue",
                        "titleFontSize": 11,
                        "titleFontWeight": 500
                      },
                      "legend": {
                        "labelFont": "Helvetica Neue",
                        "labelFontSize": 9,
                        "labelFontWeight": 400,
                        "titleFont": "Helvetica Neue",
                        "titleFontSize": 10,
                        "titleFontWeight": 500
                      },
                      "mark": {
                        "tooltip": {
                          "content": "encoding"
                        }
                      },
                      "title": {
                        "font": "Helvetica Neue",
                        "fontSize": 13,
                        "fontWeight": 500
                      }
                    },
                    "data": {
                      "name": "data-3717e457093fc5a5cfccea16e8c9dbe7"
                    },
                    "mark": "circle",
                    "encoding": {
                      "x": {
                        "axis": {
                          "title": "horsepower"
                        },
                        "field": "horsepower",
                        "scale": {
                          "domain": [
                            46,
                            230
                          ]
                        },
                        "type": "quantitative"
                      },
                      "y": {
                        "axis": {
                          "title": "mpg"
                        },
                        "field": "mpg",
                        "scale": {
                          "domain": [
                            9,
                            46.6
                          ]
                        },
                        "type": "quantitative"
                      }
                    },
                    "height": 150,
                    "selection": {
                      "selector063": {
                        "type": "interval",
                        "bind": "scales",
                        "encodings": [
                          "x",
                          "y"
                        ]
                      }
                    },
                    "title": "model_year = 70",
                    "width": 160,
                    "$schema": "https://vega.github.io/schema/vega-lite/v4.17.0.json",
                    "datasets": {
                      "data-3717e457093fc5a5cfccea16e8c9dbe7": [
                        {
                          "model_year": 70,
                          "mpg": 18,
                          "horsepower": 130
                        },
                        {
                          "model_year": 70,
                          "mpg": 15,
                          "horsepower": 165
                        },
                        {
                          "model_year": 70,
                          "mpg": 18,
                          "horsepower": 150
                        },
                        {
                          "model_year": 70,
                          "mpg": 16,
                          "horsepower": 150
                        },
                        {
                          "model_year": 70,
                          "mpg": 17,
                          "horsepower": 140
                        },
                        {
                          "model_year": 70,
                          "mpg": 15,
                          "horsepower": 198
                        },
                        {
                          "model_year": 70,
                          "mpg": 14,
                          "horsepower": 220
                        },
                        {
                          "model_year": 70,
                          "mpg": 14,
                          "horsepower": 215
                        },
                        {
                          "model_year": 70,
                          "mpg": 14,
                          "horsepower": 225
                        },
                        {
                          "model_year": 70,
                          "mpg": 15,
                          "horsepower": 190
                        },
                        {
                          "model_year": 70,
                          "mpg": 15,
                          "horsepower": 170
                        },
                        {
                          "model_year": 70,
                          "mpg": 14,
                          "horsepower": 160
                        },
                        {
                          "model_year": 70,
                          "mpg": 15,
                          "horsepower": 150
                        },
                        {
                          "model_year": 70,
                          "mpg": 14,
                          "horsepower": 225
                        },
                        {
                          "model_year": 70,
                          "mpg": 24,
                          "horsepower": 95
                        },
                        {
                          "model_year": 70,
                          "mpg": 22,
                          "horsepower": 95
                        },
                        {
                          "model_year": 70,
                          "mpg": 18,
                          "horsepower": 97
                        },
                        {
                          "model_year": 70,
                          "mpg": 21,
                          "horsepower": 85
                        },
                        {
                          "model_year": 70,
                          "mpg": 27,
                          "horsepower": 88
                        },
                        {
                          "model_year": 70,
                          "mpg": 26,
                          "horsepower": 46
                        },
                        {
                          "model_year": 70,
                          "mpg": 25,
                          "horsepower": 87
                        },
                        {
                          "model_year": 70,
                          "mpg": 24,
                          "horsepower": 90
                        },
                        {
                          "model_year": 70,
                          "mpg": 25,
                          "horsepower": 95
                        },
                        {
                          "model_year": 70,
                          "mpg": 26,
                          "horsepower": 113
                        },
                        {
                          "model_year": 70,
                          "mpg": 21,
                          "horsepower": 90
                        },
                        {
                          "model_year": 70,
                          "mpg": 10,
                          "horsepower": 215
                        },
                        {
                          "model_year": 70,
                          "mpg": 10,
                          "horsepower": 200
                        },
                        {
                          "model_year": 70,
                          "mpg": 11,
                          "horsepower": 210
                        },
                        {
                          "model_year": 70,
                          "mpg": 9,
                          "horsepower": 193
                        }
                      ]
                    },
                    "vislib": "vegalite"
                  },
                  {
                    "config": {
                      "view": {
                        "continuousWidth": 400,
                        "continuousHeight": 300
                      },
                      "axis": {
                        "labelColor": "#505050",
                        "labelFont": "Helvetica Neue",
                        "labelFontSize": 9,
                        "labelFontWeight": 400,
                        "titleFont": "Helvetica Neue",
                        "titleFontSize": 11,
                        "titleFontWeight": 500
                      },
                      "legend": {
                        "labelFont": "Helvetica Neue",
                        "labelFontSize": 9,
                        "labelFontWeight": 400,
                        "titleFont": "Helvetica Neue",
                        "titleFontSize": 10,
                        "titleFontWeight": 500
                      },
                      "mark": {
                        "tooltip": {
                          "content": "encoding"
                        }
                      },
                      "title": {
                        "font": "Helvetica Neue",
                        "fontSize": 13,
                        "fontWeight": 500
                      }
                    },
                    "data": {
                      "name": "data-6734ac04a6543d2b196edcbcf3d9befa"
                    },
                    "mark": "circle",
                    "encoding": {
                      "x": {
                        "axis": {
                          "title": "horsepower"
                        },
                        "field": "horsepower",
                        "scale": {
                          "domain": [
                            46,
                            230
                          ]
                        },
                        "type": "quantitative"
                      },
                      "y": {
                        "axis": {
                          "title": "mpg"
                        },
                        "field": "mpg",
                        "scale": {
                          "domain": [
                            9,
                            46.6
                          ]
                        },
                        "type": "quantitative"
                      }
                    },
                    "height": 150,
                    "selection": {
                      "selector064": {
                        "type": "interval",
                        "bind": "scales",
                        "encodings": [
                          "x",
                          "y"
                        ]
                      }
                    },
                    "title": "model_year = 72",
                    "width": 160,
                    "$schema": "https://vega.github.io/schema/vega-lite/v4.17.0.json",
                    "datasets": {
                      "data-6734ac04a6543d2b196edcbcf3d9befa": [
                        {
                          "model_year": 72,
                          "mpg": 24,
                          "horsepower": 95
                        },
                        {
                          "model_year": 72,
                          "mpg": 25,
                          "horsepower": 80
                        },
                        {
                          "model_year": 72,
                          "mpg": 23,
                          "horsepower": 54
                        },
                        {
                          "model_year": 72,
                          "mpg": 20,
                          "horsepower": 90
                        },
                        {
                          "model_year": 72,
                          "mpg": 21,
                          "horsepower": 86
                        },
                        {
                          "model_year": 72,
                          "mpg": 13,
                          "horsepower": 165
                        },
                        {
                          "model_year": 72,
                          "mpg": 14,
                          "horsepower": 175
                        },
                        {
                          "model_year": 72,
                          "mpg": 15,
                          "horsepower": 150
                        },
                        {
                          "model_year": 72,
                          "mpg": 14,
                          "horsepower": 153
                        },
                        {
                          "model_year": 72,
                          "mpg": 17,
                          "horsepower": 150
                        },
                        {
                          "model_year": 72,
                          "mpg": 11,
                          "horsepower": 208
                        },
                        {
                          "model_year": 72,
                          "mpg": 13,
                          "horsepower": 155
                        },
                        {
                          "model_year": 72,
                          "mpg": 12,
                          "horsepower": 160
                        },
                        {
                          "model_year": 72,
                          "mpg": 13,
                          "horsepower": 190
                        },
                        {
                          "model_year": 72,
                          "mpg": 19,
                          "horsepower": 97
                        },
                        {
                          "model_year": 72,
                          "mpg": 15,
                          "horsepower": 150
                        },
                        {
                          "model_year": 72,
                          "mpg": 13,
                          "horsepower": 130
                        },
                        {
                          "model_year": 72,
                          "mpg": 13,
                          "horsepower": 140
                        },
                        {
                          "model_year": 72,
                          "mpg": 14,
                          "horsepower": 150
                        },
                        {
                          "model_year": 72,
                          "mpg": 18,
                          "horsepower": 112
                        },
                        {
                          "model_year": 72,
                          "mpg": 22,
                          "horsepower": 76
                        },
                        {
                          "model_year": 72,
                          "mpg": 21,
                          "horsepower": 87
                        },
                        {
                          "model_year": 72,
                          "mpg": 26,
                          "horsepower": 69
                        },
                        {
                          "model_year": 72,
                          "mpg": 22,
                          "horsepower": 86
                        },
                        {
                          "model_year": 72,
                          "mpg": 28,
                          "horsepower": 92
                        },
                        {
                          "model_year": 72,
                          "mpg": 23,
                          "horsepower": 97
                        },
                        {
                          "model_year": 72,
                          "mpg": 28,
                          "horsepower": 80
                        },
                        {
                          "model_year": 72,
                          "mpg": 27,
                          "horsepower": 88
                        }
                      ]
                    },
                    "vislib": "vegalite"
                  },
                  {
                    "config": {
                      "view": {
                        "continuousWidth": 400,
                        "continuousHeight": 300
                      },
                      "axis": {
                        "labelColor": "#505050",
                        "labelFont": "Helvetica Neue",
                        "labelFontSize": 9,
                        "labelFontWeight": 400,
                        "titleFont": "Helvetica Neue",
                        "titleFontSize": 11,
                        "titleFontWeight": 500
                      },
                      "legend": {
                        "labelFont": "Helvetica Neue",
                        "labelFontSize": 9,
                        "labelFontWeight": 400,
                        "titleFont": "Helvetica Neue",
                        "titleFontSize": 10,
                        "titleFontWeight": 500
                      },
                      "mark": {
                        "tooltip": {
                          "content": "encoding"
                        }
                      },
                      "title": {
                        "font": "Helvetica Neue",
                        "fontSize": 13,
                        "fontWeight": 500
                      }
                    },
                    "data": {
                      "name": "data-51cbc8106e3128ea413fad31e374eb34"
                    },
                    "mark": "circle",
                    "encoding": {
                      "x": {
                        "axis": {
                          "title": "horsepower"
                        },
                        "field": "horsepower",
                        "scale": {
                          "domain": [
                            46,
                            230
                          ]
                        },
                        "type": "quantitative"
                      },
                      "y": {
                        "axis": {
                          "title": "mpg"
                        },
                        "field": "mpg",
                        "scale": {
                          "domain": [
                            9,
                            46.6
                          ]
                        },
                        "type": "quantitative"
                      }
                    },
                    "height": 150,
                    "selection": {
                      "selector065": {
                        "type": "interval",
                        "bind": "scales",
                        "encodings": [
                          "x",
                          "y"
                        ]
                      }
                    },
                    "title": "model_year = 76",
                    "width": 160,
                    "$schema": "https://vega.github.io/schema/vega-lite/v4.17.0.json",
                    "datasets": {
                      "data-51cbc8106e3128ea413fad31e374eb34": [
                        {
                          "model_year": 76,
                          "mpg": 28,
                          "horsepower": 86
                        },
                        {
                          "model_year": 76,
                          "mpg": 25,
                          "horsepower": 81
                        },
                        {
                          "model_year": 76,
                          "mpg": 25,
                          "horsepower": 92
                        },
                        {
                          "model_year": 76,
                          "mpg": 26,
                          "horsepower": 79
                        },
                        {
                          "model_year": 76,
                          "mpg": 27,
                          "horsepower": 83
                        },
                        {
                          "model_year": 76,
                          "mpg": 17.5,
                          "horsepower": 140
                        },
                        {
                          "model_year": 76,
                          "mpg": 16,
                          "horsepower": 150
                        },
                        {
                          "model_year": 76,
                          "mpg": 15.5,
                          "horsepower": 120
                        },
                        {
                          "model_year": 76,
                          "mpg": 14.5,
                          "horsepower": 152
                        },
                        {
                          "model_year": 76,
                          "mpg": 22,
                          "horsepower": 100
                        },
                        {
                          "model_year": 76,
                          "mpg": 22,
                          "horsepower": 105
                        },
                        {
                          "model_year": 76,
                          "mpg": 24,
                          "horsepower": 81
                        },
                        {
                          "model_year": 76,
                          "mpg": 22.5,
                          "horsepower": 90
                        },
                        {
                          "model_year": 76,
                          "mpg": 29,
                          "horsepower": 52
                        },
                        {
                          "model_year": 76,
                          "mpg": 24.5,
                          "horsepower": 60
                        },
                        {
                          "model_year": 76,
                          "mpg": 29,
                          "horsepower": 70
                        },
                        {
                          "model_year": 76,
                          "mpg": 33,
                          "horsepower": 53
                        },
                        {
                          "model_year": 76,
                          "mpg": 20,
                          "horsepower": 100
                        },
                        {
                          "model_year": 76,
                          "mpg": 18,
                          "horsepower": 78
                        },
                        {
                          "model_year": 76,
                          "mpg": 18.5,
                          "horsepower": 110
                        },
                        {
                          "model_year": 76,
                          "mpg": 17.5,
                          "horsepower": 95
                        },
                        {
                          "model_year": 76,
                          "mpg": 29.5,
                          "horsepower": 71
                        },
                        {
                          "model_year": 76,
                          "mpg": 32,
                          "horsepower": 70
                        },
                        {
                          "model_year": 76,
                          "mpg": 28,
                          "horsepower": 75
                        },
                        {
                          "model_year": 76,
                          "mpg": 26.5,
                          "horsepower": 72
                        },
                        {
                          "model_year": 76,
                          "mpg": 20,
                          "horsepower": 102
                        },
                        {
                          "model_year": 76,
                          "mpg": 13,
                          "horsepower": 150
                        },
                        {
                          "model_year": 76,
                          "mpg": 19,
                          "horsepower": 88
                        },
                        {
                          "model_year": 76,
                          "mpg": 19,
                          "horsepower": 108
                        },
                        {
                          "model_year": 76,
                          "mpg": 16.5,
                          "horsepower": 120
                        },
                        {
                          "model_year": 76,
                          "mpg": 16.5,
                          "horsepower": 180
                        },
                        {
                          "model_year": 76,
                          "mpg": 13,
                          "horsepower": 145
                        },
                        {
                          "model_year": 76,
                          "mpg": 13,
                          "horsepower": 130
                        },
                        {
                          "model_year": 76,
                          "mpg": 13,
                          "horsepower": 150
                        }
                      ]
                    },
                    "vislib": "vegalite"
                  },
                  {
                    "config": {
                      "view": {
                        "continuousWidth": 400,
                        "continuousHeight": 300
                      },
                      "axis": {
                        "labelColor": "#505050",
                        "labelFont": "Helvetica Neue",
                        "labelFontSize": 9,
                        "labelFontWeight": 400,
                        "titleFont": "Helvetica Neue",
                        "titleFontSize": 11,
                        "titleFontWeight": 500
                      },
                      "legend": {
                        "labelFont": "Helvetica Neue",
                        "labelFontSize": 9,
                        "labelFontWeight": 400,
                        "titleFont": "Helvetica Neue",
                        "titleFontSize": 10,
                        "titleFontWeight": 500
                      },
                      "mark": {
                        "tooltip": {
                          "content": "encoding"
                        }
                      },
                      "title": {
                        "font": "Helvetica Neue",
                        "fontSize": 13,
                        "fontWeight": 500
                      }
                    },
                    "data": {
                      "name": "data-4410523160015c283ea260498f8e0a96"
                    },
                    "mark": "circle",
                    "encoding": {
                      "x": {
                        "axis": {
                          "title": "horsepower"
                        },
                        "field": "horsepower",
                        "scale": {
                          "domain": [
                            46,
                            230
                          ]
                        },
                        "type": "quantitative"
                      },
                      "y": {
                        "axis": {
                          "title": "mpg"
                        },
                        "field": "mpg",
                        "scale": {
                          "domain": [
                            9,
                            46.6
                          ]
                        },
                        "type": "quantitative"
                      }
                    },
                    "height": 150,
                    "selection": {
                      "selector066": {
                        "type": "interval",
                        "bind": "scales",
                        "encodings": [
                          "x",
                          "y"
                        ]
                      }
                    },
                    "title": "model_year = 77",
                    "width": 160,
                    "$schema": "https://vega.github.io/schema/vega-lite/v4.17.0.json",
                    "datasets": {
                      "data-4410523160015c283ea260498f8e0a96": [
                        {
                          "model_year": 77,
                          "mpg": 31.5,
                          "horsepower": 68
                        },
                        {
                          "model_year": 77,
                          "mpg": 30,
                          "horsepower": 80
                        },
                        {
                          "model_year": 77,
                          "mpg": 36,
                          "horsepower": 58
                        },
                        {
                          "model_year": 77,
                          "mpg": 25.5,
                          "horsepower": 96
                        },
                        {
                          "model_year": 77,
                          "mpg": 33.5,
                          "horsepower": 70
                        },
                        {
                          "model_year": 77,
                          "mpg": 17.5,
                          "horsepower": 145
                        },
                        {
                          "model_year": 77,
                          "mpg": 17,
                          "horsepower": 110
                        },
                        {
                          "model_year": 77,
                          "mpg": 15.5,
                          "horsepower": 145
                        },
                        {
                          "model_year": 77,
                          "mpg": 15,
                          "horsepower": 130
                        },
                        {
                          "model_year": 77,
                          "mpg": 17.5,
                          "horsepower": 110
                        },
                        {
                          "model_year": 77,
                          "mpg": 20.5,
                          "horsepower": 105
                        },
                        {
                          "model_year": 77,
                          "mpg": 19,
                          "horsepower": 100
                        },
                        {
                          "model_year": 77,
                          "mpg": 18.5,
                          "horsepower": 98
                        },
                        {
                          "model_year": 77,
                          "mpg": 16,
                          "horsepower": 180
                        },
                        {
                          "model_year": 77,
                          "mpg": 15.5,
                          "horsepower": 170
                        },
                        {
                          "model_year": 77,
                          "mpg": 15.5,
                          "horsepower": 190
                        },
                        {
                          "model_year": 77,
                          "mpg": 16,
                          "horsepower": 149
                        },
                        {
                          "model_year": 77,
                          "mpg": 29,
                          "horsepower": 78
                        },
                        {
                          "model_year": 77,
                          "mpg": 24.5,
                          "horsepower": 88
                        },
                        {
                          "model_year": 77,
                          "mpg": 26,
                          "horsepower": 75
                        },
                        {
                          "model_year": 77,
                          "mpg": 25.5,
                          "horsepower": 89
                        },
                        {
                          "model_year": 77,
                          "mpg": 30.5,
                          "horsepower": 63
                        },
                        {
                          "model_year": 77,
                          "mpg": 33.5,
                          "horsepower": 83
                        },
                        {
                          "model_year": 77,
                          "mpg": 30,
                          "horsepower": 67
                        },
                        {
                          "model_year": 77,
                          "mpg": 30.5,
                          "horsepower": 78
                        },
                        {
                          "model_year": 77,
                          "mpg": 22,
                          "horsepower": 97
                        },
                        {
                          "model_year": 77,
                          "mpg": 21.5,
                          "horsepower": 110
                        },
                        {
                          "model_year": 77,
                          "mpg": 21.5,
                          "horsepower": 110
                        }
                      ]
                    },
                    "vislib": "vegalite"
                  },
                  {
                    "config": {
                      "view": {
                        "continuousWidth": 400,
                        "continuousHeight": 300
                      },
                      "axis": {
                        "labelColor": "#505050",
                        "labelFont": "Helvetica Neue",
                        "labelFontSize": 9,
                        "labelFontWeight": 400,
                        "titleFont": "Helvetica Neue",
                        "titleFontSize": 11,
                        "titleFontWeight": 500
                      },
                      "legend": {
                        "labelFont": "Helvetica Neue",
                        "labelFontSize": 9,
                        "labelFontWeight": 400,
                        "titleFont": "Helvetica Neue",
                        "titleFontSize": 10,
                        "titleFontWeight": 500
                      },
                      "mark": {
                        "tooltip": {
                          "content": "encoding"
                        }
                      },
                      "title": {
                        "font": "Helvetica Neue",
                        "fontSize": 13,
                        "fontWeight": 500
                      }
                    },
                    "data": {
                      "name": "data-607f2bec695605258b7721e84fa5e501"
                    },
                    "mark": "circle",
                    "encoding": {
                      "x": {
                        "axis": {
                          "title": "horsepower"
                        },
                        "field": "horsepower",
                        "scale": {
                          "domain": [
                            46,
                            230
                          ]
                        },
                        "type": "quantitative"
                      },
                      "y": {
                        "axis": {
                          "title": "mpg"
                        },
                        "field": "mpg",
                        "scale": {
                          "domain": [
                            9,
                            46.6
                          ]
                        },
                        "type": "quantitative"
                      }
                    },
                    "height": 150,
                    "selection": {
                      "selector067": {
                        "type": "interval",
                        "bind": "scales",
                        "encodings": [
                          "x",
                          "y"
                        ]
                      }
                    },
                    "title": "model_year = 71",
                    "width": 160,
                    "$schema": "https://vega.github.io/schema/vega-lite/v4.17.0.json",
                    "datasets": {
                      "data-607f2bec695605258b7721e84fa5e501": [
                        {
                          "model_year": 71,
                          "mpg": 27,
                          "horsepower": 88
                        },
                        {
                          "model_year": 71,
                          "mpg": 28,
                          "horsepower": 90
                        },
                        {
                          "model_year": 71,
                          "mpg": 25,
                          "horsepower": 95
                        },
                        {
                          "model_year": 71,
                          "mpg": 25,
                          "horsepower": null
                        },
                        {
                          "model_year": 71,
                          "mpg": 19,
                          "horsepower": 100
                        },
                        {
                          "model_year": 71,
                          "mpg": 16,
                          "horsepower": 105
                        },
                        {
                          "model_year": 71,
                          "mpg": 17,
                          "horsepower": 100
                        },
                        {
                          "model_year": 71,
                          "mpg": 19,
                          "horsepower": 88
                        },
                        {
                          "model_year": 71,
                          "mpg": 18,
                          "horsepower": 100
                        },
                        {
                          "model_year": 71,
                          "mpg": 14,
                          "horsepower": 165
                        },
                        {
                          "model_year": 71,
                          "mpg": 14,
                          "horsepower": 175
                        },
                        {
                          "model_year": 71,
                          "mpg": 14,
                          "horsepower": 153
                        },
                        {
                          "model_year": 71,
                          "mpg": 14,
                          "horsepower": 150
                        },
                        {
                          "model_year": 71,
                          "mpg": 12,
                          "horsepower": 180
                        },
                        {
                          "model_year": 71,
                          "mpg": 13,
                          "horsepower": 170
                        },
                        {
                          "model_year": 71,
                          "mpg": 13,
                          "horsepower": 175
                        },
                        {
                          "model_year": 71,
                          "mpg": 18,
                          "horsepower": 110
                        },
                        {
                          "model_year": 71,
                          "mpg": 22,
                          "horsepower": 72
                        },
                        {
                          "model_year": 71,
                          "mpg": 19,
                          "horsepower": 100
                        },
                        {
                          "model_year": 71,
                          "mpg": 18,
                          "horsepower": 88
                        },
                        {
                          "model_year": 71,
                          "mpg": 23,
                          "horsepower": 86
                        },
                        {
                          "model_year": 71,
                          "mpg": 28,
                          "horsepower": 90
                        },
                        {
                          "model_year": 71,
                          "mpg": 30,
                          "horsepower": 70
                        },
                        {
                          "model_year": 71,
                          "mpg": 30,
                          "horsepower": 76
                        },
                        {
                          "model_year": 71,
                          "mpg": 31,
                          "horsepower": 65
                        },
                        {
                          "model_year": 71,
                          "mpg": 35,
                          "horsepower": 69
                        },
                        {
                          "model_year": 71,
                          "mpg": 27,
                          "horsepower": 60
                        },
                        {
                          "model_year": 71,
                          "mpg": 26,
                          "horsepower": 70
                        }
                      ]
                    },
                    "vislib": "vegalite"
                  },
                  {
                    "config": {
                      "view": {
                        "continuousWidth": 400,
                        "continuousHeight": 300
                      },
                      "axis": {
                        "labelColor": "#505050",
                        "labelFont": "Helvetica Neue",
                        "labelFontSize": 9,
                        "labelFontWeight": 400,
                        "titleFont": "Helvetica Neue",
                        "titleFontSize": 11,
                        "titleFontWeight": 500
                      },
                      "legend": {
                        "labelFont": "Helvetica Neue",
                        "labelFontSize": 9,
                        "labelFontWeight": 400,
                        "titleFont": "Helvetica Neue",
                        "titleFontSize": 10,
                        "titleFontWeight": 500
                      },
                      "mark": {
                        "tooltip": {
                          "content": "encoding"
                        }
                      },
                      "title": {
                        "font": "Helvetica Neue",
                        "fontSize": 13,
                        "fontWeight": 500
                      }
                    },
                    "data": {
                      "name": "data-a6a620194bb0d93c530eeed430fded6e"
                    },
                    "mark": "circle",
                    "encoding": {
                      "x": {
                        "axis": {
                          "title": "horsepower"
                        },
                        "field": "horsepower",
                        "scale": {
                          "domain": [
                            46,
                            230
                          ]
                        },
                        "type": "quantitative"
                      },
                      "y": {
                        "axis": {
                          "title": "mpg"
                        },
                        "field": "mpg",
                        "scale": {
                          "domain": [
                            9,
                            46.6
                          ]
                        },
                        "type": "quantitative"
                      }
                    },
                    "height": 150,
                    "selection": {
                      "selector068": {
                        "type": "interval",
                        "bind": "scales",
                        "encodings": [
                          "x",
                          "y"
                        ]
                      }
                    },
                    "title": "model_year = 73",
                    "width": 160,
                    "$schema": "https://vega.github.io/schema/vega-lite/v4.17.0.json",
                    "datasets": {
                      "data-a6a620194bb0d93c530eeed430fded6e": [
                        {
                          "model_year": 73,
                          "mpg": 13,
                          "horsepower": 175
                        },
                        {
                          "model_year": 73,
                          "mpg": 14,
                          "horsepower": 150
                        },
                        {
                          "model_year": 73,
                          "mpg": 13,
                          "horsepower": 145
                        },
                        {
                          "model_year": 73,
                          "mpg": 14,
                          "horsepower": 137
                        },
                        {
                          "model_year": 73,
                          "mpg": 15,
                          "horsepower": 150
                        },
                        {
                          "model_year": 73,
                          "mpg": 12,
                          "horsepower": 198
                        },
                        {
                          "model_year": 73,
                          "mpg": 13,
                          "horsepower": 150
                        },
                        {
                          "model_year": 73,
                          "mpg": 13,
                          "horsepower": 158
                        },
                        {
                          "model_year": 73,
                          "mpg": 14,
                          "horsepower": 150
                        },
                        {
                          "model_year": 73,
                          "mpg": 13,
                          "horsepower": 215
                        },
                        {
                          "model_year": 73,
                          "mpg": 12,
                          "horsepower": 225
                        },
                        {
                          "model_year": 73,
                          "mpg": 13,
                          "horsepower": 175
                        },
                        {
                          "model_year": 73,
                          "mpg": 18,
                          "horsepower": 105
                        },
                        {
                          "model_year": 73,
                          "mpg": 16,
                          "horsepower": 100
                        },
                        {
                          "model_year": 73,
                          "mpg": 18,
                          "horsepower": 100
                        },
                        {
                          "model_year": 73,
                          "mpg": 18,
                          "horsepower": 88
                        },
                        {
                          "model_year": 73,
                          "mpg": 23,
                          "horsepower": 95
                        },
                        {
                          "model_year": 73,
                          "mpg": 26,
                          "horsepower": 46
                        },
                        {
                          "model_year": 73,
                          "mpg": 11,
                          "horsepower": 150
                        },
                        {
                          "model_year": 73,
                          "mpg": 12,
                          "horsepower": 167
                        },
                        {
                          "model_year": 73,
                          "mpg": 13,
                          "horsepower": 170
                        },
                        {
                          "model_year": 73,
                          "mpg": 12,
                          "horsepower": 180
                        },
                        {
                          "model_year": 73,
                          "mpg": 18,
                          "horsepower": 100
                        },
                        {
                          "model_year": 73,
                          "mpg": 20,
                          "horsepower": 88
                        },
                        {
                          "model_year": 73,
                          "mpg": 21,
                          "horsepower": 72
                        },
                        {
                          "model_year": 73,
                          "mpg": 22,
                          "horsepower": 94
                        },
                        {
                          "model_year": 73,
                          "mpg": 18,
                          "horsepower": 90
                        },
                        {
                          "model_year": 73,
                          "mpg": 19,
                          "horsepower": 85
                        },
                        {
                          "model_year": 73,
                          "mpg": 21,
                          "horsepower": 107
                        },
                        {
                          "model_year": 73,
                          "mpg": 26,
                          "horsepower": 90
                        },
                        {
                          "model_year": 73,
                          "mpg": 15,
                          "horsepower": 145
                        },
                        {
                          "model_year": 73,
                          "mpg": 16,
                          "horsepower": 230
                        },
                        {
                          "model_year": 73,
                          "mpg": 29,
                          "horsepower": 49
                        },
                        {
                          "model_year": 73,
                          "mpg": 24,
                          "horsepower": 75
                        },
                        {
                          "model_year": 73,
                          "mpg": 20,
                          "horsepower": 91
                        },
                        {
                          "model_year": 73,
                          "mpg": 19,
                          "horsepower": 112
                        },
                        {
                          "model_year": 73,
                          "mpg": 15,
                          "horsepower": 150
                        },
                        {
                          "model_year": 73,
                          "mpg": 24,
                          "horsepower": 110
                        },
                        {
                          "model_year": 73,
                          "mpg": 20,
                          "horsepower": 122
                        },
                        {
                          "model_year": 73,
                          "mpg": 11,
                          "horsepower": 180
                        }
                      ]
                    },
                    "vislib": "vegalite"
                  },
                  {
                    "config": {
                      "view": {
                        "continuousWidth": 400,
                        "continuousHeight": 300
                      },
                      "axis": {
                        "labelColor": "#505050",
                        "labelFont": "Helvetica Neue",
                        "labelFontSize": 9,
                        "labelFontWeight": 400,
                        "titleFont": "Helvetica Neue",
                        "titleFontSize": 11,
                        "titleFontWeight": 500
                      },
                      "legend": {
                        "labelFont": "Helvetica Neue",
                        "labelFontSize": 9,
                        "labelFontWeight": 400,
                        "titleFont": "Helvetica Neue",
                        "titleFontSize": 10,
                        "titleFontWeight": 500
                      },
                      "mark": {
                        "tooltip": {
                          "content": "encoding"
                        }
                      },
                      "title": {
                        "font": "Helvetica Neue",
                        "fontSize": 13,
                        "fontWeight": 500
                      }
                    },
                    "data": {
                      "name": "data-18a273976f0ad4dec7f5372abbbed9ab"
                    },
                    "mark": "circle",
                    "encoding": {
                      "x": {
                        "axis": {
                          "title": "horsepower"
                        },
                        "field": "horsepower",
                        "scale": {
                          "domain": [
                            46,
                            230
                          ]
                        },
                        "type": "quantitative"
                      },
                      "y": {
                        "axis": {
                          "title": "mpg"
                        },
                        "field": "mpg",
                        "scale": {
                          "domain": [
                            9,
                            46.6
                          ]
                        },
                        "type": "quantitative"
                      }
                    },
                    "height": 150,
                    "selection": {
                      "selector069": {
                        "type": "interval",
                        "bind": "scales",
                        "encodings": [
                          "x",
                          "y"
                        ]
                      }
                    },
                    "title": "model_year = 78",
                    "width": 160,
                    "$schema": "https://vega.github.io/schema/vega-lite/v4.17.0.json",
                    "datasets": {
                      "data-18a273976f0ad4dec7f5372abbbed9ab": [
                        {
                          "model_year": 78,
                          "mpg": 43.1,
                          "horsepower": 48
                        },
                        {
                          "model_year": 78,
                          "mpg": 36.1,
                          "horsepower": 66
                        },
                        {
                          "model_year": 78,
                          "mpg": 32.8,
                          "horsepower": 52
                        },
                        {
                          "model_year": 78,
                          "mpg": 39.4,
                          "horsepower": 70
                        },
                        {
                          "model_year": 78,
                          "mpg": 36.1,
                          "horsepower": 60
                        },
                        {
                          "model_year": 78,
                          "mpg": 19.9,
                          "horsepower": 110
                        },
                        {
                          "model_year": 78,
                          "mpg": 19.4,
                          "horsepower": 140
                        },
                        {
                          "model_year": 78,
                          "mpg": 20.2,
                          "horsepower": 139
                        },
                        {
                          "model_year": 78,
                          "mpg": 19.2,
                          "horsepower": 105
                        },
                        {
                          "model_year": 78,
                          "mpg": 20.5,
                          "horsepower": 95
                        },
                        {
                          "model_year": 78,
                          "mpg": 20.2,
                          "horsepower": 85
                        },
                        {
                          "model_year": 78,
                          "mpg": 25.1,
                          "horsepower": 88
                        },
                        {
                          "model_year": 78,
                          "mpg": 20.5,
                          "horsepower": 100
                        },
                        {
                          "model_year": 78,
                          "mpg": 19.4,
                          "horsepower": 90
                        },
                        {
                          "model_year": 78,
                          "mpg": 20.6,
                          "horsepower": 105
                        },
                        {
                          "model_year": 78,
                          "mpg": 20.8,
                          "horsepower": 85
                        },
                        {
                          "model_year": 78,
                          "mpg": 18.6,
                          "horsepower": 110
                        },
                        {
                          "model_year": 78,
                          "mpg": 18.1,
                          "horsepower": 120
                        },
                        {
                          "model_year": 78,
                          "mpg": 19.2,
                          "horsepower": 145
                        },
                        {
                          "model_year": 78,
                          "mpg": 17.7,
                          "horsepower": 165
                        },
                        {
                          "model_year": 78,
                          "mpg": 18.1,
                          "horsepower": 139
                        },
                        {
                          "model_year": 78,
                          "mpg": 17.5,
                          "horsepower": 140
                        },
                        {
                          "model_year": 78,
                          "mpg": 30,
                          "horsepower": 68
                        },
                        {
                          "model_year": 78,
                          "mpg": 27.5,
                          "horsepower": 95
                        },
                        {
                          "model_year": 78,
                          "mpg": 27.2,
                          "horsepower": 97
                        },
                        {
                          "model_year": 78,
                          "mpg": 30.9,
                          "horsepower": 75
                        },
                        {
                          "model_year": 78,
                          "mpg": 21.1,
                          "horsepower": 95
                        },
                        {
                          "model_year": 78,
                          "mpg": 23.2,
                          "horsepower": 105
                        },
                        {
                          "model_year": 78,
                          "mpg": 23.8,
                          "horsepower": 85
                        },
                        {
                          "model_year": 78,
                          "mpg": 23.9,
                          "horsepower": 97
                        },
                        {
                          "model_year": 78,
                          "mpg": 20.3,
                          "horsepower": 103
                        },
                        {
                          "model_year": 78,
                          "mpg": 17,
                          "horsepower": 125
                        },
                        {
                          "model_year": 78,
                          "mpg": 21.6,
                          "horsepower": 115
                        },
                        {
                          "model_year": 78,
                          "mpg": 16.2,
                          "horsepower": 133
                        },
                        {
                          "model_year": 78,
                          "mpg": 31.5,
                          "horsepower": 71
                        },
                        {
                          "model_year": 78,
                          "mpg": 29.5,
                          "horsepower": 68
                        }
                      ]
                    },
                    "vislib": "vegalite"
                  },
                  {
                    "config": {
                      "view": {
                        "continuousWidth": 400,
                        "continuousHeight": 300
                      },
                      "axis": {
                        "labelColor": "#505050",
                        "labelFont": "Helvetica Neue",
                        "labelFontSize": 9,
                        "labelFontWeight": 400,
                        "titleFont": "Helvetica Neue",
                        "titleFontSize": 11,
                        "titleFontWeight": 500
                      },
                      "legend": {
                        "labelFont": "Helvetica Neue",
                        "labelFontSize": 9,
                        "labelFontWeight": 400,
                        "titleFont": "Helvetica Neue",
                        "titleFontSize": 10,
                        "titleFontWeight": 500
                      },
                      "mark": {
                        "tooltip": {
                          "content": "encoding"
                        }
                      },
                      "title": {
                        "font": "Helvetica Neue",
                        "fontSize": 13,
                        "fontWeight": 500
                      }
                    },
                    "data": {
                      "name": "data-a2c39503b87ab36637257d95729ca58f"
                    },
                    "mark": "circle",
                    "encoding": {
                      "x": {
                        "axis": {
                          "title": "horsepower"
                        },
                        "field": "horsepower",
                        "scale": {
                          "domain": [
                            46,
                            230
                          ]
                        },
                        "type": "quantitative"
                      },
                      "y": {
                        "axis": {
                          "title": "mpg"
                        },
                        "field": "mpg",
                        "scale": {
                          "domain": [
                            9,
                            46.6
                          ]
                        },
                        "type": "quantitative"
                      }
                    },
                    "height": 150,
                    "selection": {
                      "selector070": {
                        "type": "interval",
                        "bind": "scales",
                        "encodings": [
                          "x",
                          "y"
                        ]
                      }
                    },
                    "title": "model_year = 79",
                    "width": 160,
                    "$schema": "https://vega.github.io/schema/vega-lite/v4.17.0.json",
                    "datasets": {
                      "data-a2c39503b87ab36637257d95729ca58f": [
                        {
                          "model_year": 79,
                          "mpg": 21.5,
                          "horsepower": 115
                        },
                        {
                          "model_year": 79,
                          "mpg": 19.8,
                          "horsepower": 85
                        },
                        {
                          "model_year": 79,
                          "mpg": 22.3,
                          "horsepower": 88
                        },
                        {
                          "model_year": 79,
                          "mpg": 20.2,
                          "horsepower": 90
                        },
                        {
                          "model_year": 79,
                          "mpg": 20.6,
                          "horsepower": 110
                        },
                        {
                          "model_year": 79,
                          "mpg": 17,
                          "horsepower": 130
                        },
                        {
                          "model_year": 79,
                          "mpg": 17.6,
                          "horsepower": 129
                        },
                        {
                          "model_year": 79,
                          "mpg": 16.5,
                          "horsepower": 138
                        },
                        {
                          "model_year": 79,
                          "mpg": 18.2,
                          "horsepower": 135
                        },
                        {
                          "model_year": 79,
                          "mpg": 16.9,
                          "horsepower": 155
                        },
                        {
                          "model_year": 79,
                          "mpg": 15.5,
                          "horsepower": 142
                        },
                        {
                          "model_year": 79,
                          "mpg": 19.2,
                          "horsepower": 125
                        },
                        {
                          "model_year": 79,
                          "mpg": 18.5,
                          "horsepower": 150
                        },
                        {
                          "model_year": 79,
                          "mpg": 31.9,
                          "horsepower": 71
                        },
                        {
                          "model_year": 79,
                          "mpg": 34.1,
                          "horsepower": 65
                        },
                        {
                          "model_year": 79,
                          "mpg": 35.7,
                          "horsepower": 80
                        },
                        {
                          "model_year": 79,
                          "mpg": 27.4,
                          "horsepower": 80
                        },
                        {
                          "model_year": 79,
                          "mpg": 25.4,
                          "horsepower": 77
                        },
                        {
                          "model_year": 79,
                          "mpg": 23,
                          "horsepower": 125
                        },
                        {
                          "model_year": 79,
                          "mpg": 27.2,
                          "horsepower": 71
                        },
                        {
                          "model_year": 79,
                          "mpg": 23.9,
                          "horsepower": 90
                        },
                        {
                          "model_year": 79,
                          "mpg": 34.2,
                          "horsepower": 70
                        },
                        {
                          "model_year": 79,
                          "mpg": 34.5,
                          "horsepower": 70
                        },
                        {
                          "model_year": 79,
                          "mpg": 31.8,
                          "horsepower": 65
                        },
                        {
                          "model_year": 79,
                          "mpg": 37.3,
                          "horsepower": 69
                        },
                        {
                          "model_year": 79,
                          "mpg": 28.4,
                          "horsepower": 90
                        },
                        {
                          "model_year": 79,
                          "mpg": 28.8,
                          "horsepower": 115
                        },
                        {
                          "model_year": 79,
                          "mpg": 26.8,
                          "horsepower": 115
                        },
                        {
                          "model_year": 79,
                          "mpg": 33.5,
                          "horsepower": 90
                        }
                      ]
                    },
                    "vislib": "vegalite"
                  },
                  {
                    "config": {
                      "view": {
                        "continuousWidth": 400,
                        "continuousHeight": 300
                      },
                      "axis": {
                        "labelColor": "#505050",
                        "labelFont": "Helvetica Neue",
                        "labelFontSize": 9,
                        "labelFontWeight": 400,
                        "titleFont": "Helvetica Neue",
                        "titleFontSize": 11,
                        "titleFontWeight": 500
                      },
                      "legend": {
                        "labelFont": "Helvetica Neue",
                        "labelFontSize": 9,
                        "labelFontWeight": 400,
                        "titleFont": "Helvetica Neue",
                        "titleFontSize": 10,
                        "titleFontWeight": 500
                      },
                      "mark": {
                        "tooltip": {
                          "content": "encoding"
                        }
                      },
                      "title": {
                        "font": "Helvetica Neue",
                        "fontSize": 13,
                        "fontWeight": 500
                      }
                    },
                    "data": {
                      "name": "data-0c7404c522ae8dfb9034816743129899"
                    },
                    "mark": "circle",
                    "encoding": {
                      "x": {
                        "axis": {
                          "title": "horsepower"
                        },
                        "field": "horsepower",
                        "scale": {
                          "domain": [
                            46,
                            230
                          ]
                        },
                        "type": "quantitative"
                      },
                      "y": {
                        "axis": {
                          "title": "mpg"
                        },
                        "field": "mpg",
                        "scale": {
                          "domain": [
                            9,
                            46.6
                          ]
                        },
                        "type": "quantitative"
                      }
                    },
                    "height": 150,
                    "selection": {
                      "selector071": {
                        "type": "interval",
                        "bind": "scales",
                        "encodings": [
                          "x",
                          "y"
                        ]
                      }
                    },
                    "title": "model_year = 82",
                    "width": 160,
                    "$schema": "https://vega.github.io/schema/vega-lite/v4.17.0.json",
                    "datasets": {
                      "data-0c7404c522ae8dfb9034816743129899": [
                        {
                          "model_year": 82,
                          "mpg": 28,
                          "horsepower": 88
                        },
                        {
                          "model_year": 82,
                          "mpg": 27,
                          "horsepower": 88
                        },
                        {
                          "model_year": 82,
                          "mpg": 34,
                          "horsepower": 88
                        },
                        {
                          "model_year": 82,
                          "mpg": 31,
                          "horsepower": 85
                        },
                        {
                          "model_year": 82,
                          "mpg": 29,
                          "horsepower": 84
                        },
                        {
                          "model_year": 82,
                          "mpg": 27,
                          "horsepower": 90
                        },
                        {
                          "model_year": 82,
                          "mpg": 24,
                          "horsepower": 92
                        },
                        {
                          "model_year": 82,
                          "mpg": 23,
                          "horsepower": null
                        },
                        {
                          "model_year": 82,
                          "mpg": 36,
                          "horsepower": 74
                        },
                        {
                          "model_year": 82,
                          "mpg": 37,
                          "horsepower": 68
                        },
                        {
                          "model_year": 82,
                          "mpg": 31,
                          "horsepower": 68
                        },
                        {
                          "model_year": 82,
                          "mpg": 38,
                          "horsepower": 63
                        },
                        {
                          "model_year": 82,
                          "mpg": 36,
                          "horsepower": 70
                        },
                        {
                          "model_year": 82,
                          "mpg": 36,
                          "horsepower": 88
                        },
                        {
                          "model_year": 82,
                          "mpg": 36,
                          "horsepower": 75
                        },
                        {
                          "model_year": 82,
                          "mpg": 34,
                          "horsepower": 70
                        },
                        {
                          "model_year": 82,
                          "mpg": 38,
                          "horsepower": 67
                        },
                        {
                          "model_year": 82,
                          "mpg": 32,
                          "horsepower": 67
                        },
                        {
                          "model_year": 82,
                          "mpg": 38,
                          "horsepower": 67
                        },
                        {
                          "model_year": 82,
                          "mpg": 25,
                          "horsepower": 110
                        },
                        {
                          "model_year": 82,
                          "mpg": 38,
                          "horsepower": 85
                        },
                        {
                          "model_year": 82,
                          "mpg": 26,
                          "horsepower": 92
                        },
                        {
                          "model_year": 82,
                          "mpg": 22,
                          "horsepower": 112
                        },
                        {
                          "model_year": 82,
                          "mpg": 32,
                          "horsepower": 96
                        },
                        {
                          "model_year": 82,
                          "mpg": 36,
                          "horsepower": 84
                        },
                        {
                          "model_year": 82,
                          "mpg": 27,
                          "horsepower": 90
                        },
                        {
                          "model_year": 82,
                          "mpg": 27,
                          "horsepower": 86
                        },
                        {
                          "model_year": 82,
                          "mpg": 44,
                          "horsepower": 52
                        },
                        {
                          "model_year": 82,
                          "mpg": 32,
                          "horsepower": 84
                        },
                        {
                          "model_year": 82,
                          "mpg": 28,
                          "horsepower": 79
                        },
                        {
                          "model_year": 82,
                          "mpg": 31,
                          "horsepower": 82
                        }
                      ]
                    },
                    "vislib": "vegalite"
                  },
                  {
                    "config": {
                      "view": {
                        "continuousWidth": 400,
                        "continuousHeight": 300
                      },
                      "axis": {
                        "labelColor": "#505050",
                        "labelFont": "Helvetica Neue",
                        "labelFontSize": 9,
                        "labelFontWeight": 400,
                        "titleFont": "Helvetica Neue",
                        "titleFontSize": 11,
                        "titleFontWeight": 500
                      },
                      "legend": {
                        "labelFont": "Helvetica Neue",
                        "labelFontSize": 9,
                        "labelFontWeight": 400,
                        "titleFont": "Helvetica Neue",
                        "titleFontSize": 10,
                        "titleFontWeight": 500
                      },
                      "mark": {
                        "tooltip": {
                          "content": "encoding"
                        }
                      },
                      "title": {
                        "font": "Helvetica Neue",
                        "fontSize": 13,
                        "fontWeight": 500
                      }
                    },
                    "data": {
                      "name": "data-6898ebf68b73a988896bb4a3c412bdc8"
                    },
                    "mark": "circle",
                    "encoding": {
                      "x": {
                        "axis": {
                          "title": "horsepower"
                        },
                        "field": "horsepower",
                        "scale": {
                          "domain": [
                            46,
                            230
                          ]
                        },
                        "type": "quantitative"
                      },
                      "y": {
                        "axis": {
                          "title": "mpg"
                        },
                        "field": "mpg",
                        "scale": {
                          "domain": [
                            9,
                            46.6
                          ]
                        },
                        "type": "quantitative"
                      }
                    },
                    "height": 150,
                    "selection": {
                      "selector072": {
                        "type": "interval",
                        "bind": "scales",
                        "encodings": [
                          "x",
                          "y"
                        ]
                      }
                    },
                    "title": "origin = usa",
                    "width": 160,
                    "$schema": "https://vega.github.io/schema/vega-lite/v4.17.0.json",
                    "datasets": {
                      "data-6898ebf68b73a988896bb4a3c412bdc8": [
                        {
                          "mpg": 18,
                          "horsepower": 130,
                          "origin": "usa"
                        },
                        {
                          "mpg": 15,
                          "horsepower": 165,
                          "origin": "usa"
                        },
                        {
                          "mpg": 18,
                          "horsepower": 150,
                          "origin": "usa"
                        },
                        {
                          "mpg": 16,
                          "horsepower": 150,
                          "origin": "usa"
                        },
                        {
                          "mpg": 17,
                          "horsepower": 140,
                          "origin": "usa"
                        },
                        {
                          "mpg": 15,
                          "horsepower": 198,
                          "origin": "usa"
                        },
                        {
                          "mpg": 14,
                          "horsepower": 220,
                          "origin": "usa"
                        },
                        {
                          "mpg": 14,
                          "horsepower": 215,
                          "origin": "usa"
                        },
                        {
                          "mpg": 14,
                          "horsepower": 225,
                          "origin": "usa"
                        },
                        {
                          "mpg": 15,
                          "horsepower": 190,
                          "origin": "usa"
                        },
                        {
                          "mpg": 15,
                          "horsepower": 170,
                          "origin": "usa"
                        },
                        {
                          "mpg": 14,
                          "horsepower": 160,
                          "origin": "usa"
                        },
                        {
                          "mpg": 15,
                          "horsepower": 150,
                          "origin": "usa"
                        },
                        {
                          "mpg": 14,
                          "horsepower": 225,
                          "origin": "usa"
                        },
                        {
                          "mpg": 22,
                          "horsepower": 95,
                          "origin": "usa"
                        },
                        {
                          "mpg": 18,
                          "horsepower": 97,
                          "origin": "usa"
                        },
                        {
                          "mpg": 21,
                          "horsepower": 85,
                          "origin": "usa"
                        },
                        {
                          "mpg": 21,
                          "horsepower": 90,
                          "origin": "usa"
                        },
                        {
                          "mpg": 10,
                          "horsepower": 215,
                          "origin": "usa"
                        },
                        {
                          "mpg": 10,
                          "horsepower": 200,
                          "origin": "usa"
                        },
                        {
                          "mpg": 11,
                          "horsepower": 210,
                          "origin": "usa"
                        },
                        {
                          "mpg": 9,
                          "horsepower": 193,
                          "origin": "usa"
                        },
                        {
                          "mpg": 28,
                          "horsepower": 90,
                          "origin": "usa"
                        },
                        {
                          "mpg": 25,
                          "horsepower": null,
                          "origin": "usa"
                        },
                        {
                          "mpg": 19,
                          "horsepower": 100,
                          "origin": "usa"
                        },
                        {
                          "mpg": 16,
                          "horsepower": 105,
                          "origin": "usa"
                        },
                        {
                          "mpg": 17,
                          "horsepower": 100,
                          "origin": "usa"
                        },
                        {
                          "mpg": 19,
                          "horsepower": 88,
                          "origin": "usa"
                        },
                        {
                          "mpg": 18,
                          "horsepower": 100,
                          "origin": "usa"
                        },
                        {
                          "mpg": 14,
                          "horsepower": 165,
                          "origin": "usa"
                        },
                        {
                          "mpg": 14,
                          "horsepower": 175,
                          "origin": "usa"
                        },
                        {
                          "mpg": 14,
                          "horsepower": 153,
                          "origin": "usa"
                        },
                        {
                          "mpg": 14,
                          "horsepower": 150,
                          "origin": "usa"
                        },
                        {
                          "mpg": 12,
                          "horsepower": 180,
                          "origin": "usa"
                        },
                        {
                          "mpg": 13,
                          "horsepower": 170,
                          "origin": "usa"
                        },
                        {
                          "mpg": 13,
                          "horsepower": 175,
                          "origin": "usa"
                        },
                        {
                          "mpg": 18,
                          "horsepower": 110,
                          "origin": "usa"
                        },
                        {
                          "mpg": 22,
                          "horsepower": 72,
                          "origin": "usa"
                        },
                        {
                          "mpg": 19,
                          "horsepower": 100,
                          "origin": "usa"
                        },
                        {
                          "mpg": 18,
                          "horsepower": 88,
                          "origin": "usa"
                        },
                        {
                          "mpg": 23,
                          "horsepower": 86,
                          "origin": "usa"
                        },
                        {
                          "mpg": 26,
                          "horsepower": 70,
                          "origin": "usa"
                        },
                        {
                          "mpg": 25,
                          "horsepower": 80,
                          "origin": "usa"
                        },
                        {
                          "mpg": 20,
                          "horsepower": 90,
                          "origin": "usa"
                        },
                        {
                          "mpg": 21,
                          "horsepower": 86,
                          "origin": "usa"
                        },
                        {
                          "mpg": 13,
                          "horsepower": 165,
                          "origin": "usa"
                        },
                        {
                          "mpg": 14,
                          "horsepower": 175,
                          "origin": "usa"
                        },
                        {
                          "mpg": 15,
                          "horsepower": 150,
                          "origin": "usa"
                        },
                        {
                          "mpg": 14,
                          "horsepower": 153,
                          "origin": "usa"
                        },
                        {
                          "mpg": 17,
                          "horsepower": 150,
                          "origin": "usa"
                        },
                        {
                          "mpg": 11,
                          "horsepower": 208,
                          "origin": "usa"
                        },
                        {
                          "mpg": 13,
                          "horsepower": 155,
                          "origin": "usa"
                        },
                        {
                          "mpg": 12,
                          "horsepower": 160,
                          "origin": "usa"
                        },
                        {
                          "mpg": 13,
                          "horsepower": 190,
                          "origin": "usa"
                        },
                        {
                          "mpg": 15,
                          "horsepower": 150,
                          "origin": "usa"
                        },
                        {
                          "mpg": 13,
                          "horsepower": 130,
                          "origin": "usa"
                        },
                        {
                          "mpg": 13,
                          "horsepower": 140,
                          "origin": "usa"
                        },
                        {
                          "mpg": 14,
                          "horsepower": 150,
                          "origin": "usa"
                        },
                        {
                          "mpg": 22,
                          "horsepower": 86,
                          "origin": "usa"
                        },
                        {
                          "mpg": 28,
                          "horsepower": 80,
                          "origin": "usa"
                        },
                        {
                          "mpg": 13,
                          "horsepower": 175,
                          "origin": "usa"
                        },
                        {
                          "mpg": 14,
                          "horsepower": 150,
                          "origin": "usa"
                        },
                        {
                          "mpg": 13,
                          "horsepower": 145,
                          "origin": "usa"
                        },
                        {
                          "mpg": 14,
                          "horsepower": 137,
                          "origin": "usa"
                        },
                        {
                          "mpg": 15,
                          "horsepower": 150,
                          "origin": "usa"
                        },
                        {
                          "mpg": 12,
                          "horsepower": 198,
                          "origin": "usa"
                        },
                        {
                          "mpg": 13,
                          "horsepower": 150,
                          "origin": "usa"
                        },
                        {
                          "mpg": 13,
                          "horsepower": 158,
                          "origin": "usa"
                        },
                        {
                          "mpg": 14,
                          "horsepower": 150,
                          "origin": "usa"
                        },
                        {
                          "mpg": 13,
                          "horsepower": 215,
                          "origin": "usa"
                        },
                        {
                          "mpg": 12,
                          "horsepower": 225,
                          "origin": "usa"
                        },
                        {
                          "mpg": 13,
                          "horsepower": 175,
                          "origin": "usa"
                        },
                        {
                          "mpg": 18,
                          "horsepower": 105,
                          "origin": "usa"
                        },
                        {
                          "mpg": 16,
                          "horsepower": 100,
                          "origin": "usa"
                        },
                        {
                          "mpg": 18,
                          "horsepower": 100,
                          "origin": "usa"
                        },
                        {
                          "mpg": 18,
                          "horsepower": 88,
                          "origin": "usa"
                        },
                        {
                          "mpg": 23,
                          "horsepower": 95,
                          "origin": "usa"
                        },
                        {
                          "mpg": 11,
                          "horsepower": 150,
                          "origin": "usa"
                        },
                        {
                          "mpg": 12,
                          "horsepower": 167,
                          "origin": "usa"
                        },
                        {
                          "mpg": 13,
                          "horsepower": 170,
                          "origin": "usa"
                        },
                        {
                          "mpg": 12,
                          "horsepower": 180,
                          "origin": "usa"
                        },
                        {
                          "mpg": 18,
                          "horsepower": 100,
                          "origin": "usa"
                        },
                        {
                          "mpg": 21,
                          "horsepower": 72,
                          "origin": "usa"
                        },
                        {
                          "mpg": 19,
                          "horsepower": 85,
                          "origin": "usa"
                        },
                        {
                          "mpg": 21,
                          "horsepower": 107,
                          "origin": "usa"
                        },
                        {
                          "mpg": 15,
                          "horsepower": 145,
                          "origin": "usa"
                        },
                        {
                          "mpg": 16,
                          "horsepower": 230,
                          "origin": "usa"
                        },
                        {
                          "mpg": 15,
                          "horsepower": 150,
                          "origin": "usa"
                        },
                        {
                          "mpg": 11,
                          "horsepower": 180,
                          "origin": "usa"
                        },
                        {
                          "mpg": 20,
                          "horsepower": 95,
                          "origin": "usa"
                        },
                        {
                          "mpg": 21,
                          "horsepower": null,
                          "origin": "usa"
                        },
                        {
                          "mpg": 19,
                          "horsepower": 100,
                          "origin": "usa"
                        },
                        {
                          "mpg": 15,
                          "horsepower": 100,
                          "origin": "usa"
                        },
                        {
                          "mpg": 26,
                          "horsepower": 80,
                          "origin": "usa"
                        },
                        {
                          "mpg": 25,
                          "horsepower": 75,
                          "origin": "usa"
                        },
                        {
                          "mpg": 16,
                          "horsepower": 100,
                          "origin": "usa"
                        },
                        {
                          "mpg": 16,
                          "horsepower": 110,
                          "origin": "usa"
                        },
                        {
                          "mpg": 18,
                          "horsepower": 105,
                          "origin": "usa"
                        },
                        {
                          "mpg": 16,
                          "horsepower": 140,
                          "origin": "usa"
                        },
                        {
                          "mpg": 13,
                          "horsepower": 150,
                          "origin": "usa"
                        },
                        {
                          "mpg": 14,
                          "horsepower": 150,
                          "origin": "usa"
                        },
                        {
                          "mpg": 14,
                          "horsepower": 140,
                          "origin": "usa"
                        },
                        {
                          "mpg": 14,
                          "horsepower": 150,
                          "origin": "usa"
                        },
                        {
                          "mpg": 28,
                          "horsepower": 75,
                          "origin": "usa"
                        },
                        {
                          "mpg": 19,
                          "horsepower": 95,
                          "origin": "usa"
                        },
                        {
                          "mpg": 18,
                          "horsepower": 105,
                          "origin": "usa"
                        },
                        {
                          "mpg": 15,
                          "horsepower": 72,
                          "origin": "usa"
                        },
                        {
                          "mpg": 15,
                          "horsepower": 72,
                          "origin": "usa"
                        },
                        {
                          "mpg": 16,
                          "horsepower": 170,
                          "origin": "usa"
                        },
                        {
                          "mpg": 15,
                          "horsepower": 145,
                          "origin": "usa"
                        },
                        {
                          "mpg": 16,
                          "horsepower": 150,
                          "origin": "usa"
                        },
                        {
                          "mpg": 14,
                          "horsepower": 148,
                          "origin": "usa"
                        },
                        {
                          "mpg": 17,
                          "horsepower": 110,
                          "origin": "usa"
                        },
                        {
                          "mpg": 16,
                          "horsepower": 105,
                          "origin": "usa"
                        },
                        {
                          "mpg": 15,
                          "horsepower": 110,
                          "origin": "usa"
                        },
                        {
                          "mpg": 18,
                          "horsepower": 95,
                          "origin": "usa"
                        },
                        {
                          "mpg": 21,
                          "horsepower": 110,
                          "origin": "usa"
                        },
                        {
                          "mpg": 20,
                          "horsepower": 110,
                          "origin": "usa"
                        },
                        {
                          "mpg": 13,
                          "horsepower": 129,
                          "origin": "usa"
                        },
                        {
                          "mpg": 23,
                          "horsepower": 83,
                          "origin": "usa"
                        },
                        {
                          "mpg": 20,
                          "horsepower": 100,
                          "origin": "usa"
                        },
                        {
                          "mpg": 23,
                          "horsepower": 78,
                          "origin": "usa"
                        },
                        {
                          "mpg": 18,
                          "horsepower": 97,
                          "origin": "usa"
                        },
                        {
                          "mpg": 19,
                          "horsepower": 90,
                          "origin": "usa"
                        },
                        {
                          "mpg": 25,
                          "horsepower": 92,
                          "origin": "usa"
                        },
                        {
                          "mpg": 26,
                          "horsepower": 79,
                          "origin": "usa"
                        },
                        {
                          "mpg": 17.5,
                          "horsepower": 140,
                          "origin": "usa"
                        },
                        {
                          "mpg": 16,
                          "horsepower": 150,
                          "origin": "usa"
                        },
                        {
                          "mpg": 15.5,
                          "horsepower": 120,
                          "origin": "usa"
                        },
                        {
                          "mpg": 14.5,
                          "horsepower": 152,
                          "origin": "usa"
                        },
                        {
                          "mpg": 22,
                          "horsepower": 100,
                          "origin": "usa"
                        },
                        {
                          "mpg": 22,
                          "horsepower": 105,
                          "origin": "usa"
                        },
                        {
                          "mpg": 24,
                          "horsepower": 81,
                          "origin": "usa"
                        },
                        {
                          "mpg": 22.5,
                          "horsepower": 90,
                          "origin": "usa"
                        },
                        {
                          "mpg": 29,
                          "horsepower": 52,
                          "origin": "usa"
                        },
                        {
                          "mpg": 24.5,
                          "horsepower": 60,
                          "origin": "usa"
                        },
                        {
                          "mpg": 20,
                          "horsepower": 100,
                          "origin": "usa"
                        },
                        {
                          "mpg": 18,
                          "horsepower": 78,
                          "origin": "usa"
                        },
                        {
                          "mpg": 18.5,
                          "horsepower": 110,
                          "origin": "usa"
                        },
                        {
                          "mpg": 17.5,
                          "horsepower": 95,
                          "origin": "usa"
                        },
                        {
                          "mpg": 26.5,
                          "horsepower": 72,
                          "origin": "usa"
                        },
                        {
                          "mpg": 13,
                          "horsepower": 150,
                          "origin": "usa"
                        },
                        {
                          "mpg": 16.5,
                          "horsepower": 180,
                          "origin": "usa"
                        },
                        {
                          "mpg": 13,
                          "horsepower": 145,
                          "origin": "usa"
                        },
                        {
                          "mpg": 13,
                          "horsepower": 130,
                          "origin": "usa"
                        },
                        {
                          "mpg": 13,
                          "horsepower": 150,
                          "origin": "usa"
                        },
                        {
                          "mpg": 30,
                          "horsepower": 80,
                          "origin": "usa"
                        },
                        {
                          "mpg": 25.5,
                          "horsepower": 96,
                          "origin": "usa"
                        },
                        {
                          "mpg": 17.5,
                          "horsepower": 145,
                          "origin": "usa"
                        },
                        {
                          "mpg": 17,
                          "horsepower": 110,
                          "origin": "usa"
                        },
                        {
                          "mpg": 15.5,
                          "horsepower": 145,
                          "origin": "usa"
                        },
                        {
                          "mpg": 15,
                          "horsepower": 130,
                          "origin": "usa"
                        },
                        {
                          "mpg": 17.5,
                          "horsepower": 110,
                          "origin": "usa"
                        },
                        {
                          "mpg": 20.5,
                          "horsepower": 105,
                          "origin": "usa"
                        },
                        {
                          "mpg": 19,
                          "horsepower": 100,
                          "origin": "usa"
                        },
                        {
                          "mpg": 18.5,
                          "horsepower": 98,
                          "origin": "usa"
                        },
                        {
                          "mpg": 16,
                          "horsepower": 180,
                          "origin": "usa"
                        },
                        {
                          "mpg": 15.5,
                          "horsepower": 170,
                          "origin": "usa"
                        },
                        {
                          "mpg": 15.5,
                          "horsepower": 190,
                          "origin": "usa"
                        },
                        {
                          "mpg": 16,
                          "horsepower": 149,
                          "origin": "usa"
                        },
                        {
                          "mpg": 24.5,
                          "horsepower": 88,
                          "origin": "usa"
                        },
                        {
                          "mpg": 25.5,
                          "horsepower": 89,
                          "origin": "usa"
                        },
                        {
                          "mpg": 30.5,
                          "horsepower": 63,
                          "origin": "usa"
                        },
                        {
                          "mpg": 33.5,
                          "horsepower": 83,
                          "origin": "usa"
                        },
                        {
                          "mpg": 36.1,
                          "horsepower": 66,
                          "origin": "usa"
                        },
                        {
                          "mpg": 19.9,
                          "horsepower": 110,
                          "origin": "usa"
                        },
                        {
                          "mpg": 19.4,
                          "horsepower": 140,
                          "origin": "usa"
                        },
                        {
                          "mpg": 20.2,
                          "horsepower": 139,
                          "origin": "usa"
                        },
                        {
                          "mpg": 19.2,
                          "horsepower": 105,
                          "origin": "usa"
                        },
                        {
                          "mpg": 20.5,
                          "horsepower": 95,
                          "origin": "usa"
                        },
                        {
                          "mpg": 20.2,
                          "horsepower": 85,
                          "origin": "usa"
                        },
                        {
                          "mpg": 25.1,
                          "horsepower": 88,
                          "origin": "usa"
                        },
                        {
                          "mpg": 20.5,
                          "horsepower": 100,
                          "origin": "usa"
                        },
                        {
                          "mpg": 19.4,
                          "horsepower": 90,
                          "origin": "usa"
                        },
                        {
                          "mpg": 20.6,
                          "horsepower": 105,
                          "origin": "usa"
                        },
                        {
                          "mpg": 20.8,
                          "horsepower": 85,
                          "origin": "usa"
                        },
                        {
                          "mpg": 18.6,
                          "horsepower": 110,
                          "origin": "usa"
                        },
                        {
                          "mpg": 18.1,
                          "horsepower": 120,
                          "origin": "usa"
                        },
                        {
                          "mpg": 19.2,
                          "horsepower": 145,
                          "origin": "usa"
                        },
                        {
                          "mpg": 17.7,
                          "horsepower": 165,
                          "origin": "usa"
                        },
                        {
                          "mpg": 18.1,
                          "horsepower": 139,
                          "origin": "usa"
                        },
                        {
                          "mpg": 17.5,
                          "horsepower": 140,
                          "origin": "usa"
                        },
                        {
                          "mpg": 30,
                          "horsepower": 68,
                          "origin": "usa"
                        },
                        {
                          "mpg": 30.9,
                          "horsepower": 75,
                          "origin": "usa"
                        },
                        {
                          "mpg": 23.2,
                          "horsepower": 105,
                          "origin": "usa"
                        },
                        {
                          "mpg": 23.8,
                          "horsepower": 85,
                          "origin": "usa"
                        },
                        {
                          "mpg": 21.5,
                          "horsepower": 115,
                          "origin": "usa"
                        },
                        {
                          "mpg": 19.8,
                          "horsepower": 85,
                          "origin": "usa"
                        },
                        {
                          "mpg": 22.3,
                          "horsepower": 88,
                          "origin": "usa"
                        },
                        {
                          "mpg": 20.2,
                          "horsepower": 90,
                          "origin": "usa"
                        },
                        {
                          "mpg": 20.6,
                          "horsepower": 110,
                          "origin": "usa"
                        },
                        {
                          "mpg": 17,
                          "horsepower": 130,
                          "origin": "usa"
                        },
                        {
                          "mpg": 17.6,
                          "horsepower": 129,
                          "origin": "usa"
                        },
                        {
                          "mpg": 16.5,
                          "horsepower": 138,
                          "origin": "usa"
                        },
                        {
                          "mpg": 18.2,
                          "horsepower": 135,
                          "origin": "usa"
                        },
                        {
                          "mpg": 16.9,
                          "horsepower": 155,
                          "origin": "usa"
                        },
                        {
                          "mpg": 15.5,
                          "horsepower": 142,
                          "origin": "usa"
                        },
                        {
                          "mpg": 19.2,
                          "horsepower": 125,
                          "origin": "usa"
                        },
                        {
                          "mpg": 18.5,
                          "horsepower": 150,
                          "origin": "usa"
                        },
                        {
                          "mpg": 35.7,
                          "horsepower": 80,
                          "origin": "usa"
                        },
                        {
                          "mpg": 27.4,
                          "horsepower": 80,
                          "origin": "usa"
                        },
                        {
                          "mpg": 23,
                          "horsepower": 125,
                          "origin": "usa"
                        },
                        {
                          "mpg": 23.9,
                          "horsepower": 90,
                          "origin": "usa"
                        },
                        {
                          "mpg": 34.2,
                          "horsepower": 70,
                          "origin": "usa"
                        },
                        {
                          "mpg": 34.5,
                          "horsepower": 70,
                          "origin": "usa"
                        },
                        {
                          "mpg": 28.4,
                          "horsepower": 90,
                          "origin": "usa"
                        },
                        {
                          "mpg": 28.8,
                          "horsepower": 115,
                          "origin": "usa"
                        },
                        {
                          "mpg": 26.8,
                          "horsepower": 115,
                          "origin": "usa"
                        },
                        {
                          "mpg": 33.5,
                          "horsepower": 90,
                          "origin": "usa"
                        },
                        {
                          "mpg": 32.1,
                          "horsepower": 70,
                          "origin": "usa"
                        },
                        {
                          "mpg": 28,
                          "horsepower": 90,
                          "origin": "usa"
                        },
                        {
                          "mpg": 26.4,
                          "horsepower": 88,
                          "origin": "usa"
                        },
                        {
                          "mpg": 24.3,
                          "horsepower": 90,
                          "origin": "usa"
                        },
                        {
                          "mpg": 19.1,
                          "horsepower": 90,
                          "origin": "usa"
                        },
                        {
                          "mpg": 27.9,
                          "horsepower": 105,
                          "origin": "usa"
                        },
                        {
                          "mpg": 23.6,
                          "horsepower": null,
                          "origin": "usa"
                        },
                        {
                          "mpg": 27.2,
                          "horsepower": 84,
                          "origin": "usa"
                        },
                        {
                          "mpg": 26.6,
                          "horsepower": 84,
                          "origin": "usa"
                        },
                        {
                          "mpg": 25.8,
                          "horsepower": 92,
                          "origin": "usa"
                        },
                        {
                          "mpg": 23.5,
                          "horsepower": 110,
                          "origin": "usa"
                        },
                        {
                          "mpg": 30,
                          "horsepower": 84,
                          "origin": "usa"
                        },
                        {
                          "mpg": 39,
                          "horsepower": 64,
                          "origin": "usa"
                        },
                        {
                          "mpg": 34.7,
                          "horsepower": 63,
                          "origin": "usa"
                        },
                        {
                          "mpg": 34.4,
                          "horsepower": 65,
                          "origin": "usa"
                        },
                        {
                          "mpg": 29.9,
                          "horsepower": 65,
                          "origin": "usa"
                        },
                        {
                          "mpg": 22.4,
                          "horsepower": 110,
                          "origin": "usa"
                        },
                        {
                          "mpg": 26.6,
                          "horsepower": 105,
                          "origin": "usa"
                        },
                        {
                          "mpg": 20.2,
                          "horsepower": 88,
                          "origin": "usa"
                        },
                        {
                          "mpg": 17.6,
                          "horsepower": 85,
                          "origin": "usa"
                        },
                        {
                          "mpg": 28,
                          "horsepower": 88,
                          "origin": "usa"
                        },
                        {
                          "mpg": 27,
                          "horsepower": 88,
                          "origin": "usa"
                        },
                        {
                          "mpg": 34,
                          "horsepower": 88,
                          "origin": "usa"
                        },
                        {
                          "mpg": 31,
                          "horsepower": 85,
                          "origin": "usa"
                        },
                        {
                          "mpg": 29,
                          "horsepower": 84,
                          "origin": "usa"
                        },
                        {
                          "mpg": 27,
                          "horsepower": 90,
                          "origin": "usa"
                        },
                        {
                          "mpg": 24,
                          "horsepower": 92,
                          "origin": "usa"
                        },
                        {
                          "mpg": 23,
                          "horsepower": null,
                          "origin": "usa"
                        },
                        {
                          "mpg": 38,
                          "horsepower": 63,
                          "origin": "usa"
                        },
                        {
                          "mpg": 36,
                          "horsepower": 70,
                          "origin": "usa"
                        },
                        {
                          "mpg": 25,
                          "horsepower": 110,
                          "origin": "usa"
                        },
                        {
                          "mpg": 38,
                          "horsepower": 85,
                          "origin": "usa"
                        },
                        {
                          "mpg": 26,
                          "horsepower": 92,
                          "origin": "usa"
                        },
                        {
                          "mpg": 22,
                          "horsepower": 112,
                          "origin": "usa"
                        },
                        {
                          "mpg": 36,
                          "horsepower": 84,
                          "origin": "usa"
                        },
                        {
                          "mpg": 27,
                          "horsepower": 90,
                          "origin": "usa"
                        },
                        {
                          "mpg": 27,
                          "horsepower": 86,
                          "origin": "usa"
                        },
                        {
                          "mpg": 32,
                          "horsepower": 84,
                          "origin": "usa"
                        },
                        {
                          "mpg": 28,
                          "horsepower": 79,
                          "origin": "usa"
                        },
                        {
                          "mpg": 31,
                          "horsepower": 82,
                          "origin": "usa"
                        }
                      ]
                    },
                    "vislib": "vegalite"
                  },
                  {
                    "config": {
                      "view": {
                        "continuousWidth": 400,
                        "continuousHeight": 300
                      },
                      "axis": {
                        "labelColor": "#505050",
                        "labelFont": "Helvetica Neue",
                        "labelFontSize": 9,
                        "labelFontWeight": 400,
                        "titleFont": "Helvetica Neue",
                        "titleFontSize": 11,
                        "titleFontWeight": 500
                      },
                      "legend": {
                        "labelFont": "Helvetica Neue",
                        "labelFontSize": 9,
                        "labelFontWeight": 400,
                        "titleFont": "Helvetica Neue",
                        "titleFontSize": 10,
                        "titleFontWeight": 500
                      },
                      "mark": {
                        "tooltip": {
                          "content": "encoding"
                        }
                      },
                      "title": {
                        "font": "Helvetica Neue",
                        "fontSize": 13,
                        "fontWeight": 500
                      }
                    },
                    "data": {
                      "name": "data-f8f81c03bcb0a24ffbc626deebe4b410"
                    },
                    "mark": "circle",
                    "encoding": {
                      "x": {
                        "axis": {
                          "title": "horsepower"
                        },
                        "field": "horsepower",
                        "scale": {
                          "domain": [
                            46,
                            230
                          ]
                        },
                        "type": "quantitative"
                      },
                      "y": {
                        "axis": {
                          "title": "mpg"
                        },
                        "field": "mpg",
                        "scale": {
                          "domain": [
                            9,
                            46.6
                          ]
                        },
                        "type": "quantitative"
                      }
                    },
                    "height": 150,
                    "selection": {
                      "selector073": {
                        "type": "interval",
                        "bind": "scales",
                        "encodings": [
                          "x",
                          "y"
                        ]
                      }
                    },
                    "title": "model_year = 81",
                    "width": 160,
                    "$schema": "https://vega.github.io/schema/vega-lite/v4.17.0.json",
                    "datasets": {
                      "data-f8f81c03bcb0a24ffbc626deebe4b410": [
                        {
                          "model_year": 81,
                          "mpg": 27.2,
                          "horsepower": 84
                        },
                        {
                          "model_year": 81,
                          "mpg": 26.6,
                          "horsepower": 84
                        },
                        {
                          "model_year": 81,
                          "mpg": 25.8,
                          "horsepower": 92
                        },
                        {
                          "model_year": 81,
                          "mpg": 23.5,
                          "horsepower": 110
                        },
                        {
                          "model_year": 81,
                          "mpg": 30,
                          "horsepower": 84
                        },
                        {
                          "model_year": 81,
                          "mpg": 39.1,
                          "horsepower": 58
                        },
                        {
                          "model_year": 81,
                          "mpg": 39,
                          "horsepower": 64
                        },
                        {
                          "model_year": 81,
                          "mpg": 35.1,
                          "horsepower": 60
                        },
                        {
                          "model_year": 81,
                          "mpg": 32.3,
                          "horsepower": 67
                        },
                        {
                          "model_year": 81,
                          "mpg": 37,
                          "horsepower": 65
                        },
                        {
                          "model_year": 81,
                          "mpg": 37.7,
                          "horsepower": 62
                        },
                        {
                          "model_year": 81,
                          "mpg": 34.1,
                          "horsepower": 68
                        },
                        {
                          "model_year": 81,
                          "mpg": 34.7,
                          "horsepower": 63
                        },
                        {
                          "model_year": 81,
                          "mpg": 34.4,
                          "horsepower": 65
                        },
                        {
                          "model_year": 81,
                          "mpg": 29.9,
                          "horsepower": 65
                        },
                        {
                          "model_year": 81,
                          "mpg": 33,
                          "horsepower": 74
                        },
                        {
                          "model_year": 81,
                          "mpg": 34.5,
                          "horsepower": null
                        },
                        {
                          "model_year": 81,
                          "mpg": 33.7,
                          "horsepower": 75
                        },
                        {
                          "model_year": 81,
                          "mpg": 32.4,
                          "horsepower": 75
                        },
                        {
                          "model_year": 81,
                          "mpg": 32.9,
                          "horsepower": 100
                        },
                        {
                          "model_year": 81,
                          "mpg": 31.6,
                          "horsepower": 74
                        },
                        {
                          "model_year": 81,
                          "mpg": 28.1,
                          "horsepower": 80
                        },
                        {
                          "model_year": 81,
                          "mpg": 30.7,
                          "horsepower": 76
                        },
                        {
                          "model_year": 81,
                          "mpg": 25.4,
                          "horsepower": 116
                        },
                        {
                          "model_year": 81,
                          "mpg": 24.2,
                          "horsepower": 120
                        },
                        {
                          "model_year": 81,
                          "mpg": 22.4,
                          "horsepower": 110
                        },
                        {
                          "model_year": 81,
                          "mpg": 26.6,
                          "horsepower": 105
                        },
                        {
                          "model_year": 81,
                          "mpg": 20.2,
                          "horsepower": 88
                        },
                        {
                          "model_year": 81,
                          "mpg": 17.6,
                          "horsepower": 85
                        }
                      ]
                    },
                    "vislib": "vegalite"
                  },
                  {
                    "config": {
                      "view": {
                        "continuousWidth": 400,
                        "continuousHeight": 300
                      },
                      "axis": {
                        "labelColor": "#505050",
                        "labelFont": "Helvetica Neue",
                        "labelFontSize": 9,
                        "labelFontWeight": 400,
                        "titleFont": "Helvetica Neue",
                        "titleFontSize": 11,
                        "titleFontWeight": 500
                      },
                      "legend": {
                        "labelFont": "Helvetica Neue",
                        "labelFontSize": 9,
                        "labelFontWeight": 400,
                        "titleFont": "Helvetica Neue",
                        "titleFontSize": 10,
                        "titleFontWeight": 500
                      },
                      "mark": {
                        "tooltip": {
                          "content": "encoding"
                        }
                      },
                      "title": {
                        "font": "Helvetica Neue",
                        "fontSize": 13,
                        "fontWeight": 500
                      }
                    },
                    "data": {
                      "name": "data-381f093dffc478c747d0c88f3d6139c8"
                    },
                    "mark": "circle",
                    "encoding": {
                      "x": {
                        "axis": {
                          "title": "horsepower"
                        },
                        "field": "horsepower",
                        "scale": {
                          "domain": [
                            46,
                            230
                          ]
                        },
                        "type": "quantitative"
                      },
                      "y": {
                        "axis": {
                          "title": "mpg"
                        },
                        "field": "mpg",
                        "scale": {
                          "domain": [
                            9,
                            46.6
                          ]
                        },
                        "type": "quantitative"
                      }
                    },
                    "height": 150,
                    "selection": {
                      "selector074": {
                        "type": "interval",
                        "bind": "scales",
                        "encodings": [
                          "x",
                          "y"
                        ]
                      }
                    },
                    "title": "origin = europe",
                    "width": 160,
                    "$schema": "https://vega.github.io/schema/vega-lite/v4.17.0.json",
                    "datasets": {
                      "data-381f093dffc478c747d0c88f3d6139c8": [
                        {
                          "mpg": 26,
                          "horsepower": 46,
                          "origin": "europe"
                        },
                        {
                          "mpg": 25,
                          "horsepower": 87,
                          "origin": "europe"
                        },
                        {
                          "mpg": 24,
                          "horsepower": 90,
                          "origin": "europe"
                        },
                        {
                          "mpg": 25,
                          "horsepower": 95,
                          "origin": "europe"
                        },
                        {
                          "mpg": 26,
                          "horsepower": 113,
                          "origin": "europe"
                        },
                        {
                          "mpg": 28,
                          "horsepower": 90,
                          "origin": "europe"
                        },
                        {
                          "mpg": 30,
                          "horsepower": 70,
                          "origin": "europe"
                        },
                        {
                          "mpg": 30,
                          "horsepower": 76,
                          "origin": "europe"
                        },
                        {
                          "mpg": 27,
                          "horsepower": 60,
                          "origin": "europe"
                        },
                        {
                          "mpg": 23,
                          "horsepower": 54,
                          "origin": "europe"
                        },
                        {
                          "mpg": 18,
                          "horsepower": 112,
                          "origin": "europe"
                        },
                        {
                          "mpg": 22,
                          "horsepower": 76,
                          "origin": "europe"
                        },
                        {
                          "mpg": 21,
                          "horsepower": 87,
                          "origin": "europe"
                        },
                        {
                          "mpg": 26,
                          "horsepower": 69,
                          "origin": "europe"
                        },
                        {
                          "mpg": 26,
                          "horsepower": 46,
                          "origin": "europe"
                        },
                        {
                          "mpg": 26,
                          "horsepower": 90,
                          "origin": "europe"
                        },
                        {
                          "mpg": 29,
                          "horsepower": 49,
                          "origin": "europe"
                        },
                        {
                          "mpg": 24,
                          "horsepower": 75,
                          "origin": "europe"
                        },
                        {
                          "mpg": 20,
                          "horsepower": 91,
                          "origin": "europe"
                        },
                        {
                          "mpg": 19,
                          "horsepower": 112,
                          "origin": "europe"
                        },
                        {
                          "mpg": 24,
                          "horsepower": 110,
                          "origin": "europe"
                        },
                        {
                          "mpg": 29,
                          "horsepower": 83,
                          "origin": "europe"
                        },
                        {
                          "mpg": 26,
                          "horsepower": 67,
                          "origin": "europe"
                        },
                        {
                          "mpg": 26,
                          "horsepower": 78,
                          "origin": "europe"
                        },
                        {
                          "mpg": 24,
                          "horsepower": 75,
                          "origin": "europe"
                        },
                        {
                          "mpg": 26,
                          "horsepower": 75,
                          "origin": "europe"
                        },
                        {
                          "mpg": 31,
                          "horsepower": 67,
                          "origin": "europe"
                        },
                        {
                          "mpg": 25,
                          "horsepower": 71,
                          "origin": "europe"
                        },
                        {
                          "mpg": 29,
                          "horsepower": 70,
                          "origin": "europe"
                        },
                        {
                          "mpg": 23,
                          "horsepower": 95,
                          "origin": "europe"
                        },
                        {
                          "mpg": 23,
                          "horsepower": 88,
                          "origin": "europe"
                        },
                        {
                          "mpg": 22,
                          "horsepower": 98,
                          "origin": "europe"
                        },
                        {
                          "mpg": 25,
                          "horsepower": 115,
                          "origin": "europe"
                        },
                        {
                          "mpg": 28,
                          "horsepower": 86,
                          "origin": "europe"
                        },
                        {
                          "mpg": 25,
                          "horsepower": 81,
                          "origin": "europe"
                        },
                        {
                          "mpg": 27,
                          "horsepower": 83,
                          "origin": "europe"
                        },
                        {
                          "mpg": 29,
                          "horsepower": 70,
                          "origin": "europe"
                        },
                        {
                          "mpg": 29.5,
                          "horsepower": 71,
                          "origin": "europe"
                        },
                        {
                          "mpg": 20,
                          "horsepower": 102,
                          "origin": "europe"
                        },
                        {
                          "mpg": 19,
                          "horsepower": 88,
                          "origin": "europe"
                        },
                        {
                          "mpg": 16.5,
                          "horsepower": 120,
                          "origin": "europe"
                        },
                        {
                          "mpg": 36,
                          "horsepower": 58,
                          "origin": "europe"
                        },
                        {
                          "mpg": 29,
                          "horsepower": 78,
                          "origin": "europe"
                        },
                        {
                          "mpg": 30.5,
                          "horsepower": 78,
                          "origin": "europe"
                        },
                        {
                          "mpg": 21.5,
                          "horsepower": 110,
                          "origin": "europe"
                        },
                        {
                          "mpg": 43.1,
                          "horsepower": 48,
                          "origin": "europe"
                        },
                        {
                          "mpg": 20.3,
                          "horsepower": 103,
                          "origin": "europe"
                        },
                        {
                          "mpg": 17,
                          "horsepower": 125,
                          "origin": "europe"
                        },
                        {
                          "mpg": 21.6,
                          "horsepower": 115,
                          "origin": "europe"
                        },
                        {
                          "mpg": 16.2,
                          "horsepower": 133,
                          "origin": "europe"
                        },
                        {
                          "mpg": 31.5,
                          "horsepower": 71,
                          "origin": "europe"
                        },
                        {
                          "mpg": 31.9,
                          "horsepower": 71,
                          "origin": "europe"
                        },
                        {
                          "mpg": 25.4,
                          "horsepower": 77,
                          "origin": "europe"
                        },
                        {
                          "mpg": 27.2,
                          "horsepower": 71,
                          "origin": "europe"
                        },
                        {
                          "mpg": 37.3,
                          "horsepower": 69,
                          "origin": "europe"
                        },
                        {
                          "mpg": 41.5,
                          "horsepower": 76,
                          "origin": "europe"
                        },
                        {
                          "mpg": 34.3,
                          "horsepower": 78,
                          "origin": "europe"
                        },
                        {
                          "mpg": 44.3,
                          "horsepower": 48,
                          "origin": "europe"
                        },
                        {
                          "mpg": 43.4,
                          "horsepower": 48,
                          "origin": "europe"
                        },
                        {
                          "mpg": 36.4,
                          "horsepower": 67,
                          "origin": "europe"
                        },
                        {
                          "mpg": 30,
                          "horsepower": 67,
                          "origin": "europe"
                        },
                        {
                          "mpg": 40.9,
                          "horsepower": null,
                          "origin": "europe"
                        },
                        {
                          "mpg": 29.8,
                          "horsepower": 62,
                          "origin": "europe"
                        },
                        {
                          "mpg": 35,
                          "horsepower": 88,
                          "origin": "europe"
                        },
                        {
                          "mpg": 33,
                          "horsepower": 74,
                          "origin": "europe"
                        },
                        {
                          "mpg": 34.5,
                          "horsepower": null,
                          "origin": "europe"
                        },
                        {
                          "mpg": 28.1,
                          "horsepower": 80,
                          "origin": "europe"
                        },
                        {
                          "mpg": 30.7,
                          "horsepower": 76,
                          "origin": "europe"
                        },
                        {
                          "mpg": 36,
                          "horsepower": 74,
                          "origin": "europe"
                        },
                        {
                          "mpg": 44,
                          "horsepower": 52,
                          "origin": "europe"
                        }
                      ]
                    },
                    "vislib": "vegalite"
                  },
                  {
                    "config": {
                      "view": {
                        "continuousWidth": 400,
                        "continuousHeight": 300
                      },
                      "axis": {
                        "labelColor": "#505050",
                        "labelFont": "Helvetica Neue",
                        "labelFontSize": 9,
                        "labelFontWeight": 400,
                        "titleFont": "Helvetica Neue",
                        "titleFontSize": 11,
                        "titleFontWeight": 500
                      },
                      "legend": {
                        "labelFont": "Helvetica Neue",
                        "labelFontSize": 9,
                        "labelFontWeight": 400,
                        "titleFont": "Helvetica Neue",
                        "titleFontSize": 10,
                        "titleFontWeight": 500
                      },
                      "mark": {
                        "tooltip": {
                          "content": "encoding"
                        }
                      },
                      "title": {
                        "font": "Helvetica Neue",
                        "fontSize": 13,
                        "fontWeight": 500
                      }
                    },
                    "data": {
                      "name": "data-a099d324ed8d66d53bf9c04bc0448852"
                    },
                    "mark": "circle",
                    "encoding": {
                      "x": {
                        "axis": {
                          "title": "horsepower"
                        },
                        "field": "horsepower",
                        "scale": {
                          "domain": [
                            46,
                            230
                          ]
                        },
                        "type": "quantitative"
                      },
                      "y": {
                        "axis": {
                          "title": "mpg"
                        },
                        "field": "mpg",
                        "scale": {
                          "domain": [
                            9,
                            46.6
                          ]
                        },
                        "type": "quantitative"
                      }
                    },
                    "height": 150,
                    "selection": {
                      "selector075": {
                        "type": "interval",
                        "bind": "scales",
                        "encodings": [
                          "x",
                          "y"
                        ]
                      }
                    },
                    "title": "origin = japan",
                    "width": 160,
                    "$schema": "https://vega.github.io/schema/vega-lite/v4.17.0.json",
                    "datasets": {
                      "data-a099d324ed8d66d53bf9c04bc0448852": [
                        {
                          "mpg": 24,
                          "horsepower": 95,
                          "origin": "japan"
                        },
                        {
                          "mpg": 27,
                          "horsepower": 88,
                          "origin": "japan"
                        },
                        {
                          "mpg": 27,
                          "horsepower": 88,
                          "origin": "japan"
                        },
                        {
                          "mpg": 25,
                          "horsepower": 95,
                          "origin": "japan"
                        },
                        {
                          "mpg": 31,
                          "horsepower": 65,
                          "origin": "japan"
                        },
                        {
                          "mpg": 35,
                          "horsepower": 69,
                          "origin": "japan"
                        },
                        {
                          "mpg": 24,
                          "horsepower": 95,
                          "origin": "japan"
                        },
                        {
                          "mpg": 19,
                          "horsepower": 97,
                          "origin": "japan"
                        },
                        {
                          "mpg": 28,
                          "horsepower": 92,
                          "origin": "japan"
                        },
                        {
                          "mpg": 23,
                          "horsepower": 97,
                          "origin": "japan"
                        },
                        {
                          "mpg": 27,
                          "horsepower": 88,
                          "origin": "japan"
                        },
                        {
                          "mpg": 20,
                          "horsepower": 88,
                          "origin": "japan"
                        },
                        {
                          "mpg": 22,
                          "horsepower": 94,
                          "origin": "japan"
                        },
                        {
                          "mpg": 18,
                          "horsepower": 90,
                          "origin": "japan"
                        },
                        {
                          "mpg": 20,
                          "horsepower": 122,
                          "origin": "japan"
                        },
                        {
                          "mpg": 31,
                          "horsepower": 67,
                          "origin": "japan"
                        },
                        {
                          "mpg": 32,
                          "horsepower": 65,
                          "origin": "japan"
                        },
                        {
                          "mpg": 31,
                          "horsepower": 52,
                          "origin": "japan"
                        },
                        {
                          "mpg": 32,
                          "horsepower": 61,
                          "origin": "japan"
                        },
                        {
                          "mpg": 24,
                          "horsepower": 97,
                          "origin": "japan"
                        },
                        {
                          "mpg": 26,
                          "horsepower": 93,
                          "origin": "japan"
                        },
                        {
                          "mpg": 29,
                          "horsepower": 75,
                          "origin": "japan"
                        },
                        {
                          "mpg": 24,
                          "horsepower": 96,
                          "origin": "japan"
                        },
                        {
                          "mpg": 24,
                          "horsepower": 97,
                          "origin": "japan"
                        },
                        {
                          "mpg": 33,
                          "horsepower": 53,
                          "origin": "japan"
                        },
                        {
                          "mpg": 33,
                          "horsepower": 53,
                          "origin": "japan"
                        },
                        {
                          "mpg": 32,
                          "horsepower": 70,
                          "origin": "japan"
                        },
                        {
                          "mpg": 28,
                          "horsepower": 75,
                          "origin": "japan"
                        },
                        {
                          "mpg": 19,
                          "horsepower": 108,
                          "origin": "japan"
                        },
                        {
                          "mpg": 31.5,
                          "horsepower": 68,
                          "origin": "japan"
                        },
                        {
                          "mpg": 33.5,
                          "horsepower": 70,
                          "origin": "japan"
                        },
                        {
                          "mpg": 26,
                          "horsepower": 75,
                          "origin": "japan"
                        },
                        {
                          "mpg": 30,
                          "horsepower": 67,
                          "origin": "japan"
                        },
                        {
                          "mpg": 22,
                          "horsepower": 97,
                          "origin": "japan"
                        },
                        {
                          "mpg": 21.5,
                          "horsepower": 110,
                          "origin": "japan"
                        },
                        {
                          "mpg": 32.8,
                          "horsepower": 52,
                          "origin": "japan"
                        },
                        {
                          "mpg": 39.4,
                          "horsepower": 70,
                          "origin": "japan"
                        },
                        {
                          "mpg": 36.1,
                          "horsepower": 60,
                          "origin": "japan"
                        },
                        {
                          "mpg": 27.5,
                          "horsepower": 95,
                          "origin": "japan"
                        },
                        {
                          "mpg": 27.2,
                          "horsepower": 97,
                          "origin": "japan"
                        },
                        {
                          "mpg": 21.1,
                          "horsepower": 95,
                          "origin": "japan"
                        },
                        {
                          "mpg": 23.9,
                          "horsepower": 97,
                          "origin": "japan"
                        },
                        {
                          "mpg": 29.5,
                          "horsepower": 68,
                          "origin": "japan"
                        },
                        {
                          "mpg": 34.1,
                          "horsepower": 65,
                          "origin": "japan"
                        },
                        {
                          "mpg": 31.8,
                          "horsepower": 65,
                          "origin": "japan"
                        },
                        {
                          "mpg": 38.1,
                          "horsepower": 60,
                          "origin": "japan"
                        },
                        {
                          "mpg": 37.2,
                          "horsepower": 65,
                          "origin": "japan"
                        },
                        {
                          "mpg": 29.8,
                          "horsepower": 90,
                          "origin": "japan"
                        },
                        {
                          "mpg": 31.3,
                          "horsepower": 75,
                          "origin": "japan"
                        },
                        {
                          "mpg": 37,
                          "horsepower": 92,
                          "origin": "japan"
                        },
                        {
                          "mpg": 32.2,
                          "horsepower": 75,
                          "origin": "japan"
                        },
                        {
                          "mpg": 46.6,
                          "horsepower": 65,
                          "origin": "japan"
                        },
                        {
                          "mpg": 40.8,
                          "horsepower": 65,
                          "origin": "japan"
                        },
                        {
                          "mpg": 44.6,
                          "horsepower": 67,
                          "origin": "japan"
                        },
                        {
                          "mpg": 33.8,
                          "horsepower": 67,
                          "origin": "japan"
                        },
                        {
                          "mpg": 32.7,
                          "horsepower": 132,
                          "origin": "japan"
                        },
                        {
                          "mpg": 23.7,
                          "horsepower": 100,
                          "origin": "japan"
                        },
                        {
                          "mpg": 32.4,
                          "horsepower": 72,
                          "origin": "japan"
                        },
                        {
                          "mpg": 39.1,
                          "horsepower": 58,
                          "origin": "japan"
                        },
                        {
                          "mpg": 35.1,
                          "horsepower": 60,
                          "origin": "japan"
                        },
                        {
                          "mpg": 32.3,
                          "horsepower": 67,
                          "origin": "japan"
                        },
                        {
                          "mpg": 37,
                          "horsepower": 65,
                          "origin": "japan"
                        },
                        {
                          "mpg": 37.7,
                          "horsepower": 62,
                          "origin": "japan"
                        },
                        {
                          "mpg": 34.1,
                          "horsepower": 68,
                          "origin": "japan"
                        },
                        {
                          "mpg": 33.7,
                          "horsepower": 75,
                          "origin": "japan"
                        },
                        {
                          "mpg": 32.4,
                          "horsepower": 75,
                          "origin": "japan"
                        },
                        {
                          "mpg": 32.9,
                          "horsepower": 100,
                          "origin": "japan"
                        },
                        {
                          "mpg": 31.6,
                          "horsepower": 74,
                          "origin": "japan"
                        },
                        {
                          "mpg": 25.4,
                          "horsepower": 116,
                          "origin": "japan"
                        },
                        {
                          "mpg": 24.2,
                          "horsepower": 120,
                          "origin": "japan"
                        },
                        {
                          "mpg": 37,
                          "horsepower": 68,
                          "origin": "japan"
                        },
                        {
                          "mpg": 31,
                          "horsepower": 68,
                          "origin": "japan"
                        },
                        {
                          "mpg": 36,
                          "horsepower": 88,
                          "origin": "japan"
                        },
                        {
                          "mpg": 36,
                          "horsepower": 75,
                          "origin": "japan"
                        },
                        {
                          "mpg": 34,
                          "horsepower": 70,
                          "origin": "japan"
                        },
                        {
                          "mpg": 38,
                          "horsepower": 67,
                          "origin": "japan"
                        },
                        {
                          "mpg": 32,
                          "horsepower": 67,
                          "origin": "japan"
                        },
                        {
                          "mpg": 38,
                          "horsepower": 67,
                          "origin": "japan"
                        },
                        {
                          "mpg": 32,
                          "horsepower": 96,
                          "origin": "japan"
                        }
                      ]
                    },
                    "vislib": "vegalite"
                  },
                  {
                    "config": {
                      "view": {
                        "continuousWidth": 400,
                        "continuousHeight": 300
                      },
                      "axis": {
                        "labelColor": "#505050",
                        "labelFont": "Helvetica Neue",
                        "labelFontSize": 9,
                        "labelFontWeight": 400,
                        "titleFont": "Helvetica Neue",
                        "titleFontSize": 11,
                        "titleFontWeight": 500
                      },
                      "legend": {
                        "labelFont": "Helvetica Neue",
                        "labelFontSize": 9,
                        "labelFontWeight": 400,
                        "titleFont": "Helvetica Neue",
                        "titleFontSize": 10,
                        "titleFontWeight": 500
                      },
                      "mark": {
                        "tooltip": {
                          "content": "encoding"
                        }
                      },
                      "title": {
                        "font": "Helvetica Neue",
                        "fontSize": 13,
                        "fontWeight": 500
                      }
                    },
                    "data": {
                      "name": "data-6a06280f73eb5534f1333e9e7713c700"
                    },
                    "mark": "circle",
                    "encoding": {
                      "x": {
                        "axis": {
                          "title": "horsepower"
                        },
                        "field": "horsepower",
                        "scale": {
                          "domain": [
                            46,
                            230
                          ]
                        },
                        "type": "quantitative"
                      },
                      "y": {
                        "axis": {
                          "title": "mpg"
                        },
                        "field": "mpg",
                        "scale": {
                          "domain": [
                            9,
                            46.6
                          ]
                        },
                        "type": "quantitative"
                      }
                    },
                    "height": 150,
                    "selection": {
                      "selector076": {
                        "type": "interval",
                        "bind": "scales",
                        "encodings": [
                          "x",
                          "y"
                        ]
                      }
                    },
                    "title": "model_year = 75",
                    "width": 160,
                    "$schema": "https://vega.github.io/schema/vega-lite/v4.17.0.json",
                    "datasets": {
                      "data-6a06280f73eb5534f1333e9e7713c700": [
                        {
                          "model_year": 75,
                          "mpg": 19,
                          "horsepower": 95
                        },
                        {
                          "model_year": 75,
                          "mpg": 18,
                          "horsepower": 105
                        },
                        {
                          "model_year": 75,
                          "mpg": 15,
                          "horsepower": 72
                        },
                        {
                          "model_year": 75,
                          "mpg": 15,
                          "horsepower": 72
                        },
                        {
                          "model_year": 75,
                          "mpg": 16,
                          "horsepower": 170
                        },
                        {
                          "model_year": 75,
                          "mpg": 15,
                          "horsepower": 145
                        },
                        {
                          "model_year": 75,
                          "mpg": 16,
                          "horsepower": 150
                        },
                        {
                          "model_year": 75,
                          "mpg": 14,
                          "horsepower": 148
                        },
                        {
                          "model_year": 75,
                          "mpg": 17,
                          "horsepower": 110
                        },
                        {
                          "model_year": 75,
                          "mpg": 16,
                          "horsepower": 105
                        },
                        {
                          "model_year": 75,
                          "mpg": 15,
                          "horsepower": 110
                        },
                        {
                          "model_year": 75,
                          "mpg": 18,
                          "horsepower": 95
                        },
                        {
                          "model_year": 75,
                          "mpg": 21,
                          "horsepower": 110
                        },
                        {
                          "model_year": 75,
                          "mpg": 20,
                          "horsepower": 110
                        },
                        {
                          "model_year": 75,
                          "mpg": 13,
                          "horsepower": 129
                        },
                        {
                          "model_year": 75,
                          "mpg": 29,
                          "horsepower": 75
                        },
                        {
                          "model_year": 75,
                          "mpg": 23,
                          "horsepower": 83
                        },
                        {
                          "model_year": 75,
                          "mpg": 20,
                          "horsepower": 100
                        },
                        {
                          "model_year": 75,
                          "mpg": 23,
                          "horsepower": 78
                        },
                        {
                          "model_year": 75,
                          "mpg": 24,
                          "horsepower": 96
                        },
                        {
                          "model_year": 75,
                          "mpg": 25,
                          "horsepower": 71
                        },
                        {
                          "model_year": 75,
                          "mpg": 24,
                          "horsepower": 97
                        },
                        {
                          "model_year": 75,
                          "mpg": 18,
                          "horsepower": 97
                        },
                        {
                          "model_year": 75,
                          "mpg": 29,
                          "horsepower": 70
                        },
                        {
                          "model_year": 75,
                          "mpg": 19,
                          "horsepower": 90
                        },
                        {
                          "model_year": 75,
                          "mpg": 23,
                          "horsepower": 95
                        },
                        {
                          "model_year": 75,
                          "mpg": 23,
                          "horsepower": 88
                        },
                        {
                          "model_year": 75,
                          "mpg": 22,
                          "horsepower": 98
                        },
                        {
                          "model_year": 75,
                          "mpg": 25,
                          "horsepower": 115
                        },
                        {
                          "model_year": 75,
                          "mpg": 33,
                          "horsepower": 53
                        }
                      ]
                    },
                    "vislib": "vegalite"
                  }
                ]
              },
              {
                "action": "Generalize",
                "description": "Remove an attribute or filter from <p class=\"highlight-intent\">horsepower, mpg</p>.",
                "long_description": "Remove one aspect of the Current Vis. We can either remove an attribute or filter from <p class=\"highlight-intent\">horsepower, mpg</p>.",
                "vspec": [
                  {
                    "config": {
                      "view": {
                        "continuousWidth": 400,
                        "continuousHeight": 300
                      },
                      "axis": {
                        "labelColor": "#505050",
                        "labelFont": "Helvetica Neue",
                        "labelFontSize": 9,
                        "labelFontWeight": 400,
                        "titleFont": "Helvetica Neue",
                        "titleFontSize": 11,
                        "titleFontWeight": 500
                      },
                      "legend": {
                        "labelFont": "Helvetica Neue",
                        "labelFontSize": 9,
                        "labelFontWeight": 400,
                        "titleFont": "Helvetica Neue",
                        "titleFontSize": 10,
                        "titleFontWeight": 500
                      },
                      "title": {
                        "font": "Helvetica Neue",
                        "fontSize": 13,
                        "fontWeight": 500
                      }
                    },
                    "data": {
                      "name": "data-0ff745095f5745657f805ad53682e894"
                    },
                    "mark": "bar",
                    "encoding": {
                      "x": {
                        "axis": {
                          "title": "horsepower (binned)"
                        },
                        "bin": {
                          "binned": true,
                          "step": 18.400000000000006
                        },
                        "field": "horsepower",
                        "scale": {
                          "domain": [
                            46,
                            230
                          ]
                        },
                        "title": "horsepower (binned)",
                        "type": "quantitative"
                      },
                      "x2": {
                        "field": "horsepower_end"
                      },
                      "y": {
                        "field": "Number of Records",
                        "type": "quantitative"
                      }
                    },
                    "height": 150,
                    "width": 160,
                    "$schema": "https://vega.github.io/schema/vega-lite/v4.17.0.json",
                    "datasets": {
                      "data-0ff745095f5745657f805ad53682e894": [
                        {
                          "horsepower": 46,
                          "Number of Records": 27,
                          "horsepower_end": 65.32
                        },
                        {
                          "horsepower": 64.4,
                          "Number of Records": 95,
                          "horsepower_end": 83.72
                        },
                        {
                          "horsepower": 82.8,
                          "Number of Records": 120,
                          "horsepower_end": 102.12
                        },
                        {
                          "horsepower": 101.19999999999999,
                          "Number of Records": 44,
                          "horsepower_end": 120.51999999999998
                        },
                        {
                          "horsepower": 119.6,
                          "Number of Records": 19,
                          "horsepower_end": 138.92
                        },
                        {
                          "horsepower": 138,
                          "Number of Records": 47,
                          "horsepower_end": 157.32
                        },
                        {
                          "horsepower": 156.39999999999998,
                          "Number of Records": 13,
                          "horsepower_end": 175.71999999999997
                        },
                        {
                          "horsepower": 174.79999999999998,
                          "Number of Records": 14,
                          "horsepower_end": 194.11999999999998
                        },
                        {
                          "horsepower": 193.2,
                          "Number of Records": 5,
                          "horsepower_end": 212.51999999999998
                        },
                        {
                          "horsepower": 211.6,
                          "Number of Records": 8,
                          "horsepower_end": 230.92
                        }
                      ]
                    },
                    "vislib": "vegalite"
                  },
                  {
                    "config": {
                      "view": {
                        "continuousWidth": 400,
                        "continuousHeight": 300
                      },
                      "axis": {
                        "labelColor": "#505050",
                        "labelFont": "Helvetica Neue",
                        "labelFontSize": 9,
                        "labelFontWeight": 400,
                        "titleFont": "Helvetica Neue",
                        "titleFontSize": 11,
                        "titleFontWeight": 500
                      },
                      "legend": {
                        "labelFont": "Helvetica Neue",
                        "labelFontSize": 9,
                        "labelFontWeight": 400,
                        "titleFont": "Helvetica Neue",
                        "titleFontSize": 10,
                        "titleFontWeight": 500
                      },
                      "title": {
                        "font": "Helvetica Neue",
                        "fontSize": 13,
                        "fontWeight": 500
                      }
                    },
                    "data": {
                      "name": "data-cb678bbc03720fc2753d22329050ea6f"
                    },
                    "mark": "bar",
                    "encoding": {
                      "x": {
                        "axis": {
                          "title": "mpg (binned)"
                        },
                        "bin": {
                          "binned": true,
                          "step": 3.76
                        },
                        "field": "mpg",
                        "scale": {
                          "domain": [
                            9,
                            46.6
                          ]
                        },
                        "title": "mpg (binned)",
                        "type": "quantitative"
                      },
                      "x2": {
                        "field": "mpg_end"
                      },
                      "y": {
                        "field": "Number of Records",
                        "type": "quantitative"
                      }
                    },
                    "height": 150,
                    "width": 160,
                    "$schema": "https://vega.github.io/schema/vega-lite/v4.17.0.json",
                    "datasets": {
                      "data-cb678bbc03720fc2753d22329050ea6f": [
                        {
                          "mpg": 9,
                          "Number of Records": 13,
                          "mpg_end": 12.95
                        },
                        {
                          "mpg": 12.76,
                          "Number of Records": 78,
                          "mpg_end": 16.71
                        },
                        {
                          "mpg": 16.52,
                          "Number of Records": 73,
                          "mpg_end": 20.47
                        },
                        {
                          "mpg": 20.28,
                          "Number of Records": 61,
                          "mpg_end": 24.23
                        },
                        {
                          "mpg": 24.04,
                          "Number of Records": 54,
                          "mpg_end": 27.99
                        },
                        {
                          "mpg": 27.8,
                          "Number of Records": 48,
                          "mpg_end": 31.75
                        },
                        {
                          "mpg": 31.560000000000002,
                          "Number of Records": 38,
                          "mpg_end": 35.510000000000005
                        },
                        {
                          "mpg": 35.32,
                          "Number of Records": 22,
                          "mpg_end": 39.27
                        },
                        {
                          "mpg": 39.08,
                          "Number of Records": 5,
                          "mpg_end": 43.03
                        },
                        {
                          "mpg": 42.84,
                          "Number of Records": 6,
                          "mpg_end": 46.790000000000006
                        }
                      ]
                    },
                    "vislib": "vegalite"
                  }
                ]
              }
            ],
            "selectedIntentIndex": {}
          }
        },
        "165f9a6d83b047b28786c31553efa69f": {
          "model_module": "@jupyter-widgets/base",
          "model_name": "LayoutModel",
          "model_module_version": "1.2.0",
          "state": {
            "_model_module": "@jupyter-widgets/base",
            "_model_module_version": "1.2.0",
            "_model_name": "LayoutModel",
            "_view_count": null,
            "_view_module": "@jupyter-widgets/base",
            "_view_module_version": "1.2.0",
            "_view_name": "LayoutView",
            "align_content": null,
            "align_items": null,
            "align_self": null,
            "border": null,
            "bottom": null,
            "display": null,
            "flex": null,
            "flex_flow": null,
            "grid_area": null,
            "grid_auto_columns": null,
            "grid_auto_flow": null,
            "grid_auto_rows": null,
            "grid_column": null,
            "grid_gap": null,
            "grid_row": null,
            "grid_template_areas": null,
            "grid_template_columns": null,
            "grid_template_rows": null,
            "height": null,
            "justify_content": null,
            "justify_items": null,
            "left": null,
            "margin": null,
            "max_height": null,
            "max_width": null,
            "min_height": null,
            "min_width": null,
            "object_fit": null,
            "object_position": null,
            "order": null,
            "overflow": null,
            "overflow_x": null,
            "overflow_y": null,
            "padding": null,
            "right": null,
            "top": null,
            "visibility": null,
            "width": null
          }
        },
        "1dcca41bd1874d5db593b2af0493070c": {
          "model_module": "luxwidget",
          "model_name": "LuxModel",
          "model_module_version": "0.1.11",
          "state": {
            "_dom_classes": [],
            "_model_module": "luxwidget",
            "_model_module_version": "0.1.11",
            "_model_name": "LuxModel",
            "_selectedVisIdxs": {},
            "_view_count": null,
            "_view_module": "luxwidget",
            "_view_module_version": "0.1.11",
            "_view_name": "LuxWidgetView",
            "all_column": false,
            "current_vis": {
              "config": {
                "view": {
                  "continuousWidth": 400,
                  "continuousHeight": 300
                },
                "axis": {
                  "labelColor": "#505050",
                  "labelFont": "Helvetica Neue",
                  "labelFontSize": 9,
                  "labelFontWeight": 400,
                  "titleFont": "Helvetica Neue",
                  "titleFontSize": 11,
                  "titleFontWeight": 500
                },
                "legend": {
                  "labelFont": "Helvetica Neue",
                  "labelFontSize": 9,
                  "labelFontWeight": 400,
                  "titleFont": "Helvetica Neue",
                  "titleFontSize": 10,
                  "titleFontWeight": 500
                },
                "title": {
                  "font": "Helvetica Neue",
                  "fontSize": 13,
                  "fontWeight": 500
                }
              },
              "data": {
                "name": "data-35b070c410ad598f9dc768d9a95131ea"
              },
              "mark": "bar",
              "encoding": {
                "x": {
                  "axis": {
                    "title": "mpg (binned)"
                  },
                  "bin": {
                    "binned": true,
                    "step": 3
                  },
                  "field": "mpg",
                  "scale": {
                    "domain": [
                      9,
                      46.6
                    ]
                  },
                  "title": "mpg (binned)",
                  "type": "quantitative"
                },
                "x2": {
                  "field": "mpg_end"
                },
                "y": {
                  "field": "Number of Records",
                  "type": "quantitative"
                }
              },
              "height": 150,
              "title": "origin = usa",
              "width": 160,
              "$schema": "https://vega.github.io/schema/vega-lite/v4.17.0.json",
              "datasets": {
                "data-35b070c410ad598f9dc768d9a95131ea": [
                  {
                    "mpg": 9,
                    "Number of Records": 7,
                    "mpg_end": 12.15
                  },
                  {
                    "mpg": 12,
                    "Number of Records": 46,
                    "mpg_end": 15.15
                  },
                  {
                    "mpg": 15,
                    "Number of Records": 51,
                    "mpg_end": 18.15
                  },
                  {
                    "mpg": 18,
                    "Number of Records": 53,
                    "mpg_end": 21.15
                  },
                  {
                    "mpg": 21,
                    "Number of Records": 28,
                    "mpg_end": 24.15
                  },
                  {
                    "mpg": 24,
                    "Number of Records": 23,
                    "mpg_end": 27.15
                  },
                  {
                    "mpg": 27,
                    "Number of Records": 18,
                    "mpg_end": 30.15
                  },
                  {
                    "mpg": 30,
                    "Number of Records": 9,
                    "mpg_end": 33.15
                  },
                  {
                    "mpg": 33,
                    "Number of Records": 8,
                    "mpg_end": 36.15
                  },
                  {
                    "mpg": 36,
                    "Number of Records": 6,
                    "mpg_end": 39.15
                  }
                ]
              },
              "vislib": "vegalite",
              "allcols": false
            },
            "data": [],
            "deletedIndices": {},
            "intent": "",
            "layout": "IPY_MODEL_202ee1e98acf45df9261a2396b30a8a6",
            "message": "",
            "plotting_scale": 1,
            "recommendations": [],
            "selectedIntentIndex": {}
          }
        },
        "202ee1e98acf45df9261a2396b30a8a6": {
          "model_module": "@jupyter-widgets/base",
          "model_name": "LayoutModel",
          "model_module_version": "1.2.0",
          "state": {
            "_model_module": "@jupyter-widgets/base",
            "_model_module_version": "1.2.0",
            "_model_name": "LayoutModel",
            "_view_count": null,
            "_view_module": "@jupyter-widgets/base",
            "_view_module_version": "1.2.0",
            "_view_name": "LayoutView",
            "align_content": null,
            "align_items": null,
            "align_self": null,
            "border": null,
            "bottom": null,
            "display": null,
            "flex": null,
            "flex_flow": null,
            "grid_area": null,
            "grid_auto_columns": null,
            "grid_auto_flow": null,
            "grid_auto_rows": null,
            "grid_column": null,
            "grid_gap": null,
            "grid_row": null,
            "grid_template_areas": null,
            "grid_template_columns": null,
            "grid_template_rows": null,
            "height": null,
            "justify_content": null,
            "justify_items": null,
            "left": null,
            "margin": null,
            "max_height": null,
            "max_width": null,
            "min_height": null,
            "min_width": null,
            "object_fit": null,
            "object_position": null,
            "order": null,
            "overflow": null,
            "overflow_x": null,
            "overflow_y": null,
            "padding": null,
            "right": null,
            "top": null,
            "visibility": null,
            "width": null
          }
        },
        "9b0393ef6ab44f77b9cc7c6d7266b533": {
          "model_module": "luxwidget",
          "model_name": "LuxModel",
          "model_module_version": "0.1.11",
          "state": {
            "_dom_classes": [],
            "_model_module": "luxwidget",
            "_model_module_version": "0.1.11",
            "_model_name": "LuxModel",
            "_selectedVisIdxs": {},
            "_view_count": null,
            "_view_module": "luxwidget",
            "_view_module_version": "0.1.11",
            "_view_name": "LuxWidgetView",
            "all_column": false,
            "current_vis": {},
            "data": [],
            "deletedIndices": {},
            "intent": "",
            "layout": "IPY_MODEL_c5782659ed2b44b4a7737f58701182be",
            "message": "",
            "plotting_scale": 1,
            "recommendations": [
              {
                "action": "Vis List",
                "description": "Shows a vis list defined by the intent",
                "vspec": [
                  {
                    "config": {
                      "view": {
                        "continuousWidth": 400,
                        "continuousHeight": 300
                      },
                      "axis": {
                        "labelColor": "#505050",
                        "labelFont": "Helvetica Neue",
                        "labelFontSize": 9,
                        "labelFontWeight": 400,
                        "titleFont": "Helvetica Neue",
                        "titleFontSize": 11,
                        "titleFontWeight": 500
                      },
                      "legend": {
                        "labelFont": "Helvetica Neue",
                        "labelFontSize": 9,
                        "labelFontWeight": 400,
                        "titleFont": "Helvetica Neue",
                        "titleFontSize": 10,
                        "titleFontWeight": 500
                      },
                      "title": {
                        "font": "Helvetica Neue",
                        "fontSize": 13,
                        "fontWeight": 500
                      }
                    },
                    "data": {
                      "name": "data-35b070c410ad598f9dc768d9a95131ea"
                    },
                    "mark": "bar",
                    "encoding": {
                      "x": {
                        "axis": {
                          "title": "mpg (binned)"
                        },
                        "bin": {
                          "binned": true,
                          "step": 3
                        },
                        "field": "mpg",
                        "scale": {
                          "domain": [
                            9,
                            46.6
                          ]
                        },
                        "title": "mpg (binned)",
                        "type": "quantitative"
                      },
                      "x2": {
                        "field": "mpg_end"
                      },
                      "y": {
                        "field": "Number of Records",
                        "type": "quantitative"
                      }
                    },
                    "height": 150,
                    "title": "origin = usa",
                    "width": 160,
                    "$schema": "https://vega.github.io/schema/vega-lite/v4.17.0.json",
                    "datasets": {
                      "data-35b070c410ad598f9dc768d9a95131ea": [
                        {
                          "mpg": 9,
                          "Number of Records": 7,
                          "mpg_end": 12.15
                        },
                        {
                          "mpg": 12,
                          "Number of Records": 46,
                          "mpg_end": 15.15
                        },
                        {
                          "mpg": 15,
                          "Number of Records": 51,
                          "mpg_end": 18.15
                        },
                        {
                          "mpg": 18,
                          "Number of Records": 53,
                          "mpg_end": 21.15
                        },
                        {
                          "mpg": 21,
                          "Number of Records": 28,
                          "mpg_end": 24.15
                        },
                        {
                          "mpg": 24,
                          "Number of Records": 23,
                          "mpg_end": 27.15
                        },
                        {
                          "mpg": 27,
                          "Number of Records": 18,
                          "mpg_end": 30.15
                        },
                        {
                          "mpg": 30,
                          "Number of Records": 9,
                          "mpg_end": 33.15
                        },
                        {
                          "mpg": 33,
                          "Number of Records": 8,
                          "mpg_end": 36.15
                        },
                        {
                          "mpg": 36,
                          "Number of Records": 6,
                          "mpg_end": 39.15
                        }
                      ]
                    },
                    "vislib": "vegalite"
                  },
                  {
                    "config": {
                      "view": {
                        "continuousWidth": 400,
                        "continuousHeight": 300
                      },
                      "axis": {
                        "labelColor": "#505050",
                        "labelFont": "Helvetica Neue",
                        "labelFontSize": 9,
                        "labelFontWeight": 400,
                        "titleFont": "Helvetica Neue",
                        "titleFontSize": 11,
                        "titleFontWeight": 500
                      },
                      "legend": {
                        "labelFont": "Helvetica Neue",
                        "labelFontSize": 9,
                        "labelFontWeight": 400,
                        "titleFont": "Helvetica Neue",
                        "titleFontSize": 10,
                        "titleFontWeight": 500
                      },
                      "title": {
                        "font": "Helvetica Neue",
                        "fontSize": 13,
                        "fontWeight": 500
                      }
                    },
                    "data": {
                      "name": "data-30629b3c94a58130a99aac0190e1e8f6"
                    },
                    "mark": "bar",
                    "encoding": {
                      "x": {
                        "axis": {
                          "title": "mpg (binned)"
                        },
                        "bin": {
                          "binned": true,
                          "step": 2.8599999999999994
                        },
                        "field": "mpg",
                        "scale": {
                          "domain": [
                            9,
                            46.6
                          ]
                        },
                        "title": "mpg (binned)",
                        "type": "quantitative"
                      },
                      "x2": {
                        "field": "mpg_end"
                      },
                      "y": {
                        "field": "Number of Records",
                        "type": "quantitative"
                      }
                    },
                    "height": 150,
                    "title": "origin = japan",
                    "width": 160,
                    "$schema": "https://vega.github.io/schema/vega-lite/v4.17.0.json",
                    "datasets": {
                      "data-30629b3c94a58130a99aac0190e1e8f6": [
                        {
                          "mpg": 18,
                          "Number of Records": 5,
                          "mpg_end": 21
                        },
                        {
                          "mpg": 20.86,
                          "Number of Records": 6,
                          "mpg_end": 23.86
                        },
                        {
                          "mpg": 23.72,
                          "Number of Records": 11,
                          "mpg_end": 26.72
                        },
                        {
                          "mpg": 26.580000000000002,
                          "Number of Records": 8,
                          "mpg_end": 29.580000000000002
                        },
                        {
                          "mpg": 29.44,
                          "Number of Records": 17,
                          "mpg_end": 32.44
                        },
                        {
                          "mpg": 32.3,
                          "Number of Records": 16,
                          "mpg_end": 35.3
                        },
                        {
                          "mpg": 35.160000000000004,
                          "Number of Records": 10,
                          "mpg_end": 38.160000000000004
                        },
                        {
                          "mpg": 38.02,
                          "Number of Records": 4,
                          "mpg_end": 41.02
                        },
                        {
                          "mpg": 40.88,
                          "Number of Records": 0,
                          "mpg_end": 43.88
                        },
                        {
                          "mpg": 43.74,
                          "Number of Records": 2,
                          "mpg_end": 46.74
                        }
                      ]
                    },
                    "vislib": "vegalite"
                  },
                  {
                    "config": {
                      "view": {
                        "continuousWidth": 400,
                        "continuousHeight": 300
                      },
                      "axis": {
                        "labelColor": "#505050",
                        "labelFont": "Helvetica Neue",
                        "labelFontSize": 9,
                        "labelFontWeight": 400,
                        "titleFont": "Helvetica Neue",
                        "titleFontSize": 11,
                        "titleFontWeight": 500
                      },
                      "legend": {
                        "labelFont": "Helvetica Neue",
                        "labelFontSize": 9,
                        "labelFontWeight": 400,
                        "titleFont": "Helvetica Neue",
                        "titleFontSize": 10,
                        "titleFontWeight": 500
                      },
                      "title": {
                        "font": "Helvetica Neue",
                        "fontSize": 13,
                        "fontWeight": 500
                      }
                    },
                    "data": {
                      "name": "data-138cd8a10fc6091e87a75fded8dd7027"
                    },
                    "mark": "bar",
                    "encoding": {
                      "x": {
                        "axis": {
                          "title": "mpg (binned)"
                        },
                        "bin": {
                          "binned": true,
                          "step": 2.8099999999999987
                        },
                        "field": "mpg",
                        "scale": {
                          "domain": [
                            9,
                            46.6
                          ]
                        },
                        "title": "mpg (binned)",
                        "type": "quantitative"
                      },
                      "x2": {
                        "field": "mpg_end"
                      },
                      "y": {
                        "field": "Number of Records",
                        "type": "quantitative"
                      }
                    },
                    "height": 150,
                    "title": "origin = europe",
                    "width": 160,
                    "$schema": "https://vega.github.io/schema/vega-lite/v4.17.0.json",
                    "datasets": {
                      "data-138cd8a10fc6091e87a75fded8dd7027": [
                        {
                          "mpg": 16.2,
                          "Number of Records": 6,
                          "mpg_end": 19.15
                        },
                        {
                          "mpg": 19.009999999999998,
                          "Number of Records": 6,
                          "mpg_end": 21.959999999999997
                        },
                        {
                          "mpg": 21.82,
                          "Number of Records": 9,
                          "mpg_end": 24.77
                        },
                        {
                          "mpg": 24.63,
                          "Number of Records": 17,
                          "mpg_end": 27.58
                        },
                        {
                          "mpg": 27.439999999999998,
                          "Number of Records": 13,
                          "mpg_end": 30.389999999999997
                        },
                        {
                          "mpg": 30.249999999999996,
                          "Number of Records": 6,
                          "mpg_end": 33.199999999999996
                        },
                        {
                          "mpg": 33.06,
                          "Number of Records": 3,
                          "mpg_end": 36.010000000000005
                        },
                        {
                          "mpg": 35.87,
                          "Number of Records": 4,
                          "mpg_end": 38.82
                        },
                        {
                          "mpg": 38.67999999999999,
                          "Number of Records": 1,
                          "mpg_end": 41.629999999999995
                        },
                        {
                          "mpg": 41.489999999999995,
                          "Number of Records": 5,
                          "mpg_end": 44.44
                        }
                      ]
                    },
                    "vislib": "vegalite"
                  }
                ]
              }
            ],
            "selectedIntentIndex": {}
          }
        },
        "c5782659ed2b44b4a7737f58701182be": {
          "model_module": "@jupyter-widgets/base",
          "model_name": "LayoutModel",
          "model_module_version": "1.2.0",
          "state": {
            "_model_module": "@jupyter-widgets/base",
            "_model_module_version": "1.2.0",
            "_model_name": "LayoutModel",
            "_view_count": null,
            "_view_module": "@jupyter-widgets/base",
            "_view_module_version": "1.2.0",
            "_view_name": "LayoutView",
            "align_content": null,
            "align_items": null,
            "align_self": null,
            "border": null,
            "bottom": null,
            "display": null,
            "flex": null,
            "flex_flow": null,
            "grid_area": null,
            "grid_auto_columns": null,
            "grid_auto_flow": null,
            "grid_auto_rows": null,
            "grid_column": null,
            "grid_gap": null,
            "grid_row": null,
            "grid_template_areas": null,
            "grid_template_columns": null,
            "grid_template_rows": null,
            "height": null,
            "justify_content": null,
            "justify_items": null,
            "left": null,
            "margin": null,
            "max_height": null,
            "max_width": null,
            "min_height": null,
            "min_width": null,
            "object_fit": null,
            "object_position": null,
            "order": null,
            "overflow": null,
            "overflow_x": null,
            "overflow_y": null,
            "padding": null,
            "right": null,
            "top": null,
            "visibility": null,
            "width": null
          }
        }
      }
    }
  },
  "cells": [
    {
      "cell_type": "code",
      "source": [
        "!pip install lux-api\n",
        "!pip install lux-widget\n"
      ],
      "metadata": {
        "id": "OJYhDxUtWdiS"
      },
      "execution_count": null,
      "outputs": []
    },
    {
      "cell_type": "code",
      "source": [
        "from google.colab import output\n",
        "output.enable_custom_widget_manager()"
      ],
      "metadata": {
        "id": "a0EWO9_rd6Bx"
      },
      "execution_count": null,
      "outputs": []
    },
    {
      "cell_type": "code",
      "execution_count": null,
      "metadata": {
        "colab": {
          "base_uri": "https://localhost:8080/",
          "height": 440,
          "referenced_widgets": [
            "09d05193306a4d91a9c89845455ebada",
            "ea932fd8d7cc460cbb8e9d1fd5ee15d4",
            "1e4dc737877a4180b1055e649124af72",
            "47a09444e32643aab349bdae85eaa7ff",
            "20856e4cb5ce493b855a028f7242c485"
          ]
        },
        "id": "ga3PMX0ZUmAK",
        "outputId": "84df858d-3262-40c3-d32b-d78f868c0ba3"
      },
      "outputs": [
        {
          "output_type": "stream",
          "name": "stderr",
          "text": [
            "/usr/local/lib/python3.10/dist-packages/lux/executor/PandasExecutor.py:567: UserWarning:Could not infer format, so each element will be parsed individually, falling back to `dateutil`. To ensure parsing is consistent and as-expected, please specify a format.\n",
            "/usr/local/lib/python3.10/dist-packages/lux/executor/PandasExecutor.py:567: UserWarning:Could not infer format, so each element will be parsed individually, falling back to `dateutil`. To ensure parsing is consistent and as-expected, please specify a format.\n",
            "/usr/local/lib/python3.10/dist-packages/lux/executor/PandasExecutor.py:567: UserWarning:Could not infer format, so each element will be parsed individually, falling back to `dateutil`. To ensure parsing is consistent and as-expected, please specify a format.\n",
            "/usr/local/lib/python3.10/dist-packages/lux/executor/PandasExecutor.py:548: UserWarning:Could not infer format, so each element will be parsed individually, falling back to `dateutil`. To ensure parsing is consistent and as-expected, please specify a format.\n",
            "/usr/local/lib/python3.10/dist-packages/lux/executor/PandasExecutor.py:548: UserWarning:Could not infer format, so each element will be parsed individually, falling back to `dateutil`. To ensure parsing is consistent and as-expected, please specify a format.\n",
            "/usr/local/lib/python3.10/dist-packages/lux/executor/PandasExecutor.py:567: UserWarning:Could not infer format, so each element will be parsed individually, falling back to `dateutil`. To ensure parsing is consistent and as-expected, please specify a format.\n",
            "/usr/local/lib/python3.10/dist-packages/lux/executor/PandasExecutor.py:567: UserWarning:Could not infer format, so each element will be parsed individually, falling back to `dateutil`. To ensure parsing is consistent and as-expected, please specify a format.\n",
            "/usr/local/lib/python3.10/dist-packages/lux/executor/PandasExecutor.py:567: UserWarning:Could not infer format, so each element will be parsed individually, falling back to `dateutil`. To ensure parsing is consistent and as-expected, please specify a format.\n",
            "/usr/local/lib/python3.10/dist-packages/lux/executor/PandasExecutor.py:548: UserWarning:Could not infer format, so each element will be parsed individually, falling back to `dateutil`. To ensure parsing is consistent and as-expected, please specify a format.\n",
            "/usr/local/lib/python3.10/dist-packages/lux/executor/PandasExecutor.py:548: UserWarning:Could not infer format, so each element will be parsed individually, falling back to `dateutil`. To ensure parsing is consistent and as-expected, please specify a format.\n"
          ]
        },
        {
          "output_type": "display_data",
          "data": {
            "text/plain": [
              "Button(description='Toggle Pandas/Lux', layout=Layout(top='5px', width='140px'), style=ButtonStyle())"
            ],
            "application/vnd.jupyter.widget-view+json": {
              "version_major": 2,
              "version_minor": 0,
              "model_id": "09d05193306a4d91a9c89845455ebada"
            }
          },
          "metadata": {}
        },
        {
          "output_type": "display_data",
          "data": {
            "text/plain": [
              "Output()"
            ],
            "application/vnd.jupyter.widget-view+json": {
              "version_major": 2,
              "version_minor": 0,
              "model_id": "47a09444e32643aab349bdae85eaa7ff"
            }
          },
          "metadata": {}
        }
      ],
      "source": [
        "import seaborn as sns\n",
        "import lux\n",
        "mpg = sns.load_dataset('mpg')\n",
        "mpg.head(5)"
      ]
    },
    {
      "cell_type": "code",
      "source": [
        "# import pandas as pd\n",
        "mpg.intent = [\"horsepower\", \"mpg\"]\n",
        "mpg\n"
      ],
      "metadata": {
        "colab": {
          "base_uri": "https://localhost:8080/",
          "height": 369,
          "referenced_widgets": [
            "29440c51e63f4ee98d44390e999169db",
            "94cd15bc8c9340aaaf1cf30d23055f0a",
            "f1dbdf40cad04d8aaac38423e2432b4a",
            "30b89aa77b7f4a4c911b983a51182c71",
            "ffb73413eb20468f9f1c9c0c3be114cc",
            "2c9568fbac4f42ceaf4058ced5425f93",
            "165f9a6d83b047b28786c31553efa69f"
          ]
        },
        "id": "AIhDFMBDV2Nf",
        "outputId": "44d9490a-e72e-402e-caef-a9f2be275d54"
      },
      "execution_count": null,
      "outputs": [
        {
          "output_type": "display_data",
          "data": {
            "text/plain": [
              "Button(description='Toggle Pandas/Lux', layout=Layout(top='5px', width='140px'), style=ButtonStyle())"
            ],
            "application/vnd.jupyter.widget-view+json": {
              "version_major": 2,
              "version_minor": 0,
              "model_id": "29440c51e63f4ee98d44390e999169db"
            }
          },
          "metadata": {
            "application/vnd.jupyter.widget-view+json": {
              "colab": {
                "custom_widget_manager": {
                  "url": "https://ssl.gstatic.com/colaboratory-static/widgets/colab-cdn-widget-manager/2b70e893a8ba7c0f/manager.min.js"
                }
              }
            }
          }
        },
        {
          "output_type": "display_data",
          "data": {
            "text/plain": [
              "Output()"
            ],
            "application/vnd.jupyter.widget-view+json": {
              "version_major": 2,
              "version_minor": 0,
              "model_id": "30b89aa77b7f4a4c911b983a51182c71"
            }
          },
          "metadata": {
            "application/vnd.jupyter.widget-view+json": {
              "colab": {
                "custom_widget_manager": {
                  "url": "https://ssl.gstatic.com/colaboratory-static/widgets/colab-cdn-widget-manager/2b70e893a8ba7c0f/manager.min.js"
                }
              }
            }
          }
        }
      ]
    },
    {
      "cell_type": "code",
      "source": [
        "from lux.vis.Vis import Vis\n",
        "Vis([\"origin=usa\",\"mpg\"],mpg)"
      ],
      "metadata": {
        "colab": {
          "base_uri": "https://localhost:8080/",
          "height": 337,
          "referenced_widgets": [
            "1dcca41bd1874d5db593b2af0493070c",
            "202ee1e98acf45df9261a2396b30a8a6"
          ]
        },
        "id": "2VczKC4VOmQw",
        "outputId": "d9ddd96a-bf5f-4332-b005-6658f3ce229e"
      },
      "execution_count": null,
      "outputs": [
        {
          "output_type": "display_data",
          "data": {
            "text/plain": [
              "LuxWidget(current_vis={'config': {'view': {'continuousWidth': 400, 'continuousHeight': 300}, 'axis': {'labelCo…"
            ],
            "application/vnd.jupyter.widget-view+json": {
              "version_major": 2,
              "version_minor": 0,
              "model_id": "1dcca41bd1874d5db593b2af0493070c"
            }
          },
          "metadata": {
            "application/vnd.jupyter.widget-view+json": {
              "colab": {
                "custom_widget_manager": {
                  "url": "https://ssl.gstatic.com/colaboratory-static/widgets/colab-cdn-widget-manager/2b70e893a8ba7c0f/manager.min.js"
                }
              }
            }
          }
        }
      ]
    },
    {
      "cell_type": "code",
      "source": [
        "from lux.vis.VisList import VisList\n",
        "VisList([\"origin=?\",\"mpg\"],mpg)"
      ],
      "metadata": {
        "colab": {
          "base_uri": "https://localhost:8080/",
          "height": 341,
          "referenced_widgets": [
            "9b0393ef6ab44f77b9cc7c6d7266b533",
            "c5782659ed2b44b4a7737f58701182be"
          ]
        },
        "id": "3Ge5DIAmdqli",
        "outputId": "7fb4cdb4-0110-43c1-d47b-c167cdd4ae44"
      },
      "execution_count": null,
      "outputs": [
        {
          "output_type": "display_data",
          "data": {
            "text/plain": [
              "LuxWidget(recommendations=[{'action': 'Vis List', 'description': 'Shows a vis list defined by the intent', 'vs…"
            ],
            "application/vnd.jupyter.widget-view+json": {
              "version_major": 2,
              "version_minor": 0,
              "model_id": "9b0393ef6ab44f77b9cc7c6d7266b533"
            }
          },
          "metadata": {
            "application/vnd.jupyter.widget-view+json": {
              "colab": {
                "custom_widget_manager": {
                  "url": "https://ssl.gstatic.com/colaboratory-static/widgets/colab-cdn-widget-manager/2b70e893a8ba7c0f/manager.min.js"
                }
              }
            }
          }
        }
      ]
    },
    {
      "cell_type": "code",
      "source": [],
      "metadata": {
        "id": "j3cW9CBtfDSo"
      },
      "execution_count": null,
      "outputs": []
    }
  ]
}